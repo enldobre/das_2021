{
 "cells": [
  {
   "cell_type": "code",
   "execution_count": 3,
   "metadata": {},
   "outputs": [],
   "source": [
    "from pyspark.sql import SparkSession"
   ]
  },
  {
   "cell_type": "code",
   "execution_count": 4,
   "metadata": {},
   "outputs": [],
   "source": [
    "spark = SparkSession.builder.master(\"local[*]\").appName(\"ML Job\").getOrCreate()"
   ]
  },
  {
   "cell_type": "markdown",
   "metadata": {},
   "source": [
    "## Movie Recommender"
   ]
  },
  {
   "cell_type": "code",
   "execution_count": 35,
   "metadata": {},
   "outputs": [],
   "source": [
    "movies = spark.read.format(\"csv\") \\\n",
    ".option('InferSchema','True') \\\n",
    ".option('Header','True') \\\n",
    ".load(\"movies.csv\")"
   ]
  },
  {
   "cell_type": "code",
   "execution_count": 36,
   "metadata": {},
   "outputs": [
    {
     "name": "stdout",
     "output_type": "stream",
     "text": [
      "+-------+--------------------+--------------------+\n",
      "|movieId|               title|              genres|\n",
      "+-------+--------------------+--------------------+\n",
      "|      1|    Toy Story (1995)|Adventure|Animati...|\n",
      "|      2|      Jumanji (1995)|Adventure|Childre...|\n",
      "|      3|Grumpier Old Men ...|      Comedy|Romance|\n",
      "|      4|Waiting to Exhale...|Comedy|Drama|Romance|\n",
      "|      5|Father of the Bri...|              Comedy|\n",
      "|      6|         Heat (1995)|Action|Crime|Thri...|\n",
      "|      7|      Sabrina (1995)|      Comedy|Romance|\n",
      "|      8| Tom and Huck (1995)|  Adventure|Children|\n",
      "|      9| Sudden Death (1995)|              Action|\n",
      "|     10|    GoldenEye (1995)|Action|Adventure|...|\n",
      "|     11|American Presiden...|Comedy|Drama|Romance|\n",
      "|     12|Dracula: Dead and...|       Comedy|Horror|\n",
      "|     13|        Balto (1995)|Adventure|Animati...|\n",
      "|     14|        Nixon (1995)|               Drama|\n",
      "|     15|Cutthroat Island ...|Action|Adventure|...|\n",
      "|     16|       Casino (1995)|         Crime|Drama|\n",
      "|     17|Sense and Sensibi...|       Drama|Romance|\n",
      "|     18|   Four Rooms (1995)|              Comedy|\n",
      "|     19|Ace Ventura: When...|              Comedy|\n",
      "|     20|  Money Train (1995)|Action|Comedy|Cri...|\n",
      "+-------+--------------------+--------------------+\n",
      "only showing top 20 rows\n",
      "\n"
     ]
    }
   ],
   "source": [
    "movies.show()"
   ]
  },
  {
   "cell_type": "code",
   "execution_count": 37,
   "metadata": {},
   "outputs": [],
   "source": [
    "ratings = spark.read.format(\"csv\") \\\n",
    ".option('InferSchema','True') \\\n",
    ".option('Header','True') \\\n",
    ".load(\"ratings.csv\")"
   ]
  },
  {
   "cell_type": "code",
   "execution_count": 10,
   "metadata": {},
   "outputs": [
    {
     "name": "stdout",
     "output_type": "stream",
     "text": [
      "+------+-------+------+---------+\n",
      "|userId|movieId|rating|timestamp|\n",
      "+------+-------+------+---------+\n",
      "|     1|      1|   4.0|964982703|\n",
      "|     1|      3|   4.0|964981247|\n",
      "|     1|      6|   4.0|964982224|\n",
      "|     1|     47|   5.0|964983815|\n",
      "|     1|     50|   5.0|964982931|\n",
      "|     1|     70|   3.0|964982400|\n",
      "|     1|    101|   5.0|964980868|\n",
      "|     1|    110|   4.0|964982176|\n",
      "|     1|    151|   5.0|964984041|\n",
      "|     1|    157|   5.0|964984100|\n",
      "|     1|    163|   5.0|964983650|\n",
      "|     1|    216|   5.0|964981208|\n",
      "|     1|    223|   3.0|964980985|\n",
      "|     1|    231|   5.0|964981179|\n",
      "|     1|    235|   4.0|964980908|\n",
      "|     1|    260|   5.0|964981680|\n",
      "|     1|    296|   3.0|964982967|\n",
      "|     1|    316|   3.0|964982310|\n",
      "|     1|    333|   5.0|964981179|\n",
      "|     1|    349|   4.0|964982563|\n",
      "+------+-------+------+---------+\n",
      "only showing top 20 rows\n",
      "\n"
     ]
    }
   ],
   "source": [
    "ratings.show()"
   ]
  },
  {
   "cell_type": "code",
   "execution_count": 38,
   "metadata": {},
   "outputs": [
    {
     "name": "stdout",
     "output_type": "stream",
     "text": [
      "+-------+----------------------------------------------------+-----------------------------------------------+------+-------+------+----------+\n",
      "|movieId|title                                               |genres                                         |userId|movieId|rating|timestamp |\n",
      "+-------+----------------------------------------------------+-----------------------------------------------+------+-------+------+----------+\n",
      "|131724 |The Jinx: The Life and Deaths of Robert Durst (2015)|Documentary                                    |2     |131724 |5.0   |1445714851|\n",
      "|60756  |Step Brothers (2008)                                |Comedy                                         |2     |60756  |5.0   |1445714980|\n",
      "|89774  |Warrior (2011)                                      |Drama                                          |2     |89774  |5.0   |1445715189|\n",
      "|106782 |Wolf of Wall Street, The (2013)                     |Comedy|Crime|Drama                             |2     |106782 |5.0   |1445714966|\n",
      "|80906  |Inside Job (2010)                                   |Documentary                                    |2     |80906  |5.0   |1445715172|\n",
      "|122882 |Mad Max: Fury Road (2015)                           |Action|Adventure|Sci-Fi|Thriller               |2     |122882 |5.0   |1445715272|\n",
      "|1704   |Good Will Hunting (1997)                            |Drama|Romance                                  |2     |1704   |4.5   |1445715228|\n",
      "|80489  |Town, The (2010)                                    |Crime|Drama|Thriller                           |2     |80489  |4.5   |1445715340|\n",
      "|68157  |Inglourious Basterds (2009)                         |Action|Drama|War                               |2     |68157  |4.5   |1445715154|\n",
      "|58559  |Dark Knight, The (2008)                             |Action|Crime|Drama|IMAX                        |2     |58559  |4.5   |1445715141|\n",
      "|3578   |Gladiator (2000)                                    |Action|Adventure|Drama                         |2     |3578   |4.0   |1445714885|\n",
      "|79132  |Inception (2010)                                    |Action|Crime|Drama|Mystery|Sci-Fi|Thriller|IMAX|2     |79132  |4.0   |1445714841|\n",
      "|333    |Tommy Boy (1995)                                    |Comedy                                         |2     |333    |4.0   |1445715029|\n",
      "|6874   |Kill Bill: Vol. 1 (2003)                            |Action|Crime|Thriller                          |2     |6874   |4.0   |1445714952|\n",
      "|46970  |Talladega Nights: The Ballad of Ricky Bobby (2006)  |Action|Comedy                                  |2     |46970  |4.0   |1445715013|\n",
      "|86345  |Louis C.K.: Hilarious (2010)                        |Comedy                                         |2     |86345  |4.0   |1445715166|\n",
      "|74458  |Shutter Island (2010)                               |Drama|Mystery|Thriller                         |2     |74458  |4.0   |1445714926|\n",
      "|48516  |Departed, The (2006)                                |Crime|Drama|Thriller                           |2     |48516  |4.0   |1445715064|\n",
      "|112552 |Whiplash (2014)                                     |Drama                                          |2     |112552 |4.0   |1445714882|\n",
      "|8798   |Collateral (2004)                                   |Action|Crime|Drama|Thriller                    |2     |8798   |3.5   |1445714960|\n",
      "+-------+----------------------------------------------------+-----------------------------------------------+------+-------+------+----------+\n",
      "only showing top 20 rows\n",
      "\n",
      "29\n",
      "9742\n"
     ]
    }
   ],
   "source": [
    "from pyspark.sql.functions import *\n",
    "user2 = movies.join(ratings, movies.movieId == ratings.movieId) \\\n",
    ".filter(ratings.userId == 2) \\\n",
    ".orderBy(desc(\"rating\"))\n",
    "\n",
    "user2.show(truncate=False)\n",
    "\n",
    "print(user2.count())\n",
    "print(movies.count())"
   ]
  },
  {
   "cell_type": "code",
   "execution_count": 18,
   "metadata": {},
   "outputs": [],
   "source": [
    "from pyspark.ml.evaluation import RegressionEvaluator\n",
    "from pyspark.ml.recommendation import ALS\n",
    "from pyspark.sql.functions import *\n",
    "from pyspark.ml.feature import StringIndexer, VectorAssembler\n",
    "from pyspark.ml.classification import RandomForestClassifier\n",
    "from pyspark.ml.evaluation import MulticlassClassificationEvaluator"
   ]
  },
  {
   "cell_type": "code",
   "execution_count": 20,
   "metadata": {},
   "outputs": [],
   "source": [
    " (training, test) = ratings.randomSplit([0.8, 0.2])"
   ]
  },
  {
   "cell_type": "code",
   "execution_count": 40,
   "metadata": {},
   "outputs": [],
   "source": [
    "als = ALS(maxIter=5, regParam=0.01, rank=5, userCol=\"userId\", itemCol=\"movieId\", ratingCol=\"rating\",coldStartStrategy=\"drop\")"
   ]
  },
  {
   "cell_type": "code",
   "execution_count": 39,
   "metadata": {},
   "outputs": [
    {
     "data": {
      "text/plain": [
       "['__class__',\n",
       " '__del__',\n",
       " '__delattr__',\n",
       " '__dict__',\n",
       " '__dir__',\n",
       " '__doc__',\n",
       " '__eq__',\n",
       " '__format__',\n",
       " '__ge__',\n",
       " '__getattribute__',\n",
       " '__gt__',\n",
       " '__hash__',\n",
       " '__init__',\n",
       " '__init_subclass__',\n",
       " '__le__',\n",
       " '__lt__',\n",
       " '__metaclass__',\n",
       " '__module__',\n",
       " '__ne__',\n",
       " '__new__',\n",
       " '__reduce__',\n",
       " '__reduce_ex__',\n",
       " '__repr__',\n",
       " '__setattr__',\n",
       " '__sizeof__',\n",
       " '__str__',\n",
       " '__subclasshook__',\n",
       " '__weakref__',\n",
       " '_call_java',\n",
       " '_copyValues',\n",
       " '_copy_params',\n",
       " '_create_from_java_class',\n",
       " '_create_model',\n",
       " '_create_params_from_java',\n",
       " '_dummy',\n",
       " '_empty_java_param_map',\n",
       " '_fit',\n",
       " '_fit_java',\n",
       " '_from_java',\n",
       " '_make_java_param_pair',\n",
       " '_new_java_array',\n",
       " '_new_java_obj',\n",
       " '_randomUID',\n",
       " '_resetUid',\n",
       " '_resolveParam',\n",
       " '_set',\n",
       " '_setDefault',\n",
       " '_shouldOwn',\n",
       " '_to_java',\n",
       " '_transfer_param_map_from_java',\n",
       " '_transfer_param_map_to_java',\n",
       " '_transfer_params_from_java',\n",
       " '_transfer_params_to_java',\n",
       " 'alpha',\n",
       " 'blockSize',\n",
       " 'checkpointInterval',\n",
       " 'clear',\n",
       " 'coldStartStrategy',\n",
       " 'copy',\n",
       " 'explainParam',\n",
       " 'explainParams',\n",
       " 'extractParamMap',\n",
       " 'finalStorageLevel',\n",
       " 'fit',\n",
       " 'fitMultiple',\n",
       " 'getAlpha',\n",
       " 'getBlockSize',\n",
       " 'getCheckpointInterval',\n",
       " 'getColdStartStrategy',\n",
       " 'getFinalStorageLevel',\n",
       " 'getImplicitPrefs',\n",
       " 'getIntermediateStorageLevel',\n",
       " 'getItemCol',\n",
       " 'getMaxIter',\n",
       " 'getNonnegative',\n",
       " 'getNumItemBlocks',\n",
       " 'getNumUserBlocks',\n",
       " 'getOrDefault',\n",
       " 'getParam',\n",
       " 'getPredictionCol',\n",
       " 'getRank',\n",
       " 'getRatingCol',\n",
       " 'getRegParam',\n",
       " 'getSeed',\n",
       " 'getUserCol',\n",
       " 'hasDefault',\n",
       " 'hasParam',\n",
       " 'implicitPrefs',\n",
       " 'intermediateStorageLevel',\n",
       " 'isDefined',\n",
       " 'isSet',\n",
       " 'itemCol',\n",
       " 'load',\n",
       " 'maxIter',\n",
       " 'nonnegative',\n",
       " 'numItemBlocks',\n",
       " 'numUserBlocks',\n",
       " 'params',\n",
       " 'predictionCol',\n",
       " 'rank',\n",
       " 'ratingCol',\n",
       " 'read',\n",
       " 'regParam',\n",
       " 'save',\n",
       " 'seed',\n",
       " 'set',\n",
       " 'setAlpha',\n",
       " 'setBlockSize',\n",
       " 'setCheckpointInterval',\n",
       " 'setColdStartStrategy',\n",
       " 'setFinalStorageLevel',\n",
       " 'setImplicitPrefs',\n",
       " 'setIntermediateStorageLevel',\n",
       " 'setItemCol',\n",
       " 'setMaxIter',\n",
       " 'setNonnegative',\n",
       " 'setNumBlocks',\n",
       " 'setNumItemBlocks',\n",
       " 'setNumUserBlocks',\n",
       " 'setParams',\n",
       " 'setPredictionCol',\n",
       " 'setRank',\n",
       " 'setRatingCol',\n",
       " 'setRegParam',\n",
       " 'setSeed',\n",
       " 'setUserCol',\n",
       " 'userCol',\n",
       " 'write']"
      ]
     },
     "execution_count": 39,
     "metadata": {},
     "output_type": "execute_result"
    }
   ],
   "source": [
    "dir(ALS)"
   ]
  },
  {
   "cell_type": "code",
   "execution_count": 41,
   "metadata": {},
   "outputs": [],
   "source": [
    "model = als.fit(training)"
   ]
  },
  {
   "cell_type": "code",
   "execution_count": 42,
   "metadata": {},
   "outputs": [],
   "source": [
    "predictions = model.transform(test)"
   ]
  },
  {
   "cell_type": "code",
   "execution_count": 43,
   "metadata": {},
   "outputs": [],
   "source": [
    "evaluator = RegressionEvaluator(metricName=\"rmse\", labelCol=\"rating\", predictionCol=\"prediction\")"
   ]
  },
  {
   "cell_type": "code",
   "execution_count": 44,
   "metadata": {},
   "outputs": [],
   "source": [
    "rmse = evaluator.evaluate(predictions)"
   ]
  },
  {
   "cell_type": "code",
   "execution_count": 45,
   "metadata": {},
   "outputs": [
    {
     "name": "stdout",
     "output_type": "stream",
     "text": [
      "Root-mean-square error = 0.9931438185652565\n"
     ]
    }
   ],
   "source": [
    " print(\"Root-mean-square error = \" + str(rmse))"
   ]
  },
  {
   "cell_type": "code",
   "execution_count": 46,
   "metadata": {},
   "outputs": [
    {
     "data": {
      "text/plain": [
       "['__class__',\n",
       " '__del__',\n",
       " '__delattr__',\n",
       " '__dict__',\n",
       " '__dir__',\n",
       " '__doc__',\n",
       " '__eq__',\n",
       " '__format__',\n",
       " '__ge__',\n",
       " '__getattribute__',\n",
       " '__gt__',\n",
       " '__hash__',\n",
       " '__init__',\n",
       " '__init_subclass__',\n",
       " '__le__',\n",
       " '__lt__',\n",
       " '__metaclass__',\n",
       " '__module__',\n",
       " '__ne__',\n",
       " '__new__',\n",
       " '__reduce__',\n",
       " '__reduce_ex__',\n",
       " '__repr__',\n",
       " '__setattr__',\n",
       " '__sizeof__',\n",
       " '__str__',\n",
       " '__subclasshook__',\n",
       " '__weakref__',\n",
       " '_call_java',\n",
       " '_copyValues',\n",
       " '_copy_params',\n",
       " '_create_from_java_class',\n",
       " '_create_params_from_java',\n",
       " '_defaultParamMap',\n",
       " '_dummy',\n",
       " '_empty_java_param_map',\n",
       " '_from_java',\n",
       " '_java_obj',\n",
       " '_make_java_param_pair',\n",
       " '_new_java_array',\n",
       " '_new_java_obj',\n",
       " '_paramMap',\n",
       " '_params',\n",
       " '_randomUID',\n",
       " '_resetUid',\n",
       " '_resolveParam',\n",
       " '_set',\n",
       " '_setDefault',\n",
       " '_shouldOwn',\n",
       " '_to_java',\n",
       " '_transfer_param_map_from_java',\n",
       " '_transfer_param_map_to_java',\n",
       " '_transfer_params_from_java',\n",
       " '_transfer_params_to_java',\n",
       " '_transform',\n",
       " 'blockSize',\n",
       " 'clear',\n",
       " 'coldStartStrategy',\n",
       " 'copy',\n",
       " 'explainParam',\n",
       " 'explainParams',\n",
       " 'extractParamMap',\n",
       " 'getBlockSize',\n",
       " 'getColdStartStrategy',\n",
       " 'getItemCol',\n",
       " 'getOrDefault',\n",
       " 'getParam',\n",
       " 'getPredictionCol',\n",
       " 'getUserCol',\n",
       " 'hasDefault',\n",
       " 'hasParam',\n",
       " 'isDefined',\n",
       " 'isSet',\n",
       " 'itemCol',\n",
       " 'itemFactors',\n",
       " 'load',\n",
       " 'params',\n",
       " 'predictionCol',\n",
       " 'rank',\n",
       " 'read',\n",
       " 'recommendForAllItems',\n",
       " 'recommendForAllUsers',\n",
       " 'recommendForItemSubset',\n",
       " 'recommendForUserSubset',\n",
       " 'save',\n",
       " 'set',\n",
       " 'setBlockSize',\n",
       " 'setColdStartStrategy',\n",
       " 'setItemCol',\n",
       " 'setPredictionCol',\n",
       " 'setUserCol',\n",
       " 'transform',\n",
       " 'uid',\n",
       " 'userCol',\n",
       " 'userFactors',\n",
       " 'write']"
      ]
     },
     "execution_count": 46,
     "metadata": {},
     "output_type": "execute_result"
    }
   ],
   "source": [
    "dir(model)"
   ]
  },
  {
   "cell_type": "code",
   "execution_count": 47,
   "metadata": {},
   "outputs": [],
   "source": [
    "userRecs = model.recommendForAllUsers(10)"
   ]
  },
  {
   "cell_type": "code",
   "execution_count": 48,
   "metadata": {},
   "outputs": [
    {
     "name": "stdout",
     "output_type": "stream",
     "text": [
      "root\n",
      " |-- userId: integer (nullable = false)\n",
      " |-- recommendations: array (nullable = true)\n",
      " |    |-- element: struct (containsNull = true)\n",
      " |    |    |-- movieId: integer (nullable = true)\n",
      " |    |    |-- rating: float (nullable = true)\n",
      "\n"
     ]
    }
   ],
   "source": [
    "userRecs.printSchema()"
   ]
  },
  {
   "cell_type": "code",
   "execution_count": 49,
   "metadata": {},
   "outputs": [
    {
     "name": "stdout",
     "output_type": "stream",
     "text": [
      "+------+------------------------------------------------------------------------------------------------------------------------------------------------------------------------------------------------------+\n",
      "|userId|recommendations                                                                                                                                                                                       |\n",
      "+------+------------------------------------------------------------------------------------------------------------------------------------------------------------------------------------------------------+\n",
      "|471   |[[158872, 12.095217], [5485, 11.306278], [3786, 10.584253], [68073, 10.019034], [5034, 9.410655], [2851, 9.264359], [2771, 9.2458935], [3134, 8.865047], [104863, 8.688386], [1354, 8.615828]]        |\n",
      "|463   |[[3134, 8.19841], [158872, 8.195681], [5485, 8.172865], [5650, 7.9868374], [2771, 7.5298457], [85774, 7.470315], [68073, 7.4603996], [6187, 7.252477], [8607, 7.160389], [613, 7.0792127]]            |\n",
      "|496   |[[80126, 14.451048], [2488, 13.331464], [3993, 12.202166], [535, 11.905366], [4902, 11.32317], [8951, 11.248418], [3083, 11.202335], [1648, 11.091867], [3299, 10.619569], [92309, 10.580919]]        |\n",
      "|148   |[[5650, 8.091829], [3134, 7.932057], [5485, 7.6320777], [158872, 7.530534], [613, 7.389572], [1916, 7.2738056], [2771, 7.1451073], [68073, 7.128335], [3594, 7.0318723], [4663, 7.0285816]]           |\n",
      "|540   |[[85774, 9.582275], [3083, 8.501854], [166534, 8.405441], [6187, 8.290798], [3993, 8.17003], [92420, 8.14043], [3134, 8.126532], [5650, 8.063368], [3040, 7.798648], [3503, 7.708336]]                |\n",
      "|392   |[[34338, 6.9271894], [119141, 6.8463097], [4450, 6.483782], [65642, 6.3447537], [92420, 6.2104335], [222, 6.037004], [85774, 6.031884], [112804, 6.0252347], [7587, 6.019007], [3928, 5.9180956]]     |\n",
      "|243   |[[26865, 19.552584], [89118, 19.29274], [51931, 16.588274], [49932, 16.079483], [4474, 14.780522], [5247, 14.515832], [158783, 14.329867], [58347, 14.252579], [4846, 14.129238], [119141, 14.105008]]|\n",
      "|31    |[[89118, 11.045279], [158783, 9.382168], [86377, 8.215996], [5466, 7.968547], [113378, 7.8798485], [5075, 7.873166], [53123, 7.856308], [7842, 7.789153], [48322, 7.7477007], [112804, 7.557918]]     |\n",
      "|516   |[[89118, 9.695076], [7842, 9.203915], [3594, 8.393743], [70946, 8.233975], [48982, 7.996627], [5909, 7.726303], [33725, 7.722061], [2879, 7.681919], [5075, 7.504539], [3521, 7.4643164]]             |\n",
      "|580   |[[89118, 7.520117], [112804, 7.499011], [2149, 7.182148], [3083, 6.7787485], [3925, 6.777673], [3521, 6.6565022], [2905, 6.550096], [5075, 6.52372], [7982, 6.4070463], [65642, 6.3984737]]           |\n",
      "|251   |[[2771, 6.7428064], [3134, 6.567788], [170355, 6.550684], [68945, 6.550684], [3379, 6.550684], [158872, 6.4948277], [39715, 6.4384437], [5485, 6.3397994], [5650, 6.3060913], [3404, 6.188465]]       |\n",
      "|451   |[[4450, 8.288881], [119141, 8.230263], [40339, 7.764646], [92420, 7.648529], [7587, 7.5579414], [39715, 7.491009], [7327, 7.365936], [5483, 7.0776443], [96004, 7.0630407], [26258, 7.0451345]]       |\n",
      "|85    |[[5034, 7.8599663], [46572, 7.4084816], [39715, 7.2829494], [213, 6.8820477], [6380, 6.7570457], [851, 6.7044425], [2693, 6.697743], [4733, 6.6051064], [158872, 6.5575147], [86320, 6.477795]]       |\n",
      "|137   |[[96004, 5.761634], [65642, 5.6640787], [92420, 5.643777], [299, 5.579], [2282, 5.539505], [3379, 5.4544773], [68945, 5.4544773], [170355, 5.4544773], [4021, 5.4072976], [7008, 5.3578944]]          |\n",
      "|65    |[[199, 6.4080276], [2488, 6.1683474], [96004, 6.0484877], [299, 5.9713855], [7982, 5.958044], [2282, 5.8268514], [170355, 5.7416954], [68945, 5.7416954], [3379, 5.7416954], [25771, 5.6899185]]      |\n",
      "|458   |[[119141, 15.587193], [85774, 13.877058], [91690, 13.777289], [7327, 13.586863], [3525, 13.47532], [2807, 13.298865], [5666, 12.412486], [91622, 12.245455], [27555, 11.923728], [6932, 11.850217]]   |\n",
      "|481   |[[5034, 8.58713], [39715, 8.081606], [213, 7.9675794], [46572, 7.9282823], [851, 7.6393695], [86320, 7.5919437], [2693, 7.210424], [3089, 7.198013], [95182, 7.1239667], [7834, 7.1143293]]           |\n",
      "|53    |[[89118, 10.894104], [86377, 8.018888], [5075, 7.9984856], [119141, 7.9167204], [158783, 7.7969437], [86347, 7.7703533], [6370, 7.753843], [112804, 7.73917], [185029, 7.49177], [51931, 7.476426]]   |\n",
      "|255   |[[91622, 15.126031], [67695, 14.276119], [85774, 13.404762], [68073, 13.024561], [71520, 12.618669], [5485, 12.407043], [87485, 12.315514], [158872, 12.287891], [3436, 12.274372], [3040, 11.746033]]|\n",
      "|588   |[[158872, 8.237822], [5485, 7.9448767], [68073, 7.634232], [85774, 7.18623], [2851, 6.7908926], [39715, 6.6987743], [92420, 6.5930195], [166534, 6.580432], [3786, 6.576128], [78039, 6.547743]]      |\n",
      "+------+------------------------------------------------------------------------------------------------------------------------------------------------------------------------------------------------------+\n",
      "only showing top 20 rows\n",
      "\n"
     ]
    }
   ],
   "source": [
    "userRecs.show(truncate=False)"
   ]
  },
  {
   "cell_type": "code",
   "execution_count": 50,
   "metadata": {},
   "outputs": [],
   "source": [
    " userRec2 = userRecs.filter(userRecs.userId == 2) \\\n",
    "        .withColumn('ratings', explode(userRecs.recommendations)) \\\n",
    "        .select('userId', 'ratings.movieId', 'ratings.rating')"
   ]
  },
  {
   "cell_type": "code",
   "execution_count": 51,
   "metadata": {},
   "outputs": [
    {
     "name": "stdout",
     "output_type": "stream",
     "text": [
      "+------+-------+---------+-------+--------------------------------------------------+--------------------------------+\n",
      "|userId|movieId|rating   |movieId|title                                             |genres                          |\n",
      "+------+-------+---------+-------+--------------------------------------------------+--------------------------------+\n",
      "|2     |7982   |8.559359 |7982   |Tale of Two Sisters, A (Janghwa, Hongryeon) (2003)|Drama|Horror|Mystery|Thriller   |\n",
      "|2     |70946  |8.168563 |70946  |Troll 2 (1990)                                    |Fantasy|Horror                  |\n",
      "|2     |48322  |7.472438 |48322  |Jackass Number Two (2006)                         |Comedy|Documentary              |\n",
      "|2     |5909   |7.3413954|5909   |Visitor Q (Bizita Q) (2001)                       |Comedy|Drama|Horror             |\n",
      "|2     |5048   |7.3184037|5048   |Snow Dogs (2002)                                  |Adventure|Children|Comedy       |\n",
      "|2     |6975   |7.270154 |6975   |Funny Games (1997)                                |Drama|Horror|Thriller           |\n",
      "|2     |34332  |7.207835 |34332  |Sky High (2005)                                   |Action|Adventure|Children|Comedy|\n",
      "|2     |106766 |7.135759 |106766 |Inside Llewyn Davis (2013)                        |Drama                           |\n",
      "|2     |69278  |7.0010667|69278  |Land of the Lost (2009)                           |Action|Adventure|Comedy|Sci-Fi  |\n",
      "|2     |7116   |6.9851027|7116   |Diabolique (Les diaboliques) (1955)               |Horror|Mystery|Thriller         |\n",
      "+------+-------+---------+-------+--------------------------------------------------+--------------------------------+\n",
      "\n"
     ]
    }
   ],
   "source": [
    "userRec2.join(movies, movies.movieId == userRec2.movieId) \\\n",
    "        .show(truncate=False)"
   ]
  },
  {
   "cell_type": "code",
   "execution_count": null,
   "metadata": {},
   "outputs": [],
   "source": []
  }
 ],
 "metadata": {
  "kernelspec": {
   "display_name": "Python 3",
   "language": "python",
   "name": "python3"
  },
  "language_info": {
   "codemirror_mode": {
    "name": "ipython",
    "version": 3
   },
   "file_extension": ".py",
   "mimetype": "text/x-python",
   "name": "python",
   "nbconvert_exporter": "python",
   "pygments_lexer": "ipython3",
   "version": "3.8.6"
  }
 },
 "nbformat": 4,
 "nbformat_minor": 4
}
