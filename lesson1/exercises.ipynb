{
 "cells": [
  {
   "cell_type": "markdown",
   "id": "identical-brick",
   "metadata": {},
   "source": [
    "# Exercises"
   ]
  },
  {
   "cell_type": "markdown",
   "id": "automatic-enhancement",
   "metadata": {},
   "source": [
    "#### 1. create a list of numbers from 1-> 10 in 2 ways"
   ]
  },
  {
   "cell_type": "code",
   "execution_count": null,
   "id": "general-omaha",
   "metadata": {},
   "outputs": [],
   "source": [
    "listA = []"
   ]
  },
  {
   "cell_type": "code",
   "execution_count": null,
   "id": "phantom-jones",
   "metadata": {},
   "outputs": [],
   "source": [
    "listB = []"
   ]
  },
  {
   "cell_type": "markdown",
   "id": "eight-blackberry",
   "metadata": {},
   "source": [
    "#### 2. calculate the squared value for each number using 2 different methods"
   ]
  },
  {
   "cell_type": "code",
   "execution_count": null,
   "id": "confidential-shannon",
   "metadata": {},
   "outputs": [],
   "source": []
  },
  {
   "cell_type": "code",
   "execution_count": null,
   "id": "resistant-discretion",
   "metadata": {},
   "outputs": [],
   "source": []
  },
  {
   "cell_type": "markdown",
   "id": "aerial-cemetery",
   "metadata": {},
   "source": [
    "#### 3. produce a list of 100 random numbers (between 1 and 100)"
   ]
  },
  {
   "cell_type": "code",
   "execution_count": 9,
   "id": "patent-hearing",
   "metadata": {},
   "outputs": [
    {
     "data": {
      "text/plain": [
       "0.7181259124721366"
      ]
     },
     "execution_count": 9,
     "metadata": {},
     "output_type": "execute_result"
    }
   ],
   "source": [
    "from random import random\n",
    "random()\n"
   ]
  },
  {
   "cell_type": "markdown",
   "id": "invisible-tolerance",
   "metadata": {},
   "source": [
    "#### 4. sort one of the list from 2 DESC"
   ]
  },
  {
   "cell_type": "code",
   "execution_count": null,
   "id": "seven-citizenship",
   "metadata": {},
   "outputs": [],
   "source": []
  },
  {
   "cell_type": "markdown",
   "id": "other-business",
   "metadata": {},
   "source": [
    "#### 5. calculate a rolling sum for the list from the previous exercise.\n",
    "input [10, 9, 8,...]\n",
    "\n",
    "rolling_sum [10,19,27,...]"
   ]
  },
  {
   "cell_type": "code",
   "execution_count": null,
   "id": "charming-danish",
   "metadata": {},
   "outputs": [],
   "source": []
  },
  {
   "cell_type": "code",
   "execution_count": null,
   "id": "quarterly-colleague",
   "metadata": {},
   "outputs": [],
   "source": []
  },
  {
   "cell_type": "markdown",
   "id": "sixth-research",
   "metadata": {},
   "source": [
    "#### 6. Produce a fallback. (If first value is null then pick the secod value)"
   ]
  },
  {
   "cell_type": "code",
   "execution_count": null,
   "id": "aquatic-calculation",
   "metadata": {},
   "outputs": [],
   "source": [
    "x = None\n",
    "y = 'something'"
   ]
  },
  {
   "cell_type": "markdown",
   "id": "labeled-seeking",
   "metadata": {},
   "source": [
    "#### 6.1 How can we do this for an unspecified number of options? e.g. a list"
   ]
  },
  {
   "cell_type": "code",
   "execution_count": null,
   "id": "positive-creature",
   "metadata": {},
   "outputs": [],
   "source": []
  },
  {
   "cell_type": "markdown",
   "id": "minute-header",
   "metadata": {},
   "source": [
    "#### 7. calculate the number of occurences of substring in string"
   ]
  },
  {
   "cell_type": "code",
   "execution_count": 19,
   "id": "improving-treasurer",
   "metadata": {},
   "outputs": [],
   "source": [
    "from random import choice\n",
    "letters = ['A', 'B', 'C', 'D', 'E']\n",
    "string = ''.join([choice(letters) for i in range(50)])\n",
    "substring = ''.join([choice(letters) for i in range(3)])"
   ]
  },
  {
   "cell_type": "code",
   "execution_count": 20,
   "id": "genuine-devices",
   "metadata": {},
   "outputs": [
    {
     "name": "stdout",
     "output_type": "stream",
     "text": [
      "BDCCEADACCCCDCCCBECCCCBCBCACCBEDCDBEADCACCDCDBDEAC\n",
      "DEC\n"
     ]
    }
   ],
   "source": [
    "print(string)\n",
    "print(substring)\n",
    "def sub_string(string, substring):\n",
    "    pass"
   ]
  },
  {
   "cell_type": "markdown",
   "id": "proud-portugal",
   "metadata": {},
   "source": [
    "#### 8. Build a tuple using the integers from input and return the hash"
   ]
  },
  {
   "cell_type": "code",
   "execution_count": null,
   "id": "valuable-cooperation",
   "metadata": {},
   "outputs": [],
   "source": [
    "input = '27 49 96 30 20 21 2 16'"
   ]
  },
  {
   "cell_type": "code",
   "execution_count": 22,
   "id": "sunrise-knife",
   "metadata": {},
   "outputs": [],
   "source": [
    "t = ()"
   ]
  },
  {
   "cell_type": "code",
   "execution_count": 23,
   "id": "quick-hawaii",
   "metadata": {},
   "outputs": [
    {
     "data": {
      "text/plain": [
       "5740354900026072187"
      ]
     },
     "execution_count": 23,
     "metadata": {},
     "output_type": "execute_result"
    }
   ],
   "source": [
    "hash(t)"
   ]
  },
  {
   "cell_type": "markdown",
   "id": "animal-rebate",
   "metadata": {},
   "source": [
    "#### 9. Using built in string methods check if the values from the input list are of a specific type\n",
    "e.g Only lower or upper case, only digits or letters\n",
    "\n",
    "use at least 5 methods and return the result of the checks for each value"
   ]
  },
  {
   "cell_type": "code",
   "execution_count": null,
   "id": "documentary-vector",
   "metadata": {},
   "outputs": [],
   "source": [
    "input = ['ABCDE', '12345', 'aBc45', 'abc45', 'ABc45', 'abcde', 'ABCd#', '@#$%^', '@#$12']"
   ]
  },
  {
   "cell_type": "code",
   "execution_count": null,
   "id": "prostate-niger",
   "metadata": {},
   "outputs": [],
   "source": []
  },
  {
   "cell_type": "markdown",
   "id": "comprehensive-silicon",
   "metadata": {},
   "source": [
    "#### 10. Using info from your last/current project build 3 simple classes that are related. Do you have a use case for inheritance?"
   ]
  },
  {
   "cell_type": "code",
   "execution_count": null,
   "id": "systematic-premiere",
   "metadata": {},
   "outputs": [],
   "source": []
  },
  {
   "cell_type": "code",
   "execution_count": null,
   "id": "right-pacific",
   "metadata": {},
   "outputs": [],
   "source": []
  },
  {
   "cell_type": "code",
   "execution_count": null,
   "id": "painful-paraguay",
   "metadata": {},
   "outputs": [],
   "source": []
  },
  {
   "cell_type": "code",
   "execution_count": null,
   "id": "arbitrary-mounting",
   "metadata": {},
   "outputs": [],
   "source": []
  }
 ],
 "metadata": {
  "kernelspec": {
   "display_name": "Python 3",
   "language": "python",
   "name": "python3"
  },
  "language_info": {
   "codemirror_mode": {
    "name": "ipython",
    "version": 3
   },
   "file_extension": ".py",
   "mimetype": "text/x-python",
   "name": "python",
   "nbconvert_exporter": "python",
   "pygments_lexer": "ipython3",
   "version": "3.8.6"
  }
 },
 "nbformat": 4,
 "nbformat_minor": 5
}
