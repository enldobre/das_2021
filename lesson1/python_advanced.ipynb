{
 "cells": [
  {
   "cell_type": "markdown",
   "id": "south-fiber",
   "metadata": {},
   "source": [
    "# Python Advanced"
   ]
  },
  {
   "cell_type": "markdown",
   "id": "hindu-participation",
   "metadata": {},
   "source": [
    "## Iterators"
   ]
  },
  {
   "cell_type": "code",
   "execution_count": null,
   "id": "informative-style",
   "metadata": {},
   "outputs": [],
   "source": [
    "# represent a stream of data\n",
    "# they return one object at a time"
   ]
  },
  {
   "cell_type": "code",
   "execution_count": 9,
   "id": "defensive-quality",
   "metadata": {},
   "outputs": [
    {
     "data": {
      "text/plain": [
       "<list_iterator at 0x165e99b2bb0>"
      ]
     },
     "execution_count": 9,
     "metadata": {},
     "output_type": "execute_result"
    }
   ],
   "source": [
    "list = [x for x in range(1,4)]\n",
    "it = iter(list)\n",
    "it"
   ]
  },
  {
   "cell_type": "code",
   "execution_count": 5,
   "id": "level-somalia",
   "metadata": {},
   "outputs": [
    {
     "ename": "StopIteration",
     "evalue": "",
     "output_type": "error",
     "traceback": [
      "\u001b[1;31m---------------------------------------------------------------------------\u001b[0m",
      "\u001b[1;31mStopIteration\u001b[0m                             Traceback (most recent call last)",
      "\u001b[1;32m<ipython-input-5-bc1ab118995a>\u001b[0m in \u001b[0;36m<module>\u001b[1;34m\u001b[0m\n\u001b[1;32m----> 1\u001b[1;33m \u001b[0mnext\u001b[0m\u001b[1;33m(\u001b[0m\u001b[0mit\u001b[0m\u001b[1;33m)\u001b[0m\u001b[1;33m\u001b[0m\u001b[1;33m\u001b[0m\u001b[0m\n\u001b[0m",
      "\u001b[1;31mStopIteration\u001b[0m: "
     ]
    }
   ],
   "source": [
    "next(it)"
   ]
  },
  {
   "cell_type": "code",
   "execution_count": 11,
   "id": "further-makeup",
   "metadata": {},
   "outputs": [
    {
     "ename": "ValueError",
     "evalue": "not enough values to unpack (expected 2, got 0)",
     "output_type": "error",
     "traceback": [
      "\u001b[1;31m---------------------------------------------------------------------------\u001b[0m",
      "\u001b[1;31mValueError\u001b[0m                                Traceback (most recent call last)",
      "\u001b[1;32m<ipython-input-11-30fa41006bd5>\u001b[0m in \u001b[0;36m<module>\u001b[1;34m\u001b[0m\n\u001b[0;32m      1\u001b[0m \u001b[1;31m# only works if you have the right number of values\u001b[0m\u001b[1;33m\u001b[0m\u001b[1;33m\u001b[0m\u001b[1;33m\u001b[0m\u001b[0m\n\u001b[1;32m----> 2\u001b[1;33m \u001b[0ma\u001b[0m\u001b[1;33m,\u001b[0m \u001b[0mb\u001b[0m \u001b[1;33m=\u001b[0m \u001b[0mit\u001b[0m\u001b[1;33m\u001b[0m\u001b[1;33m\u001b[0m\u001b[0m\n\u001b[0m",
      "\u001b[1;31mValueError\u001b[0m: not enough values to unpack (expected 2, got 0)"
     ]
    }
   ],
   "source": [
    "# only works if you have the right number of values\n",
    "a, b = it"
   ]
  },
  {
   "cell_type": "code",
   "execution_count": 8,
   "id": "coated-bangkok",
   "metadata": {},
   "outputs": [
    {
     "data": {
      "text/plain": [
       "3"
      ]
     },
     "execution_count": 8,
     "metadata": {},
     "output_type": "execute_result"
    }
   ],
   "source": [
    "c"
   ]
  },
  {
   "cell_type": "code",
   "execution_count": 12,
   "id": "tight-basin",
   "metadata": {},
   "outputs": [],
   "source": [
    "# remember list comprehension?\n",
    "l = [x for x in range(1,10)]\n",
    "l2 = [x**2 for x in l]\n",
    "\n",
    "# using () we can create generator expression\n",
    "\n",
    "g = (x**2 for x in l)"
   ]
  },
  {
   "cell_type": "code",
   "execution_count": 13,
   "id": "precise-history",
   "metadata": {},
   "outputs": [
    {
     "data": {
      "text/plain": [
       "generator"
      ]
     },
     "execution_count": 13,
     "metadata": {},
     "output_type": "execute_result"
    }
   ],
   "source": [
    "type(g)"
   ]
  },
  {
   "cell_type": "code",
   "execution_count": 15,
   "id": "sought-argument",
   "metadata": {},
   "outputs": [],
   "source": [
    "# we can also write generators\n",
    "def generate_sq_rt(x):\n",
    "    for i in range(x):\n",
    "        yield i**2\n"
   ]
  },
  {
   "cell_type": "code",
   "execution_count": 16,
   "id": "consolidated-darwin",
   "metadata": {},
   "outputs": [
    {
     "data": {
      "text/plain": [
       "<generator object generate_sq_rt at 0x00000165E9AB0200>"
      ]
     },
     "execution_count": 16,
     "metadata": {},
     "output_type": "execute_result"
    }
   ],
   "source": [
    "g = generate_sq_rt(5)\n",
    "g"
   ]
  },
  {
   "cell_type": "code",
   "execution_count": 22,
   "id": "advised-protocol",
   "metadata": {},
   "outputs": [
    {
     "ename": "StopIteration",
     "evalue": "",
     "output_type": "error",
     "traceback": [
      "\u001b[1;31m---------------------------------------------------------------------------\u001b[0m",
      "\u001b[1;31mStopIteration\u001b[0m                             Traceback (most recent call last)",
      "\u001b[1;32m<ipython-input-22-e734f8aca5ac>\u001b[0m in \u001b[0;36m<module>\u001b[1;34m\u001b[0m\n\u001b[1;32m----> 1\u001b[1;33m \u001b[0mnext\u001b[0m\u001b[1;33m(\u001b[0m\u001b[0mg\u001b[0m\u001b[1;33m)\u001b[0m\u001b[1;33m\u001b[0m\u001b[1;33m\u001b[0m\u001b[0m\n\u001b[0m",
      "\u001b[1;31mStopIteration\u001b[0m: "
     ]
    }
   ],
   "source": [
    "next(g)"
   ]
  },
  {
   "cell_type": "markdown",
   "id": "enclosed-mapping",
   "metadata": {},
   "source": [
    "## Exception handling"
   ]
  },
  {
   "cell_type": "code",
   "execution_count": 23,
   "id": "acquired-bishop",
   "metadata": {},
   "outputs": [
    {
     "name": "stdout",
     "output_type": "stream",
     "text": [
      "finished\n",
      "cleanup\n"
     ]
    }
   ],
   "source": [
    "# the simple way \n",
    "try:\n",
    "    next(g)\n",
    "except StopIteration:\n",
    "    print(\"finished\")\n",
    "finally:\n",
    "    print(\"cleanup\")"
   ]
  },
  {
   "cell_type": "code",
   "execution_count": 26,
   "id": "turkish-seller",
   "metadata": {},
   "outputs": [
    {
     "name": "stdout",
     "output_type": "stream",
     "text": [
      "something is wrong\n"
     ]
    },
    {
     "ename": "StopIteration",
     "evalue": "",
     "output_type": "error",
     "traceback": [
      "\u001b[1;31m---------------------------------------------------------------------------\u001b[0m",
      "\u001b[1;31mStopIteration\u001b[0m                             Traceback (most recent call last)",
      "\u001b[1;32m<ipython-input-26-c6d8dfcb9bdf>\u001b[0m in \u001b[0;36m<module>\u001b[1;34m\u001b[0m\n\u001b[0;32m      1\u001b[0m \u001b[1;31m# reraise error\u001b[0m\u001b[1;33m\u001b[0m\u001b[1;33m\u001b[0m\u001b[1;33m\u001b[0m\u001b[0m\n\u001b[0;32m      2\u001b[0m \u001b[1;32mtry\u001b[0m\u001b[1;33m:\u001b[0m\u001b[1;33m\u001b[0m\u001b[1;33m\u001b[0m\u001b[0m\n\u001b[1;32m----> 3\u001b[1;33m     \u001b[0mnext\u001b[0m\u001b[1;33m(\u001b[0m\u001b[0mg\u001b[0m\u001b[1;33m)\u001b[0m\u001b[1;33m\u001b[0m\u001b[1;33m\u001b[0m\u001b[0m\n\u001b[0m\u001b[0;32m      4\u001b[0m \u001b[1;32mexcept\u001b[0m \u001b[0mStopIteration\u001b[0m \u001b[1;32mas\u001b[0m \u001b[0me\u001b[0m\u001b[1;33m:\u001b[0m\u001b[1;33m\u001b[0m\u001b[1;33m\u001b[0m\u001b[0m\n\u001b[0;32m      5\u001b[0m     \u001b[0mprint\u001b[0m\u001b[1;33m(\u001b[0m\u001b[1;34m\"something is wrong\"\u001b[0m\u001b[1;33m)\u001b[0m\u001b[1;33m\u001b[0m\u001b[1;33m\u001b[0m\u001b[0m\n",
      "\u001b[1;31mStopIteration\u001b[0m: "
     ]
    }
   ],
   "source": [
    "# reraise error\n",
    "try:\n",
    "    next(g)\n",
    "except StopIteration as e:\n",
    "    print(\"something is wrong\")\n",
    "    raise # this preserves the call stack\n",
    "    # raise e # this won't preserve the call stack"
   ]
  },
  {
   "cell_type": "markdown",
   "id": "disturbed-steps",
   "metadata": {},
   "source": [
    "The list of built-in exceptions can be found at https://docs.python.org/3/library/exceptions.html#exception-hierarchy\n",
    "    "
   ]
  },
  {
   "cell_type": "code",
   "execution_count": 27,
   "id": "identified-internship",
   "metadata": {},
   "outputs": [],
   "source": [
    "# we can also raise custom exceptions\n",
    "# be extra CAREFULL with what exception type you choose\n",
    "# https://stackoverflow.com/questions/2052390/manually-raising-throwing-an-exception-in-python\n",
    "from math import sqrt\n",
    "def f(x):\n",
    "    if x<0:\n",
    "        raise ValueError(\"expected a positive number\")\n",
    "    else: return sqrt(x)"
   ]
  },
  {
   "cell_type": "code",
   "execution_count": 28,
   "id": "vocational-proof",
   "metadata": {},
   "outputs": [
    {
     "data": {
      "text/plain": [
       "3.1622776601683795"
      ]
     },
     "execution_count": 28,
     "metadata": {},
     "output_type": "execute_result"
    }
   ],
   "source": [
    "f(10)"
   ]
  },
  {
   "cell_type": "code",
   "execution_count": 29,
   "id": "consistent-detector",
   "metadata": {},
   "outputs": [
    {
     "ename": "ValueError",
     "evalue": "expected a positive number",
     "output_type": "error",
     "traceback": [
      "\u001b[1;31m---------------------------------------------------------------------------\u001b[0m",
      "\u001b[1;31mValueError\u001b[0m                                Traceback (most recent call last)",
      "\u001b[1;32m<ipython-input-29-2818f1f56c96>\u001b[0m in \u001b[0;36m<module>\u001b[1;34m\u001b[0m\n\u001b[1;32m----> 1\u001b[1;33m \u001b[0mf\u001b[0m\u001b[1;33m(\u001b[0m\u001b[1;33m-\u001b[0m\u001b[1;36m4\u001b[0m\u001b[1;33m)\u001b[0m\u001b[1;33m\u001b[0m\u001b[1;33m\u001b[0m\u001b[0m\n\u001b[0m",
      "\u001b[1;32m<ipython-input-27-2ee118c68ef8>\u001b[0m in \u001b[0;36mf\u001b[1;34m(x)\u001b[0m\n\u001b[0;32m      5\u001b[0m \u001b[1;32mdef\u001b[0m \u001b[0mf\u001b[0m\u001b[1;33m(\u001b[0m\u001b[0mx\u001b[0m\u001b[1;33m)\u001b[0m\u001b[1;33m:\u001b[0m\u001b[1;33m\u001b[0m\u001b[1;33m\u001b[0m\u001b[0m\n\u001b[0;32m      6\u001b[0m     \u001b[1;32mif\u001b[0m \u001b[0mx\u001b[0m\u001b[1;33m<\u001b[0m\u001b[1;36m0\u001b[0m\u001b[1;33m:\u001b[0m\u001b[1;33m\u001b[0m\u001b[1;33m\u001b[0m\u001b[0m\n\u001b[1;32m----> 7\u001b[1;33m         \u001b[1;32mraise\u001b[0m \u001b[0mValueError\u001b[0m\u001b[1;33m(\u001b[0m\u001b[1;34m\"expected a positive number\"\u001b[0m\u001b[1;33m)\u001b[0m\u001b[1;33m\u001b[0m\u001b[1;33m\u001b[0m\u001b[0m\n\u001b[0m\u001b[0;32m      8\u001b[0m     \u001b[1;32melse\u001b[0m\u001b[1;33m:\u001b[0m \u001b[1;32mreturn\u001b[0m \u001b[0msqrt\u001b[0m\u001b[1;33m(\u001b[0m\u001b[0mx\u001b[0m\u001b[1;33m)\u001b[0m\u001b[1;33m\u001b[0m\u001b[1;33m\u001b[0m\u001b[0m\n",
      "\u001b[1;31mValueError\u001b[0m: expected a positive number"
     ]
    }
   ],
   "source": [
    "f(-4)"
   ]
  },
  {
   "cell_type": "code",
   "execution_count": 30,
   "id": "automated-exercise",
   "metadata": {},
   "outputs": [
    {
     "name": "stdout",
     "output_type": "stream",
     "text": [
      "Caught this error: ValueError('Represents a hidden bug, do not catch this')\n"
     ]
    }
   ],
   "source": [
    "def demo_bad_catch():\n",
    "    try:\n",
    "        raise ValueError('Represents a hidden bug, do not catch this')\n",
    "        raise Exception('This is the exception you expect to handle')\n",
    "    except Exception as error:  # <----\n",
    "        print('Caught this error: ' + repr(error))\n",
    "        \n",
    "demo_bad_catch()"
   ]
  },
  {
   "cell_type": "code",
   "execution_count": 31,
   "id": "previous-chest",
   "metadata": {},
   "outputs": [
    {
     "ename": "Exception",
     "evalue": "general exceptions not caught by specific handling",
     "output_type": "error",
     "traceback": [
      "\u001b[1;31m---------------------------------------------------------------------------\u001b[0m",
      "\u001b[1;31mException\u001b[0m                                 Traceback (most recent call last)",
      "\u001b[1;32m<ipython-input-31-2fc504200eb8>\u001b[0m in \u001b[0;36m<module>\u001b[1;34m\u001b[0m\n\u001b[0;32m      5\u001b[0m         \u001b[0mprint\u001b[0m\u001b[1;33m(\u001b[0m\u001b[1;34m'we will not catch exception: Exception'\u001b[0m\u001b[1;33m)\u001b[0m\u001b[1;33m\u001b[0m\u001b[1;33m\u001b[0m\u001b[0m\n\u001b[0;32m      6\u001b[0m \u001b[1;33m\u001b[0m\u001b[0m\n\u001b[1;32m----> 7\u001b[1;33m \u001b[0mdemo_no_catch\u001b[0m\u001b[1;33m(\u001b[0m\u001b[1;33m)\u001b[0m\u001b[1;33m\u001b[0m\u001b[1;33m\u001b[0m\u001b[0m\n\u001b[0m",
      "\u001b[1;32m<ipython-input-31-2fc504200eb8>\u001b[0m in \u001b[0;36mdemo_no_catch\u001b[1;34m()\u001b[0m\n\u001b[0;32m      1\u001b[0m \u001b[1;32mdef\u001b[0m \u001b[0mdemo_no_catch\u001b[0m\u001b[1;33m(\u001b[0m\u001b[1;33m)\u001b[0m\u001b[1;33m:\u001b[0m\u001b[1;33m\u001b[0m\u001b[1;33m\u001b[0m\u001b[0m\n\u001b[0;32m      2\u001b[0m     \u001b[1;32mtry\u001b[0m\u001b[1;33m:\u001b[0m\u001b[1;33m\u001b[0m\u001b[1;33m\u001b[0m\u001b[0m\n\u001b[1;32m----> 3\u001b[1;33m         \u001b[1;32mraise\u001b[0m \u001b[0mException\u001b[0m\u001b[1;33m(\u001b[0m\u001b[1;34m'general exceptions not caught by specific handling'\u001b[0m\u001b[1;33m)\u001b[0m\u001b[1;33m\u001b[0m\u001b[1;33m\u001b[0m\u001b[0m\n\u001b[0m\u001b[0;32m      4\u001b[0m     \u001b[1;32mexcept\u001b[0m \u001b[0mValueError\u001b[0m \u001b[1;32mas\u001b[0m \u001b[0me\u001b[0m\u001b[1;33m:\u001b[0m\u001b[1;33m\u001b[0m\u001b[1;33m\u001b[0m\u001b[0m\n\u001b[0;32m      5\u001b[0m         \u001b[0mprint\u001b[0m\u001b[1;33m(\u001b[0m\u001b[1;34m'we will not catch exception: Exception'\u001b[0m\u001b[1;33m)\u001b[0m\u001b[1;33m\u001b[0m\u001b[1;33m\u001b[0m\u001b[0m\n",
      "\u001b[1;31mException\u001b[0m: general exceptions not caught by specific handling"
     ]
    }
   ],
   "source": [
    "def demo_no_catch():\n",
    "    try:\n",
    "        raise Exception('general exceptions not caught by specific handling')\n",
    "    except ValueError as e:\n",
    "        print('we will not catch exception: Exception')\n",
    "\n",
    "demo_no_catch()"
   ]
  },
  {
   "cell_type": "markdown",
   "id": "harmful-russian",
   "metadata": {},
   "source": [
    "## Reading a file"
   ]
  },
  {
   "cell_type": "code",
   "execution_count": 32,
   "id": "noble-honey",
   "metadata": {},
   "outputs": [],
   "source": [
    "with open('path_to_file.txt', 'w') as f:\n",
    "    f.write('test')"
   ]
  },
  {
   "cell_type": "code",
   "execution_count": 33,
   "id": "superb-telling",
   "metadata": {},
   "outputs": [
    {
     "ename": "ValueError",
     "evalue": "I/O operation on closed file.",
     "output_type": "error",
     "traceback": [
      "\u001b[1;31m---------------------------------------------------------------------------\u001b[0m",
      "\u001b[1;31mValueError\u001b[0m                                Traceback (most recent call last)",
      "\u001b[1;32m<ipython-input-33-aa8aa2c88694>\u001b[0m in \u001b[0;36m<module>\u001b[1;34m\u001b[0m\n\u001b[1;32m----> 1\u001b[1;33m \u001b[0mf\u001b[0m\u001b[1;33m.\u001b[0m\u001b[0mwrite\u001b[0m\u001b[1;33m(\u001b[0m\u001b[1;34m'test2'\u001b[0m\u001b[1;33m)\u001b[0m\u001b[1;33m\u001b[0m\u001b[1;33m\u001b[0m\u001b[0m\n\u001b[0m",
      "\u001b[1;31mValueError\u001b[0m: I/O operation on closed file."
     ]
    }
   ],
   "source": [
    "f.write('test2')"
   ]
  },
  {
   "cell_type": "markdown",
   "id": "removed-netherlands",
   "metadata": {},
   "source": [
    "## Decorators\n",
    "wraps the code with extra functionality\n",
    "\n",
    "more info about the design pattern https://en.wikipedia.org/wiki/Decorator_pattern\n",
    "\n",
    "and about the language functionality  https://stackoverflow.com/questions/739654/how-to-make-function-decorators-and-chain-them-together/1594484#1594484\n"
   ]
  },
  {
   "cell_type": "code",
   "execution_count": 44,
   "id": "inner-divorce",
   "metadata": {},
   "outputs": [],
   "source": [
    "def wlog(fn):\n",
    "    def wrapper(*args, **kwargs):\n",
    "        print('started executing fct {}'.format(fn.__name__))\n",
    "        r = fn(*args, **kwargs)\n",
    "        \n",
    "        print('finished executing fct {}'.format(fn.__name__))\n",
    "        return r**2\n",
    "    return wrapper\n",
    "\n",
    "def f(x):\n",
    "    return x*2       "
   ]
  },
  {
   "cell_type": "code",
   "execution_count": 45,
   "id": "breeding-calgary",
   "metadata": {},
   "outputs": [
    {
     "name": "stdout",
     "output_type": "stream",
     "text": [
      "started executing fct f\n",
      "finished executing fct f\n"
     ]
    },
    {
     "data": {
      "text/plain": [
       "16"
      ]
     },
     "execution_count": 45,
     "metadata": {},
     "output_type": "execute_result"
    }
   ],
   "source": [
    "# classic\n",
    "df = wlog(f)\n",
    "\n",
    "df(2)"
   ]
  },
  {
   "cell_type": "code",
   "execution_count": 40,
   "id": "seven-moldova",
   "metadata": {},
   "outputs": [],
   "source": [
    "# using python decorators\n",
    "@wlog\n",
    "def f2(x):\n",
    "    return x**2"
   ]
  },
  {
   "cell_type": "code",
   "execution_count": 41,
   "id": "furnished-mitchell",
   "metadata": {},
   "outputs": [
    {
     "name": "stdout",
     "output_type": "stream",
     "text": [
      "started executing fct f2\n",
      "4\n"
     ]
    }
   ],
   "source": [
    "print(f2(2))\n"
   ]
  },
  {
   "cell_type": "markdown",
   "id": "hairy-jones",
   "metadata": {},
   "source": [
    "## Modules"
   ]
  },
  {
   "cell_type": "markdown",
   "id": "structural-preference",
   "metadata": {},
   "source": [
    "### json"
   ]
  },
  {
   "cell_type": "code",
   "execution_count": 46,
   "id": "unlimited-alcohol",
   "metadata": {},
   "outputs": [],
   "source": [
    "d = {\n",
    "    \"k1\": \"string\",\n",
    "    \"k2\": 123,\n",
    "    3 : [\"a\",\"b\",\"c\"]\n",
    "}"
   ]
  },
  {
   "cell_type": "code",
   "execution_count": 47,
   "id": "opened-client",
   "metadata": {},
   "outputs": [
    {
     "name": "stdout",
     "output_type": "stream",
     "text": [
      "k1 string\n",
      "k2 123\n",
      "3 ['a', 'b', 'c']\n",
      "k1\n",
      "k2\n",
      "3\n"
     ]
    }
   ],
   "source": [
    "for k,v in d.items():\n",
    "    print(k,v)\n",
    "    \n",
    "for k in d:\n",
    "    print(k)"
   ]
  },
  {
   "cell_type": "code",
   "execution_count": 48,
   "id": "express-vegetation",
   "metadata": {},
   "outputs": [
    {
     "ename": "TypeError",
     "evalue": "unhashable type: 'list'",
     "output_type": "error",
     "traceback": [
      "\u001b[1;31m---------------------------------------------------------------------------\u001b[0m",
      "\u001b[1;31mTypeError\u001b[0m                                 Traceback (most recent call last)",
      "\u001b[1;32m<ipython-input-48-37f3d1d01439>\u001b[0m in \u001b[0;36m<module>\u001b[1;34m\u001b[0m\n\u001b[1;32m----> 1\u001b[1;33m \u001b[0md\u001b[0m\u001b[1;33m[\u001b[0m\u001b[1;33m[\u001b[0m\u001b[1;36m1\u001b[0m\u001b[1;33m,\u001b[0m\u001b[1;36m2\u001b[0m\u001b[1;33m,\u001b[0m\u001b[1;36m3\u001b[0m\u001b[1;33m]\u001b[0m\u001b[1;33m]\u001b[0m\u001b[1;33m=\u001b[0m\u001b[1;36m1\u001b[0m\u001b[1;33m\u001b[0m\u001b[1;33m\u001b[0m\u001b[0m\n\u001b[0m",
      "\u001b[1;31mTypeError\u001b[0m: unhashable type: 'list'"
     ]
    }
   ],
   "source": [
    "d[[1,2,3]]=1"
   ]
  },
  {
   "cell_type": "code",
   "execution_count": 49,
   "id": "convinced-empty",
   "metadata": {},
   "outputs": [
    {
     "data": {
      "text/plain": [
       "1"
      ]
     },
     "execution_count": 49,
     "metadata": {},
     "output_type": "execute_result"
    }
   ],
   "source": [
    "d['k4'] = 1\n",
    "d['k4']"
   ]
  },
  {
   "cell_type": "code",
   "execution_count": 50,
   "id": "processed-flashing",
   "metadata": {},
   "outputs": [
    {
     "ename": "KeyError",
     "evalue": "'k5'",
     "output_type": "error",
     "traceback": [
      "\u001b[1;31m---------------------------------------------------------------------------\u001b[0m",
      "\u001b[1;31mKeyError\u001b[0m                                  Traceback (most recent call last)",
      "\u001b[1;32m<ipython-input-50-b6a4446c2afb>\u001b[0m in \u001b[0;36m<module>\u001b[1;34m\u001b[0m\n\u001b[1;32m----> 1\u001b[1;33m \u001b[0md\u001b[0m\u001b[1;33m[\u001b[0m\u001b[1;34m'k5'\u001b[0m\u001b[1;33m]\u001b[0m\u001b[1;33m\u001b[0m\u001b[1;33m\u001b[0m\u001b[0m\n\u001b[0m",
      "\u001b[1;31mKeyError\u001b[0m: 'k5'"
     ]
    }
   ],
   "source": [
    "d['k5']"
   ]
  },
  {
   "cell_type": "code",
   "execution_count": 51,
   "id": "endless-savings",
   "metadata": {},
   "outputs": [
    {
     "name": "stdout",
     "output_type": "stream",
     "text": [
      "None\n"
     ]
    }
   ],
   "source": [
    "print(d.get('k5'))"
   ]
  },
  {
   "cell_type": "code",
   "execution_count": 52,
   "id": "stuck-celebration",
   "metadata": {},
   "outputs": [],
   "source": [
    "import json\n",
    "import urllib.request\n",
    "\n",
    "url = 'https://api.github.com/search/repositories?l=Python&q=requests&type=Repositories&per_page=10&page=1'\n",
    "\n",
    "with urllib.request.urlopen(url) as response:\n",
    "   response = response.read()"
   ]
  },
  {
   "cell_type": "code",
   "execution_count": 53,
   "id": "unknown-oasis",
   "metadata": {},
   "outputs": [
    {
     "data": {
      "text/plain": [
       "b'{\"total_count\":103510,\"incomplete_results\":false,\"items\":[{\"id\":1362490,\"node_id\":\"MDEwOlJlcG9zaXRvcnkxMzYyNDkw\",\"name\":\"requests\",\"full_name\":\"psf/requests\",\"private\":false,\"owner\":{\"login\":\"psf\",\"id\":50630501,\"node_id\":\"MDEyOk9yZ2FuaXphdGlvbjUwNjMwNTAx\",\"avatar_url\":\"https://avatars.githubusercontent.com/u/50630501?v=4\",\"gravatar_id\":\"\",\"url\":\"https://api.github.com/users/psf\",\"html_url\":\"https://github.com/psf\",\"followers_url\":\"https://api.github.com/users/psf/followers\",\"following_url\":\"https://api.github.com/users/psf/following{/other_user}\",\"gists_url\":\"https://api.github.com/users/psf/gists{/gist_id}\",\"starred_url\":\"https://api.github.com/users/psf/starred{/owner}{/repo}\",\"subscriptions_url\":\"https://api.github.com/users/psf/subscriptions\",\"organizations_url\":\"https://api.github.com/users/psf/orgs\",\"repos_url\":\"https://api.github.com/users/psf/repos\",\"events_url\":\"https://api.github.com/users/psf/events{/privacy}\",\"received_events_url\":\"https://api.github.com/users/psf/received_events\",\"type\":\"Organization\",\"site_admin\":false},\"html_url\":\"https://github.com/psf/requests\",\"description\":\"A simple, yet elegant HTTP library.\",\"fork\":false,\"url\":\"https://api.github.com/repos/psf/requests\",\"forks_url\":\"https://api.github.com/repos/psf/requests/forks\",\"keys_url\":\"https://api.github.com/repos/psf/requests/keys{/key_id}\",\"collaborators_url\":\"https://api.github.com/repos/psf/requests/collaborators{/collaborator}\",\"teams_url\":\"https://api.github.com/repos/psf/requests/teams\",\"hooks_url\":\"https://api.github.com/repos/psf/requests/hooks\",\"issue_events_url\":\"https://api.github.com/repos/psf/requests/issues/events{/number}\",\"events_url\":\"https://api.github.com/repos/psf/requests/events\",\"assignees_url\":\"https://api.github.com/repos/psf/requests/assignees{/user}\",\"branches_url\":\"https://api.github.com/repos/psf/requests/branches{/branch}\",\"tags_url\":\"https://api.github.com/repos/psf/requests/tags\",\"blobs_url\":\"https://api.github.com/repos/psf/requests/git/blobs{/sha}\",\"git_tags_url\":\"https://api.github.com/repos/psf/requests/git/tags{/sha}\",\"git_refs_url\":\"https://api.github.com/repos/psf/requests/git/refs{/sha}\",\"trees_url\":\"https://api.github.com/repos/psf/requests/git/trees{/sha}\",\"statuses_url\":\"https://api.github.com/repos/psf/requests/statuses/{sha}\",\"languages_url\":\"https://api.github.com/repos/psf/requests/languages\",\"stargazers_url\":\"https://api.github.com/repos/psf/requests/stargazers\",\"contributors_url\":\"https://api.github.com/repos/psf/requests/contributors\",\"subscribers_url\":\"https://api.github.com/repos/psf/requests/subscribers\",\"subscription_url\":\"https://api.github.com/repos/psf/requests/subscription\",\"commits_url\":\"https://api.github.com/repos/psf/requests/commits{/sha}\",\"git_commits_url\":\"https://api.github.com/repos/psf/requests/git/commits{/sha}\",\"comments_url\":\"https://api.github.com/repos/psf/requests/comments{/number}\",\"issue_comment_url\":\"https://api.github.com/repos/psf/requests/issues/comments{/number}\",\"contents_url\":\"https://api.github.com/repos/psf/requests/contents/{+path}\",\"compare_url\":\"https://api.github.com/repos/psf/requests/compare/{base}...{head}\",\"merges_url\":\"https://api.github.com/repos/psf/requests/merges\",\"archive_url\":\"https://api.github.com/repos/psf/requests/{archive_format}{/ref}\",\"downloads_url\":\"https://api.github.com/repos/psf/requests/downloads\",\"issues_url\":\"https://api.github.com/repos/psf/requests/issues{/number}\",\"pulls_url\":\"https://api.github.com/repos/psf/requests/pulls{/number}\",\"milestones_url\":\"https://api.github.com/repos/psf/requests/milestones{/number}\",\"notifications_url\":\"https://api.github.com/repos/psf/requests/notifications{?since,all,participating}\",\"labels_url\":\"https://api.github.com/repos/psf/requests/labels{/name}\",\"releases_url\":\"https://api.github.com/repos/psf/requests/releases{/id}\",\"deployments_url\":\"https://api.github.com/repos/psf/requests/deployments\",\"created_at\":\"2011-02-13T18:38:17Z\",\"updated_at\":\"2021-02-16T15:09:42Z\",\"pushed_at\":\"2021-02-10T13:12:54Z\",\"git_url\":\"git://github.com/psf/requests.git\",\"ssh_url\":\"git@github.com:psf/requests.git\",\"clone_url\":\"https://github.com/psf/requests.git\",\"svn_url\":\"https://github.com/psf/requests\",\"homepage\":\"https://requests.readthedocs.io\",\"size\":12569,\"stargazers_count\":44597,\"watchers_count\":44597,\"language\":\"Python\",\"has_issues\":true,\"has_projects\":false,\"has_downloads\":true,\"has_wiki\":true,\"has_pages\":true,\"forks_count\":8139,\"mirror_url\":null,\"archived\":false,\"disabled\":false,\"open_issues_count\":314,\"license\":{\"key\":\"apache-2.0\",\"name\":\"Apache License 2.0\",\"spdx_id\":\"Apache-2.0\",\"url\":\"https://api.github.com/licenses/apache-2.0\",\"node_id\":\"MDc6TGljZW5zZTI=\"},\"forks\":8139,\"open_issues\":314,\"watchers\":44597,\"default_branch\":\"master\",\"score\":1.0},{\"id\":3378594,\"node_id\":\"MDEwOlJlcG9zaXRvcnkzMzc4NTk0\",\"name\":\"Requests\",\"full_name\":\"WordPress/Requests\",\"private\":false,\"owner\":{\"login\":\"WordPress\",\"id\":276006,\"node_id\":\"MDEyOk9yZ2FuaXphdGlvbjI3NjAwNg==\",\"avatar_url\":\"https://avatars.githubusercontent.com/u/276006?v=4\",\"gravatar_id\":\"\",\"url\":\"https://api.github.com/users/WordPress\",\"html_url\":\"https://github.com/WordPress\",\"followers_url\":\"https://api.github.com/users/WordPress/followers\",\"following_url\":\"https://api.github.com/users/WordPress/following{/other_user}\",\"gists_url\":\"https://api.github.com/users/WordPress/gists{/gist_id}\",\"starred_url\":\"https://api.github.com/users/WordPress/starred{/owner}{/repo}\",\"subscriptions_url\":\"https://api.github.com/users/WordPress/subscriptions\",\"organizations_url\":\"https://api.github.com/users/WordPress/orgs\",\"repos_url\":\"https://api.github.com/users/WordPress/repos\",\"events_url\":\"https://api.github.com/users/WordPress/events{/privacy}\",\"received_events_url\":\"https://api.github.com/users/WordPress/received_events\",\"type\":\"Organization\",\"site_admin\":false},\"html_url\":\"https://github.com/WordPress/Requests\",\"description\":\"Requests for PHP is a humble HTTP request library. It simplifies how you interact with other sites and takes away all your worries.\",\"fork\":false,\"url\":\"https://api.github.com/repos/WordPress/Requests\",\"forks_url\":\"https://api.github.com/repos/WordPress/Requests/forks\",\"keys_url\":\"https://api.github.com/repos/WordPress/Requests/keys{/key_id}\",\"collaborators_url\":\"https://api.github.com/repos/WordPress/Requests/collaborators{/collaborator}\",\"teams_url\":\"https://api.github.com/repos/WordPress/Requests/teams\",\"hooks_url\":\"https://api.github.com/repos/WordPress/Requests/hooks\",\"issue_events_url\":\"https://api.github.com/repos/WordPress/Requests/issues/events{/number}\",\"events_url\":\"https://api.github.com/repos/WordPress/Requests/events\",\"assignees_url\":\"https://api.github.com/repos/WordPress/Requests/assignees{/user}\",\"branches_url\":\"https://api.github.com/repos/WordPress/Requests/branches{/branch}\",\"tags_url\":\"https://api.github.com/repos/WordPress/Requests/tags\",\"blobs_url\":\"https://api.github.com/repos/WordPress/Requests/git/blobs{/sha}\",\"git_tags_url\":\"https://api.github.com/repos/WordPress/Requests/git/tags{/sha}\",\"git_refs_url\":\"https://api.github.com/repos/WordPress/Requests/git/refs{/sha}\",\"trees_url\":\"https://api.github.com/repos/WordPress/Requests/git/trees{/sha}\",\"statuses_url\":\"https://api.github.com/repos/WordPress/Requests/statuses/{sha}\",\"languages_url\":\"https://api.github.com/repos/WordPress/Requests/languages\",\"stargazers_url\":\"https://api.github.com/repos/WordPress/Requests/stargazers\",\"contributors_url\":\"https://api.github.com/repos/WordPress/Requests/contributors\",\"subscribers_url\":\"https://api.github.com/repos/WordPress/Requests/subscribers\",\"subscription_url\":\"https://api.github.com/repos/WordPress/Requests/subscription\",\"commits_url\":\"https://api.github.com/repos/WordPress/Requests/commits{/sha}\",\"git_commits_url\":\"https://api.github.com/repos/WordPress/Requests/git/commits{/sha}\",\"comments_url\":\"https://api.github.com/repos/WordPress/Requests/comments{/number}\",\"issue_comment_url\":\"https://api.github.com/repos/WordPress/Requests/issues/comments{/number}\",\"contents_url\":\"https://api.github.com/repos/WordPress/Requests/contents/{+path}\",\"compare_url\":\"https://api.github.com/repos/WordPress/Requests/compare/{base}...{head}\",\"merges_url\":\"https://api.github.com/repos/WordPress/Requests/merges\",\"archive_url\":\"https://api.github.com/repos/WordPress/Requests/{archive_format}{/ref}\",\"downloads_url\":\"https://api.github.com/repos/WordPress/Requests/downloads\",\"issues_url\":\"https://api.github.com/repos/WordPress/Requests/issues{/number}\",\"pulls_url\":\"https://api.github.com/repos/WordPress/Requests/pulls{/number}\",\"milestones_url\":\"https://api.github.com/repos/WordPress/Requests/milestones{/number}\",\"notifications_url\":\"https://api.github.com/repos/WordPress/Requests/notifications{?since,all,participating}\",\"labels_url\":\"https://api.github.com/repos/WordPress/Requests/labels{/name}\",\"releases_url\":\"https://api.github.com/repos/WordPress/Requests/releases{/id}\",\"deployments_url\":\"https://api.github.com/repos/WordPress/Requests/deployments\",\"created_at\":\"2012-02-07T15:37:48Z\",\"updated_at\":\"2021-02-16T12:34:36Z\",\"pushed_at\":\"2021-02-15T10:52:23Z\",\"git_url\":\"git://github.com/WordPress/Requests.git\",\"ssh_url\":\"git@github.com:WordPress/Requests.git\",\"clone_url\":\"https://github.com/WordPress/Requests.git\",\"svn_url\":\"https://github.com/WordPress/Requests\",\"homepage\":\"https://requests.ryanmccue.info/\",\"size\":2843,\"stargazers_count\":3334,\"watchers_count\":3334,\"language\":\"PHP\",\"has_issues\":true,\"has_projects\":true,\"has_downloads\":true,\"has_wiki\":false,\"has_pages\":true,\"forks_count\":487,\"mirror_url\":null,\"archived\":false,\"disabled\":false,\"open_issues_count\":106,\"license\":{\"key\":\"other\",\"name\":\"Other\",\"spdx_id\":\"NOASSERTION\",\"url\":null,\"node_id\":\"MDc6TGljZW5zZTA=\"},\"forks\":487,\"open_issues\":106,\"watchers\":3334,\"default_branch\":\"master\",\"score\":1.0},{\"id\":122775780,\"node_id\":\"MDEwOlJlcG9zaXRvcnkxMjI3NzU3ODA=\",\"name\":\"requests-html\",\"full_name\":\"psf/requests-html\",\"private\":false,\"owner\":{\"login\":\"psf\",\"id\":50630501,\"node_id\":\"MDEyOk9yZ2FuaXphdGlvbjUwNjMwNTAx\",\"avatar_url\":\"https://avatars.githubusercontent.com/u/50630501?v=4\",\"gravatar_id\":\"\",\"url\":\"https://api.github.com/users/psf\",\"html_url\":\"https://github.com/psf\",\"followers_url\":\"https://api.github.com/users/psf/followers\",\"following_url\":\"https://api.github.com/users/psf/following{/other_user}\",\"gists_url\":\"https://api.github.com/users/psf/gists{/gist_id}\",\"starred_url\":\"https://api.github.com/users/psf/starred{/owner}{/repo}\",\"subscriptions_url\":\"https://api.github.com/users/psf/subscriptions\",\"organizations_url\":\"https://api.github.com/users/psf/orgs\",\"repos_url\":\"https://api.github.com/users/psf/repos\",\"events_url\":\"https://api.github.com/users/psf/events{/privacy}\",\"received_events_url\":\"https://api.github.com/users/psf/received_events\",\"type\":\"Organization\",\"site_admin\":false},\"html_url\":\"https://github.com/psf/requests-html\",\"description\":\"Pythonic HTML Parsing for Humans\\xe2\\x84\\xa2\",\"fork\":false,\"url\":\"https://api.github.com/repos/psf/requests-html\",\"forks_url\":\"https://api.github.com/repos/psf/requests-html/forks\",\"keys_url\":\"https://api.github.com/repos/psf/requests-html/keys{/key_id}\",\"collaborators_url\":\"https://api.github.com/repos/psf/requests-html/collaborators{/collaborator}\",\"teams_url\":\"https://api.github.com/repos/psf/requests-html/teams\",\"hooks_url\":\"https://api.github.com/repos/psf/requests-html/hooks\",\"issue_events_url\":\"https://api.github.com/repos/psf/requests-html/issues/events{/number}\",\"events_url\":\"https://api.github.com/repos/psf/requests-html/events\",\"assignees_url\":\"https://api.github.com/repos/psf/requests-html/assignees{/user}\",\"branches_url\":\"https://api.github.com/repos/psf/requests-html/branches{/branch}\",\"tags_url\":\"https://api.github.com/repos/psf/requests-html/tags\",\"blobs_url\":\"https://api.github.com/repos/psf/requests-html/git/blobs{/sha}\",\"git_tags_url\":\"https://api.github.com/repos/psf/requests-html/git/tags{/sha}\",\"git_refs_url\":\"https://api.github.com/repos/psf/requests-html/git/refs{/sha}\",\"trees_url\":\"https://api.github.com/repos/psf/requests-html/git/trees{/sha}\",\"statuses_url\":\"https://api.github.com/repos/psf/requests-html/statuses/{sha}\",\"languages_url\":\"https://api.github.com/repos/psf/requests-html/languages\",\"stargazers_url\":\"https://api.github.com/repos/psf/requests-html/stargazers\",\"contributors_url\":\"https://api.github.com/repos/psf/requests-html/contributors\",\"subscribers_url\":\"https://api.github.com/repos/psf/requests-html/subscribers\",\"subscription_url\":\"https://api.github.com/repos/psf/requests-html/subscription\",\"commits_url\":\"https://api.github.com/repos/psf/requests-html/commits{/sha}\",\"git_commits_url\":\"https://api.github.com/repos/psf/requests-html/git/commits{/sha}\",\"comments_url\":\"https://api.github.com/repos/psf/requests-html/comments{/number}\",\"issue_comment_url\":\"https://api.github.com/repos/psf/requests-html/issues/comments{/number}\",\"contents_url\":\"https://api.github.com/repos/psf/requests-html/contents/{+path}\",\"compare_url\":\"https://api.github.com/repos/psf/requests-html/compare/{base}...{head}\",\"merges_url\":\"https://api.github.com/repos/psf/requests-html/merges\",\"archive_url\":\"https://api.github.com/repos/psf/requests-html/{archive_format}{/ref}\",\"downloads_url\":\"https://api.github.com/repos/psf/requests-html/downloads\",\"issues_url\":\"https://api.github.com/repos/psf/requests-html/issues{/number}\",\"pulls_url\":\"https://api.github.com/repos/psf/requests-html/pulls{/number}\",\"milestones_url\":\"https://api.github.com/repos/psf/requests-html/milestones{/number}\",\"notifications_url\":\"https://api.github.com/repos/psf/requests-html/notifications{?since,all,participating}\",\"labels_url\":\"https://api.github.com/repos/psf/requests-html/labels{/name}\",\"releases_url\":\"https://api.github.com/repos/psf/requests-html/releases{/id}\",\"deployments_url\":\"https://api.github.com/repos/psf/requests-html/deployments\",\"created_at\":\"2018-02-24T20:11:02Z\",\"updated_at\":\"2021-02-16T15:40:37Z\",\"pushed_at\":\"2021-02-02T22:43:27Z\",\"git_url\":\"git://github.com/psf/requests-html.git\",\"ssh_url\":\"git@github.com:psf/requests-html.git\",\"clone_url\":\"https://github.com/psf/requests-html.git\",\"svn_url\":\"https://github.com/psf/requests-html\",\"homepage\":\"http://html.python-requests.org\",\"size\":2940,\"stargazers_count\":11499,\"watchers_count\":11499,\"language\":\"Python\",\"has_issues\":true,\"has_projects\":true,\"has_downloads\":true,\"has_wiki\":true,\"has_pages\":true,\"forks_count\":775,\"mirror_url\":null,\"archived\":false,\"disabled\":false,\"open_issues_count\":138,\"license\":{\"key\":\"mit\",\"name\":\"MIT License\",\"spdx_id\":\"MIT\",\"url\":\"https://api.github.com/licenses/mit\",\"node_id\":\"MDc6TGljZW5zZTEz\"},\"forks\":775,\"open_issues\":138,\"watchers\":11499,\"default_branch\":\"master\",\"score\":1.0},{\"id\":6825724,\"node_id\":\"MDEwOlJlcG9zaXRvcnk2ODI1NzI0\",\"name\":\"requests-oauthlib\",\"full_name\":\"requests/requests-oauthlib\",\"private\":false,\"owner\":{\"login\":\"requests\",\"id\":2805331,\"node_id\":\"MDEyOk9yZ2FuaXphdGlvbjI4MDUzMzE=\",\"avatar_url\":\"https://avatars.githubusercontent.com/u/2805331?v=4\",\"gravatar_id\":\"\",\"url\":\"https://api.github.com/users/requests\",\"html_url\":\"https://github.com/requests\",\"followers_url\":\"https://api.github.com/users/requests/followers\",\"following_url\":\"https://api.github.com/users/requests/following{/other_user}\",\"gists_url\":\"https://api.github.com/users/requests/gists{/gist_id}\",\"starred_url\":\"https://api.github.com/users/requests/starred{/owner}{/repo}\",\"subscriptions_url\":\"https://api.github.com/users/requests/subscriptions\",\"organizations_url\":\"https://api.github.com/users/requests/orgs\",\"repos_url\":\"https://api.github.com/users/requests/repos\",\"events_url\":\"https://api.github.com/users/requests/events{/privacy}\",\"received_events_url\":\"https://api.github.com/users/requests/received_events\",\"type\":\"Organization\",\"site_admin\":false},\"html_url\":\"https://github.com/requests/requests-oauthlib\",\"description\":\"OAuthlib support for Python-Requests!\",\"fork\":false,\"url\":\"https://api.github.com/repos/requests/requests-oauthlib\",\"forks_url\":\"https://api.github.com/repos/requests/requests-oauthlib/forks\",\"keys_url\":\"https://api.github.com/repos/requests/requests-oauthlib/keys{/key_id}\",\"collaborators_url\":\"https://api.github.com/repos/requests/requests-oauthlib/collaborators{/collaborator}\",\"teams_url\":\"https://api.github.com/repos/requests/requests-oauthlib/teams\",\"hooks_url\":\"https://api.github.com/repos/requests/requests-oauthlib/hooks\",\"issue_events_url\":\"https://api.github.com/repos/requests/requests-oauthlib/issues/events{/number}\",\"events_url\":\"https://api.github.com/repos/requests/requests-oauthlib/events\",\"assignees_url\":\"https://api.github.com/repos/requests/requests-oauthlib/assignees{/user}\",\"branches_url\":\"https://api.github.com/repos/requests/requests-oauthlib/branches{/branch}\",\"tags_url\":\"https://api.github.com/repos/requests/requests-oauthlib/tags\",\"blobs_url\":\"https://api.github.com/repos/requests/requests-oauthlib/git/blobs{/sha}\",\"git_tags_url\":\"https://api.github.com/repos/requests/requests-oauthlib/git/tags{/sha}\",\"git_refs_url\":\"https://api.github.com/repos/requests/requests-oauthlib/git/refs{/sha}\",\"trees_url\":\"https://api.github.com/repos/requests/requests-oauthlib/git/trees{/sha}\",\"statuses_url\":\"https://api.github.com/repos/requests/requests-oauthlib/statuses/{sha}\",\"languages_url\":\"https://api.github.com/repos/requests/requests-oauthlib/languages\",\"stargazers_url\":\"https://api.github.com/repos/requests/requests-oauthlib/stargazers\",\"contributors_url\":\"https://api.github.com/repos/requests/requests-oauthlib/contributors\",\"subscribers_url\":\"https://api.github.com/repos/requests/requests-oauthlib/subscribers\",\"subscription_url\":\"https://api.github.com/repos/requests/requests-oauthlib/subscription\",\"commits_url\":\"https://api.github.com/repos/requests/requests-oauthlib/commits{/sha}\",\"git_commits_url\":\"https://api.github.com/repos/requests/requests-oauthlib/git/commits{/sha}\",\"comments_url\":\"https://api.github.com/repos/requests/requests-oauthlib/comments{/number}\",\"issue_comment_url\":\"https://api.github.com/repos/requests/requests-oauthlib/issues/comments{/number}\",\"contents_url\":\"https://api.github.com/repos/requests/requests-oauthlib/contents/{+path}\",\"compare_url\":\"https://api.github.com/repos/requests/requests-oauthlib/compare/{base}...{head}\",\"merges_url\":\"https://api.github.com/repos/requests/requests-oauthlib/merges\",\"archive_url\":\"https://api.github.com/repos/requests/requests-oauthlib/{archive_format}{/ref}\",\"downloads_url\":\"https://api.github.com/repos/requests/requests-oauthlib/downloads\",\"issues_url\":\"https://api.github.com/repos/requests/requests-oauthlib/issues{/number}\",\"pulls_url\":\"https://api.github.com/repos/requests/requests-oauthlib/pulls{/number}\",\"milestones_url\":\"https://api.github.com/repos/requests/requests-oauthlib/milestones{/number}\",\"notifications_url\":\"https://api.github.com/repos/requests/requests-oauthlib/notifications{?since,all,participating}\",\"labels_url\":\"https://api.github.com/repos/requests/requests-oauthlib/labels{/name}\",\"releases_url\":\"https://api.github.com/repos/requests/requests-oauthlib/releases{/id}\",\"deployments_url\":\"https://api.github.com/repos/requests/requests-oauthlib/deployments\",\"created_at\":\"2012-11-23T10:19:44Z\",\"updated_at\":\"2021-02-11T20:57:48Z\",\"pushed_at\":\"2021-02-08T13:41:10Z\",\"git_url\":\"git://github.com/requests/requests-oauthlib.git\",\"ssh_url\":\"git@github.com:requests/requests-oauthlib.git\",\"clone_url\":\"https://github.com/requests/requests-oauthlib.git\",\"svn_url\":\"https://github.com/requests/requests-oauthlib\",\"homepage\":\"https://requests-oauthlib.readthedocs.org/\",\"size\":441,\"stargazers_count\":1357,\"watchers_count\":1357,\"language\":\"Python\",\"has_issues\":true,\"has_projects\":true,\"has_downloads\":true,\"has_wiki\":true,\"has_pages\":false,\"forks_count\":354,\"mirror_url\":null,\"archived\":false,\"disabled\":false,\"open_issues_count\":102,\"license\":{\"key\":\"isc\",\"name\":\"ISC License\",\"spdx_id\":\"ISC\",\"url\":\"https://api.github.com/licenses/isc\",\"node_id\":\"MDc6TGljZW5zZTEw\"},\"forks\":354,\"open_issues\":102,\"watchers\":1357,\"default_branch\":\"master\",\"score\":1.0},{\"id\":60587451,\"node_id\":\"MDEwOlJlcG9zaXRvcnk2MDU4NzQ1MQ==\",\"name\":\"requests-for-research\",\"full_name\":\"openai/requests-for-research\",\"private\":false,\"owner\":{\"login\":\"openai\",\"id\":14957082,\"node_id\":\"MDEyOk9yZ2FuaXphdGlvbjE0OTU3MDgy\",\"avatar_url\":\"https://avatars.githubusercontent.com/u/14957082?v=4\",\"gravatar_id\":\"\",\"url\":\"https://api.github.com/users/openai\",\"html_url\":\"https://github.com/openai\",\"followers_url\":\"https://api.github.com/users/openai/followers\",\"following_url\":\"https://api.github.com/users/openai/following{/other_user}\",\"gists_url\":\"https://api.github.com/users/openai/gists{/gist_id}\",\"starred_url\":\"https://api.github.com/users/openai/starred{/owner}{/repo}\",\"subscriptions_url\":\"https://api.github.com/users/openai/subscriptions\",\"organizations_url\":\"https://api.github.com/users/openai/orgs\",\"repos_url\":\"https://api.github.com/users/openai/repos\",\"events_url\":\"https://api.github.com/users/openai/events{/privacy}\",\"received_events_url\":\"https://api.github.com/users/openai/received_events\",\"type\":\"Organization\",\"site_admin\":false},\"html_url\":\"https://github.com/openai/requests-for-research\",\"description\":\"A living collection of deep learning problems\",\"fork\":false,\"url\":\"https://api.github.com/repos/openai/requests-for-research\",\"forks_url\":\"https://api.github.com/repos/openai/requests-for-research/forks\",\"keys_url\":\"https://api.github.com/repos/openai/requests-for-research/keys{/key_id}\",\"collaborators_url\":\"https://api.github.com/repos/openai/requests-for-research/collaborators{/collaborator}\",\"teams_url\":\"https://api.github.com/repos/openai/requests-for-research/teams\",\"hooks_url\":\"https://api.github.com/repos/openai/requests-for-research/hooks\",\"issue_events_url\":\"https://api.github.com/repos/openai/requests-for-research/issues/events{/number}\",\"events_url\":\"https://api.github.com/repos/openai/requests-for-research/events\",\"assignees_url\":\"https://api.github.com/repos/openai/requests-for-research/assignees{/user}\",\"branches_url\":\"https://api.github.com/repos/openai/requests-for-research/branches{/branch}\",\"tags_url\":\"https://api.github.com/repos/openai/requests-for-research/tags\",\"blobs_url\":\"https://api.github.com/repos/openai/requests-for-research/git/blobs{/sha}\",\"git_tags_url\":\"https://api.github.com/repos/openai/requests-for-research/git/tags{/sha}\",\"git_refs_url\":\"https://api.github.com/repos/openai/requests-for-research/git/refs{/sha}\",\"trees_url\":\"https://api.github.com/repos/openai/requests-for-research/git/trees{/sha}\",\"statuses_url\":\"https://api.github.com/repos/openai/requests-for-research/statuses/{sha}\",\"languages_url\":\"https://api.github.com/repos/openai/requests-for-research/languages\",\"stargazers_url\":\"https://api.github.com/repos/openai/requests-for-research/stargazers\",\"contributors_url\":\"https://api.github.com/repos/openai/requests-for-research/contributors\",\"subscribers_url\":\"https://api.github.com/repos/openai/requests-for-research/subscribers\",\"subscription_url\":\"https://api.github.com/repos/openai/requests-for-research/subscription\",\"commits_url\":\"https://api.github.com/repos/openai/requests-for-research/commits{/sha}\",\"git_commits_url\":\"https://api.github.com/repos/openai/requests-for-research/git/commits{/sha}\",\"comments_url\":\"https://api.github.com/repos/openai/requests-for-research/comments{/number}\",\"issue_comment_url\":\"https://api.github.com/repos/openai/requests-for-research/issues/comments{/number}\",\"contents_url\":\"https://api.github.com/repos/openai/requests-for-research/contents/{+path}\",\"compare_url\":\"https://api.github.com/repos/openai/requests-for-research/compare/{base}...{head}\",\"merges_url\":\"https://api.github.com/repos/openai/requests-for-research/merges\",\"archive_url\":\"https://api.github.com/repos/openai/requests-for-research/{archive_format}{/ref}\",\"downloads_url\":\"https://api.github.com/repos/openai/requests-for-research/downloads\",\"issues_url\":\"https://api.github.com/repos/openai/requests-for-research/issues{/number}\",\"pulls_url\":\"https://api.github.com/repos/openai/requests-for-research/pulls{/number}\",\"milestones_url\":\"https://api.github.com/repos/openai/requests-for-research/milestones{/number}\",\"notifications_url\":\"https://api.github.com/repos/openai/requests-for-research/notifications{?since,all,participating}\",\"labels_url\":\"https://api.github.com/repos/openai/requests-for-research/labels{/name}\",\"releases_url\":\"https://api.github.com/repos/openai/requests-for-research/releases{/id}\",\"deployments_url\":\"https://api.github.com/repos/openai/requests-for-research/deployments\",\"created_at\":\"2016-06-07T06:20:19Z\",\"updated_at\":\"2021-02-13T12:56:29Z\",\"pushed_at\":\"2018-11-28T21:19:54Z\",\"git_url\":\"git://github.com/openai/requests-for-research.git\",\"ssh_url\":\"git@github.com:openai/requests-for-research.git\",\"clone_url\":\"https://github.com/openai/requests-for-research.git\",\"svn_url\":\"https://github.com/openai/requests-for-research\",\"homepage\":\"https://openai.com/requests-for-research\",\"size\":67,\"stargazers_count\":1515,\"watchers_count\":1515,\"language\":\"HTML\",\"has_issues\":true,\"has_projects\":true,\"has_downloads\":true,\"has_wiki\":true,\"has_pages\":false,\"forks_count\":612,\"mirror_url\":null,\"archived\":false,\"disabled\":false,\"open_issues_count\":12,\"license\":null,\"forks\":612,\"open_issues\":12,\"watchers\":1515,\"default_branch\":\"master\",\"score\":1.0},{\"id\":98105748,\"node_id\":\"MDEwOlJlcG9zaXRvcnk5ODEwNTc0OA==\",\"name\":\"jsr\",\"full_name\":\"mercyblitz/jsr\",\"private\":false,\"owner\":{\"login\":\"mercyblitz\",\"id\":533114,\"node_id\":\"MDQ6VXNlcjUzMzExNA==\",\"avatar_url\":\"https://avatars.githubusercontent.com/u/533114?v=4\",\"gravatar_id\":\"\",\"url\":\"https://api.github.com/users/mercyblitz\",\"html_url\":\"https://github.com/mercyblitz\",\"followers_url\":\"https://api.github.com/users/mercyblitz/followers\",\"following_url\":\"https://api.github.com/users/mercyblitz/following{/other_user}\",\"gists_url\":\"https://api.github.com/users/mercyblitz/gists{/gist_id}\",\"starred_url\":\"https://api.github.com/users/mercyblitz/starred{/owner}{/repo}\",\"subscriptions_url\":\"https://api.github.com/users/mercyblitz/subscriptions\",\"organizations_url\":\"https://api.github.com/users/mercyblitz/orgs\",\"repos_url\":\"https://api.github.com/users/mercyblitz/repos\",\"events_url\":\"https://api.github.com/users/mercyblitz/events{/privacy}\",\"received_events_url\":\"https://api.github.com/users/mercyblitz/received_events\",\"type\":\"User\",\"site_admin\":false},\"html_url\":\"https://github.com/mercyblitz/jsr\",\"description\":\"Java Specification Requests \",\"fork\":false,\"url\":\"https://api.github.com/repos/mercyblitz/jsr\",\"forks_url\":\"https://api.github.com/repos/mercyblitz/jsr/forks\",\"keys_url\":\"https://api.github.com/repos/mercyblitz/jsr/keys{/key_id}\",\"collaborators_url\":\"https://api.github.com/repos/mercyblitz/jsr/collaborators{/collaborator}\",\"teams_url\":\"https://api.github.com/repos/mercyblitz/jsr/teams\",\"hooks_url\":\"https://api.github.com/repos/mercyblitz/jsr/hooks\",\"issue_events_url\":\"https://api.github.com/repos/mercyblitz/jsr/issues/events{/number}\",\"events_url\":\"https://api.github.com/repos/mercyblitz/jsr/events\",\"assignees_url\":\"https://api.github.com/repos/mercyblitz/jsr/assignees{/user}\",\"branches_url\":\"https://api.github.com/repos/mercyblitz/jsr/branches{/branch}\",\"tags_url\":\"https://api.github.com/repos/mercyblitz/jsr/tags\",\"blobs_url\":\"https://api.github.com/repos/mercyblitz/jsr/git/blobs{/sha}\",\"git_tags_url\":\"https://api.github.com/repos/mercyblitz/jsr/git/tags{/sha}\",\"git_refs_url\":\"https://api.github.com/repos/mercyblitz/jsr/git/refs{/sha}\",\"trees_url\":\"https://api.github.com/repos/mercyblitz/jsr/git/trees{/sha}\",\"statuses_url\":\"https://api.github.com/repos/mercyblitz/jsr/statuses/{sha}\",\"languages_url\":\"https://api.github.com/repos/mercyblitz/jsr/languages\",\"stargazers_url\":\"https://api.github.com/repos/mercyblitz/jsr/stargazers\",\"contributors_url\":\"https://api.github.com/repos/mercyblitz/jsr/contributors\",\"subscribers_url\":\"https://api.github.com/repos/mercyblitz/jsr/subscribers\",\"subscription_url\":\"https://api.github.com/repos/mercyblitz/jsr/subscription\",\"commits_url\":\"https://api.github.com/repos/mercyblitz/jsr/commits{/sha}\",\"git_commits_url\":\"https://api.github.com/repos/mercyblitz/jsr/git/commits{/sha}\",\"comments_url\":\"https://api.github.com/repos/mercyblitz/jsr/comments{/number}\",\"issue_comment_url\":\"https://api.github.com/repos/mercyblitz/jsr/issues/comments{/number}\",\"contents_url\":\"https://api.github.com/repos/mercyblitz/jsr/contents/{+path}\",\"compare_url\":\"https://api.github.com/repos/mercyblitz/jsr/compare/{base}...{head}\",\"merges_url\":\"https://api.github.com/repos/mercyblitz/jsr/merges\",\"archive_url\":\"https://api.github.com/repos/mercyblitz/jsr/{archive_format}{/ref}\",\"downloads_url\":\"https://api.github.com/repos/mercyblitz/jsr/downloads\",\"issues_url\":\"https://api.github.com/repos/mercyblitz/jsr/issues{/number}\",\"pulls_url\":\"https://api.github.com/repos/mercyblitz/jsr/pulls{/number}\",\"milestones_url\":\"https://api.github.com/repos/mercyblitz/jsr/milestones{/number}\",\"notifications_url\":\"https://api.github.com/repos/mercyblitz/jsr/notifications{?since,all,participating}\",\"labels_url\":\"https://api.github.com/repos/mercyblitz/jsr/labels{/name}\",\"releases_url\":\"https://api.github.com/repos/mercyblitz/jsr/releases{/id}\",\"deployments_url\":\"https://api.github.com/repos/mercyblitz/jsr/deployments\",\"created_at\":\"2017-07-23T15:05:33Z\",\"updated_at\":\"2021-02-06T09:04:23Z\",\"pushed_at\":\"2019-07-01T08:49:48Z\",\"git_url\":\"git://github.com/mercyblitz/jsr.git\",\"ssh_url\":\"git@github.com:mercyblitz/jsr.git\",\"clone_url\":\"https://github.com/mercyblitz/jsr.git\",\"svn_url\":\"https://github.com/mercyblitz/jsr\",\"homepage\":\"https://www.jcp.org/en/home/index\",\"size\":118229,\"stargazers_count\":1776,\"watchers_count\":1776,\"language\":\"HTML\",\"has_issues\":true,\"has_projects\":true,\"has_downloads\":true,\"has_wiki\":true,\"has_pages\":false,\"forks_count\":959,\"mirror_url\":null,\"archived\":false,\"disabled\":false,\"open_issues_count\":1,\"license\":null,\"forks\":959,\"open_issues\":1,\"watchers\":1776,\"default_branch\":\"master\",\"score\":1.0},{\"id\":54014144,\"node_id\":\"MDEwOlJlcG9zaXRvcnk1NDAxNDE0NA==\",\"name\":\"read_requests\",\"full_name\":\"wangshunping/read_requests\",\"private\":false,\"owner\":{\"login\":\"wangshunping\",\"id\":10842398,\"node_id\":\"MDQ6VXNlcjEwODQyMzk4\",\"avatar_url\":\"https://avatars.githubusercontent.com/u/10842398?v=4\",\"gravatar_id\":\"\",\"url\":\"https://api.github.com/users/wangshunping\",\"html_url\":\"https://github.com/wangshunping\",\"followers_url\":\"https://api.github.com/users/wangshunping/followers\",\"following_url\":\"https://api.github.com/users/wangshunping/following{/other_user}\",\"gists_url\":\"https://api.github.com/users/wangshunping/gists{/gist_id}\",\"starred_url\":\"https://api.github.com/users/wangshunping/starred{/owner}{/repo}\",\"subscriptions_url\":\"https://api.github.com/users/wangshunping/subscriptions\",\"organizations_url\":\"https://api.github.com/users/wangshunping/orgs\",\"repos_url\":\"https://api.github.com/users/wangshunping/repos\",\"events_url\":\"https://api.github.com/users/wangshunping/events{/privacy}\",\"received_events_url\":\"https://api.github.com/users/wangshunping/received_events\",\"type\":\"User\",\"site_admin\":false},\"html_url\":\"https://github.com/wangshunping/read_requests\",\"description\":\"python requests \\xe6\\xba\\x90\\xe7\\xa0\\x81\\xe9\\x98\\x85\\xe8\\xaf\\xbb\\xef\\xbc\\x8c\\xe5\\xad\\xa6\\xe4\\xb9\\xa0\\xe6\\x9b\\xb4pythonic \\xe7\\x9a\\x84python\\xe4\\xbb\\xa3\\xe7\\xa0\\x81\\xe5\\x86\\x99\\xe6\\xb3\\x95\\xe3\\x80\\x82\",\"fork\":false,\"url\":\"https://api.github.com/repos/wangshunping/read_requests\",\"forks_url\":\"https://api.github.com/repos/wangshunping/read_requests/forks\",\"keys_url\":\"https://api.github.com/repos/wangshunping/read_requests/keys{/key_id}\",\"collaborators_url\":\"https://api.github.com/repos/wangshunping/read_requests/collaborators{/collaborator}\",\"teams_url\":\"https://api.github.com/repos/wangshunping/read_requests/teams\",\"hooks_url\":\"https://api.github.com/repos/wangshunping/read_requests/hooks\",\"issue_events_url\":\"https://api.github.com/repos/wangshunping/read_requests/issues/events{/number}\",\"events_url\":\"https://api.github.com/repos/wangshunping/read_requests/events\",\"assignees_url\":\"https://api.github.com/repos/wangshunping/read_requests/assignees{/user}\",\"branches_url\":\"https://api.github.com/repos/wangshunping/read_requests/branches{/branch}\",\"tags_url\":\"https://api.github.com/repos/wangshunping/read_requests/tags\",\"blobs_url\":\"https://api.github.com/repos/wangshunping/read_requests/git/blobs{/sha}\",\"git_tags_url\":\"https://api.github.com/repos/wangshunping/read_requests/git/tags{/sha}\",\"git_refs_url\":\"https://api.github.com/repos/wangshunping/read_requests/git/refs{/sha}\",\"trees_url\":\"https://api.github.com/repos/wangshunping/read_requests/git/trees{/sha}\",\"statuses_url\":\"https://api.github.com/repos/wangshunping/read_requests/statuses/{sha}\",\"languages_url\":\"https://api.github.com/repos/wangshunping/read_requests/languages\",\"stargazers_url\":\"https://api.github.com/repos/wangshunping/read_requests/stargazers\",\"contributors_url\":\"https://api.github.com/repos/wangshunping/read_requests/contributors\",\"subscribers_url\":\"https://api.github.com/repos/wangshunping/read_requests/subscribers\",\"subscription_url\":\"https://api.github.com/repos/wangshunping/read_requests/subscription\",\"commits_url\":\"https://api.github.com/repos/wangshunping/read_requests/commits{/sha}\",\"git_commits_url\":\"https://api.github.com/repos/wangshunping/read_requests/git/commits{/sha}\",\"comments_url\":\"https://api.github.com/repos/wangshunping/read_requests/comments{/number}\",\"issue_comment_url\":\"https://api.github.com/repos/wangshunping/read_requests/issues/comments{/number}\",\"contents_url\":\"https://api.github.com/repos/wangshunping/read_requests/contents/{+path}\",\"compare_url\":\"https://api.github.com/repos/wangshunping/read_requests/compare/{base}...{head}\",\"merges_url\":\"https://api.github.com/repos/wangshunping/read_requests/merges\",\"archive_url\":\"https://api.github.com/repos/wangshunping/read_requests/{archive_format}{/ref}\",\"downloads_url\":\"https://api.github.com/repos/wangshunping/read_requests/downloads\",\"issues_url\":\"https://api.github.com/repos/wangshunping/read_requests/issues{/number}\",\"pulls_url\":\"https://api.github.com/repos/wangshunping/read_requests/pulls{/number}\",\"milestones_url\":\"https://api.github.com/repos/wangshunping/read_requests/milestones{/number}\",\"notifications_url\":\"https://api.github.com/repos/wangshunping/read_requests/notifications{?since,all,participating}\",\"labels_url\":\"https://api.github.com/repos/wangshunping/read_requests/labels{/name}\",\"releases_url\":\"https://api.github.com/repos/wangshunping/read_requests/releases{/id}\",\"deployments_url\":\"https://api.github.com/repos/wangshunping/read_requests/deployments\",\"created_at\":\"2016-03-16T08:31:47Z\",\"updated_at\":\"2021-02-10T00:48:35Z\",\"pushed_at\":\"2019-08-23T09:09:37Z\",\"git_url\":\"git://github.com/wangshunping/read_requests.git\",\"ssh_url\":\"git@github.com:wangshunping/read_requests.git\",\"clone_url\":\"https://github.com/wangshunping/read_requests.git\",\"svn_url\":\"https://github.com/wangshunping/read_requests\",\"homepage\":null,\"size\":625,\"stargazers_count\":956,\"watchers_count\":956,\"language\":null,\"has_issues\":true,\"has_projects\":true,\"has_downloads\":true,\"has_wiki\":true,\"has_pages\":false,\"forks_count\":236,\"mirror_url\":null,\"archived\":false,\"disabled\":false,\"open_issues_count\":14,\"license\":null,\"forks\":236,\"open_issues\":14,\"watchers\":956,\"default_branch\":\"master\",\"score\":1.0},{\"id\":27161323,\"node_id\":\"MDEwOlJlcG9zaXRvcnkyNzE2MTMyMw==\",\"name\":\"requests\",\"full_name\":\"hsiafan/requests\",\"private\":false,\"owner\":{\"login\":\"hsiafan\",\"id\":1498664,\"node_id\":\"MDQ6VXNlcjE0OTg2NjQ=\",\"avatar_url\":\"https://avatars.githubusercontent.com/u/1498664?v=4\",\"gravatar_id\":\"\",\"url\":\"https://api.github.com/users/hsiafan\",\"html_url\":\"https://github.com/hsiafan\",\"followers_url\":\"https://api.github.com/users/hsiafan/followers\",\"following_url\":\"https://api.github.com/users/hsiafan/following{/other_user}\",\"gists_url\":\"https://api.github.com/users/hsiafan/gists{/gist_id}\",\"starred_url\":\"https://api.github.com/users/hsiafan/starred{/owner}{/repo}\",\"subscriptions_url\":\"https://api.github.com/users/hsiafan/subscriptions\",\"organizations_url\":\"https://api.github.com/users/hsiafan/orgs\",\"repos_url\":\"https://api.github.com/users/hsiafan/repos\",\"events_url\":\"https://api.github.com/users/hsiafan/events{/privacy}\",\"received_events_url\":\"https://api.github.com/users/hsiafan/received_events\",\"type\":\"User\",\"site_admin\":false},\"html_url\":\"https://github.com/hsiafan/requests\",\"description\":\"Convenient http client for java,  inspired by python request module\",\"fork\":false,\"url\":\"https://api.github.com/repos/hsiafan/requests\",\"forks_url\":\"https://api.github.com/repos/hsiafan/requests/forks\",\"keys_url\":\"https://api.github.com/repos/hsiafan/requests/keys{/key_id}\",\"collaborators_url\":\"https://api.github.com/repos/hsiafan/requests/collaborators{/collaborator}\",\"teams_url\":\"https://api.github.com/repos/hsiafan/requests/teams\",\"hooks_url\":\"https://api.github.com/repos/hsiafan/requests/hooks\",\"issue_events_url\":\"https://api.github.com/repos/hsiafan/requests/issues/events{/number}\",\"events_url\":\"https://api.github.com/repos/hsiafan/requests/events\",\"assignees_url\":\"https://api.github.com/repos/hsiafan/requests/assignees{/user}\",\"branches_url\":\"https://api.github.com/repos/hsiafan/requests/branches{/branch}\",\"tags_url\":\"https://api.github.com/repos/hsiafan/requests/tags\",\"blobs_url\":\"https://api.github.com/repos/hsiafan/requests/git/blobs{/sha}\",\"git_tags_url\":\"https://api.github.com/repos/hsiafan/requests/git/tags{/sha}\",\"git_refs_url\":\"https://api.github.com/repos/hsiafan/requests/git/refs{/sha}\",\"trees_url\":\"https://api.github.com/repos/hsiafan/requests/git/trees{/sha}\",\"statuses_url\":\"https://api.github.com/repos/hsiafan/requests/statuses/{sha}\",\"languages_url\":\"https://api.github.com/repos/hsiafan/requests/languages\",\"stargazers_url\":\"https://api.github.com/repos/hsiafan/requests/stargazers\",\"contributors_url\":\"https://api.github.com/repos/hsiafan/requests/contributors\",\"subscribers_url\":\"https://api.github.com/repos/hsiafan/requests/subscribers\",\"subscription_url\":\"https://api.github.com/repos/hsiafan/requests/subscription\",\"commits_url\":\"https://api.github.com/repos/hsiafan/requests/commits{/sha}\",\"git_commits_url\":\"https://api.github.com/repos/hsiafan/requests/git/commits{/sha}\",\"comments_url\":\"https://api.github.com/repos/hsiafan/requests/comments{/number}\",\"issue_comment_url\":\"https://api.github.com/repos/hsiafan/requests/issues/comments{/number}\",\"contents_url\":\"https://api.github.com/repos/hsiafan/requests/contents/{+path}\",\"compare_url\":\"https://api.github.com/repos/hsiafan/requests/compare/{base}...{head}\",\"merges_url\":\"https://api.github.com/repos/hsiafan/requests/merges\",\"archive_url\":\"https://api.github.com/repos/hsiafan/requests/{archive_format}{/ref}\",\"downloads_url\":\"https://api.github.com/repos/hsiafan/requests/downloads\",\"issues_url\":\"https://api.github.com/repos/hsiafan/requests/issues{/number}\",\"pulls_url\":\"https://api.github.com/repos/hsiafan/requests/pulls{/number}\",\"milestones_url\":\"https://api.github.com/repos/hsiafan/requests/milestones{/number}\",\"notifications_url\":\"https://api.github.com/repos/hsiafan/requests/notifications{?since,all,participating}\",\"labels_url\":\"https://api.github.com/repos/hsiafan/requests/labels{/name}\",\"releases_url\":\"https://api.github.com/repos/hsiafan/requests/releases{/id}\",\"deployments_url\":\"https://api.github.com/repos/hsiafan/requests/deployments\",\"created_at\":\"2014-11-26T05:37:27Z\",\"updated_at\":\"2021-02-12T13:40:18Z\",\"pushed_at\":\"2019-12-19T05:14:26Z\",\"git_url\":\"git://github.com/hsiafan/requests.git\",\"ssh_url\":\"git@github.com:hsiafan/requests.git\",\"clone_url\":\"https://github.com/hsiafan/requests.git\",\"svn_url\":\"https://github.com/hsiafan/requests\",\"homepage\":\"\",\"size\":601,\"stargazers_count\":458,\"watchers_count\":458,\"language\":\"Java\",\"has_issues\":true,\"has_projects\":true,\"has_downloads\":true,\"has_wiki\":true,\"has_pages\":false,\"forks_count\":114,\"mirror_url\":null,\"archived\":true,\"disabled\":false,\"open_issues_count\":12,\"license\":{\"key\":\"bsd-2-clause\",\"name\":\"BSD 2-Clause \\\\\"Simplified\\\\\" License\",\"spdx_id\":\"BSD-2-Clause\",\"url\":\"https://api.github.com/licenses/bsd-2-clause\",\"node_id\":\"MDc6TGljZW5zZTQ=\"},\"forks\":114,\"open_issues\":12,\"watchers\":458,\"default_branch\":\"master\",\"score\":1.0},{\"id\":1283503,\"node_id\":\"MDEwOlJlcG9zaXRvcnkxMjgzNTAz\",\"name\":\"request\",\"full_name\":\"request/request\",\"private\":false,\"owner\":{\"login\":\"request\",\"id\":730467,\"node_id\":\"MDEyOk9yZ2FuaXphdGlvbjczMDQ2Nw==\",\"avatar_url\":\"https://avatars.githubusercontent.com/u/730467?v=4\",\"gravatar_id\":\"\",\"url\":\"https://api.github.com/users/request\",\"html_url\":\"https://github.com/request\",\"followers_url\":\"https://api.github.com/users/request/followers\",\"following_url\":\"https://api.github.com/users/request/following{/other_user}\",\"gists_url\":\"https://api.github.com/users/request/gists{/gist_id}\",\"starred_url\":\"https://api.github.com/users/request/starred{/owner}{/repo}\",\"subscriptions_url\":\"https://api.github.com/users/request/subscriptions\",\"organizations_url\":\"https://api.github.com/users/request/orgs\",\"repos_url\":\"https://api.github.com/users/request/repos\",\"events_url\":\"https://api.github.com/users/request/events{/privacy}\",\"received_events_url\":\"https://api.github.com/users/request/received_events\",\"type\":\"Organization\",\"site_admin\":false},\"html_url\":\"https://github.com/request/request\",\"description\":\"\\xf0\\x9f\\x8f\\x8a\\xf0\\x9f\\x8f\\xbe Simplified HTTP request client.\",\"fork\":false,\"url\":\"https://api.github.com/repos/request/request\",\"forks_url\":\"https://api.github.com/repos/request/request/forks\",\"keys_url\":\"https://api.github.com/repos/request/request/keys{/key_id}\",\"collaborators_url\":\"https://api.github.com/repos/request/request/collaborators{/collaborator}\",\"teams_url\":\"https://api.github.com/repos/request/request/teams\",\"hooks_url\":\"https://api.github.com/repos/request/request/hooks\",\"issue_events_url\":\"https://api.github.com/repos/request/request/issues/events{/number}\",\"events_url\":\"https://api.github.com/repos/request/request/events\",\"assignees_url\":\"https://api.github.com/repos/request/request/assignees{/user}\",\"branches_url\":\"https://api.github.com/repos/request/request/branches{/branch}\",\"tags_url\":\"https://api.github.com/repos/request/request/tags\",\"blobs_url\":\"https://api.github.com/repos/request/request/git/blobs{/sha}\",\"git_tags_url\":\"https://api.github.com/repos/request/request/git/tags{/sha}\",\"git_refs_url\":\"https://api.github.com/repos/request/request/git/refs{/sha}\",\"trees_url\":\"https://api.github.com/repos/request/request/git/trees{/sha}\",\"statuses_url\":\"https://api.github.com/repos/request/request/statuses/{sha}\",\"languages_url\":\"https://api.github.com/repos/request/request/languages\",\"stargazers_url\":\"https://api.github.com/repos/request/request/stargazers\",\"contributors_url\":\"https://api.github.com/repos/request/request/contributors\",\"subscribers_url\":\"https://api.github.com/repos/request/request/subscribers\",\"subscription_url\":\"https://api.github.com/repos/request/request/subscription\",\"commits_url\":\"https://api.github.com/repos/request/request/commits{/sha}\",\"git_commits_url\":\"https://api.github.com/repos/request/request/git/commits{/sha}\",\"comments_url\":\"https://api.github.com/repos/request/request/comments{/number}\",\"issue_comment_url\":\"https://api.github.com/repos/request/request/issues/comments{/number}\",\"contents_url\":\"https://api.github.com/repos/request/request/contents/{+path}\",\"compare_url\":\"https://api.github.com/repos/request/request/compare/{base}...{head}\",\"merges_url\":\"https://api.github.com/repos/request/request/merges\",\"archive_url\":\"https://api.github.com/repos/request/request/{archive_format}{/ref}\",\"downloads_url\":\"https://api.github.com/repos/request/request/downloads\",\"issues_url\":\"https://api.github.com/repos/request/request/issues{/number}\",\"pulls_url\":\"https://api.github.com/repos/request/request/pulls{/number}\",\"milestones_url\":\"https://api.github.com/repos/request/request/milestones{/number}\",\"notifications_url\":\"https://api.github.com/repos/request/request/notifications{?since,all,participating}\",\"labels_url\":\"https://api.github.com/repos/request/request/labels{/name}\",\"releases_url\":\"https://api.github.com/repos/request/request/releases{/id}\",\"deployments_url\":\"https://api.github.com/repos/request/request/deployments\",\"created_at\":\"2011-01-23T01:25:14Z\",\"updated_at\":\"2021-02-16T15:45:15Z\",\"pushed_at\":\"2020-12-31T03:04:35Z\",\"git_url\":\"git://github.com/request/request.git\",\"ssh_url\":\"git@github.com:request/request.git\",\"clone_url\":\"https://github.com/request/request.git\",\"svn_url\":\"https://github.com/request/request\",\"homepage\":\"\",\"size\":2290,\"stargazers_count\":25022,\"watchers_count\":25022,\"language\":\"JavaScript\",\"has_issues\":true,\"has_projects\":false,\"has_downloads\":true,\"has_wiki\":false,\"has_pages\":false,\"forks_count\":3044,\"mirror_url\":null,\"archived\":false,\"disabled\":false,\"open_issues_count\":140,\"license\":{\"key\":\"apache-2.0\",\"name\":\"Apache License 2.0\",\"spdx_id\":\"Apache-2.0\",\"url\":\"https://api.github.com/licenses/apache-2.0\",\"node_id\":\"MDc6TGljZW5zZTI=\"},\"forks\":3044,\"open_issues\":140,\"watchers\":25022,\"default_branch\":\"master\",\"score\":1.0},{\"id\":8930430,\"node_id\":\"MDEwOlJlcG9zaXRvcnk4OTMwNDMw\",\"name\":\"requests-futures\",\"full_name\":\"ross/requests-futures\",\"private\":false,\"owner\":{\"login\":\"ross\",\"id\":12789,\"node_id\":\"MDQ6VXNlcjEyNzg5\",\"avatar_url\":\"https://avatars.githubusercontent.com/u/12789?v=4\",\"gravatar_id\":\"\",\"url\":\"https://api.github.com/users/ross\",\"html_url\":\"https://github.com/ross\",\"followers_url\":\"https://api.github.com/users/ross/followers\",\"following_url\":\"https://api.github.com/users/ross/following{/other_user}\",\"gists_url\":\"https://api.github.com/users/ross/gists{/gist_id}\",\"starred_url\":\"https://api.github.com/users/ross/starred{/owner}{/repo}\",\"subscriptions_url\":\"https://api.github.com/users/ross/subscriptions\",\"organizations_url\":\"https://api.github.com/users/ross/orgs\",\"repos_url\":\"https://api.github.com/users/ross/repos\",\"events_url\":\"https://api.github.com/users/ross/events{/privacy}\",\"received_events_url\":\"https://api.github.com/users/ross/received_events\",\"type\":\"User\",\"site_admin\":true},\"html_url\":\"https://github.com/ross/requests-futures\",\"description\":\"Asynchronous Python HTTP Requests for Humans using Futures\",\"fork\":false,\"url\":\"https://api.github.com/repos/ross/requests-futures\",\"forks_url\":\"https://api.github.com/repos/ross/requests-futures/forks\",\"keys_url\":\"https://api.github.com/repos/ross/requests-futures/keys{/key_id}\",\"collaborators_url\":\"https://api.github.com/repos/ross/requests-futures/collaborators{/collaborator}\",\"teams_url\":\"https://api.github.com/repos/ross/requests-futures/teams\",\"hooks_url\":\"https://api.github.com/repos/ross/requests-futures/hooks\",\"issue_events_url\":\"https://api.github.com/repos/ross/requests-futures/issues/events{/number}\",\"events_url\":\"https://api.github.com/repos/ross/requests-futures/events\",\"assignees_url\":\"https://api.github.com/repos/ross/requests-futures/assignees{/user}\",\"branches_url\":\"https://api.github.com/repos/ross/requests-futures/branches{/branch}\",\"tags_url\":\"https://api.github.com/repos/ross/requests-futures/tags\",\"blobs_url\":\"https://api.github.com/repos/ross/requests-futures/git/blobs{/sha}\",\"git_tags_url\":\"https://api.github.com/repos/ross/requests-futures/git/tags{/sha}\",\"git_refs_url\":\"https://api.github.com/repos/ross/requests-futures/git/refs{/sha}\",\"trees_url\":\"https://api.github.com/repos/ross/requests-futures/git/trees{/sha}\",\"statuses_url\":\"https://api.github.com/repos/ross/requests-futures/statuses/{sha}\",\"languages_url\":\"https://api.github.com/repos/ross/requests-futures/languages\",\"stargazers_url\":\"https://api.github.com/repos/ross/requests-futures/stargazers\",\"contributors_url\":\"https://api.github.com/repos/ross/requests-futures/contributors\",\"subscribers_url\":\"https://api.github.com/repos/ross/requests-futures/subscribers\",\"subscription_url\":\"https://api.github.com/repos/ross/requests-futures/subscription\",\"commits_url\":\"https://api.github.com/repos/ross/requests-futures/commits{/sha}\",\"git_commits_url\":\"https://api.github.com/repos/ross/requests-futures/git/commits{/sha}\",\"comments_url\":\"https://api.github.com/repos/ross/requests-futures/comments{/number}\",\"issue_comment_url\":\"https://api.github.com/repos/ross/requests-futures/issues/comments{/number}\",\"contents_url\":\"https://api.github.com/repos/ross/requests-futures/contents/{+path}\",\"compare_url\":\"https://api.github.com/repos/ross/requests-futures/compare/{base}...{head}\",\"merges_url\":\"https://api.github.com/repos/ross/requests-futures/merges\",\"archive_url\":\"https://api.github.com/repos/ross/requests-futures/{archive_format}{/ref}\",\"downloads_url\":\"https://api.github.com/repos/ross/requests-futures/downloads\",\"issues_url\":\"https://api.github.com/repos/ross/requests-futures/issues{/number}\",\"pulls_url\":\"https://api.github.com/repos/ross/requests-futures/pulls{/number}\",\"milestones_url\":\"https://api.github.com/repos/ross/requests-futures/milestones{/number}\",\"notifications_url\":\"https://api.github.com/repos/ross/requests-futures/notifications{?since,all,participating}\",\"labels_url\":\"https://api.github.com/repos/ross/requests-futures/labels{/name}\",\"releases_url\":\"https://api.github.com/repos/ross/requests-futures/releases{/id}\",\"deployments_url\":\"https://api.github.com/repos/ross/requests-futures/deployments\",\"created_at\":\"2013-03-21T14:20:03Z\",\"updated_at\":\"2021-02-16T14:47:44Z\",\"pushed_at\":\"2021-01-13T15:48:46Z\",\"git_url\":\"git://github.com/ross/requests-futures.git\",\"ssh_url\":\"git@github.com:ross/requests-futures.git\",\"clone_url\":\"https://github.com/ross/requests-futures.git\",\"svn_url\":\"https://github.com/ross/requests-futures\",\"homepage\":null,\"size\":76,\"stargazers_count\":1718,\"watchers_count\":1718,\"language\":\"Python\",\"has_issues\":true,\"has_projects\":true,\"has_downloads\":true,\"has_wiki\":true,\"has_pages\":false,\"forks_count\":137,\"mirror_url\":null,\"archived\":false,\"disabled\":false,\"open_issues_count\":17,\"license\":{\"key\":\"other\",\"name\":\"Other\",\"spdx_id\":\"NOASSERTION\",\"url\":null,\"node_id\":\"MDc6TGljZW5zZTA=\"},\"forks\":137,\"open_issues\":17,\"watchers\":1718,\"default_branch\":\"master\",\"score\":1.0}]}'"
      ]
     },
     "execution_count": 53,
     "metadata": {},
     "output_type": "execute_result"
    }
   ],
   "source": [
    "response"
   ]
  },
  {
   "cell_type": "code",
   "execution_count": 54,
   "id": "forbidden-cache",
   "metadata": {},
   "outputs": [],
   "source": [
    "text=response.decode('utf8')"
   ]
  },
  {
   "cell_type": "code",
   "execution_count": 55,
   "id": "distinguished-consensus",
   "metadata": {},
   "outputs": [
    {
     "data": {
      "text/plain": [
       "{'total_count': 103510,\n",
       " 'incomplete_results': False,\n",
       " 'items': [{'id': 1362490,\n",
       "   'node_id': 'MDEwOlJlcG9zaXRvcnkxMzYyNDkw',\n",
       "   'name': 'requests',\n",
       "   'full_name': 'psf/requests',\n",
       "   'private': False,\n",
       "   'owner': {'login': 'psf',\n",
       "    'id': 50630501,\n",
       "    'node_id': 'MDEyOk9yZ2FuaXphdGlvbjUwNjMwNTAx',\n",
       "    'avatar_url': 'https://avatars.githubusercontent.com/u/50630501?v=4',\n",
       "    'gravatar_id': '',\n",
       "    'url': 'https://api.github.com/users/psf',\n",
       "    'html_url': 'https://github.com/psf',\n",
       "    'followers_url': 'https://api.github.com/users/psf/followers',\n",
       "    'following_url': 'https://api.github.com/users/psf/following{/other_user}',\n",
       "    'gists_url': 'https://api.github.com/users/psf/gists{/gist_id}',\n",
       "    'starred_url': 'https://api.github.com/users/psf/starred{/owner}{/repo}',\n",
       "    'subscriptions_url': 'https://api.github.com/users/psf/subscriptions',\n",
       "    'organizations_url': 'https://api.github.com/users/psf/orgs',\n",
       "    'repos_url': 'https://api.github.com/users/psf/repos',\n",
       "    'events_url': 'https://api.github.com/users/psf/events{/privacy}',\n",
       "    'received_events_url': 'https://api.github.com/users/psf/received_events',\n",
       "    'type': 'Organization',\n",
       "    'site_admin': False},\n",
       "   'html_url': 'https://github.com/psf/requests',\n",
       "   'description': 'A simple, yet elegant HTTP library.',\n",
       "   'fork': False,\n",
       "   'url': 'https://api.github.com/repos/psf/requests',\n",
       "   'forks_url': 'https://api.github.com/repos/psf/requests/forks',\n",
       "   'keys_url': 'https://api.github.com/repos/psf/requests/keys{/key_id}',\n",
       "   'collaborators_url': 'https://api.github.com/repos/psf/requests/collaborators{/collaborator}',\n",
       "   'teams_url': 'https://api.github.com/repos/psf/requests/teams',\n",
       "   'hooks_url': 'https://api.github.com/repos/psf/requests/hooks',\n",
       "   'issue_events_url': 'https://api.github.com/repos/psf/requests/issues/events{/number}',\n",
       "   'events_url': 'https://api.github.com/repos/psf/requests/events',\n",
       "   'assignees_url': 'https://api.github.com/repos/psf/requests/assignees{/user}',\n",
       "   'branches_url': 'https://api.github.com/repos/psf/requests/branches{/branch}',\n",
       "   'tags_url': 'https://api.github.com/repos/psf/requests/tags',\n",
       "   'blobs_url': 'https://api.github.com/repos/psf/requests/git/blobs{/sha}',\n",
       "   'git_tags_url': 'https://api.github.com/repos/psf/requests/git/tags{/sha}',\n",
       "   'git_refs_url': 'https://api.github.com/repos/psf/requests/git/refs{/sha}',\n",
       "   'trees_url': 'https://api.github.com/repos/psf/requests/git/trees{/sha}',\n",
       "   'statuses_url': 'https://api.github.com/repos/psf/requests/statuses/{sha}',\n",
       "   'languages_url': 'https://api.github.com/repos/psf/requests/languages',\n",
       "   'stargazers_url': 'https://api.github.com/repos/psf/requests/stargazers',\n",
       "   'contributors_url': 'https://api.github.com/repos/psf/requests/contributors',\n",
       "   'subscribers_url': 'https://api.github.com/repos/psf/requests/subscribers',\n",
       "   'subscription_url': 'https://api.github.com/repos/psf/requests/subscription',\n",
       "   'commits_url': 'https://api.github.com/repos/psf/requests/commits{/sha}',\n",
       "   'git_commits_url': 'https://api.github.com/repos/psf/requests/git/commits{/sha}',\n",
       "   'comments_url': 'https://api.github.com/repos/psf/requests/comments{/number}',\n",
       "   'issue_comment_url': 'https://api.github.com/repos/psf/requests/issues/comments{/number}',\n",
       "   'contents_url': 'https://api.github.com/repos/psf/requests/contents/{+path}',\n",
       "   'compare_url': 'https://api.github.com/repos/psf/requests/compare/{base}...{head}',\n",
       "   'merges_url': 'https://api.github.com/repos/psf/requests/merges',\n",
       "   'archive_url': 'https://api.github.com/repos/psf/requests/{archive_format}{/ref}',\n",
       "   'downloads_url': 'https://api.github.com/repos/psf/requests/downloads',\n",
       "   'issues_url': 'https://api.github.com/repos/psf/requests/issues{/number}',\n",
       "   'pulls_url': 'https://api.github.com/repos/psf/requests/pulls{/number}',\n",
       "   'milestones_url': 'https://api.github.com/repos/psf/requests/milestones{/number}',\n",
       "   'notifications_url': 'https://api.github.com/repos/psf/requests/notifications{?since,all,participating}',\n",
       "   'labels_url': 'https://api.github.com/repos/psf/requests/labels{/name}',\n",
       "   'releases_url': 'https://api.github.com/repos/psf/requests/releases{/id}',\n",
       "   'deployments_url': 'https://api.github.com/repos/psf/requests/deployments',\n",
       "   'created_at': '2011-02-13T18:38:17Z',\n",
       "   'updated_at': '2021-02-16T15:09:42Z',\n",
       "   'pushed_at': '2021-02-10T13:12:54Z',\n",
       "   'git_url': 'git://github.com/psf/requests.git',\n",
       "   'ssh_url': 'git@github.com:psf/requests.git',\n",
       "   'clone_url': 'https://github.com/psf/requests.git',\n",
       "   'svn_url': 'https://github.com/psf/requests',\n",
       "   'homepage': 'https://requests.readthedocs.io',\n",
       "   'size': 12569,\n",
       "   'stargazers_count': 44597,\n",
       "   'watchers_count': 44597,\n",
       "   'language': 'Python',\n",
       "   'has_issues': True,\n",
       "   'has_projects': False,\n",
       "   'has_downloads': True,\n",
       "   'has_wiki': True,\n",
       "   'has_pages': True,\n",
       "   'forks_count': 8139,\n",
       "   'mirror_url': None,\n",
       "   'archived': False,\n",
       "   'disabled': False,\n",
       "   'open_issues_count': 314,\n",
       "   'license': {'key': 'apache-2.0',\n",
       "    'name': 'Apache License 2.0',\n",
       "    'spdx_id': 'Apache-2.0',\n",
       "    'url': 'https://api.github.com/licenses/apache-2.0',\n",
       "    'node_id': 'MDc6TGljZW5zZTI='},\n",
       "   'forks': 8139,\n",
       "   'open_issues': 314,\n",
       "   'watchers': 44597,\n",
       "   'default_branch': 'master',\n",
       "   'score': 1.0},\n",
       "  {'id': 3378594,\n",
       "   'node_id': 'MDEwOlJlcG9zaXRvcnkzMzc4NTk0',\n",
       "   'name': 'Requests',\n",
       "   'full_name': 'WordPress/Requests',\n",
       "   'private': False,\n",
       "   'owner': {'login': 'WordPress',\n",
       "    'id': 276006,\n",
       "    'node_id': 'MDEyOk9yZ2FuaXphdGlvbjI3NjAwNg==',\n",
       "    'avatar_url': 'https://avatars.githubusercontent.com/u/276006?v=4',\n",
       "    'gravatar_id': '',\n",
       "    'url': 'https://api.github.com/users/WordPress',\n",
       "    'html_url': 'https://github.com/WordPress',\n",
       "    'followers_url': 'https://api.github.com/users/WordPress/followers',\n",
       "    'following_url': 'https://api.github.com/users/WordPress/following{/other_user}',\n",
       "    'gists_url': 'https://api.github.com/users/WordPress/gists{/gist_id}',\n",
       "    'starred_url': 'https://api.github.com/users/WordPress/starred{/owner}{/repo}',\n",
       "    'subscriptions_url': 'https://api.github.com/users/WordPress/subscriptions',\n",
       "    'organizations_url': 'https://api.github.com/users/WordPress/orgs',\n",
       "    'repos_url': 'https://api.github.com/users/WordPress/repos',\n",
       "    'events_url': 'https://api.github.com/users/WordPress/events{/privacy}',\n",
       "    'received_events_url': 'https://api.github.com/users/WordPress/received_events',\n",
       "    'type': 'Organization',\n",
       "    'site_admin': False},\n",
       "   'html_url': 'https://github.com/WordPress/Requests',\n",
       "   'description': 'Requests for PHP is a humble HTTP request library. It simplifies how you interact with other sites and takes away all your worries.',\n",
       "   'fork': False,\n",
       "   'url': 'https://api.github.com/repos/WordPress/Requests',\n",
       "   'forks_url': 'https://api.github.com/repos/WordPress/Requests/forks',\n",
       "   'keys_url': 'https://api.github.com/repos/WordPress/Requests/keys{/key_id}',\n",
       "   'collaborators_url': 'https://api.github.com/repos/WordPress/Requests/collaborators{/collaborator}',\n",
       "   'teams_url': 'https://api.github.com/repos/WordPress/Requests/teams',\n",
       "   'hooks_url': 'https://api.github.com/repos/WordPress/Requests/hooks',\n",
       "   'issue_events_url': 'https://api.github.com/repos/WordPress/Requests/issues/events{/number}',\n",
       "   'events_url': 'https://api.github.com/repos/WordPress/Requests/events',\n",
       "   'assignees_url': 'https://api.github.com/repos/WordPress/Requests/assignees{/user}',\n",
       "   'branches_url': 'https://api.github.com/repos/WordPress/Requests/branches{/branch}',\n",
       "   'tags_url': 'https://api.github.com/repos/WordPress/Requests/tags',\n",
       "   'blobs_url': 'https://api.github.com/repos/WordPress/Requests/git/blobs{/sha}',\n",
       "   'git_tags_url': 'https://api.github.com/repos/WordPress/Requests/git/tags{/sha}',\n",
       "   'git_refs_url': 'https://api.github.com/repos/WordPress/Requests/git/refs{/sha}',\n",
       "   'trees_url': 'https://api.github.com/repos/WordPress/Requests/git/trees{/sha}',\n",
       "   'statuses_url': 'https://api.github.com/repos/WordPress/Requests/statuses/{sha}',\n",
       "   'languages_url': 'https://api.github.com/repos/WordPress/Requests/languages',\n",
       "   'stargazers_url': 'https://api.github.com/repos/WordPress/Requests/stargazers',\n",
       "   'contributors_url': 'https://api.github.com/repos/WordPress/Requests/contributors',\n",
       "   'subscribers_url': 'https://api.github.com/repos/WordPress/Requests/subscribers',\n",
       "   'subscription_url': 'https://api.github.com/repos/WordPress/Requests/subscription',\n",
       "   'commits_url': 'https://api.github.com/repos/WordPress/Requests/commits{/sha}',\n",
       "   'git_commits_url': 'https://api.github.com/repos/WordPress/Requests/git/commits{/sha}',\n",
       "   'comments_url': 'https://api.github.com/repos/WordPress/Requests/comments{/number}',\n",
       "   'issue_comment_url': 'https://api.github.com/repos/WordPress/Requests/issues/comments{/number}',\n",
       "   'contents_url': 'https://api.github.com/repos/WordPress/Requests/contents/{+path}',\n",
       "   'compare_url': 'https://api.github.com/repos/WordPress/Requests/compare/{base}...{head}',\n",
       "   'merges_url': 'https://api.github.com/repos/WordPress/Requests/merges',\n",
       "   'archive_url': 'https://api.github.com/repos/WordPress/Requests/{archive_format}{/ref}',\n",
       "   'downloads_url': 'https://api.github.com/repos/WordPress/Requests/downloads',\n",
       "   'issues_url': 'https://api.github.com/repos/WordPress/Requests/issues{/number}',\n",
       "   'pulls_url': 'https://api.github.com/repos/WordPress/Requests/pulls{/number}',\n",
       "   'milestones_url': 'https://api.github.com/repos/WordPress/Requests/milestones{/number}',\n",
       "   'notifications_url': 'https://api.github.com/repos/WordPress/Requests/notifications{?since,all,participating}',\n",
       "   'labels_url': 'https://api.github.com/repos/WordPress/Requests/labels{/name}',\n",
       "   'releases_url': 'https://api.github.com/repos/WordPress/Requests/releases{/id}',\n",
       "   'deployments_url': 'https://api.github.com/repos/WordPress/Requests/deployments',\n",
       "   'created_at': '2012-02-07T15:37:48Z',\n",
       "   'updated_at': '2021-02-16T12:34:36Z',\n",
       "   'pushed_at': '2021-02-15T10:52:23Z',\n",
       "   'git_url': 'git://github.com/WordPress/Requests.git',\n",
       "   'ssh_url': 'git@github.com:WordPress/Requests.git',\n",
       "   'clone_url': 'https://github.com/WordPress/Requests.git',\n",
       "   'svn_url': 'https://github.com/WordPress/Requests',\n",
       "   'homepage': 'https://requests.ryanmccue.info/',\n",
       "   'size': 2843,\n",
       "   'stargazers_count': 3334,\n",
       "   'watchers_count': 3334,\n",
       "   'language': 'PHP',\n",
       "   'has_issues': True,\n",
       "   'has_projects': True,\n",
       "   'has_downloads': True,\n",
       "   'has_wiki': False,\n",
       "   'has_pages': True,\n",
       "   'forks_count': 487,\n",
       "   'mirror_url': None,\n",
       "   'archived': False,\n",
       "   'disabled': False,\n",
       "   'open_issues_count': 106,\n",
       "   'license': {'key': 'other',\n",
       "    'name': 'Other',\n",
       "    'spdx_id': 'NOASSERTION',\n",
       "    'url': None,\n",
       "    'node_id': 'MDc6TGljZW5zZTA='},\n",
       "   'forks': 487,\n",
       "   'open_issues': 106,\n",
       "   'watchers': 3334,\n",
       "   'default_branch': 'master',\n",
       "   'score': 1.0},\n",
       "  {'id': 122775780,\n",
       "   'node_id': 'MDEwOlJlcG9zaXRvcnkxMjI3NzU3ODA=',\n",
       "   'name': 'requests-html',\n",
       "   'full_name': 'psf/requests-html',\n",
       "   'private': False,\n",
       "   'owner': {'login': 'psf',\n",
       "    'id': 50630501,\n",
       "    'node_id': 'MDEyOk9yZ2FuaXphdGlvbjUwNjMwNTAx',\n",
       "    'avatar_url': 'https://avatars.githubusercontent.com/u/50630501?v=4',\n",
       "    'gravatar_id': '',\n",
       "    'url': 'https://api.github.com/users/psf',\n",
       "    'html_url': 'https://github.com/psf',\n",
       "    'followers_url': 'https://api.github.com/users/psf/followers',\n",
       "    'following_url': 'https://api.github.com/users/psf/following{/other_user}',\n",
       "    'gists_url': 'https://api.github.com/users/psf/gists{/gist_id}',\n",
       "    'starred_url': 'https://api.github.com/users/psf/starred{/owner}{/repo}',\n",
       "    'subscriptions_url': 'https://api.github.com/users/psf/subscriptions',\n",
       "    'organizations_url': 'https://api.github.com/users/psf/orgs',\n",
       "    'repos_url': 'https://api.github.com/users/psf/repos',\n",
       "    'events_url': 'https://api.github.com/users/psf/events{/privacy}',\n",
       "    'received_events_url': 'https://api.github.com/users/psf/received_events',\n",
       "    'type': 'Organization',\n",
       "    'site_admin': False},\n",
       "   'html_url': 'https://github.com/psf/requests-html',\n",
       "   'description': 'Pythonic HTML Parsing for Humans™',\n",
       "   'fork': False,\n",
       "   'url': 'https://api.github.com/repos/psf/requests-html',\n",
       "   'forks_url': 'https://api.github.com/repos/psf/requests-html/forks',\n",
       "   'keys_url': 'https://api.github.com/repos/psf/requests-html/keys{/key_id}',\n",
       "   'collaborators_url': 'https://api.github.com/repos/psf/requests-html/collaborators{/collaborator}',\n",
       "   'teams_url': 'https://api.github.com/repos/psf/requests-html/teams',\n",
       "   'hooks_url': 'https://api.github.com/repos/psf/requests-html/hooks',\n",
       "   'issue_events_url': 'https://api.github.com/repos/psf/requests-html/issues/events{/number}',\n",
       "   'events_url': 'https://api.github.com/repos/psf/requests-html/events',\n",
       "   'assignees_url': 'https://api.github.com/repos/psf/requests-html/assignees{/user}',\n",
       "   'branches_url': 'https://api.github.com/repos/psf/requests-html/branches{/branch}',\n",
       "   'tags_url': 'https://api.github.com/repos/psf/requests-html/tags',\n",
       "   'blobs_url': 'https://api.github.com/repos/psf/requests-html/git/blobs{/sha}',\n",
       "   'git_tags_url': 'https://api.github.com/repos/psf/requests-html/git/tags{/sha}',\n",
       "   'git_refs_url': 'https://api.github.com/repos/psf/requests-html/git/refs{/sha}',\n",
       "   'trees_url': 'https://api.github.com/repos/psf/requests-html/git/trees{/sha}',\n",
       "   'statuses_url': 'https://api.github.com/repos/psf/requests-html/statuses/{sha}',\n",
       "   'languages_url': 'https://api.github.com/repos/psf/requests-html/languages',\n",
       "   'stargazers_url': 'https://api.github.com/repos/psf/requests-html/stargazers',\n",
       "   'contributors_url': 'https://api.github.com/repos/psf/requests-html/contributors',\n",
       "   'subscribers_url': 'https://api.github.com/repos/psf/requests-html/subscribers',\n",
       "   'subscription_url': 'https://api.github.com/repos/psf/requests-html/subscription',\n",
       "   'commits_url': 'https://api.github.com/repos/psf/requests-html/commits{/sha}',\n",
       "   'git_commits_url': 'https://api.github.com/repos/psf/requests-html/git/commits{/sha}',\n",
       "   'comments_url': 'https://api.github.com/repos/psf/requests-html/comments{/number}',\n",
       "   'issue_comment_url': 'https://api.github.com/repos/psf/requests-html/issues/comments{/number}',\n",
       "   'contents_url': 'https://api.github.com/repos/psf/requests-html/contents/{+path}',\n",
       "   'compare_url': 'https://api.github.com/repos/psf/requests-html/compare/{base}...{head}',\n",
       "   'merges_url': 'https://api.github.com/repos/psf/requests-html/merges',\n",
       "   'archive_url': 'https://api.github.com/repos/psf/requests-html/{archive_format}{/ref}',\n",
       "   'downloads_url': 'https://api.github.com/repos/psf/requests-html/downloads',\n",
       "   'issues_url': 'https://api.github.com/repos/psf/requests-html/issues{/number}',\n",
       "   'pulls_url': 'https://api.github.com/repos/psf/requests-html/pulls{/number}',\n",
       "   'milestones_url': 'https://api.github.com/repos/psf/requests-html/milestones{/number}',\n",
       "   'notifications_url': 'https://api.github.com/repos/psf/requests-html/notifications{?since,all,participating}',\n",
       "   'labels_url': 'https://api.github.com/repos/psf/requests-html/labels{/name}',\n",
       "   'releases_url': 'https://api.github.com/repos/psf/requests-html/releases{/id}',\n",
       "   'deployments_url': 'https://api.github.com/repos/psf/requests-html/deployments',\n",
       "   'created_at': '2018-02-24T20:11:02Z',\n",
       "   'updated_at': '2021-02-16T15:40:37Z',\n",
       "   'pushed_at': '2021-02-02T22:43:27Z',\n",
       "   'git_url': 'git://github.com/psf/requests-html.git',\n",
       "   'ssh_url': 'git@github.com:psf/requests-html.git',\n",
       "   'clone_url': 'https://github.com/psf/requests-html.git',\n",
       "   'svn_url': 'https://github.com/psf/requests-html',\n",
       "   'homepage': 'http://html.python-requests.org',\n",
       "   'size': 2940,\n",
       "   'stargazers_count': 11499,\n",
       "   'watchers_count': 11499,\n",
       "   'language': 'Python',\n",
       "   'has_issues': True,\n",
       "   'has_projects': True,\n",
       "   'has_downloads': True,\n",
       "   'has_wiki': True,\n",
       "   'has_pages': True,\n",
       "   'forks_count': 775,\n",
       "   'mirror_url': None,\n",
       "   'archived': False,\n",
       "   'disabled': False,\n",
       "   'open_issues_count': 138,\n",
       "   'license': {'key': 'mit',\n",
       "    'name': 'MIT License',\n",
       "    'spdx_id': 'MIT',\n",
       "    'url': 'https://api.github.com/licenses/mit',\n",
       "    'node_id': 'MDc6TGljZW5zZTEz'},\n",
       "   'forks': 775,\n",
       "   'open_issues': 138,\n",
       "   'watchers': 11499,\n",
       "   'default_branch': 'master',\n",
       "   'score': 1.0},\n",
       "  {'id': 6825724,\n",
       "   'node_id': 'MDEwOlJlcG9zaXRvcnk2ODI1NzI0',\n",
       "   'name': 'requests-oauthlib',\n",
       "   'full_name': 'requests/requests-oauthlib',\n",
       "   'private': False,\n",
       "   'owner': {'login': 'requests',\n",
       "    'id': 2805331,\n",
       "    'node_id': 'MDEyOk9yZ2FuaXphdGlvbjI4MDUzMzE=',\n",
       "    'avatar_url': 'https://avatars.githubusercontent.com/u/2805331?v=4',\n",
       "    'gravatar_id': '',\n",
       "    'url': 'https://api.github.com/users/requests',\n",
       "    'html_url': 'https://github.com/requests',\n",
       "    'followers_url': 'https://api.github.com/users/requests/followers',\n",
       "    'following_url': 'https://api.github.com/users/requests/following{/other_user}',\n",
       "    'gists_url': 'https://api.github.com/users/requests/gists{/gist_id}',\n",
       "    'starred_url': 'https://api.github.com/users/requests/starred{/owner}{/repo}',\n",
       "    'subscriptions_url': 'https://api.github.com/users/requests/subscriptions',\n",
       "    'organizations_url': 'https://api.github.com/users/requests/orgs',\n",
       "    'repos_url': 'https://api.github.com/users/requests/repos',\n",
       "    'events_url': 'https://api.github.com/users/requests/events{/privacy}',\n",
       "    'received_events_url': 'https://api.github.com/users/requests/received_events',\n",
       "    'type': 'Organization',\n",
       "    'site_admin': False},\n",
       "   'html_url': 'https://github.com/requests/requests-oauthlib',\n",
       "   'description': 'OAuthlib support for Python-Requests!',\n",
       "   'fork': False,\n",
       "   'url': 'https://api.github.com/repos/requests/requests-oauthlib',\n",
       "   'forks_url': 'https://api.github.com/repos/requests/requests-oauthlib/forks',\n",
       "   'keys_url': 'https://api.github.com/repos/requests/requests-oauthlib/keys{/key_id}',\n",
       "   'collaborators_url': 'https://api.github.com/repos/requests/requests-oauthlib/collaborators{/collaborator}',\n",
       "   'teams_url': 'https://api.github.com/repos/requests/requests-oauthlib/teams',\n",
       "   'hooks_url': 'https://api.github.com/repos/requests/requests-oauthlib/hooks',\n",
       "   'issue_events_url': 'https://api.github.com/repos/requests/requests-oauthlib/issues/events{/number}',\n",
       "   'events_url': 'https://api.github.com/repos/requests/requests-oauthlib/events',\n",
       "   'assignees_url': 'https://api.github.com/repos/requests/requests-oauthlib/assignees{/user}',\n",
       "   'branches_url': 'https://api.github.com/repos/requests/requests-oauthlib/branches{/branch}',\n",
       "   'tags_url': 'https://api.github.com/repos/requests/requests-oauthlib/tags',\n",
       "   'blobs_url': 'https://api.github.com/repos/requests/requests-oauthlib/git/blobs{/sha}',\n",
       "   'git_tags_url': 'https://api.github.com/repos/requests/requests-oauthlib/git/tags{/sha}',\n",
       "   'git_refs_url': 'https://api.github.com/repos/requests/requests-oauthlib/git/refs{/sha}',\n",
       "   'trees_url': 'https://api.github.com/repos/requests/requests-oauthlib/git/trees{/sha}',\n",
       "   'statuses_url': 'https://api.github.com/repos/requests/requests-oauthlib/statuses/{sha}',\n",
       "   'languages_url': 'https://api.github.com/repos/requests/requests-oauthlib/languages',\n",
       "   'stargazers_url': 'https://api.github.com/repos/requests/requests-oauthlib/stargazers',\n",
       "   'contributors_url': 'https://api.github.com/repos/requests/requests-oauthlib/contributors',\n",
       "   'subscribers_url': 'https://api.github.com/repos/requests/requests-oauthlib/subscribers',\n",
       "   'subscription_url': 'https://api.github.com/repos/requests/requests-oauthlib/subscription',\n",
       "   'commits_url': 'https://api.github.com/repos/requests/requests-oauthlib/commits{/sha}',\n",
       "   'git_commits_url': 'https://api.github.com/repos/requests/requests-oauthlib/git/commits{/sha}',\n",
       "   'comments_url': 'https://api.github.com/repos/requests/requests-oauthlib/comments{/number}',\n",
       "   'issue_comment_url': 'https://api.github.com/repos/requests/requests-oauthlib/issues/comments{/number}',\n",
       "   'contents_url': 'https://api.github.com/repos/requests/requests-oauthlib/contents/{+path}',\n",
       "   'compare_url': 'https://api.github.com/repos/requests/requests-oauthlib/compare/{base}...{head}',\n",
       "   'merges_url': 'https://api.github.com/repos/requests/requests-oauthlib/merges',\n",
       "   'archive_url': 'https://api.github.com/repos/requests/requests-oauthlib/{archive_format}{/ref}',\n",
       "   'downloads_url': 'https://api.github.com/repos/requests/requests-oauthlib/downloads',\n",
       "   'issues_url': 'https://api.github.com/repos/requests/requests-oauthlib/issues{/number}',\n",
       "   'pulls_url': 'https://api.github.com/repos/requests/requests-oauthlib/pulls{/number}',\n",
       "   'milestones_url': 'https://api.github.com/repos/requests/requests-oauthlib/milestones{/number}',\n",
       "   'notifications_url': 'https://api.github.com/repos/requests/requests-oauthlib/notifications{?since,all,participating}',\n",
       "   'labels_url': 'https://api.github.com/repos/requests/requests-oauthlib/labels{/name}',\n",
       "   'releases_url': 'https://api.github.com/repos/requests/requests-oauthlib/releases{/id}',\n",
       "   'deployments_url': 'https://api.github.com/repos/requests/requests-oauthlib/deployments',\n",
       "   'created_at': '2012-11-23T10:19:44Z',\n",
       "   'updated_at': '2021-02-11T20:57:48Z',\n",
       "   'pushed_at': '2021-02-08T13:41:10Z',\n",
       "   'git_url': 'git://github.com/requests/requests-oauthlib.git',\n",
       "   'ssh_url': 'git@github.com:requests/requests-oauthlib.git',\n",
       "   'clone_url': 'https://github.com/requests/requests-oauthlib.git',\n",
       "   'svn_url': 'https://github.com/requests/requests-oauthlib',\n",
       "   'homepage': 'https://requests-oauthlib.readthedocs.org/',\n",
       "   'size': 441,\n",
       "   'stargazers_count': 1357,\n",
       "   'watchers_count': 1357,\n",
       "   'language': 'Python',\n",
       "   'has_issues': True,\n",
       "   'has_projects': True,\n",
       "   'has_downloads': True,\n",
       "   'has_wiki': True,\n",
       "   'has_pages': False,\n",
       "   'forks_count': 354,\n",
       "   'mirror_url': None,\n",
       "   'archived': False,\n",
       "   'disabled': False,\n",
       "   'open_issues_count': 102,\n",
       "   'license': {'key': 'isc',\n",
       "    'name': 'ISC License',\n",
       "    'spdx_id': 'ISC',\n",
       "    'url': 'https://api.github.com/licenses/isc',\n",
       "    'node_id': 'MDc6TGljZW5zZTEw'},\n",
       "   'forks': 354,\n",
       "   'open_issues': 102,\n",
       "   'watchers': 1357,\n",
       "   'default_branch': 'master',\n",
       "   'score': 1.0},\n",
       "  {'id': 60587451,\n",
       "   'node_id': 'MDEwOlJlcG9zaXRvcnk2MDU4NzQ1MQ==',\n",
       "   'name': 'requests-for-research',\n",
       "   'full_name': 'openai/requests-for-research',\n",
       "   'private': False,\n",
       "   'owner': {'login': 'openai',\n",
       "    'id': 14957082,\n",
       "    'node_id': 'MDEyOk9yZ2FuaXphdGlvbjE0OTU3MDgy',\n",
       "    'avatar_url': 'https://avatars.githubusercontent.com/u/14957082?v=4',\n",
       "    'gravatar_id': '',\n",
       "    'url': 'https://api.github.com/users/openai',\n",
       "    'html_url': 'https://github.com/openai',\n",
       "    'followers_url': 'https://api.github.com/users/openai/followers',\n",
       "    'following_url': 'https://api.github.com/users/openai/following{/other_user}',\n",
       "    'gists_url': 'https://api.github.com/users/openai/gists{/gist_id}',\n",
       "    'starred_url': 'https://api.github.com/users/openai/starred{/owner}{/repo}',\n",
       "    'subscriptions_url': 'https://api.github.com/users/openai/subscriptions',\n",
       "    'organizations_url': 'https://api.github.com/users/openai/orgs',\n",
       "    'repos_url': 'https://api.github.com/users/openai/repos',\n",
       "    'events_url': 'https://api.github.com/users/openai/events{/privacy}',\n",
       "    'received_events_url': 'https://api.github.com/users/openai/received_events',\n",
       "    'type': 'Organization',\n",
       "    'site_admin': False},\n",
       "   'html_url': 'https://github.com/openai/requests-for-research',\n",
       "   'description': 'A living collection of deep learning problems',\n",
       "   'fork': False,\n",
       "   'url': 'https://api.github.com/repos/openai/requests-for-research',\n",
       "   'forks_url': 'https://api.github.com/repos/openai/requests-for-research/forks',\n",
       "   'keys_url': 'https://api.github.com/repos/openai/requests-for-research/keys{/key_id}',\n",
       "   'collaborators_url': 'https://api.github.com/repos/openai/requests-for-research/collaborators{/collaborator}',\n",
       "   'teams_url': 'https://api.github.com/repos/openai/requests-for-research/teams',\n",
       "   'hooks_url': 'https://api.github.com/repos/openai/requests-for-research/hooks',\n",
       "   'issue_events_url': 'https://api.github.com/repos/openai/requests-for-research/issues/events{/number}',\n",
       "   'events_url': 'https://api.github.com/repos/openai/requests-for-research/events',\n",
       "   'assignees_url': 'https://api.github.com/repos/openai/requests-for-research/assignees{/user}',\n",
       "   'branches_url': 'https://api.github.com/repos/openai/requests-for-research/branches{/branch}',\n",
       "   'tags_url': 'https://api.github.com/repos/openai/requests-for-research/tags',\n",
       "   'blobs_url': 'https://api.github.com/repos/openai/requests-for-research/git/blobs{/sha}',\n",
       "   'git_tags_url': 'https://api.github.com/repos/openai/requests-for-research/git/tags{/sha}',\n",
       "   'git_refs_url': 'https://api.github.com/repos/openai/requests-for-research/git/refs{/sha}',\n",
       "   'trees_url': 'https://api.github.com/repos/openai/requests-for-research/git/trees{/sha}',\n",
       "   'statuses_url': 'https://api.github.com/repos/openai/requests-for-research/statuses/{sha}',\n",
       "   'languages_url': 'https://api.github.com/repos/openai/requests-for-research/languages',\n",
       "   'stargazers_url': 'https://api.github.com/repos/openai/requests-for-research/stargazers',\n",
       "   'contributors_url': 'https://api.github.com/repos/openai/requests-for-research/contributors',\n",
       "   'subscribers_url': 'https://api.github.com/repos/openai/requests-for-research/subscribers',\n",
       "   'subscription_url': 'https://api.github.com/repos/openai/requests-for-research/subscription',\n",
       "   'commits_url': 'https://api.github.com/repos/openai/requests-for-research/commits{/sha}',\n",
       "   'git_commits_url': 'https://api.github.com/repos/openai/requests-for-research/git/commits{/sha}',\n",
       "   'comments_url': 'https://api.github.com/repos/openai/requests-for-research/comments{/number}',\n",
       "   'issue_comment_url': 'https://api.github.com/repos/openai/requests-for-research/issues/comments{/number}',\n",
       "   'contents_url': 'https://api.github.com/repos/openai/requests-for-research/contents/{+path}',\n",
       "   'compare_url': 'https://api.github.com/repos/openai/requests-for-research/compare/{base}...{head}',\n",
       "   'merges_url': 'https://api.github.com/repos/openai/requests-for-research/merges',\n",
       "   'archive_url': 'https://api.github.com/repos/openai/requests-for-research/{archive_format}{/ref}',\n",
       "   'downloads_url': 'https://api.github.com/repos/openai/requests-for-research/downloads',\n",
       "   'issues_url': 'https://api.github.com/repos/openai/requests-for-research/issues{/number}',\n",
       "   'pulls_url': 'https://api.github.com/repos/openai/requests-for-research/pulls{/number}',\n",
       "   'milestones_url': 'https://api.github.com/repos/openai/requests-for-research/milestones{/number}',\n",
       "   'notifications_url': 'https://api.github.com/repos/openai/requests-for-research/notifications{?since,all,participating}',\n",
       "   'labels_url': 'https://api.github.com/repos/openai/requests-for-research/labels{/name}',\n",
       "   'releases_url': 'https://api.github.com/repos/openai/requests-for-research/releases{/id}',\n",
       "   'deployments_url': 'https://api.github.com/repos/openai/requests-for-research/deployments',\n",
       "   'created_at': '2016-06-07T06:20:19Z',\n",
       "   'updated_at': '2021-02-13T12:56:29Z',\n",
       "   'pushed_at': '2018-11-28T21:19:54Z',\n",
       "   'git_url': 'git://github.com/openai/requests-for-research.git',\n",
       "   'ssh_url': 'git@github.com:openai/requests-for-research.git',\n",
       "   'clone_url': 'https://github.com/openai/requests-for-research.git',\n",
       "   'svn_url': 'https://github.com/openai/requests-for-research',\n",
       "   'homepage': 'https://openai.com/requests-for-research',\n",
       "   'size': 67,\n",
       "   'stargazers_count': 1515,\n",
       "   'watchers_count': 1515,\n",
       "   'language': 'HTML',\n",
       "   'has_issues': True,\n",
       "   'has_projects': True,\n",
       "   'has_downloads': True,\n",
       "   'has_wiki': True,\n",
       "   'has_pages': False,\n",
       "   'forks_count': 612,\n",
       "   'mirror_url': None,\n",
       "   'archived': False,\n",
       "   'disabled': False,\n",
       "   'open_issues_count': 12,\n",
       "   'license': None,\n",
       "   'forks': 612,\n",
       "   'open_issues': 12,\n",
       "   'watchers': 1515,\n",
       "   'default_branch': 'master',\n",
       "   'score': 1.0},\n",
       "  {'id': 98105748,\n",
       "   'node_id': 'MDEwOlJlcG9zaXRvcnk5ODEwNTc0OA==',\n",
       "   'name': 'jsr',\n",
       "   'full_name': 'mercyblitz/jsr',\n",
       "   'private': False,\n",
       "   'owner': {'login': 'mercyblitz',\n",
       "    'id': 533114,\n",
       "    'node_id': 'MDQ6VXNlcjUzMzExNA==',\n",
       "    'avatar_url': 'https://avatars.githubusercontent.com/u/533114?v=4',\n",
       "    'gravatar_id': '',\n",
       "    'url': 'https://api.github.com/users/mercyblitz',\n",
       "    'html_url': 'https://github.com/mercyblitz',\n",
       "    'followers_url': 'https://api.github.com/users/mercyblitz/followers',\n",
       "    'following_url': 'https://api.github.com/users/mercyblitz/following{/other_user}',\n",
       "    'gists_url': 'https://api.github.com/users/mercyblitz/gists{/gist_id}',\n",
       "    'starred_url': 'https://api.github.com/users/mercyblitz/starred{/owner}{/repo}',\n",
       "    'subscriptions_url': 'https://api.github.com/users/mercyblitz/subscriptions',\n",
       "    'organizations_url': 'https://api.github.com/users/mercyblitz/orgs',\n",
       "    'repos_url': 'https://api.github.com/users/mercyblitz/repos',\n",
       "    'events_url': 'https://api.github.com/users/mercyblitz/events{/privacy}',\n",
       "    'received_events_url': 'https://api.github.com/users/mercyblitz/received_events',\n",
       "    'type': 'User',\n",
       "    'site_admin': False},\n",
       "   'html_url': 'https://github.com/mercyblitz/jsr',\n",
       "   'description': 'Java Specification Requests ',\n",
       "   'fork': False,\n",
       "   'url': 'https://api.github.com/repos/mercyblitz/jsr',\n",
       "   'forks_url': 'https://api.github.com/repos/mercyblitz/jsr/forks',\n",
       "   'keys_url': 'https://api.github.com/repos/mercyblitz/jsr/keys{/key_id}',\n",
       "   'collaborators_url': 'https://api.github.com/repos/mercyblitz/jsr/collaborators{/collaborator}',\n",
       "   'teams_url': 'https://api.github.com/repos/mercyblitz/jsr/teams',\n",
       "   'hooks_url': 'https://api.github.com/repos/mercyblitz/jsr/hooks',\n",
       "   'issue_events_url': 'https://api.github.com/repos/mercyblitz/jsr/issues/events{/number}',\n",
       "   'events_url': 'https://api.github.com/repos/mercyblitz/jsr/events',\n",
       "   'assignees_url': 'https://api.github.com/repos/mercyblitz/jsr/assignees{/user}',\n",
       "   'branches_url': 'https://api.github.com/repos/mercyblitz/jsr/branches{/branch}',\n",
       "   'tags_url': 'https://api.github.com/repos/mercyblitz/jsr/tags',\n",
       "   'blobs_url': 'https://api.github.com/repos/mercyblitz/jsr/git/blobs{/sha}',\n",
       "   'git_tags_url': 'https://api.github.com/repos/mercyblitz/jsr/git/tags{/sha}',\n",
       "   'git_refs_url': 'https://api.github.com/repos/mercyblitz/jsr/git/refs{/sha}',\n",
       "   'trees_url': 'https://api.github.com/repos/mercyblitz/jsr/git/trees{/sha}',\n",
       "   'statuses_url': 'https://api.github.com/repos/mercyblitz/jsr/statuses/{sha}',\n",
       "   'languages_url': 'https://api.github.com/repos/mercyblitz/jsr/languages',\n",
       "   'stargazers_url': 'https://api.github.com/repos/mercyblitz/jsr/stargazers',\n",
       "   'contributors_url': 'https://api.github.com/repos/mercyblitz/jsr/contributors',\n",
       "   'subscribers_url': 'https://api.github.com/repos/mercyblitz/jsr/subscribers',\n",
       "   'subscription_url': 'https://api.github.com/repos/mercyblitz/jsr/subscription',\n",
       "   'commits_url': 'https://api.github.com/repos/mercyblitz/jsr/commits{/sha}',\n",
       "   'git_commits_url': 'https://api.github.com/repos/mercyblitz/jsr/git/commits{/sha}',\n",
       "   'comments_url': 'https://api.github.com/repos/mercyblitz/jsr/comments{/number}',\n",
       "   'issue_comment_url': 'https://api.github.com/repos/mercyblitz/jsr/issues/comments{/number}',\n",
       "   'contents_url': 'https://api.github.com/repos/mercyblitz/jsr/contents/{+path}',\n",
       "   'compare_url': 'https://api.github.com/repos/mercyblitz/jsr/compare/{base}...{head}',\n",
       "   'merges_url': 'https://api.github.com/repos/mercyblitz/jsr/merges',\n",
       "   'archive_url': 'https://api.github.com/repos/mercyblitz/jsr/{archive_format}{/ref}',\n",
       "   'downloads_url': 'https://api.github.com/repos/mercyblitz/jsr/downloads',\n",
       "   'issues_url': 'https://api.github.com/repos/mercyblitz/jsr/issues{/number}',\n",
       "   'pulls_url': 'https://api.github.com/repos/mercyblitz/jsr/pulls{/number}',\n",
       "   'milestones_url': 'https://api.github.com/repos/mercyblitz/jsr/milestones{/number}',\n",
       "   'notifications_url': 'https://api.github.com/repos/mercyblitz/jsr/notifications{?since,all,participating}',\n",
       "   'labels_url': 'https://api.github.com/repos/mercyblitz/jsr/labels{/name}',\n",
       "   'releases_url': 'https://api.github.com/repos/mercyblitz/jsr/releases{/id}',\n",
       "   'deployments_url': 'https://api.github.com/repos/mercyblitz/jsr/deployments',\n",
       "   'created_at': '2017-07-23T15:05:33Z',\n",
       "   'updated_at': '2021-02-06T09:04:23Z',\n",
       "   'pushed_at': '2019-07-01T08:49:48Z',\n",
       "   'git_url': 'git://github.com/mercyblitz/jsr.git',\n",
       "   'ssh_url': 'git@github.com:mercyblitz/jsr.git',\n",
       "   'clone_url': 'https://github.com/mercyblitz/jsr.git',\n",
       "   'svn_url': 'https://github.com/mercyblitz/jsr',\n",
       "   'homepage': 'https://www.jcp.org/en/home/index',\n",
       "   'size': 118229,\n",
       "   'stargazers_count': 1776,\n",
       "   'watchers_count': 1776,\n",
       "   'language': 'HTML',\n",
       "   'has_issues': True,\n",
       "   'has_projects': True,\n",
       "   'has_downloads': True,\n",
       "   'has_wiki': True,\n",
       "   'has_pages': False,\n",
       "   'forks_count': 959,\n",
       "   'mirror_url': None,\n",
       "   'archived': False,\n",
       "   'disabled': False,\n",
       "   'open_issues_count': 1,\n",
       "   'license': None,\n",
       "   'forks': 959,\n",
       "   'open_issues': 1,\n",
       "   'watchers': 1776,\n",
       "   'default_branch': 'master',\n",
       "   'score': 1.0},\n",
       "  {'id': 54014144,\n",
       "   'node_id': 'MDEwOlJlcG9zaXRvcnk1NDAxNDE0NA==',\n",
       "   'name': 'read_requests',\n",
       "   'full_name': 'wangshunping/read_requests',\n",
       "   'private': False,\n",
       "   'owner': {'login': 'wangshunping',\n",
       "    'id': 10842398,\n",
       "    'node_id': 'MDQ6VXNlcjEwODQyMzk4',\n",
       "    'avatar_url': 'https://avatars.githubusercontent.com/u/10842398?v=4',\n",
       "    'gravatar_id': '',\n",
       "    'url': 'https://api.github.com/users/wangshunping',\n",
       "    'html_url': 'https://github.com/wangshunping',\n",
       "    'followers_url': 'https://api.github.com/users/wangshunping/followers',\n",
       "    'following_url': 'https://api.github.com/users/wangshunping/following{/other_user}',\n",
       "    'gists_url': 'https://api.github.com/users/wangshunping/gists{/gist_id}',\n",
       "    'starred_url': 'https://api.github.com/users/wangshunping/starred{/owner}{/repo}',\n",
       "    'subscriptions_url': 'https://api.github.com/users/wangshunping/subscriptions',\n",
       "    'organizations_url': 'https://api.github.com/users/wangshunping/orgs',\n",
       "    'repos_url': 'https://api.github.com/users/wangshunping/repos',\n",
       "    'events_url': 'https://api.github.com/users/wangshunping/events{/privacy}',\n",
       "    'received_events_url': 'https://api.github.com/users/wangshunping/received_events',\n",
       "    'type': 'User',\n",
       "    'site_admin': False},\n",
       "   'html_url': 'https://github.com/wangshunping/read_requests',\n",
       "   'description': 'python requests 源码阅读，学习更pythonic 的python代码写法。',\n",
       "   'fork': False,\n",
       "   'url': 'https://api.github.com/repos/wangshunping/read_requests',\n",
       "   'forks_url': 'https://api.github.com/repos/wangshunping/read_requests/forks',\n",
       "   'keys_url': 'https://api.github.com/repos/wangshunping/read_requests/keys{/key_id}',\n",
       "   'collaborators_url': 'https://api.github.com/repos/wangshunping/read_requests/collaborators{/collaborator}',\n",
       "   'teams_url': 'https://api.github.com/repos/wangshunping/read_requests/teams',\n",
       "   'hooks_url': 'https://api.github.com/repos/wangshunping/read_requests/hooks',\n",
       "   'issue_events_url': 'https://api.github.com/repos/wangshunping/read_requests/issues/events{/number}',\n",
       "   'events_url': 'https://api.github.com/repos/wangshunping/read_requests/events',\n",
       "   'assignees_url': 'https://api.github.com/repos/wangshunping/read_requests/assignees{/user}',\n",
       "   'branches_url': 'https://api.github.com/repos/wangshunping/read_requests/branches{/branch}',\n",
       "   'tags_url': 'https://api.github.com/repos/wangshunping/read_requests/tags',\n",
       "   'blobs_url': 'https://api.github.com/repos/wangshunping/read_requests/git/blobs{/sha}',\n",
       "   'git_tags_url': 'https://api.github.com/repos/wangshunping/read_requests/git/tags{/sha}',\n",
       "   'git_refs_url': 'https://api.github.com/repos/wangshunping/read_requests/git/refs{/sha}',\n",
       "   'trees_url': 'https://api.github.com/repos/wangshunping/read_requests/git/trees{/sha}',\n",
       "   'statuses_url': 'https://api.github.com/repos/wangshunping/read_requests/statuses/{sha}',\n",
       "   'languages_url': 'https://api.github.com/repos/wangshunping/read_requests/languages',\n",
       "   'stargazers_url': 'https://api.github.com/repos/wangshunping/read_requests/stargazers',\n",
       "   'contributors_url': 'https://api.github.com/repos/wangshunping/read_requests/contributors',\n",
       "   'subscribers_url': 'https://api.github.com/repos/wangshunping/read_requests/subscribers',\n",
       "   'subscription_url': 'https://api.github.com/repos/wangshunping/read_requests/subscription',\n",
       "   'commits_url': 'https://api.github.com/repos/wangshunping/read_requests/commits{/sha}',\n",
       "   'git_commits_url': 'https://api.github.com/repos/wangshunping/read_requests/git/commits{/sha}',\n",
       "   'comments_url': 'https://api.github.com/repos/wangshunping/read_requests/comments{/number}',\n",
       "   'issue_comment_url': 'https://api.github.com/repos/wangshunping/read_requests/issues/comments{/number}',\n",
       "   'contents_url': 'https://api.github.com/repos/wangshunping/read_requests/contents/{+path}',\n",
       "   'compare_url': 'https://api.github.com/repos/wangshunping/read_requests/compare/{base}...{head}',\n",
       "   'merges_url': 'https://api.github.com/repos/wangshunping/read_requests/merges',\n",
       "   'archive_url': 'https://api.github.com/repos/wangshunping/read_requests/{archive_format}{/ref}',\n",
       "   'downloads_url': 'https://api.github.com/repos/wangshunping/read_requests/downloads',\n",
       "   'issues_url': 'https://api.github.com/repos/wangshunping/read_requests/issues{/number}',\n",
       "   'pulls_url': 'https://api.github.com/repos/wangshunping/read_requests/pulls{/number}',\n",
       "   'milestones_url': 'https://api.github.com/repos/wangshunping/read_requests/milestones{/number}',\n",
       "   'notifications_url': 'https://api.github.com/repos/wangshunping/read_requests/notifications{?since,all,participating}',\n",
       "   'labels_url': 'https://api.github.com/repos/wangshunping/read_requests/labels{/name}',\n",
       "   'releases_url': 'https://api.github.com/repos/wangshunping/read_requests/releases{/id}',\n",
       "   'deployments_url': 'https://api.github.com/repos/wangshunping/read_requests/deployments',\n",
       "   'created_at': '2016-03-16T08:31:47Z',\n",
       "   'updated_at': '2021-02-10T00:48:35Z',\n",
       "   'pushed_at': '2019-08-23T09:09:37Z',\n",
       "   'git_url': 'git://github.com/wangshunping/read_requests.git',\n",
       "   'ssh_url': 'git@github.com:wangshunping/read_requests.git',\n",
       "   'clone_url': 'https://github.com/wangshunping/read_requests.git',\n",
       "   'svn_url': 'https://github.com/wangshunping/read_requests',\n",
       "   'homepage': None,\n",
       "   'size': 625,\n",
       "   'stargazers_count': 956,\n",
       "   'watchers_count': 956,\n",
       "   'language': None,\n",
       "   'has_issues': True,\n",
       "   'has_projects': True,\n",
       "   'has_downloads': True,\n",
       "   'has_wiki': True,\n",
       "   'has_pages': False,\n",
       "   'forks_count': 236,\n",
       "   'mirror_url': None,\n",
       "   'archived': False,\n",
       "   'disabled': False,\n",
       "   'open_issues_count': 14,\n",
       "   'license': None,\n",
       "   'forks': 236,\n",
       "   'open_issues': 14,\n",
       "   'watchers': 956,\n",
       "   'default_branch': 'master',\n",
       "   'score': 1.0},\n",
       "  {'id': 27161323,\n",
       "   'node_id': 'MDEwOlJlcG9zaXRvcnkyNzE2MTMyMw==',\n",
       "   'name': 'requests',\n",
       "   'full_name': 'hsiafan/requests',\n",
       "   'private': False,\n",
       "   'owner': {'login': 'hsiafan',\n",
       "    'id': 1498664,\n",
       "    'node_id': 'MDQ6VXNlcjE0OTg2NjQ=',\n",
       "    'avatar_url': 'https://avatars.githubusercontent.com/u/1498664?v=4',\n",
       "    'gravatar_id': '',\n",
       "    'url': 'https://api.github.com/users/hsiafan',\n",
       "    'html_url': 'https://github.com/hsiafan',\n",
       "    'followers_url': 'https://api.github.com/users/hsiafan/followers',\n",
       "    'following_url': 'https://api.github.com/users/hsiafan/following{/other_user}',\n",
       "    'gists_url': 'https://api.github.com/users/hsiafan/gists{/gist_id}',\n",
       "    'starred_url': 'https://api.github.com/users/hsiafan/starred{/owner}{/repo}',\n",
       "    'subscriptions_url': 'https://api.github.com/users/hsiafan/subscriptions',\n",
       "    'organizations_url': 'https://api.github.com/users/hsiafan/orgs',\n",
       "    'repos_url': 'https://api.github.com/users/hsiafan/repos',\n",
       "    'events_url': 'https://api.github.com/users/hsiafan/events{/privacy}',\n",
       "    'received_events_url': 'https://api.github.com/users/hsiafan/received_events',\n",
       "    'type': 'User',\n",
       "    'site_admin': False},\n",
       "   'html_url': 'https://github.com/hsiafan/requests',\n",
       "   'description': 'Convenient http client for java,  inspired by python request module',\n",
       "   'fork': False,\n",
       "   'url': 'https://api.github.com/repos/hsiafan/requests',\n",
       "   'forks_url': 'https://api.github.com/repos/hsiafan/requests/forks',\n",
       "   'keys_url': 'https://api.github.com/repos/hsiafan/requests/keys{/key_id}',\n",
       "   'collaborators_url': 'https://api.github.com/repos/hsiafan/requests/collaborators{/collaborator}',\n",
       "   'teams_url': 'https://api.github.com/repos/hsiafan/requests/teams',\n",
       "   'hooks_url': 'https://api.github.com/repos/hsiafan/requests/hooks',\n",
       "   'issue_events_url': 'https://api.github.com/repos/hsiafan/requests/issues/events{/number}',\n",
       "   'events_url': 'https://api.github.com/repos/hsiafan/requests/events',\n",
       "   'assignees_url': 'https://api.github.com/repos/hsiafan/requests/assignees{/user}',\n",
       "   'branches_url': 'https://api.github.com/repos/hsiafan/requests/branches{/branch}',\n",
       "   'tags_url': 'https://api.github.com/repos/hsiafan/requests/tags',\n",
       "   'blobs_url': 'https://api.github.com/repos/hsiafan/requests/git/blobs{/sha}',\n",
       "   'git_tags_url': 'https://api.github.com/repos/hsiafan/requests/git/tags{/sha}',\n",
       "   'git_refs_url': 'https://api.github.com/repos/hsiafan/requests/git/refs{/sha}',\n",
       "   'trees_url': 'https://api.github.com/repos/hsiafan/requests/git/trees{/sha}',\n",
       "   'statuses_url': 'https://api.github.com/repos/hsiafan/requests/statuses/{sha}',\n",
       "   'languages_url': 'https://api.github.com/repos/hsiafan/requests/languages',\n",
       "   'stargazers_url': 'https://api.github.com/repos/hsiafan/requests/stargazers',\n",
       "   'contributors_url': 'https://api.github.com/repos/hsiafan/requests/contributors',\n",
       "   'subscribers_url': 'https://api.github.com/repos/hsiafan/requests/subscribers',\n",
       "   'subscription_url': 'https://api.github.com/repos/hsiafan/requests/subscription',\n",
       "   'commits_url': 'https://api.github.com/repos/hsiafan/requests/commits{/sha}',\n",
       "   'git_commits_url': 'https://api.github.com/repos/hsiafan/requests/git/commits{/sha}',\n",
       "   'comments_url': 'https://api.github.com/repos/hsiafan/requests/comments{/number}',\n",
       "   'issue_comment_url': 'https://api.github.com/repos/hsiafan/requests/issues/comments{/number}',\n",
       "   'contents_url': 'https://api.github.com/repos/hsiafan/requests/contents/{+path}',\n",
       "   'compare_url': 'https://api.github.com/repos/hsiafan/requests/compare/{base}...{head}',\n",
       "   'merges_url': 'https://api.github.com/repos/hsiafan/requests/merges',\n",
       "   'archive_url': 'https://api.github.com/repos/hsiafan/requests/{archive_format}{/ref}',\n",
       "   'downloads_url': 'https://api.github.com/repos/hsiafan/requests/downloads',\n",
       "   'issues_url': 'https://api.github.com/repos/hsiafan/requests/issues{/number}',\n",
       "   'pulls_url': 'https://api.github.com/repos/hsiafan/requests/pulls{/number}',\n",
       "   'milestones_url': 'https://api.github.com/repos/hsiafan/requests/milestones{/number}',\n",
       "   'notifications_url': 'https://api.github.com/repos/hsiafan/requests/notifications{?since,all,participating}',\n",
       "   'labels_url': 'https://api.github.com/repos/hsiafan/requests/labels{/name}',\n",
       "   'releases_url': 'https://api.github.com/repos/hsiafan/requests/releases{/id}',\n",
       "   'deployments_url': 'https://api.github.com/repos/hsiafan/requests/deployments',\n",
       "   'created_at': '2014-11-26T05:37:27Z',\n",
       "   'updated_at': '2021-02-12T13:40:18Z',\n",
       "   'pushed_at': '2019-12-19T05:14:26Z',\n",
       "   'git_url': 'git://github.com/hsiafan/requests.git',\n",
       "   'ssh_url': 'git@github.com:hsiafan/requests.git',\n",
       "   'clone_url': 'https://github.com/hsiafan/requests.git',\n",
       "   'svn_url': 'https://github.com/hsiafan/requests',\n",
       "   'homepage': '',\n",
       "   'size': 601,\n",
       "   'stargazers_count': 458,\n",
       "   'watchers_count': 458,\n",
       "   'language': 'Java',\n",
       "   'has_issues': True,\n",
       "   'has_projects': True,\n",
       "   'has_downloads': True,\n",
       "   'has_wiki': True,\n",
       "   'has_pages': False,\n",
       "   'forks_count': 114,\n",
       "   'mirror_url': None,\n",
       "   'archived': True,\n",
       "   'disabled': False,\n",
       "   'open_issues_count': 12,\n",
       "   'license': {'key': 'bsd-2-clause',\n",
       "    'name': 'BSD 2-Clause \"Simplified\" License',\n",
       "    'spdx_id': 'BSD-2-Clause',\n",
       "    'url': 'https://api.github.com/licenses/bsd-2-clause',\n",
       "    'node_id': 'MDc6TGljZW5zZTQ='},\n",
       "   'forks': 114,\n",
       "   'open_issues': 12,\n",
       "   'watchers': 458,\n",
       "   'default_branch': 'master',\n",
       "   'score': 1.0},\n",
       "  {'id': 1283503,\n",
       "   'node_id': 'MDEwOlJlcG9zaXRvcnkxMjgzNTAz',\n",
       "   'name': 'request',\n",
       "   'full_name': 'request/request',\n",
       "   'private': False,\n",
       "   'owner': {'login': 'request',\n",
       "    'id': 730467,\n",
       "    'node_id': 'MDEyOk9yZ2FuaXphdGlvbjczMDQ2Nw==',\n",
       "    'avatar_url': 'https://avatars.githubusercontent.com/u/730467?v=4',\n",
       "    'gravatar_id': '',\n",
       "    'url': 'https://api.github.com/users/request',\n",
       "    'html_url': 'https://github.com/request',\n",
       "    'followers_url': 'https://api.github.com/users/request/followers',\n",
       "    'following_url': 'https://api.github.com/users/request/following{/other_user}',\n",
       "    'gists_url': 'https://api.github.com/users/request/gists{/gist_id}',\n",
       "    'starred_url': 'https://api.github.com/users/request/starred{/owner}{/repo}',\n",
       "    'subscriptions_url': 'https://api.github.com/users/request/subscriptions',\n",
       "    'organizations_url': 'https://api.github.com/users/request/orgs',\n",
       "    'repos_url': 'https://api.github.com/users/request/repos',\n",
       "    'events_url': 'https://api.github.com/users/request/events{/privacy}',\n",
       "    'received_events_url': 'https://api.github.com/users/request/received_events',\n",
       "    'type': 'Organization',\n",
       "    'site_admin': False},\n",
       "   'html_url': 'https://github.com/request/request',\n",
       "   'description': '🏊🏾 Simplified HTTP request client.',\n",
       "   'fork': False,\n",
       "   'url': 'https://api.github.com/repos/request/request',\n",
       "   'forks_url': 'https://api.github.com/repos/request/request/forks',\n",
       "   'keys_url': 'https://api.github.com/repos/request/request/keys{/key_id}',\n",
       "   'collaborators_url': 'https://api.github.com/repos/request/request/collaborators{/collaborator}',\n",
       "   'teams_url': 'https://api.github.com/repos/request/request/teams',\n",
       "   'hooks_url': 'https://api.github.com/repos/request/request/hooks',\n",
       "   'issue_events_url': 'https://api.github.com/repos/request/request/issues/events{/number}',\n",
       "   'events_url': 'https://api.github.com/repos/request/request/events',\n",
       "   'assignees_url': 'https://api.github.com/repos/request/request/assignees{/user}',\n",
       "   'branches_url': 'https://api.github.com/repos/request/request/branches{/branch}',\n",
       "   'tags_url': 'https://api.github.com/repos/request/request/tags',\n",
       "   'blobs_url': 'https://api.github.com/repos/request/request/git/blobs{/sha}',\n",
       "   'git_tags_url': 'https://api.github.com/repos/request/request/git/tags{/sha}',\n",
       "   'git_refs_url': 'https://api.github.com/repos/request/request/git/refs{/sha}',\n",
       "   'trees_url': 'https://api.github.com/repos/request/request/git/trees{/sha}',\n",
       "   'statuses_url': 'https://api.github.com/repos/request/request/statuses/{sha}',\n",
       "   'languages_url': 'https://api.github.com/repos/request/request/languages',\n",
       "   'stargazers_url': 'https://api.github.com/repos/request/request/stargazers',\n",
       "   'contributors_url': 'https://api.github.com/repos/request/request/contributors',\n",
       "   'subscribers_url': 'https://api.github.com/repos/request/request/subscribers',\n",
       "   'subscription_url': 'https://api.github.com/repos/request/request/subscription',\n",
       "   'commits_url': 'https://api.github.com/repos/request/request/commits{/sha}',\n",
       "   'git_commits_url': 'https://api.github.com/repos/request/request/git/commits{/sha}',\n",
       "   'comments_url': 'https://api.github.com/repos/request/request/comments{/number}',\n",
       "   'issue_comment_url': 'https://api.github.com/repos/request/request/issues/comments{/number}',\n",
       "   'contents_url': 'https://api.github.com/repos/request/request/contents/{+path}',\n",
       "   'compare_url': 'https://api.github.com/repos/request/request/compare/{base}...{head}',\n",
       "   'merges_url': 'https://api.github.com/repos/request/request/merges',\n",
       "   'archive_url': 'https://api.github.com/repos/request/request/{archive_format}{/ref}',\n",
       "   'downloads_url': 'https://api.github.com/repos/request/request/downloads',\n",
       "   'issues_url': 'https://api.github.com/repos/request/request/issues{/number}',\n",
       "   'pulls_url': 'https://api.github.com/repos/request/request/pulls{/number}',\n",
       "   'milestones_url': 'https://api.github.com/repos/request/request/milestones{/number}',\n",
       "   'notifications_url': 'https://api.github.com/repos/request/request/notifications{?since,all,participating}',\n",
       "   'labels_url': 'https://api.github.com/repos/request/request/labels{/name}',\n",
       "   'releases_url': 'https://api.github.com/repos/request/request/releases{/id}',\n",
       "   'deployments_url': 'https://api.github.com/repos/request/request/deployments',\n",
       "   'created_at': '2011-01-23T01:25:14Z',\n",
       "   'updated_at': '2021-02-16T15:45:15Z',\n",
       "   'pushed_at': '2020-12-31T03:04:35Z',\n",
       "   'git_url': 'git://github.com/request/request.git',\n",
       "   'ssh_url': 'git@github.com:request/request.git',\n",
       "   'clone_url': 'https://github.com/request/request.git',\n",
       "   'svn_url': 'https://github.com/request/request',\n",
       "   'homepage': '',\n",
       "   'size': 2290,\n",
       "   'stargazers_count': 25022,\n",
       "   'watchers_count': 25022,\n",
       "   'language': 'JavaScript',\n",
       "   'has_issues': True,\n",
       "   'has_projects': False,\n",
       "   'has_downloads': True,\n",
       "   'has_wiki': False,\n",
       "   'has_pages': False,\n",
       "   'forks_count': 3044,\n",
       "   'mirror_url': None,\n",
       "   'archived': False,\n",
       "   'disabled': False,\n",
       "   'open_issues_count': 140,\n",
       "   'license': {'key': 'apache-2.0',\n",
       "    'name': 'Apache License 2.0',\n",
       "    'spdx_id': 'Apache-2.0',\n",
       "    'url': 'https://api.github.com/licenses/apache-2.0',\n",
       "    'node_id': 'MDc6TGljZW5zZTI='},\n",
       "   'forks': 3044,\n",
       "   'open_issues': 140,\n",
       "   'watchers': 25022,\n",
       "   'default_branch': 'master',\n",
       "   'score': 1.0},\n",
       "  {'id': 8930430,\n",
       "   'node_id': 'MDEwOlJlcG9zaXRvcnk4OTMwNDMw',\n",
       "   'name': 'requests-futures',\n",
       "   'full_name': 'ross/requests-futures',\n",
       "   'private': False,\n",
       "   'owner': {'login': 'ross',\n",
       "    'id': 12789,\n",
       "    'node_id': 'MDQ6VXNlcjEyNzg5',\n",
       "    'avatar_url': 'https://avatars.githubusercontent.com/u/12789?v=4',\n",
       "    'gravatar_id': '',\n",
       "    'url': 'https://api.github.com/users/ross',\n",
       "    'html_url': 'https://github.com/ross',\n",
       "    'followers_url': 'https://api.github.com/users/ross/followers',\n",
       "    'following_url': 'https://api.github.com/users/ross/following{/other_user}',\n",
       "    'gists_url': 'https://api.github.com/users/ross/gists{/gist_id}',\n",
       "    'starred_url': 'https://api.github.com/users/ross/starred{/owner}{/repo}',\n",
       "    'subscriptions_url': 'https://api.github.com/users/ross/subscriptions',\n",
       "    'organizations_url': 'https://api.github.com/users/ross/orgs',\n",
       "    'repos_url': 'https://api.github.com/users/ross/repos',\n",
       "    'events_url': 'https://api.github.com/users/ross/events{/privacy}',\n",
       "    'received_events_url': 'https://api.github.com/users/ross/received_events',\n",
       "    'type': 'User',\n",
       "    'site_admin': True},\n",
       "   'html_url': 'https://github.com/ross/requests-futures',\n",
       "   'description': 'Asynchronous Python HTTP Requests for Humans using Futures',\n",
       "   'fork': False,\n",
       "   'url': 'https://api.github.com/repos/ross/requests-futures',\n",
       "   'forks_url': 'https://api.github.com/repos/ross/requests-futures/forks',\n",
       "   'keys_url': 'https://api.github.com/repos/ross/requests-futures/keys{/key_id}',\n",
       "   'collaborators_url': 'https://api.github.com/repos/ross/requests-futures/collaborators{/collaborator}',\n",
       "   'teams_url': 'https://api.github.com/repos/ross/requests-futures/teams',\n",
       "   'hooks_url': 'https://api.github.com/repos/ross/requests-futures/hooks',\n",
       "   'issue_events_url': 'https://api.github.com/repos/ross/requests-futures/issues/events{/number}',\n",
       "   'events_url': 'https://api.github.com/repos/ross/requests-futures/events',\n",
       "   'assignees_url': 'https://api.github.com/repos/ross/requests-futures/assignees{/user}',\n",
       "   'branches_url': 'https://api.github.com/repos/ross/requests-futures/branches{/branch}',\n",
       "   'tags_url': 'https://api.github.com/repos/ross/requests-futures/tags',\n",
       "   'blobs_url': 'https://api.github.com/repos/ross/requests-futures/git/blobs{/sha}',\n",
       "   'git_tags_url': 'https://api.github.com/repos/ross/requests-futures/git/tags{/sha}',\n",
       "   'git_refs_url': 'https://api.github.com/repos/ross/requests-futures/git/refs{/sha}',\n",
       "   'trees_url': 'https://api.github.com/repos/ross/requests-futures/git/trees{/sha}',\n",
       "   'statuses_url': 'https://api.github.com/repos/ross/requests-futures/statuses/{sha}',\n",
       "   'languages_url': 'https://api.github.com/repos/ross/requests-futures/languages',\n",
       "   'stargazers_url': 'https://api.github.com/repos/ross/requests-futures/stargazers',\n",
       "   'contributors_url': 'https://api.github.com/repos/ross/requests-futures/contributors',\n",
       "   'subscribers_url': 'https://api.github.com/repos/ross/requests-futures/subscribers',\n",
       "   'subscription_url': 'https://api.github.com/repos/ross/requests-futures/subscription',\n",
       "   'commits_url': 'https://api.github.com/repos/ross/requests-futures/commits{/sha}',\n",
       "   'git_commits_url': 'https://api.github.com/repos/ross/requests-futures/git/commits{/sha}',\n",
       "   'comments_url': 'https://api.github.com/repos/ross/requests-futures/comments{/number}',\n",
       "   'issue_comment_url': 'https://api.github.com/repos/ross/requests-futures/issues/comments{/number}',\n",
       "   'contents_url': 'https://api.github.com/repos/ross/requests-futures/contents/{+path}',\n",
       "   'compare_url': 'https://api.github.com/repos/ross/requests-futures/compare/{base}...{head}',\n",
       "   'merges_url': 'https://api.github.com/repos/ross/requests-futures/merges',\n",
       "   'archive_url': 'https://api.github.com/repos/ross/requests-futures/{archive_format}{/ref}',\n",
       "   'downloads_url': 'https://api.github.com/repos/ross/requests-futures/downloads',\n",
       "   'issues_url': 'https://api.github.com/repos/ross/requests-futures/issues{/number}',\n",
       "   'pulls_url': 'https://api.github.com/repos/ross/requests-futures/pulls{/number}',\n",
       "   'milestones_url': 'https://api.github.com/repos/ross/requests-futures/milestones{/number}',\n",
       "   'notifications_url': 'https://api.github.com/repos/ross/requests-futures/notifications{?since,all,participating}',\n",
       "   'labels_url': 'https://api.github.com/repos/ross/requests-futures/labels{/name}',\n",
       "   'releases_url': 'https://api.github.com/repos/ross/requests-futures/releases{/id}',\n",
       "   'deployments_url': 'https://api.github.com/repos/ross/requests-futures/deployments',\n",
       "   'created_at': '2013-03-21T14:20:03Z',\n",
       "   'updated_at': '2021-02-16T14:47:44Z',\n",
       "   'pushed_at': '2021-01-13T15:48:46Z',\n",
       "   'git_url': 'git://github.com/ross/requests-futures.git',\n",
       "   'ssh_url': 'git@github.com:ross/requests-futures.git',\n",
       "   'clone_url': 'https://github.com/ross/requests-futures.git',\n",
       "   'svn_url': 'https://github.com/ross/requests-futures',\n",
       "   'homepage': None,\n",
       "   'size': 76,\n",
       "   'stargazers_count': 1718,\n",
       "   'watchers_count': 1718,\n",
       "   'language': 'Python',\n",
       "   'has_issues': True,\n",
       "   'has_projects': True,\n",
       "   'has_downloads': True,\n",
       "   'has_wiki': True,\n",
       "   'has_pages': False,\n",
       "   'forks_count': 137,\n",
       "   'mirror_url': None,\n",
       "   'archived': False,\n",
       "   'disabled': False,\n",
       "   'open_issues_count': 17,\n",
       "   'license': {'key': 'other',\n",
       "    'name': 'Other',\n",
       "    'spdx_id': 'NOASSERTION',\n",
       "    'url': None,\n",
       "    'node_id': 'MDc6TGljZW5zZTA='},\n",
       "   'forks': 137,\n",
       "   'open_issues': 17,\n",
       "   'watchers': 1718,\n",
       "   'default_branch': 'master',\n",
       "   'score': 1.0}]}"
      ]
     },
     "execution_count": 55,
     "metadata": {},
     "output_type": "execute_result"
    }
   ],
   "source": [
    "j = json.loads(text)\n",
    "j"
   ]
  },
  {
   "cell_type": "code",
   "execution_count": 56,
   "id": "gross-slope",
   "metadata": {
    "scrolled": true
   },
   "outputs": [
    {
     "data": {
      "text/plain": [
       "{'id': 1362490,\n",
       " 'node_id': 'MDEwOlJlcG9zaXRvcnkxMzYyNDkw',\n",
       " 'name': 'requests',\n",
       " 'full_name': 'psf/requests',\n",
       " 'private': False,\n",
       " 'owner': {'login': 'psf',\n",
       "  'id': 50630501,\n",
       "  'node_id': 'MDEyOk9yZ2FuaXphdGlvbjUwNjMwNTAx',\n",
       "  'avatar_url': 'https://avatars.githubusercontent.com/u/50630501?v=4',\n",
       "  'gravatar_id': '',\n",
       "  'url': 'https://api.github.com/users/psf',\n",
       "  'html_url': 'https://github.com/psf',\n",
       "  'followers_url': 'https://api.github.com/users/psf/followers',\n",
       "  'following_url': 'https://api.github.com/users/psf/following{/other_user}',\n",
       "  'gists_url': 'https://api.github.com/users/psf/gists{/gist_id}',\n",
       "  'starred_url': 'https://api.github.com/users/psf/starred{/owner}{/repo}',\n",
       "  'subscriptions_url': 'https://api.github.com/users/psf/subscriptions',\n",
       "  'organizations_url': 'https://api.github.com/users/psf/orgs',\n",
       "  'repos_url': 'https://api.github.com/users/psf/repos',\n",
       "  'events_url': 'https://api.github.com/users/psf/events{/privacy}',\n",
       "  'received_events_url': 'https://api.github.com/users/psf/received_events',\n",
       "  'type': 'Organization',\n",
       "  'site_admin': False},\n",
       " 'html_url': 'https://github.com/psf/requests',\n",
       " 'description': 'A simple, yet elegant HTTP library.',\n",
       " 'fork': False,\n",
       " 'url': 'https://api.github.com/repos/psf/requests',\n",
       " 'forks_url': 'https://api.github.com/repos/psf/requests/forks',\n",
       " 'keys_url': 'https://api.github.com/repos/psf/requests/keys{/key_id}',\n",
       " 'collaborators_url': 'https://api.github.com/repos/psf/requests/collaborators{/collaborator}',\n",
       " 'teams_url': 'https://api.github.com/repos/psf/requests/teams',\n",
       " 'hooks_url': 'https://api.github.com/repos/psf/requests/hooks',\n",
       " 'issue_events_url': 'https://api.github.com/repos/psf/requests/issues/events{/number}',\n",
       " 'events_url': 'https://api.github.com/repos/psf/requests/events',\n",
       " 'assignees_url': 'https://api.github.com/repos/psf/requests/assignees{/user}',\n",
       " 'branches_url': 'https://api.github.com/repos/psf/requests/branches{/branch}',\n",
       " 'tags_url': 'https://api.github.com/repos/psf/requests/tags',\n",
       " 'blobs_url': 'https://api.github.com/repos/psf/requests/git/blobs{/sha}',\n",
       " 'git_tags_url': 'https://api.github.com/repos/psf/requests/git/tags{/sha}',\n",
       " 'git_refs_url': 'https://api.github.com/repos/psf/requests/git/refs{/sha}',\n",
       " 'trees_url': 'https://api.github.com/repos/psf/requests/git/trees{/sha}',\n",
       " 'statuses_url': 'https://api.github.com/repos/psf/requests/statuses/{sha}',\n",
       " 'languages_url': 'https://api.github.com/repos/psf/requests/languages',\n",
       " 'stargazers_url': 'https://api.github.com/repos/psf/requests/stargazers',\n",
       " 'contributors_url': 'https://api.github.com/repos/psf/requests/contributors',\n",
       " 'subscribers_url': 'https://api.github.com/repos/psf/requests/subscribers',\n",
       " 'subscription_url': 'https://api.github.com/repos/psf/requests/subscription',\n",
       " 'commits_url': 'https://api.github.com/repos/psf/requests/commits{/sha}',\n",
       " 'git_commits_url': 'https://api.github.com/repos/psf/requests/git/commits{/sha}',\n",
       " 'comments_url': 'https://api.github.com/repos/psf/requests/comments{/number}',\n",
       " 'issue_comment_url': 'https://api.github.com/repos/psf/requests/issues/comments{/number}',\n",
       " 'contents_url': 'https://api.github.com/repos/psf/requests/contents/{+path}',\n",
       " 'compare_url': 'https://api.github.com/repos/psf/requests/compare/{base}...{head}',\n",
       " 'merges_url': 'https://api.github.com/repos/psf/requests/merges',\n",
       " 'archive_url': 'https://api.github.com/repos/psf/requests/{archive_format}{/ref}',\n",
       " 'downloads_url': 'https://api.github.com/repos/psf/requests/downloads',\n",
       " 'issues_url': 'https://api.github.com/repos/psf/requests/issues{/number}',\n",
       " 'pulls_url': 'https://api.github.com/repos/psf/requests/pulls{/number}',\n",
       " 'milestones_url': 'https://api.github.com/repos/psf/requests/milestones{/number}',\n",
       " 'notifications_url': 'https://api.github.com/repos/psf/requests/notifications{?since,all,participating}',\n",
       " 'labels_url': 'https://api.github.com/repos/psf/requests/labels{/name}',\n",
       " 'releases_url': 'https://api.github.com/repos/psf/requests/releases{/id}',\n",
       " 'deployments_url': 'https://api.github.com/repos/psf/requests/deployments',\n",
       " 'created_at': '2011-02-13T18:38:17Z',\n",
       " 'updated_at': '2021-02-16T15:09:42Z',\n",
       " 'pushed_at': '2021-02-10T13:12:54Z',\n",
       " 'git_url': 'git://github.com/psf/requests.git',\n",
       " 'ssh_url': 'git@github.com:psf/requests.git',\n",
       " 'clone_url': 'https://github.com/psf/requests.git',\n",
       " 'svn_url': 'https://github.com/psf/requests',\n",
       " 'homepage': 'https://requests.readthedocs.io',\n",
       " 'size': 12569,\n",
       " 'stargazers_count': 44597,\n",
       " 'watchers_count': 44597,\n",
       " 'language': 'Python',\n",
       " 'has_issues': True,\n",
       " 'has_projects': False,\n",
       " 'has_downloads': True,\n",
       " 'has_wiki': True,\n",
       " 'has_pages': True,\n",
       " 'forks_count': 8139,\n",
       " 'mirror_url': None,\n",
       " 'archived': False,\n",
       " 'disabled': False,\n",
       " 'open_issues_count': 314,\n",
       " 'license': {'key': 'apache-2.0',\n",
       "  'name': 'Apache License 2.0',\n",
       "  'spdx_id': 'Apache-2.0',\n",
       "  'url': 'https://api.github.com/licenses/apache-2.0',\n",
       "  'node_id': 'MDc6TGljZW5zZTI='},\n",
       " 'forks': 8139,\n",
       " 'open_issues': 314,\n",
       " 'watchers': 44597,\n",
       " 'default_branch': 'master',\n",
       " 'score': 1.0}"
      ]
     },
     "execution_count": 56,
     "metadata": {},
     "output_type": "execute_result"
    }
   ],
   "source": [
    "i = j.get('items')[0]\n",
    "i"
   ]
  },
  {
   "cell_type": "markdown",
   "id": "ordered-budapest",
   "metadata": {},
   "source": [
    "### uuid\n",
    "https://stackoverflow.com/questions/10867405/generating-v5-uuid-what-is-name-and-namespace\n",
    "\n",
    "https://www.ietf.org/rfc/rfc4122.txt"
   ]
  },
  {
   "cell_type": "code",
   "execution_count": 57,
   "id": "composed-helmet",
   "metadata": {},
   "outputs": [],
   "source": [
    "import uuid\n",
    "\n",
    "# 3 options:\n",
    "# uuid1 = MAC + time\n",
    "# uuid4 = random\n",
    "# uuid5 = uses SHA-1 to generate the input for the uuid"
   ]
  },
  {
   "cell_type": "code",
   "execution_count": 65,
   "id": "incident-federal",
   "metadata": {},
   "outputs": [
    {
     "data": {
      "text/plain": [
       "UUID('0f4d3df1-41b1-4b77-98d3-752cfab3f63f')"
      ]
     },
     "execution_count": 65,
     "metadata": {},
     "output_type": "execute_result"
    }
   ],
   "source": [
    "uuid.uuid4()"
   ]
  },
  {
   "cell_type": "code",
   "execution_count": 66,
   "id": "cloudy-worst",
   "metadata": {},
   "outputs": [],
   "source": [
    "uuid_domain1 = uuid.uuid5(uuid.NAMESPACE_DNS, 'user')\n",
    "uuid_domain2 = uuid.uuid5(uuid.NAMESPACE_DNS, 'status')"
   ]
  },
  {
   "cell_type": "code",
   "execution_count": 67,
   "id": "optional-group",
   "metadata": {},
   "outputs": [
    {
     "data": {
      "text/plain": [
       "UUID('6ba7b810-9dad-11d1-80b4-00c04fd430c8')"
      ]
     },
     "execution_count": 67,
     "metadata": {},
     "output_type": "execute_result"
    }
   ],
   "source": [
    "uuid.NAMESPACE_DNS"
   ]
  },
  {
   "cell_type": "code",
   "execution_count": 68,
   "id": "mysterious-jamaica",
   "metadata": {},
   "outputs": [
    {
     "data": {
      "text/plain": [
       "UUID('6644d84e-4c2d-55a7-ba05-26a51d9c9b0f')"
      ]
     },
     "execution_count": 68,
     "metadata": {},
     "output_type": "execute_result"
    }
   ],
   "source": [
    "uuid.uuid5(uuid_domain1, 'something_to_hash')"
   ]
  },
  {
   "cell_type": "code",
   "execution_count": 71,
   "id": "knowing-region",
   "metadata": {},
   "outputs": [
    {
     "data": {
      "text/plain": [
       "UUID('285b4e15-2d5f-5e02-b28c-74829132bc11')"
      ]
     },
     "execution_count": 71,
     "metadata": {},
     "output_type": "execute_result"
    }
   ],
   "source": [
    "uuid.uuid5(uuid_domain2, 'something_to_hash')"
   ]
  },
  {
   "cell_type": "code",
   "execution_count": 72,
   "id": "formed-cornell",
   "metadata": {},
   "outputs": [
    {
     "data": {
      "text/plain": [
       "UUID('f2196fcd-71ff-532d-bbc1-5e6adc6a7d27')"
      ]
     },
     "execution_count": 72,
     "metadata": {},
     "output_type": "execute_result"
    }
   ],
   "source": [
    "uuid.uuid5(uuid_domain1, json.dumps(i))"
   ]
  },
  {
   "cell_type": "code",
   "execution_count": 73,
   "id": "small-climate",
   "metadata": {},
   "outputs": [
    {
     "data": {
      "text/plain": [
       "UUID('a2be35e7-d275-5cc0-a6f1-a2a0c73966f9')"
      ]
     },
     "execution_count": 73,
     "metadata": {},
     "output_type": "execute_result"
    }
   ],
   "source": [
    "uuid.uuid5(uuid_domain2, json.dumps(i))"
   ]
  },
  {
   "cell_type": "markdown",
   "id": "incoming-suite",
   "metadata": {},
   "source": [
    "### datetime"
   ]
  },
  {
   "cell_type": "code",
   "execution_count": 74,
   "id": "prompt-philippines",
   "metadata": {},
   "outputs": [
    {
     "data": {
      "text/plain": [
       "datetime.datetime(2021, 2, 16, 18, 1, 37, 385639)"
      ]
     },
     "execution_count": 74,
     "metadata": {},
     "output_type": "execute_result"
    }
   ],
   "source": [
    "from datetime import datetime\n",
    "datetime.now()"
   ]
  },
  {
   "cell_type": "code",
   "execution_count": 75,
   "id": "disturbed-recovery",
   "metadata": {},
   "outputs": [
    {
     "name": "stdout",
     "output_type": "stream",
     "text": [
      "2021-02-16 18:01:45.079162\n"
     ]
    }
   ],
   "source": [
    "print(datetime.now())"
   ]
  },
  {
   "cell_type": "code",
   "execution_count": 76,
   "id": "static-sender",
   "metadata": {},
   "outputs": [
    {
     "data": {
      "text/plain": [
       "'2021-02-16'"
      ]
     },
     "execution_count": 76,
     "metadata": {},
     "output_type": "execute_result"
    }
   ],
   "source": [
    "datetime.now().strftime( '%Y-%m-%d')"
   ]
  },
  {
   "cell_type": "code",
   "execution_count": 77,
   "id": "breathing-parallel",
   "metadata": {},
   "outputs": [
    {
     "data": {
      "text/plain": [
       "'Tuesday-16-February-21'"
      ]
     },
     "execution_count": 77,
     "metadata": {},
     "output_type": "execute_result"
    }
   ],
   "source": [
    "datetime.now().strftime( '%A-%d-%B-%y')"
   ]
  },
  {
   "cell_type": "markdown",
   "id": "pediatric-designer",
   "metadata": {},
   "source": [
    "### sys"
   ]
  },
  {
   "cell_type": "markdown",
   "id": "smart-symphony",
   "metadata": {},
   "source": [
    "### os"
   ]
  },
  {
   "cell_type": "markdown",
   "id": "changed-waste",
   "metadata": {},
   "source": [
    "### ImportLib"
   ]
  },
  {
   "cell_type": "code",
   "execution_count": 80,
   "id": "devoted-mainland",
   "metadata": {},
   "outputs": [
    {
     "ename": "ModuleNotFoundError",
     "evalue": "No module named 'module_p'",
     "output_type": "error",
     "traceback": [
      "\u001b[1;31m---------------------------------------------------------------------------\u001b[0m",
      "\u001b[1;31mModuleNotFoundError\u001b[0m                       Traceback (most recent call last)",
      "\u001b[1;32m<ipython-input-80-e11564c38147>\u001b[0m in \u001b[0;36m<module>\u001b[1;34m\u001b[0m\n\u001b[0;32m      4\u001b[0m \u001b[1;33m\u001b[0m\u001b[0m\n\u001b[0;32m      5\u001b[0m \u001b[1;33m\u001b[0m\u001b[0m\n\u001b[1;32m----> 6\u001b[1;33m \u001b[1;32mimport\u001b[0m \u001b[0mmodule_p\u001b[0m \u001b[1;32mas\u001b[0m \u001b[0mp\u001b[0m\u001b[1;33m\u001b[0m\u001b[1;33m\u001b[0m\u001b[0m\n\u001b[0m",
      "\u001b[1;31mModuleNotFoundError\u001b[0m: No module named 'module_p'"
     ]
    }
   ],
   "source": [
    "from importlib import reload\n",
    "\n",
    "import json as j\n",
    "\n",
    "\n",
    "import module_p as p"
   ]
  },
  {
   "cell_type": "code",
   "execution_count": 79,
   "id": "coordinated-fantasy",
   "metadata": {},
   "outputs": [
    {
     "data": {
      "text/plain": [
       "<module 'json' from 'C:\\\\Program Files\\\\Python38\\\\lib\\\\json\\\\__init__.py'>"
      ]
     },
     "execution_count": 79,
     "metadata": {},
     "output_type": "execute_result"
    }
   ],
   "source": [
    "reload(p)"
   ]
  },
  {
   "cell_type": "markdown",
   "id": "heated-profile",
   "metadata": {},
   "source": [
    "### Requests\n",
    "https://requests.readthedocs.io/en/master/"
   ]
  },
  {
   "cell_type": "code",
   "execution_count": 81,
   "id": "technical-pulse",
   "metadata": {},
   "outputs": [
    {
     "name": "stdout",
     "output_type": "stream",
     "text": [
      "200\n",
      "{\"total_count\":103510,\"incomplete_results\":false,\"items\":[{\"id\":1362490,\"node_id\":\"MDEwOlJlcG9zaXRvcnkxMzYyNDkw\",\"name\":\"requests\",\"full_name\":\"psf/requests\",\"private\":false,\"owner\":{\"login\":\"psf\",\"id\":50630501,\"node_id\":\"MDEyOk9yZ2FuaXphdGlvbjUwNjMwNTAx\",\"avatar_url\":\"https://avatars.githubusercontent.com/u/50630501?v=4\",\"gravatar_id\":\"\",\"url\":\"https://api.github.com/users/psf\",\"html_url\":\"https://github.com/psf\",\"followers_url\":\"https://api.github.com/users/psf/followers\",\"following_url\":\"https://api.github.com/users/psf/following{/other_user}\",\"gists_url\":\"https://api.github.com/users/psf/gists{/gist_id}\",\"starred_url\":\"https://api.github.com/users/psf/starred{/owner}{/repo}\",\"subscriptions_url\":\"https://api.github.com/users/psf/subscriptions\",\"organizations_url\":\"https://api.github.com/users/psf/orgs\",\"repos_url\":\"https://api.github.com/users/psf/repos\",\"events_url\":\"https://api.github.com/users/psf/events{/privacy}\",\"received_events_url\":\"https://api.github.com/users/psf/received_events\",\"type\":\"Organization\",\"site_admin\":false},\"html_url\":\"https://github.com/psf/requests\",\"description\":\"A simple, yet elegant HTTP library.\",\"fork\":false,\"url\":\"https://api.github.com/repos/psf/requests\",\"forks_url\":\"https://api.github.com/repos/psf/requests/forks\",\"keys_url\":\"https://api.github.com/repos/psf/requests/keys{/key_id}\",\"collaborators_url\":\"https://api.github.com/repos/psf/requests/collaborators{/collaborator}\",\"teams_url\":\"https://api.github.com/repos/psf/requests/teams\",\"hooks_url\":\"https://api.github.com/repos/psf/requests/hooks\",\"issue_events_url\":\"https://api.github.com/repos/psf/requests/issues/events{/number}\",\"events_url\":\"https://api.github.com/repos/psf/requests/events\",\"assignees_url\":\"https://api.github.com/repos/psf/requests/assignees{/user}\",\"branches_url\":\"https://api.github.com/repos/psf/requests/branches{/branch}\",\"tags_url\":\"https://api.github.com/repos/psf/requests/tags\",\"blobs_url\":\"https://api.github.com/repos/psf/requests/git/blobs{/sha}\",\"git_tags_url\":\"https://api.github.com/repos/psf/requests/git/tags{/sha}\",\"git_refs_url\":\"https://api.github.com/repos/psf/requests/git/refs{/sha}\",\"trees_url\":\"https://api.github.com/repos/psf/requests/git/trees{/sha}\",\"statuses_url\":\"https://api.github.com/repos/psf/requests/statuses/{sha}\",\"languages_url\":\"https://api.github.com/repos/psf/requests/languages\",\"stargazers_url\":\"https://api.github.com/repos/psf/requests/stargazers\",\"contributors_url\":\"https://api.github.com/repos/psf/requests/contributors\",\"subscribers_url\":\"https://api.github.com/repos/psf/requests/subscribers\",\"subscription_url\":\"https://api.github.com/repos/psf/requests/subscription\",\"commits_url\":\"https://api.github.com/repos/psf/requests/commits{/sha}\",\"git_commits_url\":\"https://api.github.com/repos/psf/requests/git/commits{/sha}\",\"comments_url\":\"https://api.github.com/repos/psf/requests/comments{/number}\",\"issue_comment_url\":\"https://api.github.com/repos/psf/requests/issues/comments{/number}\",\"contents_url\":\"https://api.github.com/repos/psf/requests/contents/{+path}\",\"compare_url\":\"https://api.github.com/repos/psf/requests/compare/{base}...{head}\",\"merges_url\":\"https://api.github.com/repos/psf/requests/merges\",\"archive_url\":\"https://api.github.com/repos/psf/requests/{archive_format}{/ref}\",\"downloads_url\":\"https://api.github.com/repos/psf/requests/downloads\",\"issues_url\":\"https://api.github.com/repos/psf/requests/issues{/number}\",\"pulls_url\":\"https://api.github.com/repos/psf/requests/pulls{/number}\",\"milestones_url\":\"https://api.github.com/repos/psf/requests/milestones{/number}\",\"notifications_url\":\"https://api.github.com/repos/psf/requests/notifications{?since,all,participating}\",\"labels_url\":\"https://api.github.com/repos/psf/requests/labels{/name}\",\"releases_url\":\"https://api.github.com/repos/psf/requests/releases{/id}\",\"deployments_url\":\"https://api.github.com/repos/psf/requests/deployments\",\"created_at\":\"2011-02-13T18:38:17Z\",\"updated_at\":\"2021-02-16T15:09:42Z\",\"pushed_at\":\"2021-02-10T13:12:54Z\",\"git_url\":\"git://github.com/psf/requests.git\",\"ssh_url\":\"git@github.com:psf/requests.git\",\"clone_url\":\"https://github.com/psf/requests.git\",\"svn_url\":\"https://github.com/psf/requests\",\"homepage\":\"https://requests.readthedocs.io\",\"size\":12569,\"stargazers_count\":44597,\"watchers_count\":44597,\"language\":\"Python\",\"has_issues\":true,\"has_projects\":false,\"has_downloads\":true,\"has_wiki\":true,\"has_pages\":true,\"forks_count\":8139,\"mirror_url\":null,\"archived\":false,\"disabled\":false,\"open_issues_count\":314,\"license\":{\"key\":\"apache-2.0\",\"name\":\"Apache License 2.0\",\"spdx_id\":\"Apache-2.0\",\"url\":\"https://api.github.com/licenses/apache-2.0\",\"node_id\":\"MDc6TGljZW5zZTI=\"},\"forks\":8139,\"open_issues\":314,\"watchers\":44597,\"default_branch\":\"master\",\"score\":1.0},{\"id\":3378594,\"node_id\":\"MDEwOlJlcG9zaXRvcnkzMzc4NTk0\",\"name\":\"Requests\",\"full_name\":\"WordPress/Requests\",\"private\":false,\"owner\":{\"login\":\"WordPress\",\"id\":276006,\"node_id\":\"MDEyOk9yZ2FuaXphdGlvbjI3NjAwNg==\",\"avatar_url\":\"https://avatars.githubusercontent.com/u/276006?v=4\",\"gravatar_id\":\"\",\"url\":\"https://api.github.com/users/WordPress\",\"html_url\":\"https://github.com/WordPress\",\"followers_url\":\"https://api.github.com/users/WordPress/followers\",\"following_url\":\"https://api.github.com/users/WordPress/following{/other_user}\",\"gists_url\":\"https://api.github.com/users/WordPress/gists{/gist_id}\",\"starred_url\":\"https://api.github.com/users/WordPress/starred{/owner}{/repo}\",\"subscriptions_url\":\"https://api.github.com/users/WordPress/subscriptions\",\"organizations_url\":\"https://api.github.com/users/WordPress/orgs\",\"repos_url\":\"https://api.github.com/users/WordPress/repos\",\"events_url\":\"https://api.github.com/users/WordPress/events{/privacy}\",\"received_events_url\":\"https://api.github.com/users/WordPress/received_events\",\"type\":\"Organization\",\"site_admin\":false},\"html_url\":\"https://github.com/WordPress/Requests\",\"description\":\"Requests for PHP is a humble HTTP request library. It simplifies how you interact with other sites and takes away all your worries.\",\"fork\":false,\"url\":\"https://api.github.com/repos/WordPress/Requests\",\"forks_url\":\"https://api.github.com/repos/WordPress/Requests/forks\",\"keys_url\":\"https://api.github.com/repos/WordPress/Requests/keys{/key_id}\",\"collaborators_url\":\"https://api.github.com/repos/WordPress/Requests/collaborators{/collaborator}\",\"teams_url\":\"https://api.github.com/repos/WordPress/Requests/teams\",\"hooks_url\":\"https://api.github.com/repos/WordPress/Requests/hooks\",\"issue_events_url\":\"https://api.github.com/repos/WordPress/Requests/issues/events{/number}\",\"events_url\":\"https://api.github.com/repos/WordPress/Requests/events\",\"assignees_url\":\"https://api.github.com/repos/WordPress/Requests/assignees{/user}\",\"branches_url\":\"https://api.github.com/repos/WordPress/Requests/branches{/branch}\",\"tags_url\":\"https://api.github.com/repos/WordPress/Requests/tags\",\"blobs_url\":\"https://api.github.com/repos/WordPress/Requests/git/blobs{/sha}\",\"git_tags_url\":\"https://api.github.com/repos/WordPress/Requests/git/tags{/sha}\",\"git_refs_url\":\"https://api.github.com/repos/WordPress/Requests/git/refs{/sha}\",\"trees_url\":\"https://api.github.com/repos/WordPress/Requests/git/trees{/sha}\",\"statuses_url\":\"https://api.github.com/repos/WordPress/Requests/statuses/{sha}\",\"languages_url\":\"https://api.github.com/repos/WordPress/Requests/languages\",\"stargazers_url\":\"https://api.github.com/repos/WordPress/Requests/stargazers\",\"contributors_url\":\"https://api.github.com/repos/WordPress/Requests/contributors\",\"subscribers_url\":\"https://api.github.com/repos/WordPress/Requests/subscribers\",\"subscription_url\":\"https://api.github.com/repos/WordPress/Requests/subscription\",\"commits_url\":\"https://api.github.com/repos/WordPress/Requests/commits{/sha}\",\"git_commits_url\":\"https://api.github.com/repos/WordPress/Requests/git/commits{/sha}\",\"comments_url\":\"https://api.github.com/repos/WordPress/Requests/comments{/number}\",\"issue_comment_url\":\"https://api.github.com/repos/WordPress/Requests/issues/comments{/number}\",\"contents_url\":\"https://api.github.com/repos/WordPress/Requests/contents/{+path}\",\"compare_url\":\"https://api.github.com/repos/WordPress/Requests/compare/{base}...{head}\",\"merges_url\":\"https://api.github.com/repos/WordPress/Requests/merges\",\"archive_url\":\"https://api.github.com/repos/WordPress/Requests/{archive_format}{/ref}\",\"downloads_url\":\"https://api.github.com/repos/WordPress/Requests/downloads\",\"issues_url\":\"https://api.github.com/repos/WordPress/Requests/issues{/number}\",\"pulls_url\":\"https://api.github.com/repos/WordPress/Requests/pulls{/number}\",\"milestones_url\":\"https://api.github.com/repos/WordPress/Requests/milestones{/number}\",\"notifications_url\":\"https://api.github.com/repos/WordPress/Requests/notifications{?since,all,participating}\",\"labels_url\":\"https://api.github.com/repos/WordPress/Requests/labels{/name}\",\"releases_url\":\"https://api.github.com/repos/WordPress/Requests/releases{/id}\",\"deployments_url\":\"https://api.github.com/repos/WordPress/Requests/deployments\",\"created_at\":\"2012-02-07T15:37:48Z\",\"updated_at\":\"2021-02-16T12:34:36Z\",\"pushed_at\":\"2021-02-15T10:52:23Z\",\"git_url\":\"git://github.com/WordPress/Requests.git\",\"ssh_url\":\"git@github.com:WordPress/Requests.git\",\"clone_url\":\"https://github.com/WordPress/Requests.git\",\"svn_url\":\"https://github.com/WordPress/Requests\",\"homepage\":\"https://requests.ryanmccue.info/\",\"size\":2843,\"stargazers_count\":3334,\"watchers_count\":3334,\"language\":\"PHP\",\"has_issues\":true,\"has_projects\":true,\"has_downloads\":true,\"has_wiki\":false,\"has_pages\":true,\"forks_count\":487,\"mirror_url\":null,\"archived\":false,\"disabled\":false,\"open_issues_count\":106,\"license\":{\"key\":\"other\",\"name\":\"Other\",\"spdx_id\":\"NOASSERTION\",\"url\":null,\"node_id\":\"MDc6TGljZW5zZTA=\"},\"forks\":487,\"open_issues\":106,\"watchers\":3334,\"default_branch\":\"master\",\"score\":1.0},{\"id\":122775780,\"node_id\":\"MDEwOlJlcG9zaXRvcnkxMjI3NzU3ODA=\",\"name\":\"requests-html\",\"full_name\":\"psf/requests-html\",\"private\":false,\"owner\":{\"login\":\"psf\",\"id\":50630501,\"node_id\":\"MDEyOk9yZ2FuaXphdGlvbjUwNjMwNTAx\",\"avatar_url\":\"https://avatars.githubusercontent.com/u/50630501?v=4\",\"gravatar_id\":\"\",\"url\":\"https://api.github.com/users/psf\",\"html_url\":\"https://github.com/psf\",\"followers_url\":\"https://api.github.com/users/psf/followers\",\"following_url\":\"https://api.github.com/users/psf/following{/other_user}\",\"gists_url\":\"https://api.github.com/users/psf/gists{/gist_id}\",\"starred_url\":\"https://api.github.com/users/psf/starred{/owner}{/repo}\",\"subscriptions_url\":\"https://api.github.com/users/psf/subscriptions\",\"organizations_url\":\"https://api.github.com/users/psf/orgs\",\"repos_url\":\"https://api.github.com/users/psf/repos\",\"events_url\":\"https://api.github.com/users/psf/events{/privacy}\",\"received_events_url\":\"https://api.github.com/users/psf/received_events\",\"type\":\"Organization\",\"site_admin\":false},\"html_url\":\"https://github.com/psf/requests-html\",\"description\":\"Pythonic HTML Parsing for Humans™\",\"fork\":false,\"url\":\"https://api.github.com/repos/psf/requests-html\",\"forks_url\":\"https://api.github.com/repos/psf/requests-html/forks\",\"keys_url\":\"https://api.github.com/repos/psf/requests-html/keys{/key_id}\",\"collaborators_url\":\"https://api.github.com/repos/psf/requests-html/collaborators{/collaborator}\",\"teams_url\":\"https://api.github.com/repos/psf/requests-html/teams\",\"hooks_url\":\"https://api.github.com/repos/psf/requests-html/hooks\",\"issue_events_url\":\"https://api.github.com/repos/psf/requests-html/issues/events{/number}\",\"events_url\":\"https://api.github.com/repos/psf/requests-html/events\",\"assignees_url\":\"https://api.github.com/repos/psf/requests-html/assignees{/user}\",\"branches_url\":\"https://api.github.com/repos/psf/requests-html/branches{/branch}\",\"tags_url\":\"https://api.github.com/repos/psf/requests-html/tags\",\"blobs_url\":\"https://api.github.com/repos/psf/requests-html/git/blobs{/sha}\",\"git_tags_url\":\"https://api.github.com/repos/psf/requests-html/git/tags{/sha}\",\"git_refs_url\":\"https://api.github.com/repos/psf/requests-html/git/refs{/sha}\",\"trees_url\":\"https://api.github.com/repos/psf/requests-html/git/trees{/sha}\",\"statuses_url\":\"https://api.github.com/repos/psf/requests-html/statuses/{sha}\",\"languages_url\":\"https://api.github.com/repos/psf/requests-html/languages\",\"stargazers_url\":\"https://api.github.com/repos/psf/requests-html/stargazers\",\"contributors_url\":\"https://api.github.com/repos/psf/requests-html/contributors\",\"subscribers_url\":\"https://api.github.com/repos/psf/requests-html/subscribers\",\"subscription_url\":\"https://api.github.com/repos/psf/requests-html/subscription\",\"commits_url\":\"https://api.github.com/repos/psf/requests-html/commits{/sha}\",\"git_commits_url\":\"https://api.github.com/repos/psf/requests-html/git/commits{/sha}\",\"comments_url\":\"https://api.github.com/repos/psf/requests-html/comments{/number}\",\"issue_comment_url\":\"https://api.github.com/repos/psf/requests-html/issues/comments{/number}\",\"contents_url\":\"https://api.github.com/repos/psf/requests-html/contents/{+path}\",\"compare_url\":\"https://api.github.com/repos/psf/requests-html/compare/{base}...{head}\",\"merges_url\":\"https://api.github.com/repos/psf/requests-html/merges\",\"archive_url\":\"https://api.github.com/repos/psf/requests-html/{archive_format}{/ref}\",\"downloads_url\":\"https://api.github.com/repos/psf/requests-html/downloads\",\"issues_url\":\"https://api.github.com/repos/psf/requests-html/issues{/number}\",\"pulls_url\":\"https://api.github.com/repos/psf/requests-html/pulls{/number}\",\"milestones_url\":\"https://api.github.com/repos/psf/requests-html/milestones{/number}\",\"notifications_url\":\"https://api.github.com/repos/psf/requests-html/notifications{?since,all,participating}\",\"labels_url\":\"https://api.github.com/repos/psf/requests-html/labels{/name}\",\"releases_url\":\"https://api.github.com/repos/psf/requests-html/releases{/id}\",\"deployments_url\":\"https://api.github.com/repos/psf/requests-html/deployments\",\"created_at\":\"2018-02-24T20:11:02Z\",\"updated_at\":\"2021-02-16T15:40:37Z\",\"pushed_at\":\"2021-02-02T22:43:27Z\",\"git_url\":\"git://github.com/psf/requests-html.git\",\"ssh_url\":\"git@github.com:psf/requests-html.git\",\"clone_url\":\"https://github.com/psf/requests-html.git\",\"svn_url\":\"https://github.com/psf/requests-html\",\"homepage\":\"http://html.python-requests.org\",\"size\":2940,\"stargazers_count\":11499,\"watchers_count\":11499,\"language\":\"Python\",\"has_issues\":true,\"has_projects\":true,\"has_downloads\":true,\"has_wiki\":true,\"has_pages\":true,\"forks_count\":775,\"mirror_url\":null,\"archived\":false,\"disabled\":false,\"open_issues_count\":138,\"license\":{\"key\":\"mit\",\"name\":\"MIT License\",\"spdx_id\":\"MIT\",\"url\":\"https://api.github.com/licenses/mit\",\"node_id\":\"MDc6TGljZW5zZTEz\"},\"forks\":775,\"open_issues\":138,\"watchers\":11499,\"default_branch\":\"master\",\"score\":1.0},{\"id\":6825724,\"node_id\":\"MDEwOlJlcG9zaXRvcnk2ODI1NzI0\",\"name\":\"requests-oauthlib\",\"full_name\":\"requests/requests-oauthlib\",\"private\":false,\"owner\":{\"login\":\"requests\",\"id\":2805331,\"node_id\":\"MDEyOk9yZ2FuaXphdGlvbjI4MDUzMzE=\",\"avatar_url\":\"https://avatars.githubusercontent.com/u/2805331?v=4\",\"gravatar_id\":\"\",\"url\":\"https://api.github.com/users/requests\",\"html_url\":\"https://github.com/requests\",\"followers_url\":\"https://api.github.com/users/requests/followers\",\"following_url\":\"https://api.github.com/users/requests/following{/other_user}\",\"gists_url\":\"https://api.github.com/users/requests/gists{/gist_id}\",\"starred_url\":\"https://api.github.com/users/requests/starred{/owner}{/repo}\",\"subscriptions_url\":\"https://api.github.com/users/requests/subscriptions\",\"organizations_url\":\"https://api.github.com/users/requests/orgs\",\"repos_url\":\"https://api.github.com/users/requests/repos\",\"events_url\":\"https://api.github.com/users/requests/events{/privacy}\",\"received_events_url\":\"https://api.github.com/users/requests/received_events\",\"type\":\"Organization\",\"site_admin\":false},\"html_url\":\"https://github.com/requests/requests-oauthlib\",\"description\":\"OAuthlib support for Python-Requests!\",\"fork\":false,\"url\":\"https://api.github.com/repos/requests/requests-oauthlib\",\"forks_url\":\"https://api.github.com/repos/requests/requests-oauthlib/forks\",\"keys_url\":\"https://api.github.com/repos/requests/requests-oauthlib/keys{/key_id}\",\"collaborators_url\":\"https://api.github.com/repos/requests/requests-oauthlib/collaborators{/collaborator}\",\"teams_url\":\"https://api.github.com/repos/requests/requests-oauthlib/teams\",\"hooks_url\":\"https://api.github.com/repos/requests/requests-oauthlib/hooks\",\"issue_events_url\":\"https://api.github.com/repos/requests/requests-oauthlib/issues/events{/number}\",\"events_url\":\"https://api.github.com/repos/requests/requests-oauthlib/events\",\"assignees_url\":\"https://api.github.com/repos/requests/requests-oauthlib/assignees{/user}\",\"branches_url\":\"https://api.github.com/repos/requests/requests-oauthlib/branches{/branch}\",\"tags_url\":\"https://api.github.com/repos/requests/requests-oauthlib/tags\",\"blobs_url\":\"https://api.github.com/repos/requests/requests-oauthlib/git/blobs{/sha}\",\"git_tags_url\":\"https://api.github.com/repos/requests/requests-oauthlib/git/tags{/sha}\",\"git_refs_url\":\"https://api.github.com/repos/requests/requests-oauthlib/git/refs{/sha}\",\"trees_url\":\"https://api.github.com/repos/requests/requests-oauthlib/git/trees{/sha}\",\"statuses_url\":\"https://api.github.com/repos/requests/requests-oauthlib/statuses/{sha}\",\"languages_url\":\"https://api.github.com/repos/requests/requests-oauthlib/languages\",\"stargazers_url\":\"https://api.github.com/repos/requests/requests-oauthlib/stargazers\",\"contributors_url\":\"https://api.github.com/repos/requests/requests-oauthlib/contributors\",\"subscribers_url\":\"https://api.github.com/repos/requests/requests-oauthlib/subscribers\",\"subscription_url\":\"https://api.github.com/repos/requests/requests-oauthlib/subscription\",\"commits_url\":\"https://api.github.com/repos/requests/requests-oauthlib/commits{/sha}\",\"git_commits_url\":\"https://api.github.com/repos/requests/requests-oauthlib/git/commits{/sha}\",\"comments_url\":\"https://api.github.com/repos/requests/requests-oauthlib/comments{/number}\",\"issue_comment_url\":\"https://api.github.com/repos/requests/requests-oauthlib/issues/comments{/number}\",\"contents_url\":\"https://api.github.com/repos/requests/requests-oauthlib/contents/{+path}\",\"compare_url\":\"https://api.github.com/repos/requests/requests-oauthlib/compare/{base}...{head}\",\"merges_url\":\"https://api.github.com/repos/requests/requests-oauthlib/merges\",\"archive_url\":\"https://api.github.com/repos/requests/requests-oauthlib/{archive_format}{/ref}\",\"downloads_url\":\"https://api.github.com/repos/requests/requests-oauthlib/downloads\",\"issues_url\":\"https://api.github.com/repos/requests/requests-oauthlib/issues{/number}\",\"pulls_url\":\"https://api.github.com/repos/requests/requests-oauthlib/pulls{/number}\",\"milestones_url\":\"https://api.github.com/repos/requests/requests-oauthlib/milestones{/number}\",\"notifications_url\":\"https://api.github.com/repos/requests/requests-oauthlib/notifications{?since,all,participating}\",\"labels_url\":\"https://api.github.com/repos/requests/requests-oauthlib/labels{/name}\",\"releases_url\":\"https://api.github.com/repos/requests/requests-oauthlib/releases{/id}\",\"deployments_url\":\"https://api.github.com/repos/requests/requests-oauthlib/deployments\",\"created_at\":\"2012-11-23T10:19:44Z\",\"updated_at\":\"2021-02-11T20:57:48Z\",\"pushed_at\":\"2021-02-08T13:41:10Z\",\"git_url\":\"git://github.com/requests/requests-oauthlib.git\",\"ssh_url\":\"git@github.com:requests/requests-oauthlib.git\",\"clone_url\":\"https://github.com/requests/requests-oauthlib.git\",\"svn_url\":\"https://github.com/requests/requests-oauthlib\",\"homepage\":\"https://requests-oauthlib.readthedocs.org/\",\"size\":441,\"stargazers_count\":1357,\"watchers_count\":1357,\"language\":\"Python\",\"has_issues\":true,\"has_projects\":true,\"has_downloads\":true,\"has_wiki\":true,\"has_pages\":false,\"forks_count\":354,\"mirror_url\":null,\"archived\":false,\"disabled\":false,\"open_issues_count\":102,\"license\":{\"key\":\"isc\",\"name\":\"ISC License\",\"spdx_id\":\"ISC\",\"url\":\"https://api.github.com/licenses/isc\",\"node_id\":\"MDc6TGljZW5zZTEw\"},\"forks\":354,\"open_issues\":102,\"watchers\":1357,\"default_branch\":\"master\",\"score\":1.0},{\"id\":60587451,\"node_id\":\"MDEwOlJlcG9zaXRvcnk2MDU4NzQ1MQ==\",\"name\":\"requests-for-research\",\"full_name\":\"openai/requests-for-research\",\"private\":false,\"owner\":{\"login\":\"openai\",\"id\":14957082,\"node_id\":\"MDEyOk9yZ2FuaXphdGlvbjE0OTU3MDgy\",\"avatar_url\":\"https://avatars.githubusercontent.com/u/14957082?v=4\",\"gravatar_id\":\"\",\"url\":\"https://api.github.com/users/openai\",\"html_url\":\"https://github.com/openai\",\"followers_url\":\"https://api.github.com/users/openai/followers\",\"following_url\":\"https://api.github.com/users/openai/following{/other_user}\",\"gists_url\":\"https://api.github.com/users/openai/gists{/gist_id}\",\"starred_url\":\"https://api.github.com/users/openai/starred{/owner}{/repo}\",\"subscriptions_url\":\"https://api.github.com/users/openai/subscriptions\",\"organizations_url\":\"https://api.github.com/users/openai/orgs\",\"repos_url\":\"https://api.github.com/users/openai/repos\",\"events_url\":\"https://api.github.com/users/openai/events{/privacy}\",\"received_events_url\":\"https://api.github.com/users/openai/received_events\",\"type\":\"Organization\",\"site_admin\":false},\"html_url\":\"https://github.com/openai/requests-for-research\",\"description\":\"A living collection of deep learning problems\",\"fork\":false,\"url\":\"https://api.github.com/repos/openai/requests-for-research\",\"forks_url\":\"https://api.github.com/repos/openai/requests-for-research/forks\",\"keys_url\":\"https://api.github.com/repos/openai/requests-for-research/keys{/key_id}\",\"collaborators_url\":\"https://api.github.com/repos/openai/requests-for-research/collaborators{/collaborator}\",\"teams_url\":\"https://api.github.com/repos/openai/requests-for-research/teams\",\"hooks_url\":\"https://api.github.com/repos/openai/requests-for-research/hooks\",\"issue_events_url\":\"https://api.github.com/repos/openai/requests-for-research/issues/events{/number}\",\"events_url\":\"https://api.github.com/repos/openai/requests-for-research/events\",\"assignees_url\":\"https://api.github.com/repos/openai/requests-for-research/assignees{/user}\",\"branches_url\":\"https://api.github.com/repos/openai/requests-for-research/branches{/branch}\",\"tags_url\":\"https://api.github.com/repos/openai/requests-for-research/tags\",\"blobs_url\":\"https://api.github.com/repos/openai/requests-for-research/git/blobs{/sha}\",\"git_tags_url\":\"https://api.github.com/repos/openai/requests-for-research/git/tags{/sha}\",\"git_refs_url\":\"https://api.github.com/repos/openai/requests-for-research/git/refs{/sha}\",\"trees_url\":\"https://api.github.com/repos/openai/requests-for-research/git/trees{/sha}\",\"statuses_url\":\"https://api.github.com/repos/openai/requests-for-research/statuses/{sha}\",\"languages_url\":\"https://api.github.com/repos/openai/requests-for-research/languages\",\"stargazers_url\":\"https://api.github.com/repos/openai/requests-for-research/stargazers\",\"contributors_url\":\"https://api.github.com/repos/openai/requests-for-research/contributors\",\"subscribers_url\":\"https://api.github.com/repos/openai/requests-for-research/subscribers\",\"subscription_url\":\"https://api.github.com/repos/openai/requests-for-research/subscription\",\"commits_url\":\"https://api.github.com/repos/openai/requests-for-research/commits{/sha}\",\"git_commits_url\":\"https://api.github.com/repos/openai/requests-for-research/git/commits{/sha}\",\"comments_url\":\"https://api.github.com/repos/openai/requests-for-research/comments{/number}\",\"issue_comment_url\":\"https://api.github.com/repos/openai/requests-for-research/issues/comments{/number}\",\"contents_url\":\"https://api.github.com/repos/openai/requests-for-research/contents/{+path}\",\"compare_url\":\"https://api.github.com/repos/openai/requests-for-research/compare/{base}...{head}\",\"merges_url\":\"https://api.github.com/repos/openai/requests-for-research/merges\",\"archive_url\":\"https://api.github.com/repos/openai/requests-for-research/{archive_format}{/ref}\",\"downloads_url\":\"https://api.github.com/repos/openai/requests-for-research/downloads\",\"issues_url\":\"https://api.github.com/repos/openai/requests-for-research/issues{/number}\",\"pulls_url\":\"https://api.github.com/repos/openai/requests-for-research/pulls{/number}\",\"milestones_url\":\"https://api.github.com/repos/openai/requests-for-research/milestones{/number}\",\"notifications_url\":\"https://api.github.com/repos/openai/requests-for-research/notifications{?since,all,participating}\",\"labels_url\":\"https://api.github.com/repos/openai/requests-for-research/labels{/name}\",\"releases_url\":\"https://api.github.com/repos/openai/requests-for-research/releases{/id}\",\"deployments_url\":\"https://api.github.com/repos/openai/requests-for-research/deployments\",\"created_at\":\"2016-06-07T06:20:19Z\",\"updated_at\":\"2021-02-13T12:56:29Z\",\"pushed_at\":\"2018-11-28T21:19:54Z\",\"git_url\":\"git://github.com/openai/requests-for-research.git\",\"ssh_url\":\"git@github.com:openai/requests-for-research.git\",\"clone_url\":\"https://github.com/openai/requests-for-research.git\",\"svn_url\":\"https://github.com/openai/requests-for-research\",\"homepage\":\"https://openai.com/requests-for-research\",\"size\":67,\"stargazers_count\":1515,\"watchers_count\":1515,\"language\":\"HTML\",\"has_issues\":true,\"has_projects\":true,\"has_downloads\":true,\"has_wiki\":true,\"has_pages\":false,\"forks_count\":612,\"mirror_url\":null,\"archived\":false,\"disabled\":false,\"open_issues_count\":12,\"license\":null,\"forks\":612,\"open_issues\":12,\"watchers\":1515,\"default_branch\":\"master\",\"score\":1.0},{\"id\":98105748,\"node_id\":\"MDEwOlJlcG9zaXRvcnk5ODEwNTc0OA==\",\"name\":\"jsr\",\"full_name\":\"mercyblitz/jsr\",\"private\":false,\"owner\":{\"login\":\"mercyblitz\",\"id\":533114,\"node_id\":\"MDQ6VXNlcjUzMzExNA==\",\"avatar_url\":\"https://avatars.githubusercontent.com/u/533114?v=4\",\"gravatar_id\":\"\",\"url\":\"https://api.github.com/users/mercyblitz\",\"html_url\":\"https://github.com/mercyblitz\",\"followers_url\":\"https://api.github.com/users/mercyblitz/followers\",\"following_url\":\"https://api.github.com/users/mercyblitz/following{/other_user}\",\"gists_url\":\"https://api.github.com/users/mercyblitz/gists{/gist_id}\",\"starred_url\":\"https://api.github.com/users/mercyblitz/starred{/owner}{/repo}\",\"subscriptions_url\":\"https://api.github.com/users/mercyblitz/subscriptions\",\"organizations_url\":\"https://api.github.com/users/mercyblitz/orgs\",\"repos_url\":\"https://api.github.com/users/mercyblitz/repos\",\"events_url\":\"https://api.github.com/users/mercyblitz/events{/privacy}\",\"received_events_url\":\"https://api.github.com/users/mercyblitz/received_events\",\"type\":\"User\",\"site_admin\":false},\"html_url\":\"https://github.com/mercyblitz/jsr\",\"description\":\"Java Specification Requests \",\"fork\":false,\"url\":\"https://api.github.com/repos/mercyblitz/jsr\",\"forks_url\":\"https://api.github.com/repos/mercyblitz/jsr/forks\",\"keys_url\":\"https://api.github.com/repos/mercyblitz/jsr/keys{/key_id}\",\"collaborators_url\":\"https://api.github.com/repos/mercyblitz/jsr/collaborators{/collaborator}\",\"teams_url\":\"https://api.github.com/repos/mercyblitz/jsr/teams\",\"hooks_url\":\"https://api.github.com/repos/mercyblitz/jsr/hooks\",\"issue_events_url\":\"https://api.github.com/repos/mercyblitz/jsr/issues/events{/number}\",\"events_url\":\"https://api.github.com/repos/mercyblitz/jsr/events\",\"assignees_url\":\"https://api.github.com/repos/mercyblitz/jsr/assignees{/user}\",\"branches_url\":\"https://api.github.com/repos/mercyblitz/jsr/branches{/branch}\",\"tags_url\":\"https://api.github.com/repos/mercyblitz/jsr/tags\",\"blobs_url\":\"https://api.github.com/repos/mercyblitz/jsr/git/blobs{/sha}\",\"git_tags_url\":\"https://api.github.com/repos/mercyblitz/jsr/git/tags{/sha}\",\"git_refs_url\":\"https://api.github.com/repos/mercyblitz/jsr/git/refs{/sha}\",\"trees_url\":\"https://api.github.com/repos/mercyblitz/jsr/git/trees{/sha}\",\"statuses_url\":\"https://api.github.com/repos/mercyblitz/jsr/statuses/{sha}\",\"languages_url\":\"https://api.github.com/repos/mercyblitz/jsr/languages\",\"stargazers_url\":\"https://api.github.com/repos/mercyblitz/jsr/stargazers\",\"contributors_url\":\"https://api.github.com/repos/mercyblitz/jsr/contributors\",\"subscribers_url\":\"https://api.github.com/repos/mercyblitz/jsr/subscribers\",\"subscription_url\":\"https://api.github.com/repos/mercyblitz/jsr/subscription\",\"commits_url\":\"https://api.github.com/repos/mercyblitz/jsr/commits{/sha}\",\"git_commits_url\":\"https://api.github.com/repos/mercyblitz/jsr/git/commits{/sha}\",\"comments_url\":\"https://api.github.com/repos/mercyblitz/jsr/comments{/number}\",\"issue_comment_url\":\"https://api.github.com/repos/mercyblitz/jsr/issues/comments{/number}\",\"contents_url\":\"https://api.github.com/repos/mercyblitz/jsr/contents/{+path}\",\"compare_url\":\"https://api.github.com/repos/mercyblitz/jsr/compare/{base}...{head}\",\"merges_url\":\"https://api.github.com/repos/mercyblitz/jsr/merges\",\"archive_url\":\"https://api.github.com/repos/mercyblitz/jsr/{archive_format}{/ref}\",\"downloads_url\":\"https://api.github.com/repos/mercyblitz/jsr/downloads\",\"issues_url\":\"https://api.github.com/repos/mercyblitz/jsr/issues{/number}\",\"pulls_url\":\"https://api.github.com/repos/mercyblitz/jsr/pulls{/number}\",\"milestones_url\":\"https://api.github.com/repos/mercyblitz/jsr/milestones{/number}\",\"notifications_url\":\"https://api.github.com/repos/mercyblitz/jsr/notifications{?since,all,participating}\",\"labels_url\":\"https://api.github.com/repos/mercyblitz/jsr/labels{/name}\",\"releases_url\":\"https://api.github.com/repos/mercyblitz/jsr/releases{/id}\",\"deployments_url\":\"https://api.github.com/repos/mercyblitz/jsr/deployments\",\"created_at\":\"2017-07-23T15:05:33Z\",\"updated_at\":\"2021-02-06T09:04:23Z\",\"pushed_at\":\"2019-07-01T08:49:48Z\",\"git_url\":\"git://github.com/mercyblitz/jsr.git\",\"ssh_url\":\"git@github.com:mercyblitz/jsr.git\",\"clone_url\":\"https://github.com/mercyblitz/jsr.git\",\"svn_url\":\"https://github.com/mercyblitz/jsr\",\"homepage\":\"https://www.jcp.org/en/home/index\",\"size\":118229,\"stargazers_count\":1776,\"watchers_count\":1776,\"language\":\"HTML\",\"has_issues\":true,\"has_projects\":true,\"has_downloads\":true,\"has_wiki\":true,\"has_pages\":false,\"forks_count\":959,\"mirror_url\":null,\"archived\":false,\"disabled\":false,\"open_issues_count\":1,\"license\":null,\"forks\":959,\"open_issues\":1,\"watchers\":1776,\"default_branch\":\"master\",\"score\":1.0},{\"id\":54014144,\"node_id\":\"MDEwOlJlcG9zaXRvcnk1NDAxNDE0NA==\",\"name\":\"read_requests\",\"full_name\":\"wangshunping/read_requests\",\"private\":false,\"owner\":{\"login\":\"wangshunping\",\"id\":10842398,\"node_id\":\"MDQ6VXNlcjEwODQyMzk4\",\"avatar_url\":\"https://avatars.githubusercontent.com/u/10842398?v=4\",\"gravatar_id\":\"\",\"url\":\"https://api.github.com/users/wangshunping\",\"html_url\":\"https://github.com/wangshunping\",\"followers_url\":\"https://api.github.com/users/wangshunping/followers\",\"following_url\":\"https://api.github.com/users/wangshunping/following{/other_user}\",\"gists_url\":\"https://api.github.com/users/wangshunping/gists{/gist_id}\",\"starred_url\":\"https://api.github.com/users/wangshunping/starred{/owner}{/repo}\",\"subscriptions_url\":\"https://api.github.com/users/wangshunping/subscriptions\",\"organizations_url\":\"https://api.github.com/users/wangshunping/orgs\",\"repos_url\":\"https://api.github.com/users/wangshunping/repos\",\"events_url\":\"https://api.github.com/users/wangshunping/events{/privacy}\",\"received_events_url\":\"https://api.github.com/users/wangshunping/received_events\",\"type\":\"User\",\"site_admin\":false},\"html_url\":\"https://github.com/wangshunping/read_requests\",\"description\":\"python requests 源码阅读，学习更pythonic 的python代码写法。\",\"fork\":false,\"url\":\"https://api.github.com/repos/wangshunping/read_requests\",\"forks_url\":\"https://api.github.com/repos/wangshunping/read_requests/forks\",\"keys_url\":\"https://api.github.com/repos/wangshunping/read_requests/keys{/key_id}\",\"collaborators_url\":\"https://api.github.com/repos/wangshunping/read_requests/collaborators{/collaborator}\",\"teams_url\":\"https://api.github.com/repos/wangshunping/read_requests/teams\",\"hooks_url\":\"https://api.github.com/repos/wangshunping/read_requests/hooks\",\"issue_events_url\":\"https://api.github.com/repos/wangshunping/read_requests/issues/events{/number}\",\"events_url\":\"https://api.github.com/repos/wangshunping/read_requests/events\",\"assignees_url\":\"https://api.github.com/repos/wangshunping/read_requests/assignees{/user}\",\"branches_url\":\"https://api.github.com/repos/wangshunping/read_requests/branches{/branch}\",\"tags_url\":\"https://api.github.com/repos/wangshunping/read_requests/tags\",\"blobs_url\":\"https://api.github.com/repos/wangshunping/read_requests/git/blobs{/sha}\",\"git_tags_url\":\"https://api.github.com/repos/wangshunping/read_requests/git/tags{/sha}\",\"git_refs_url\":\"https://api.github.com/repos/wangshunping/read_requests/git/refs{/sha}\",\"trees_url\":\"https://api.github.com/repos/wangshunping/read_requests/git/trees{/sha}\",\"statuses_url\":\"https://api.github.com/repos/wangshunping/read_requests/statuses/{sha}\",\"languages_url\":\"https://api.github.com/repos/wangshunping/read_requests/languages\",\"stargazers_url\":\"https://api.github.com/repos/wangshunping/read_requests/stargazers\",\"contributors_url\":\"https://api.github.com/repos/wangshunping/read_requests/contributors\",\"subscribers_url\":\"https://api.github.com/repos/wangshunping/read_requests/subscribers\",\"subscription_url\":\"https://api.github.com/repos/wangshunping/read_requests/subscription\",\"commits_url\":\"https://api.github.com/repos/wangshunping/read_requests/commits{/sha}\",\"git_commits_url\":\"https://api.github.com/repos/wangshunping/read_requests/git/commits{/sha}\",\"comments_url\":\"https://api.github.com/repos/wangshunping/read_requests/comments{/number}\",\"issue_comment_url\":\"https://api.github.com/repos/wangshunping/read_requests/issues/comments{/number}\",\"contents_url\":\"https://api.github.com/repos/wangshunping/read_requests/contents/{+path}\",\"compare_url\":\"https://api.github.com/repos/wangshunping/read_requests/compare/{base}...{head}\",\"merges_url\":\"https://api.github.com/repos/wangshunping/read_requests/merges\",\"archive_url\":\"https://api.github.com/repos/wangshunping/read_requests/{archive_format}{/ref}\",\"downloads_url\":\"https://api.github.com/repos/wangshunping/read_requests/downloads\",\"issues_url\":\"https://api.github.com/repos/wangshunping/read_requests/issues{/number}\",\"pulls_url\":\"https://api.github.com/repos/wangshunping/read_requests/pulls{/number}\",\"milestones_url\":\"https://api.github.com/repos/wangshunping/read_requests/milestones{/number}\",\"notifications_url\":\"https://api.github.com/repos/wangshunping/read_requests/notifications{?since,all,participating}\",\"labels_url\":\"https://api.github.com/repos/wangshunping/read_requests/labels{/name}\",\"releases_url\":\"https://api.github.com/repos/wangshunping/read_requests/releases{/id}\",\"deployments_url\":\"https://api.github.com/repos/wangshunping/read_requests/deployments\",\"created_at\":\"2016-03-16T08:31:47Z\",\"updated_at\":\"2021-02-10T00:48:35Z\",\"pushed_at\":\"2019-08-23T09:09:37Z\",\"git_url\":\"git://github.com/wangshunping/read_requests.git\",\"ssh_url\":\"git@github.com:wangshunping/read_requests.git\",\"clone_url\":\"https://github.com/wangshunping/read_requests.git\",\"svn_url\":\"https://github.com/wangshunping/read_requests\",\"homepage\":null,\"size\":625,\"stargazers_count\":956,\"watchers_count\":956,\"language\":null,\"has_issues\":true,\"has_projects\":true,\"has_downloads\":true,\"has_wiki\":true,\"has_pages\":false,\"forks_count\":236,\"mirror_url\":null,\"archived\":false,\"disabled\":false,\"open_issues_count\":14,\"license\":null,\"forks\":236,\"open_issues\":14,\"watchers\":956,\"default_branch\":\"master\",\"score\":1.0},{\"id\":27161323,\"node_id\":\"MDEwOlJlcG9zaXRvcnkyNzE2MTMyMw==\",\"name\":\"requests\",\"full_name\":\"hsiafan/requests\",\"private\":false,\"owner\":{\"login\":\"hsiafan\",\"id\":1498664,\"node_id\":\"MDQ6VXNlcjE0OTg2NjQ=\",\"avatar_url\":\"https://avatars.githubusercontent.com/u/1498664?v=4\",\"gravatar_id\":\"\",\"url\":\"https://api.github.com/users/hsiafan\",\"html_url\":\"https://github.com/hsiafan\",\"followers_url\":\"https://api.github.com/users/hsiafan/followers\",\"following_url\":\"https://api.github.com/users/hsiafan/following{/other_user}\",\"gists_url\":\"https://api.github.com/users/hsiafan/gists{/gist_id}\",\"starred_url\":\"https://api.github.com/users/hsiafan/starred{/owner}{/repo}\",\"subscriptions_url\":\"https://api.github.com/users/hsiafan/subscriptions\",\"organizations_url\":\"https://api.github.com/users/hsiafan/orgs\",\"repos_url\":\"https://api.github.com/users/hsiafan/repos\",\"events_url\":\"https://api.github.com/users/hsiafan/events{/privacy}\",\"received_events_url\":\"https://api.github.com/users/hsiafan/received_events\",\"type\":\"User\",\"site_admin\":false},\"html_url\":\"https://github.com/hsiafan/requests\",\"description\":\"Convenient http client for java,  inspired by python request module\",\"fork\":false,\"url\":\"https://api.github.com/repos/hsiafan/requests\",\"forks_url\":\"https://api.github.com/repos/hsiafan/requests/forks\",\"keys_url\":\"https://api.github.com/repos/hsiafan/requests/keys{/key_id}\",\"collaborators_url\":\"https://api.github.com/repos/hsiafan/requests/collaborators{/collaborator}\",\"teams_url\":\"https://api.github.com/repos/hsiafan/requests/teams\",\"hooks_url\":\"https://api.github.com/repos/hsiafan/requests/hooks\",\"issue_events_url\":\"https://api.github.com/repos/hsiafan/requests/issues/events{/number}\",\"events_url\":\"https://api.github.com/repos/hsiafan/requests/events\",\"assignees_url\":\"https://api.github.com/repos/hsiafan/requests/assignees{/user}\",\"branches_url\":\"https://api.github.com/repos/hsiafan/requests/branches{/branch}\",\"tags_url\":\"https://api.github.com/repos/hsiafan/requests/tags\",\"blobs_url\":\"https://api.github.com/repos/hsiafan/requests/git/blobs{/sha}\",\"git_tags_url\":\"https://api.github.com/repos/hsiafan/requests/git/tags{/sha}\",\"git_refs_url\":\"https://api.github.com/repos/hsiafan/requests/git/refs{/sha}\",\"trees_url\":\"https://api.github.com/repos/hsiafan/requests/git/trees{/sha}\",\"statuses_url\":\"https://api.github.com/repos/hsiafan/requests/statuses/{sha}\",\"languages_url\":\"https://api.github.com/repos/hsiafan/requests/languages\",\"stargazers_url\":\"https://api.github.com/repos/hsiafan/requests/stargazers\",\"contributors_url\":\"https://api.github.com/repos/hsiafan/requests/contributors\",\"subscribers_url\":\"https://api.github.com/repos/hsiafan/requests/subscribers\",\"subscription_url\":\"https://api.github.com/repos/hsiafan/requests/subscription\",\"commits_url\":\"https://api.github.com/repos/hsiafan/requests/commits{/sha}\",\"git_commits_url\":\"https://api.github.com/repos/hsiafan/requests/git/commits{/sha}\",\"comments_url\":\"https://api.github.com/repos/hsiafan/requests/comments{/number}\",\"issue_comment_url\":\"https://api.github.com/repos/hsiafan/requests/issues/comments{/number}\",\"contents_url\":\"https://api.github.com/repos/hsiafan/requests/contents/{+path}\",\"compare_url\":\"https://api.github.com/repos/hsiafan/requests/compare/{base}...{head}\",\"merges_url\":\"https://api.github.com/repos/hsiafan/requests/merges\",\"archive_url\":\"https://api.github.com/repos/hsiafan/requests/{archive_format}{/ref}\",\"downloads_url\":\"https://api.github.com/repos/hsiafan/requests/downloads\",\"issues_url\":\"https://api.github.com/repos/hsiafan/requests/issues{/number}\",\"pulls_url\":\"https://api.github.com/repos/hsiafan/requests/pulls{/number}\",\"milestones_url\":\"https://api.github.com/repos/hsiafan/requests/milestones{/number}\",\"notifications_url\":\"https://api.github.com/repos/hsiafan/requests/notifications{?since,all,participating}\",\"labels_url\":\"https://api.github.com/repos/hsiafan/requests/labels{/name}\",\"releases_url\":\"https://api.github.com/repos/hsiafan/requests/releases{/id}\",\"deployments_url\":\"https://api.github.com/repos/hsiafan/requests/deployments\",\"created_at\":\"2014-11-26T05:37:27Z\",\"updated_at\":\"2021-02-12T13:40:18Z\",\"pushed_at\":\"2019-12-19T05:14:26Z\",\"git_url\":\"git://github.com/hsiafan/requests.git\",\"ssh_url\":\"git@github.com:hsiafan/requests.git\",\"clone_url\":\"https://github.com/hsiafan/requests.git\",\"svn_url\":\"https://github.com/hsiafan/requests\",\"homepage\":\"\",\"size\":601,\"stargazers_count\":458,\"watchers_count\":458,\"language\":\"Java\",\"has_issues\":true,\"has_projects\":true,\"has_downloads\":true,\"has_wiki\":true,\"has_pages\":false,\"forks_count\":114,\"mirror_url\":null,\"archived\":true,\"disabled\":false,\"open_issues_count\":12,\"license\":{\"key\":\"bsd-2-clause\",\"name\":\"BSD 2-Clause \\\"Simplified\\\" License\",\"spdx_id\":\"BSD-2-Clause\",\"url\":\"https://api.github.com/licenses/bsd-2-clause\",\"node_id\":\"MDc6TGljZW5zZTQ=\"},\"forks\":114,\"open_issues\":12,\"watchers\":458,\"default_branch\":\"master\",\"score\":1.0},{\"id\":1283503,\"node_id\":\"MDEwOlJlcG9zaXRvcnkxMjgzNTAz\",\"name\":\"request\",\"full_name\":\"request/request\",\"private\":false,\"owner\":{\"login\":\"request\",\"id\":730467,\"node_id\":\"MDEyOk9yZ2FuaXphdGlvbjczMDQ2Nw==\",\"avatar_url\":\"https://avatars.githubusercontent.com/u/730467?v=4\",\"gravatar_id\":\"\",\"url\":\"https://api.github.com/users/request\",\"html_url\":\"https://github.com/request\",\"followers_url\":\"https://api.github.com/users/request/followers\",\"following_url\":\"https://api.github.com/users/request/following{/other_user}\",\"gists_url\":\"https://api.github.com/users/request/gists{/gist_id}\",\"starred_url\":\"https://api.github.com/users/request/starred{/owner}{/repo}\",\"subscriptions_url\":\"https://api.github.com/users/request/subscriptions\",\"organizations_url\":\"https://api.github.com/users/request/orgs\",\"repos_url\":\"https://api.github.com/users/request/repos\",\"events_url\":\"https://api.github.com/users/request/events{/privacy}\",\"received_events_url\":\"https://api.github.com/users/request/received_events\",\"type\":\"Organization\",\"site_admin\":false},\"html_url\":\"https://github.com/request/request\",\"description\":\"🏊🏾 Simplified HTTP request client.\",\"fork\":false,\"url\":\"https://api.github.com/repos/request/request\",\"forks_url\":\"https://api.github.com/repos/request/request/forks\",\"keys_url\":\"https://api.github.com/repos/request/request/keys{/key_id}\",\"collaborators_url\":\"https://api.github.com/repos/request/request/collaborators{/collaborator}\",\"teams_url\":\"https://api.github.com/repos/request/request/teams\",\"hooks_url\":\"https://api.github.com/repos/request/request/hooks\",\"issue_events_url\":\"https://api.github.com/repos/request/request/issues/events{/number}\",\"events_url\":\"https://api.github.com/repos/request/request/events\",\"assignees_url\":\"https://api.github.com/repos/request/request/assignees{/user}\",\"branches_url\":\"https://api.github.com/repos/request/request/branches{/branch}\",\"tags_url\":\"https://api.github.com/repos/request/request/tags\",\"blobs_url\":\"https://api.github.com/repos/request/request/git/blobs{/sha}\",\"git_tags_url\":\"https://api.github.com/repos/request/request/git/tags{/sha}\",\"git_refs_url\":\"https://api.github.com/repos/request/request/git/refs{/sha}\",\"trees_url\":\"https://api.github.com/repos/request/request/git/trees{/sha}\",\"statuses_url\":\"https://api.github.com/repos/request/request/statuses/{sha}\",\"languages_url\":\"https://api.github.com/repos/request/request/languages\",\"stargazers_url\":\"https://api.github.com/repos/request/request/stargazers\",\"contributors_url\":\"https://api.github.com/repos/request/request/contributors\",\"subscribers_url\":\"https://api.github.com/repos/request/request/subscribers\",\"subscription_url\":\"https://api.github.com/repos/request/request/subscription\",\"commits_url\":\"https://api.github.com/repos/request/request/commits{/sha}\",\"git_commits_url\":\"https://api.github.com/repos/request/request/git/commits{/sha}\",\"comments_url\":\"https://api.github.com/repos/request/request/comments{/number}\",\"issue_comment_url\":\"https://api.github.com/repos/request/request/issues/comments{/number}\",\"contents_url\":\"https://api.github.com/repos/request/request/contents/{+path}\",\"compare_url\":\"https://api.github.com/repos/request/request/compare/{base}...{head}\",\"merges_url\":\"https://api.github.com/repos/request/request/merges\",\"archive_url\":\"https://api.github.com/repos/request/request/{archive_format}{/ref}\",\"downloads_url\":\"https://api.github.com/repos/request/request/downloads\",\"issues_url\":\"https://api.github.com/repos/request/request/issues{/number}\",\"pulls_url\":\"https://api.github.com/repos/request/request/pulls{/number}\",\"milestones_url\":\"https://api.github.com/repos/request/request/milestones{/number}\",\"notifications_url\":\"https://api.github.com/repos/request/request/notifications{?since,all,participating}\",\"labels_url\":\"https://api.github.com/repos/request/request/labels{/name}\",\"releases_url\":\"https://api.github.com/repos/request/request/releases{/id}\",\"deployments_url\":\"https://api.github.com/repos/request/request/deployments\",\"created_at\":\"2011-01-23T01:25:14Z\",\"updated_at\":\"2021-02-16T15:45:15Z\",\"pushed_at\":\"2020-12-31T03:04:35Z\",\"git_url\":\"git://github.com/request/request.git\",\"ssh_url\":\"git@github.com:request/request.git\",\"clone_url\":\"https://github.com/request/request.git\",\"svn_url\":\"https://github.com/request/request\",\"homepage\":\"\",\"size\":2290,\"stargazers_count\":25022,\"watchers_count\":25022,\"language\":\"JavaScript\",\"has_issues\":true,\"has_projects\":false,\"has_downloads\":true,\"has_wiki\":false,\"has_pages\":false,\"forks_count\":3044,\"mirror_url\":null,\"archived\":false,\"disabled\":false,\"open_issues_count\":140,\"license\":{\"key\":\"apache-2.0\",\"name\":\"Apache License 2.0\",\"spdx_id\":\"Apache-2.0\",\"url\":\"https://api.github.com/licenses/apache-2.0\",\"node_id\":\"MDc6TGljZW5zZTI=\"},\"forks\":3044,\"open_issues\":140,\"watchers\":25022,\"default_branch\":\"master\",\"score\":1.0},{\"id\":8930430,\"node_id\":\"MDEwOlJlcG9zaXRvcnk4OTMwNDMw\",\"name\":\"requests-futures\",\"full_name\":\"ross/requests-futures\",\"private\":false,\"owner\":{\"login\":\"ross\",\"id\":12789,\"node_id\":\"MDQ6VXNlcjEyNzg5\",\"avatar_url\":\"https://avatars.githubusercontent.com/u/12789?v=4\",\"gravatar_id\":\"\",\"url\":\"https://api.github.com/users/ross\",\"html_url\":\"https://github.com/ross\",\"followers_url\":\"https://api.github.com/users/ross/followers\",\"following_url\":\"https://api.github.com/users/ross/following{/other_user}\",\"gists_url\":\"https://api.github.com/users/ross/gists{/gist_id}\",\"starred_url\":\"https://api.github.com/users/ross/starred{/owner}{/repo}\",\"subscriptions_url\":\"https://api.github.com/users/ross/subscriptions\",\"organizations_url\":\"https://api.github.com/users/ross/orgs\",\"repos_url\":\"https://api.github.com/users/ross/repos\",\"events_url\":\"https://api.github.com/users/ross/events{/privacy}\",\"received_events_url\":\"https://api.github.com/users/ross/received_events\",\"type\":\"User\",\"site_admin\":true},\"html_url\":\"https://github.com/ross/requests-futures\",\"description\":\"Asynchronous Python HTTP Requests for Humans using Futures\",\"fork\":false,\"url\":\"https://api.github.com/repos/ross/requests-futures\",\"forks_url\":\"https://api.github.com/repos/ross/requests-futures/forks\",\"keys_url\":\"https://api.github.com/repos/ross/requests-futures/keys{/key_id}\",\"collaborators_url\":\"https://api.github.com/repos/ross/requests-futures/collaborators{/collaborator}\",\"teams_url\":\"https://api.github.com/repos/ross/requests-futures/teams\",\"hooks_url\":\"https://api.github.com/repos/ross/requests-futures/hooks\",\"issue_events_url\":\"https://api.github.com/repos/ross/requests-futures/issues/events{/number}\",\"events_url\":\"https://api.github.com/repos/ross/requests-futures/events\",\"assignees_url\":\"https://api.github.com/repos/ross/requests-futures/assignees{/user}\",\"branches_url\":\"https://api.github.com/repos/ross/requests-futures/branches{/branch}\",\"tags_url\":\"https://api.github.com/repos/ross/requests-futures/tags\",\"blobs_url\":\"https://api.github.com/repos/ross/requests-futures/git/blobs{/sha}\",\"git_tags_url\":\"https://api.github.com/repos/ross/requests-futures/git/tags{/sha}\",\"git_refs_url\":\"https://api.github.com/repos/ross/requests-futures/git/refs{/sha}\",\"trees_url\":\"https://api.github.com/repos/ross/requests-futures/git/trees{/sha}\",\"statuses_url\":\"https://api.github.com/repos/ross/requests-futures/statuses/{sha}\",\"languages_url\":\"https://api.github.com/repos/ross/requests-futures/languages\",\"stargazers_url\":\"https://api.github.com/repos/ross/requests-futures/stargazers\",\"contributors_url\":\"https://api.github.com/repos/ross/requests-futures/contributors\",\"subscribers_url\":\"https://api.github.com/repos/ross/requests-futures/subscribers\",\"subscription_url\":\"https://api.github.com/repos/ross/requests-futures/subscription\",\"commits_url\":\"https://api.github.com/repos/ross/requests-futures/commits{/sha}\",\"git_commits_url\":\"https://api.github.com/repos/ross/requests-futures/git/commits{/sha}\",\"comments_url\":\"https://api.github.com/repos/ross/requests-futures/comments{/number}\",\"issue_comment_url\":\"https://api.github.com/repos/ross/requests-futures/issues/comments{/number}\",\"contents_url\":\"https://api.github.com/repos/ross/requests-futures/contents/{+path}\",\"compare_url\":\"https://api.github.com/repos/ross/requests-futures/compare/{base}...{head}\",\"merges_url\":\"https://api.github.com/repos/ross/requests-futures/merges\",\"archive_url\":\"https://api.github.com/repos/ross/requests-futures/{archive_format}{/ref}\",\"downloads_url\":\"https://api.github.com/repos/ross/requests-futures/downloads\",\"issues_url\":\"https://api.github.com/repos/ross/requests-futures/issues{/number}\",\"pulls_url\":\"https://api.github.com/repos/ross/requests-futures/pulls{/number}\",\"milestones_url\":\"https://api.github.com/repos/ross/requests-futures/milestones{/number}\",\"notifications_url\":\"https://api.github.com/repos/ross/requests-futures/notifications{?since,all,participating}\",\"labels_url\":\"https://api.github.com/repos/ross/requests-futures/labels{/name}\",\"releases_url\":\"https://api.github.com/repos/ross/requests-futures/releases{/id}\",\"deployments_url\":\"https://api.github.com/repos/ross/requests-futures/deployments\",\"created_at\":\"2013-03-21T14:20:03Z\",\"updated_at\":\"2021-02-16T14:47:44Z\",\"pushed_at\":\"2021-01-13T15:48:46Z\",\"git_url\":\"git://github.com/ross/requests-futures.git\",\"ssh_url\":\"git@github.com:ross/requests-futures.git\",\"clone_url\":\"https://github.com/ross/requests-futures.git\",\"svn_url\":\"https://github.com/ross/requests-futures\",\"homepage\":null,\"size\":76,\"stargazers_count\":1718,\"watchers_count\":1718,\"language\":\"Python\",\"has_issues\":true,\"has_projects\":true,\"has_downloads\":true,\"has_wiki\":true,\"has_pages\":false,\"forks_count\":137,\"mirror_url\":null,\"archived\":false,\"disabled\":false,\"open_issues_count\":17,\"license\":{\"key\":\"other\",\"name\":\"Other\",\"spdx_id\":\"NOASSERTION\",\"url\":null,\"node_id\":\"MDc6TGljZW5zZTA=\"},\"forks\":137,\"open_issues\":17,\"watchers\":1718,\"default_branch\":\"master\",\"score\":1.0}]}\n"
     ]
    }
   ],
   "source": [
    "import requests as r\n",
    "response = r.get(url)\n",
    "\n",
    "print(response.status_code)\n",
    "print(response.text)"
   ]
  },
  {
   "cell_type": "markdown",
   "id": "wrapped-thong",
   "metadata": {},
   "source": [
    "### Pycryptodome\n",
    "https://pycryptodome.readthedocs.io/en/latest/\n",
    "\n",
    "encryption is hard. ask a specialist"
   ]
  },
  {
   "cell_type": "code",
   "execution_count": 82,
   "id": "determined-ecology",
   "metadata": {},
   "outputs": [],
   "source": [
    "from base64 import b64encode, b64decode\n",
    "from Crypto.Util.Padding import pad, unpad\n",
    "from Crypto.Cipher import AES\n",
    "\n",
    "key=b'\\xd3\\xbb\\x8dux\\xcc\\x1d\\xe276\\xd8\\x8f\\xdds\\x95\\xbf\\x04\\xdc\\xf7\\xe5\\x048\\xc6\\x0c\\xc7TIF\\t\\x11DQ'\n",
    "\n",
    "def encrypt(raw: str, key: bytes) -> str:\n",
    "    # print(raw)\n",
    "    re = raw.encode('utf-8')\n",
    "    # print(re)\n",
    "    data = pad(re, AES.block_size)\n",
    "    # print(data)\n",
    "    cipher = AES.new(key=key, mode=AES.MODE_CBC)\n",
    "    ct_bytes = cipher.encrypt(pad(data, AES.block_size))\n",
    "    # print(ct_bytes)\n",
    "    result = b64encode(cipher.iv + ct_bytes).decode('utf-8')\n",
    "    return result\n",
    "\n",
    "def decrypt(encrypted: str, key: bytes) -> str:\n",
    "    try:\n",
    "        ed = b64decode(encrypted.encode('utf-8'))\n",
    "        iv = ed[:AES.block_size]\n",
    "        ct = ed[AES.block_size:]\n",
    "        # print(ct)\n",
    "        cipher = AES.new(key=key, mode=AES.MODE_CBC, iv=iv)\n",
    "        dt = cipher.decrypt(ct)\n",
    "        # print(dt)\n",
    "        pt = unpad(dt, AES.block_size)\n",
    "        # print(pt)\n",
    "        return pt.strip().decode('utf-8')\n",
    "    except:\n",
    "        return encrypted\n",
    "    "
   ]
  },
  {
   "cell_type": "code",
   "execution_count": 83,
   "id": "retained-smell",
   "metadata": {},
   "outputs": [
    {
     "data": {
      "text/plain": [
       "'lm/kSQ+8I2/4baOwsfcnQqq00FAjxrXk7PYT4NlA9hlENevi2y4Xd1vw3yZXsU5y6e9c6odDMw/IGqvUovjfGQ=='"
      ]
     },
     "execution_count": 83,
     "metadata": {},
     "output_type": "execute_result"
    }
   ],
   "source": [
    "e = encrypt('something_sensitive', key)\n",
    "e"
   ]
  },
  {
   "cell_type": "code",
   "execution_count": 85,
   "id": "circular-guide",
   "metadata": {},
   "outputs": [
    {
     "data": {
      "text/plain": [
       "'lm/kSQ+8I2/4baOwsfcnQqq00FAjxrXk7PYT4NlA9hlENevi2y4Xd1vw3yZXsU5y6e9c6odDMw/IGqvUovjfAQ=='"
      ]
     },
     "execution_count": 85,
     "metadata": {},
     "output_type": "execute_result"
    }
   ],
   "source": [
    "e = 'lm/kSQ+8I2/4baOwsfcnQqq00FAjxrXk7PYT4NlA9hlENevi2y4Xd1vw3yZXsU5y6e9c6odDMw/IGqvUovjfAQ=='\n",
    "d = decrypt(e, key)\n",
    "d"
   ]
  }
 ],
 "metadata": {
  "kernelspec": {
   "display_name": "Python 3",
   "language": "python",
   "name": "python3"
  },
  "language_info": {
   "codemirror_mode": {
    "name": "ipython",
    "version": 3
   },
   "file_extension": ".py",
   "mimetype": "text/x-python",
   "name": "python",
   "nbconvert_exporter": "python",
   "pygments_lexer": "ipython3",
   "version": "3.8.6"
  }
 },
 "nbformat": 4,
 "nbformat_minor": 5
}
