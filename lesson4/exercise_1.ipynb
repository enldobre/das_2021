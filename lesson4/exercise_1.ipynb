{
 "cells": [
  {
   "cell_type": "code",
   "execution_count": 45,
   "id": "australian-greek",
   "metadata": {},
   "outputs": [],
   "source": [
    "import pyspark\n",
    "from pyspark.sql import *\n",
    "from pyspark.sql.functions import *"
   ]
  },
  {
   "cell_type": "code",
   "execution_count": 46,
   "id": "adolescent-daisy",
   "metadata": {},
   "outputs": [],
   "source": [
    "spark = SparkSession.builder.master('local[*]').appName('Exercise1').getOrCreate()"
   ]
  },
  {
   "cell_type": "code",
   "execution_count": 47,
   "id": "global-parameter",
   "metadata": {},
   "outputs": [
    {
     "data": {
      "text/plain": [
       "'C:\\\\alexs_work\\\\courses\\\\M2_spark\\\\das_2021\\\\lesson4'"
      ]
     },
     "execution_count": 47,
     "metadata": {},
     "output_type": "execute_result"
    }
   ],
   "source": [
    "import os\n",
    "os.path.abspath(os.getcwd())"
   ]
  },
  {
   "cell_type": "markdown",
   "id": "solar-norfolk",
   "metadata": {},
   "source": [
    "**1.Read data from a csv to a dataframe**"
   ]
  },
  {
   "cell_type": "code",
   "execution_count": 48,
   "id": "endless-wholesale",
   "metadata": {},
   "outputs": [],
   "source": [
    "df_trx = spark.read.csv('../data/transactions.csv', header=True, inferSchema=True)"
   ]
  },
  {
   "cell_type": "code",
   "execution_count": 49,
   "id": "alleged-study",
   "metadata": {},
   "outputs": [
    {
     "name": "stdout",
     "output_type": "stream",
     "text": [
      "+------------------+---------+---------+-------+----------------+------+---------+--------------------+--------------+\n",
      "|    TRANSACTION_ID|OUTLET_ID|CARD_TYPE|CURENCY|TRANSACTION_DATE|AMOUNT|TRAN_TYPE|     ADDITIONAL_DATA|    CARD_TOKEN|\n",
      "+------------------+---------+---------+-------+----------------+------+---------+--------------------+--------------+\n",
      "|804710375248367616|     2124|     VISA|    USD|      2021-02-08|  96.2|        A|L1L2L3L41d03cakes...|650595****6341|\n",
      "|804710388523339776|     2124|     VISA|    USD|      2021-02-08| 122.4|        D|L1L2L3L41d03cakes...|440836****4355|\n",
      "|804710388552699904|     2125|     VISA|    USD|      2021-02-08| 663.4|        A|L1L2L3L41d03cakes...|140595****2355|\n",
      "|804710388653363200|     2126|  Maestro|    USD|      2021-02-08| 168.4|        A|L1L2L3L41d03cakes...|414836****4322|\n",
      "|804710388674334720|     2126|  Maestro|    USD|      2021-02-08| 280.7|        A|L1L2L3L41d03cakes...|440836****4355|\n",
      "|804710388674334720|     2126|  Maestro|    USD|      2021-02-08| 280.7|        A|L1L2L3L41d03cakes...|440836****4355|\n",
      "|              null|     2126|  Maestro|    USD|      2021-02-08| 280.7|        A|L1L2L3L41d03cakes...|440836****4355|\n",
      "|124567103886743341|     null|  Maestro|    USD|      2021-02-08| 280.7|        A|L1L2L3L41d03cakes...|440836****4355|\n",
      "+------------------+---------+---------+-------+----------------+------+---------+--------------------+--------------+\n",
      "\n"
     ]
    }
   ],
   "source": [
    "df_trx.show()"
   ]
  },
  {
   "cell_type": "code",
   "execution_count": 50,
   "id": "close-thomas",
   "metadata": {},
   "outputs": [
    {
     "name": "stdout",
     "output_type": "stream",
     "text": [
      "root\n",
      " |-- TRANSACTION_ID: string (nullable = true)\n",
      " |-- OUTLET_ID: string (nullable = true)\n",
      " |-- CARD_TYPE: string (nullable = true)\n",
      " |-- CURENCY: string (nullable = true)\n",
      " |-- TRANSACTION_DATE: string (nullable = true)\n",
      " |-- AMOUNT: double (nullable = true)\n",
      " |-- TRAN_TYPE: string (nullable = true)\n",
      " |-- ADDITIONAL_DATA: string (nullable = true)\n",
      " |-- CARD_TOKEN: string (nullable = true)\n",
      "\n"
     ]
    }
   ],
   "source": [
    "df_trx.printSchema()"
   ]
  },
  {
   "cell_type": "markdown",
   "id": "broad-amount",
   "metadata": {},
   "source": [
    "**2.clean data and remove duplicates**"
   ]
  },
  {
   "cell_type": "code",
   "execution_count": 51,
   "id": "hired-jungle",
   "metadata": {},
   "outputs": [
    {
     "data": {
      "text/plain": [
       "8"
      ]
     },
     "execution_count": 51,
     "metadata": {},
     "output_type": "execute_result"
    }
   ],
   "source": [
    "df_trx.count()"
   ]
  },
  {
   "cell_type": "code",
   "execution_count": 52,
   "id": "finished-bridges",
   "metadata": {},
   "outputs": [],
   "source": [
    "if df_trx.distinct().count() < df_trx.count():\n",
    "    df_trx = df_trx.dropDuplicates()"
   ]
  },
  {
   "cell_type": "code",
   "execution_count": 53,
   "id": "detailed-teens",
   "metadata": {},
   "outputs": [
    {
     "name": "stdout",
     "output_type": "stream",
     "text": [
      "+------------------+---------+---------+-------+----------------+------+---------+--------------------+--------------+\n",
      "|    TRANSACTION_ID|OUTLET_ID|CARD_TYPE|CURENCY|TRANSACTION_DATE|AMOUNT|TRAN_TYPE|     ADDITIONAL_DATA|    CARD_TOKEN|\n",
      "+------------------+---------+---------+-------+----------------+------+---------+--------------------+--------------+\n",
      "|804710388674334720|     2126|  Maestro|    USD|      2021-02-08| 280.7|        A|L1L2L3L41d03cakes...|440836****4355|\n",
      "|804710375248367616|     2124|     VISA|    USD|      2021-02-08|  96.2|        A|L1L2L3L41d03cakes...|650595****6341|\n",
      "|804710388552699904|     2125|     VISA|    USD|      2021-02-08| 663.4|        A|L1L2L3L41d03cakes...|140595****2355|\n",
      "|124567103886743341|     null|  Maestro|    USD|      2021-02-08| 280.7|        A|L1L2L3L41d03cakes...|440836****4355|\n",
      "|              null|     2126|  Maestro|    USD|      2021-02-08| 280.7|        A|L1L2L3L41d03cakes...|440836****4355|\n",
      "|804710388523339776|     2124|     VISA|    USD|      2021-02-08| 122.4|        D|L1L2L3L41d03cakes...|440836****4355|\n",
      "|804710388653363200|     2126|  Maestro|    USD|      2021-02-08| 168.4|        A|L1L2L3L41d03cakes...|414836****4322|\n",
      "+------------------+---------+---------+-------+----------------+------+---------+--------------------+--------------+\n",
      "\n"
     ]
    }
   ],
   "source": [
    "df_trx.show()"
   ]
  },
  {
   "cell_type": "code",
   "execution_count": 54,
   "id": "offshore-afghanistan",
   "metadata": {},
   "outputs": [],
   "source": [
    "df_trx = df_trx.filter((col('TRANSACTION_ID') != 'null') & (col('OUTLET_ID') != 'null'))"
   ]
  },
  {
   "cell_type": "code",
   "execution_count": 55,
   "id": "increasing-grove",
   "metadata": {},
   "outputs": [
    {
     "name": "stdout",
     "output_type": "stream",
     "text": [
      "+------------------+---------+---------+-------+----------------+------+---------+--------------------+--------------+\n",
      "|    TRANSACTION_ID|OUTLET_ID|CARD_TYPE|CURENCY|TRANSACTION_DATE|AMOUNT|TRAN_TYPE|     ADDITIONAL_DATA|    CARD_TOKEN|\n",
      "+------------------+---------+---------+-------+----------------+------+---------+--------------------+--------------+\n",
      "|804710388674334720|     2126|  Maestro|    USD|      2021-02-08| 280.7|        A|L1L2L3L41d03cakes...|440836****4355|\n",
      "|804710375248367616|     2124|     VISA|    USD|      2021-02-08|  96.2|        A|L1L2L3L41d03cakes...|650595****6341|\n",
      "|804710388552699904|     2125|     VISA|    USD|      2021-02-08| 663.4|        A|L1L2L3L41d03cakes...|140595****2355|\n",
      "|804710388523339776|     2124|     VISA|    USD|      2021-02-08| 122.4|        D|L1L2L3L41d03cakes...|440836****4355|\n",
      "|804710388653363200|     2126|  Maestro|    USD|      2021-02-08| 168.4|        A|L1L2L3L41d03cakes...|414836****4322|\n",
      "+------------------+---------+---------+-------+----------------+------+---------+--------------------+--------------+\n",
      "\n"
     ]
    }
   ],
   "source": [
    "df_trx.show()"
   ]
  },
  {
   "cell_type": "markdown",
   "id": "tough-disposition",
   "metadata": {},
   "source": [
    "**3.Enrich transaction data using merchant data**"
   ]
  },
  {
   "cell_type": "code",
   "execution_count": 56,
   "id": "cleared-requirement",
   "metadata": {},
   "outputs": [],
   "source": [
    "df_m = spark.read.csv('../data/merchants.csv', header=True, inferSchema=True)"
   ]
  },
  {
   "cell_type": "code",
   "execution_count": 57,
   "id": "different-spanish",
   "metadata": {},
   "outputs": [
    {
     "name": "stdout",
     "output_type": "stream",
     "text": [
      "+---------+-------------+-----------+----------+\n",
      "|OUTLET_ID|MERCHANT_NAME|MERCHANT_ID|      CITY|\n",
      "+---------+-------------+-----------+----------+\n",
      "|     2124|        DELTA|          1|    LONDON|\n",
      "|     2125|        DELTA|          1|    LONDON|\n",
      "|     2126|         ALDI|          2|BIRMINGHAM|\n",
      "|     2127|       OFFICE|          3| SHEFFIELD|\n",
      "|     3000|         LIDL|          4|MANCHESTER|\n",
      "+---------+-------------+-----------+----------+\n",
      "\n"
     ]
    }
   ],
   "source": [
    "df_m.show()"
   ]
  },
  {
   "cell_type": "code",
   "execution_count": 58,
   "id": "dynamic-surface",
   "metadata": {},
   "outputs": [],
   "source": [
    "df_trx_1 = df_trx.join(df_m, 'OUTLET_ID', 'inner')"
   ]
  },
  {
   "cell_type": "code",
   "execution_count": 59,
   "id": "characteristic-ghana",
   "metadata": {},
   "outputs": [
    {
     "name": "stdout",
     "output_type": "stream",
     "text": [
      "+---------+------------------+---------+-------+----------------+------+---------+--------------------+--------------+-------------+-----------+----------+\n",
      "|OUTLET_ID|    TRANSACTION_ID|CARD_TYPE|CURENCY|TRANSACTION_DATE|AMOUNT|TRAN_TYPE|     ADDITIONAL_DATA|    CARD_TOKEN|MERCHANT_NAME|MERCHANT_ID|      CITY|\n",
      "+---------+------------------+---------+-------+----------------+------+---------+--------------------+--------------+-------------+-----------+----------+\n",
      "|     2126|804710388674334720|  Maestro|    USD|      2021-02-08| 280.7|        A|L1L2L3L41d03cakes...|440836****4355|         ALDI|          2|BIRMINGHAM|\n",
      "|     2124|804710375248367616|     VISA|    USD|      2021-02-08|  96.2|        A|L1L2L3L41d03cakes...|650595****6341|        DELTA|          1|    LONDON|\n",
      "|     2125|804710388552699904|     VISA|    USD|      2021-02-08| 663.4|        A|L1L2L3L41d03cakes...|140595****2355|        DELTA|          1|    LONDON|\n",
      "|     2124|804710388523339776|     VISA|    USD|      2021-02-08| 122.4|        D|L1L2L3L41d03cakes...|440836****4355|        DELTA|          1|    LONDON|\n",
      "|     2126|804710388653363200|  Maestro|    USD|      2021-02-08| 168.4|        A|L1L2L3L41d03cakes...|414836****4322|         ALDI|          2|BIRMINGHAM|\n",
      "+---------+------------------+---------+-------+----------------+------+---------+--------------------+--------------+-------------+-----------+----------+\n",
      "\n"
     ]
    }
   ],
   "source": [
    "df_trx_1.show()"
   ]
  },
  {
   "cell_type": "markdown",
   "id": "dynamic-exchange",
   "metadata": {},
   "source": [
    "**4.Render total sales amount and total transactions per merchant**"
   ]
  },
  {
   "cell_type": "code",
   "execution_count": 60,
   "id": "sealed-seattle",
   "metadata": {},
   "outputs": [
    {
     "name": "stdout",
     "output_type": "stream",
     "text": [
      "+---------+------------------+---------+\n",
      "|OUTLET_ID|        SUM_AMOUNT|TOTAL_TRX|\n",
      "+---------+------------------+---------+\n",
      "|     2124|218.60000000000002|        2|\n",
      "|     2125|             663.4|        1|\n",
      "|     2126|             449.1|        2|\n",
      "+---------+------------------+---------+\n",
      "\n"
     ]
    }
   ],
   "source": [
    "df_trx_1.groupby('OUTLET_ID').agg({'AMOUNT':'SUM', '*':'COUNT'}).sort(asc('OUTLET_ID')).withColumnRenamed('sum(AMOUNT)', 'SUM_AMOUNT').withColumnRenamed('count(1)', 'TOTAL_TRX').show()"
   ]
  },
  {
   "cell_type": "markdown",
   "id": "signed-campaign",
   "metadata": {},
   "source": [
    "**5.Persist data to storage parquet format/ partition transactions using a date**"
   ]
  },
  {
   "cell_type": "code",
   "execution_count": 61,
   "id": "alone-naples",
   "metadata": {},
   "outputs": [],
   "source": [
    "df_trx_1.coalesce(1).write.parquet('./out/total_sales_per_merchant')"
   ]
  },
  {
   "cell_type": "code",
   "execution_count": null,
   "id": "immune-scratch",
   "metadata": {},
   "outputs": [],
   "source": []
  }
 ],
 "metadata": {
  "kernelspec": {
   "display_name": "Python 3",
   "language": "python",
   "name": "python3"
  },
  "language_info": {
   "codemirror_mode": {
    "name": "ipython",
    "version": 3
   },
   "file_extension": ".py",
   "mimetype": "text/x-python",
   "name": "python",
   "nbconvert_exporter": "python",
   "pygments_lexer": "ipython3",
   "version": "3.8.5"
  }
 },
 "nbformat": 4,
 "nbformat_minor": 5
}
