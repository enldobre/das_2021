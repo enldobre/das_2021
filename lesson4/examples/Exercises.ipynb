{
 "cells": [
  {
   "cell_type": "code",
   "execution_count": 1,
   "metadata": {},
   "outputs": [],
   "source": [
    "from pyspark.sql import SparkSession"
   ]
  },
  {
   "cell_type": "code",
   "execution_count": 2,
   "metadata": {},
   "outputs": [],
   "source": [
    "spark = SparkSession.builder.master(\"local[*]\").appName(\"Exercises\").getOrCreate()"
   ]
  },
  {
   "cell_type": "code",
   "execution_count": null,
   "metadata": {},
   "outputs": [],
   "source": [
    "## Exercises"
   ]
  },
  {
   "cell_type": "code",
   "execution_count": 8,
   "metadata": {},
   "outputs": [],
   "source": [
    "products_path = 'data_examples/products_parquet/'\n",
    "sales_path = 'data_examples/sales_parquet/'\n",
    "sellers_path = 'data_examples/sellers_parquet/'\n",
    "paths = [products_path,sales_path,sellers_path]"
   ]
  },
  {
   "cell_type": "code",
   "execution_count": null,
   "metadata": {},
   "outputs": [],
   "source": [
    "## read parquet files them individually or iterate over a list/array"
   ]
  },
  {
   "cell_type": "code",
   "execution_count": 22,
   "metadata": {},
   "outputs": [],
   "source": [
    "dataframes = []\n",
    "for p in paths:\n",
    "  dataframes.append(spark.read.parquet(p))    \n",
    "  "
   ]
  },
  {
   "cell_type": "code",
   "execution_count": null,
   "metadata": {},
   "outputs": [],
   "source": [
    "#Load products "
   ]
  },
  {
   "cell_type": "code",
   "execution_count": 48,
   "metadata": {},
   "outputs": [
    {
     "name": "stdout",
     "output_type": "stream",
     "text": [
      "+----------+------------+-----+\n",
      "|product_id|product_name|price|\n",
      "+----------+------------+-----+\n",
      "|         0|   product_0|   22|\n",
      "|         1|   product_1|   30|\n",
      "|         2|   product_2|   91|\n",
      "|         3|   product_3|   37|\n",
      "|         4|   product_4|  145|\n",
      "|         5|   product_5|  128|\n",
      "|         6|   product_6|   66|\n",
      "|         7|   product_7|  145|\n",
      "|         8|   product_8|   51|\n",
      "|         9|   product_9|   44|\n",
      "|        10|  product_10|   53|\n",
      "|        11|  product_11|   13|\n",
      "|        12|  product_12|  104|\n",
      "|        13|  product_13|  102|\n",
      "|        14|  product_14|   24|\n",
      "|        15|  product_15|   14|\n",
      "|        16|  product_16|   38|\n",
      "|        17|  product_17|   72|\n",
      "|        18|  product_18|   16|\n",
      "|        19|  product_19|   46|\n",
      "+----------+------------+-----+\n",
      "only showing top 20 rows\n",
      "\n",
      "root\n",
      " |-- product_id: string (nullable = true)\n",
      " |-- product_name: string (nullable = true)\n",
      " |-- price: string (nullable = true)\n",
      "\n"
     ]
    }
   ],
   "source": [
    "products = dataframes[0]\n",
    "products.show()\n",
    "products.printSchema()\n"
   ]
  },
  {
   "cell_type": "code",
   "execution_count": 51,
   "metadata": {},
   "outputs": [],
   "source": [
    "#Convert data types\n",
    "products = products.select(col('product_id').cast('int').alias('product_id'), \\\n",
    "                           col('product_name'), \\\n",
    "                           col('price').cast('double').alias('price')) "
   ]
  },
  {
   "cell_type": "code",
   "execution_count": 52,
   "metadata": {},
   "outputs": [
    {
     "name": "stdout",
     "output_type": "stream",
     "text": [
      "+----------+------------+-----+\n",
      "|product_id|product_name|price|\n",
      "+----------+------------+-----+\n",
      "|         0|   product_0| 22.0|\n",
      "|         1|   product_1| 30.0|\n",
      "|         2|   product_2| 91.0|\n",
      "|         3|   product_3| 37.0|\n",
      "|         4|   product_4|145.0|\n",
      "|         5|   product_5|128.0|\n",
      "|         6|   product_6| 66.0|\n",
      "|         7|   product_7|145.0|\n",
      "|         8|   product_8| 51.0|\n",
      "|         9|   product_9| 44.0|\n",
      "|        10|  product_10| 53.0|\n",
      "|        11|  product_11| 13.0|\n",
      "|        12|  product_12|104.0|\n",
      "|        13|  product_13|102.0|\n",
      "|        14|  product_14| 24.0|\n",
      "|        15|  product_15| 14.0|\n",
      "|        16|  product_16| 38.0|\n",
      "|        17|  product_17| 72.0|\n",
      "|        18|  product_18| 16.0|\n",
      "|        19|  product_19| 46.0|\n",
      "+----------+------------+-----+\n",
      "only showing top 20 rows\n",
      "\n"
     ]
    }
   ],
   "source": [
    "products.show()"
   ]
  },
  {
   "cell_type": "code",
   "execution_count": 55,
   "metadata": {},
   "outputs": [
    {
     "name": "stdout",
     "output_type": "stream",
     "text": [
      "+--------+----------+---------+----------+---------------+--------------------+\n",
      "|order_id|product_id|seller_id|      date|num_pieces_sold|       bill_raw_text|\n",
      "+--------+----------+---------+----------+---------------+--------------------+\n",
      "|       1|         0|        0|2020-07-10|             62|esctmitgntlqljxnC...|\n",
      "|       2|         0|        0|2020-07-07|             38|cufiduzyskiviokju...|\n",
      "|       3|         0|        0|2020-07-05|             13|hscngebsortzolelf...|\n",
      "|       4|         0|        0|2020-07-06|             94|jxhvzoobncxwzkpdl...|\n",
      "|       5|         0|        0|2020-07-02|             41|nqazvvrqffccuwzpr...|\n",
      "|       6|         0|        0|2020-07-07|             72|auesyqwlzglbecnmn...|\n",
      "|       7|         0|        0|2020-07-04|             58|wymwvtmlsrirflpne...|\n",
      "|       8|         0|        0|2020-07-08|             97|xzsadhvwyzhiboqIu...|\n",
      "|       9|         0|        0|2020-07-08|             53|gvbzspbwezmfjwmuz...|\n",
      "|      10|         0|        0|2020-07-09|             98|rxosjlrysukzmkvjv...|\n",
      "|      11|         0|        0|2020-07-01|              1|cuvkjjcdhwaofsogj...|\n",
      "|      12|         0|        0|2020-07-04|             14|wgvshpzutcqtzlbct...|\n",
      "|      13|         0|        0|2020-07-09|             22|pvdahkwfuwtbakwuh...|\n",
      "|      14|         0|        0|2020-07-08|             32|zayqtkhtjnhhvppyk...|\n",
      "|      15|         0|        0|2020-07-04|              6|qziqvljlpkegnhrsm...|\n",
      "|      16|         0|        0|2020-07-07|             79|caxetagbnacoovqoz...|\n",
      "|      17|         0|        0|2020-07-10|             79|irhvnfobpftjxttxa...|\n",
      "|      18|         0|        0|2020-07-01|             95|khyfqjhvdjbnwsylf...|\n",
      "|      19|         0|        0|2020-07-04|             89|yotcaxeexheeoyfyl...|\n",
      "|      20|         0|        0|2020-07-01|             86|rjpcdurxltgqjlbwz...|\n",
      "+--------+----------+---------+----------+---------------+--------------------+\n",
      "only showing top 20 rows\n",
      "\n",
      "root\n",
      " |-- order_id: string (nullable = true)\n",
      " |-- product_id: string (nullable = true)\n",
      " |-- seller_id: string (nullable = true)\n",
      " |-- date: string (nullable = true)\n",
      " |-- num_pieces_sold: string (nullable = true)\n",
      " |-- bill_raw_text: string (nullable = true)\n",
      "\n"
     ]
    }
   ],
   "source": [
    "sales = dataframes[1]\n",
    "sales.show()\n",
    "sales.printSchema()"
   ]
  },
  {
   "cell_type": "code",
   "execution_count": 63,
   "metadata": {},
   "outputs": [],
   "source": [
    "sales = sales.select(col('order_id').cast('int').alias('order_id'), \\\n",
    "                     col('product_id').cast('int').alias('product_id'), \\\n",
    "                     col('seller_id').cast('int').alias('seller_id'), \\\n",
    "                     col('date').cast('date').alias('date'), \\\n",
    "                     col('num_pieces_sold').cast('int').alias('num_pieces_sold'), \\\n",
    "                     col('bill_raw_text'))"
   ]
  },
  {
   "cell_type": "code",
   "execution_count": 64,
   "metadata": {},
   "outputs": [
    {
     "name": "stdout",
     "output_type": "stream",
     "text": [
      "+--------+----------+---------+----------+---------------+--------------------+\n",
      "|order_id|product_id|seller_id|      date|num_pieces_sold|       bill_raw_text|\n",
      "+--------+----------+---------+----------+---------------+--------------------+\n",
      "|       1|         0|        0|2020-07-10|             62|esctmitgntlqljxnC...|\n",
      "|       2|         0|        0|2020-07-07|             38|cufiduzyskiviokju...|\n",
      "|       3|         0|        0|2020-07-05|             13|hscngebsortzolelf...|\n",
      "|       4|         0|        0|2020-07-06|             94|jxhvzoobncxwzkpdl...|\n",
      "|       5|         0|        0|2020-07-02|             41|nqazvvrqffccuwzpr...|\n",
      "|       6|         0|        0|2020-07-07|             72|auesyqwlzglbecnmn...|\n",
      "|       7|         0|        0|2020-07-04|             58|wymwvtmlsrirflpne...|\n",
      "|       8|         0|        0|2020-07-08|             97|xzsadhvwyzhiboqIu...|\n",
      "|       9|         0|        0|2020-07-08|             53|gvbzspbwezmfjwmuz...|\n",
      "|      10|         0|        0|2020-07-09|             98|rxosjlrysukzmkvjv...|\n",
      "|      11|         0|        0|2020-07-01|              1|cuvkjjcdhwaofsogj...|\n",
      "|      12|         0|        0|2020-07-04|             14|wgvshpzutcqtzlbct...|\n",
      "|      13|         0|        0|2020-07-09|             22|pvdahkwfuwtbakwuh...|\n",
      "|      14|         0|        0|2020-07-08|             32|zayqtkhtjnhhvppyk...|\n",
      "|      15|         0|        0|2020-07-04|              6|qziqvljlpkegnhrsm...|\n",
      "|      16|         0|        0|2020-07-07|             79|caxetagbnacoovqoz...|\n",
      "|      17|         0|        0|2020-07-10|             79|irhvnfobpftjxttxa...|\n",
      "|      18|         0|        0|2020-07-01|             95|khyfqjhvdjbnwsylf...|\n",
      "|      19|         0|        0|2020-07-04|             89|yotcaxeexheeoyfyl...|\n",
      "|      20|         0|        0|2020-07-01|             86|rjpcdurxltgqjlbwz...|\n",
      "+--------+----------+---------+----------+---------------+--------------------+\n",
      "only showing top 20 rows\n",
      "\n"
     ]
    }
   ],
   "source": [
    "sales.show()"
   ]
  },
  {
   "cell_type": "code",
   "execution_count": 30,
   "metadata": {},
   "outputs": [
    {
     "name": "stdout",
     "output_type": "stream",
     "text": [
      "+---------+-----------+------------+\n",
      "|seller_id|seller_name|daily_target|\n",
      "+---------+-----------+------------+\n",
      "|        0|   seller_0|        2500|\n",
      "|        1|   seller_1|      988094|\n",
      "|        2|   seller_2|      117965|\n",
      "|        3|   seller_3|     1157798|\n",
      "|        4|   seller_4|     1999213|\n",
      "|        5|   seller_5|     1793991|\n",
      "|        6|   seller_6|      499726|\n",
      "|        7|   seller_7|      888438|\n",
      "|        8|   seller_8|     1528179|\n",
      "|        9|   seller_9|      442654|\n",
      "+---------+-----------+------------+\n",
      "\n",
      "root\n",
      " |-- seller_id: string (nullable = true)\n",
      " |-- seller_name: string (nullable = true)\n",
      " |-- daily_target: string (nullable = true)\n",
      "\n"
     ]
    }
   ],
   "source": [
    "sellers = dataframes[2]\n",
    "sellers.show()\n",
    "sellers.printSchema()"
   ]
  },
  {
   "cell_type": "code",
   "execution_count": 69,
   "metadata": {},
   "outputs": [],
   "source": [
    "sellers =  sellers.select(col('seller_id').cast('int').alias('seller_id'), \\\n",
    "                          col('seller_name'), \\\n",
    "                          col('daily_target').cast('int').alias('daily_target'))"
   ]
  },
  {
   "cell_type": "code",
   "execution_count": 70,
   "metadata": {},
   "outputs": [
    {
     "name": "stdout",
     "output_type": "stream",
     "text": [
      "+---------+-----------+------------+\n",
      "|seller_id|seller_name|daily_target|\n",
      "+---------+-----------+------------+\n",
      "|        0|   seller_0|        2500|\n",
      "|        1|   seller_1|      988094|\n",
      "|        2|   seller_2|      117965|\n",
      "|        3|   seller_3|     1157798|\n",
      "|        4|   seller_4|     1999213|\n",
      "|        5|   seller_5|     1793991|\n",
      "|        6|   seller_6|      499726|\n",
      "|        7|   seller_7|      888438|\n",
      "|        8|   seller_8|     1528179|\n",
      "|        9|   seller_9|      442654|\n",
      "+---------+-----------+------------+\n",
      "\n"
     ]
    }
   ],
   "source": [
    "sellers.show()"
   ]
  },
  {
   "cell_type": "markdown",
   "metadata": {},
   "source": [
    "## Exercises"
   ]
  },
  {
   "cell_type": "markdown",
   "metadata": {},
   "source": [
    "### 1.Find out how many orders, how many products and how many sellers are in the data."
   ]
  },
  {
   "cell_type": "code",
   "execution_count": 76,
   "metadata": {},
   "outputs": [
    {
     "name": "stdout",
     "output_type": "stream",
     "text": [
      "75000\n",
      "200040\n",
      "10\n"
     ]
    }
   ],
   "source": [
    "total_products = products.count()\n",
    "print(total_products)\n",
    "total_sales =sales.count()\n",
    "print(total_sales)\n",
    "total_selers = sellers.count()\n",
    "print(total_selers)"
   ]
  },
  {
   "cell_type": "markdown",
   "metadata": {},
   "source": [
    "### 2.How many products have been sold at least once? Which is the product contained in more orders?"
   ]
  },
  {
   "cell_type": "code",
   "execution_count": 80,
   "metadata": {},
   "outputs": [
    {
     "name": "stdout",
     "output_type": "stream",
     "text": [
      "9413\n"
     ]
    }
   ],
   "source": [
    "distinct_products_sold = sales.select('product_id').distinct().count()\n",
    "print(distinct_products_sold)"
   ]
  },
  {
   "cell_type": "code",
   "execution_count": 111,
   "metadata": {},
   "outputs": [
    {
     "name": "stdout",
     "output_type": "stream",
     "text": [
      "product_0\n"
     ]
    }
   ],
   "source": [
    "named_sales = sales.join(products,'product_id')\n",
    "df =names_sales.groupBy('product_name').agg(count('product_id').alias('count')) \n",
    "sorted = df.sort(col(\"count\").desc())\n",
    "product = sorted.select('product_name').take(1)[0]\n",
    "print(product.__getitem__(\"product_name\"))"
   ]
  },
  {
   "cell_type": "markdown",
   "metadata": {},
   "source": [
    "### 3.How many distinct products have been sold in each day?"
   ]
  },
  {
   "cell_type": "code",
   "execution_count": 114,
   "metadata": {},
   "outputs": [
    {
     "name": "stdout",
     "output_type": "stream",
     "text": [
      "+----------+-----+\n",
      "|      date|count|\n",
      "+----------+-----+\n",
      "|2020-07-05| 1002|\n",
      "|2020-07-02|  996|\n",
      "|2020-07-03| 1053|\n",
      "|2020-07-07| 1014|\n",
      "|2020-07-10| 1029|\n",
      "|2020-07-08|  943|\n",
      "|2020-07-01|  920|\n",
      "|2020-07-04|  968|\n",
      "|2020-07-09| 1064|\n",
      "|2020-07-06|  993|\n",
      "+----------+-----+\n",
      "\n"
     ]
    }
   ],
   "source": [
    "distinct_products = named_sales.select('product_name','date').distinct().groupBy('date').agg(count('product_name').alias('count'))\n",
    "distinct_products.show()"
   ]
  },
  {
   "cell_type": "markdown",
   "metadata": {},
   "source": [
    "### 4.What is the average revenue of the orders?"
   ]
  },
  {
   "cell_type": "code",
   "execution_count": 115,
   "metadata": {},
   "outputs": [
    {
     "name": "stdout",
     "output_type": "stream",
     "text": [
      "+----------+--------+---------+----------+---------------+--------------------+------------+-----+\n",
      "|product_id|order_id|seller_id|      date|num_pieces_sold|       bill_raw_text|product_name|price|\n",
      "+----------+--------+---------+----------+---------------+--------------------+------------+-----+\n",
      "|         0|       1|        0|2020-07-10|             62|esctmitgntlqljxnC...|   product_0| 22.0|\n",
      "|         0|       2|        0|2020-07-07|             38|cufiduzyskiviokju...|   product_0| 22.0|\n",
      "|         0|       3|        0|2020-07-05|             13|hscngebsortzolelf...|   product_0| 22.0|\n",
      "|         0|       4|        0|2020-07-06|             94|jxhvzoobncxwzkpdl...|   product_0| 22.0|\n",
      "|         0|       5|        0|2020-07-02|             41|nqazvvrqffccuwzpr...|   product_0| 22.0|\n",
      "|         0|       6|        0|2020-07-07|             72|auesyqwlzglbecnmn...|   product_0| 22.0|\n",
      "|         0|       7|        0|2020-07-04|             58|wymwvtmlsrirflpne...|   product_0| 22.0|\n",
      "|         0|       8|        0|2020-07-08|             97|xzsadhvwyzhiboqIu...|   product_0| 22.0|\n",
      "|         0|       9|        0|2020-07-08|             53|gvbzspbwezmfjwmuz...|   product_0| 22.0|\n",
      "|         0|      10|        0|2020-07-09|             98|rxosjlrysukzmkvjv...|   product_0| 22.0|\n",
      "|         0|      11|        0|2020-07-01|              1|cuvkjjcdhwaofsogj...|   product_0| 22.0|\n",
      "|         0|      12|        0|2020-07-04|             14|wgvshpzutcqtzlbct...|   product_0| 22.0|\n",
      "|         0|      13|        0|2020-07-09|             22|pvdahkwfuwtbakwuh...|   product_0| 22.0|\n",
      "|         0|      14|        0|2020-07-08|             32|zayqtkhtjnhhvppyk...|   product_0| 22.0|\n",
      "|         0|      15|        0|2020-07-04|              6|qziqvljlpkegnhrsm...|   product_0| 22.0|\n",
      "|         0|      16|        0|2020-07-07|             79|caxetagbnacoovqoz...|   product_0| 22.0|\n",
      "|         0|      17|        0|2020-07-10|             79|irhvnfobpftjxttxa...|   product_0| 22.0|\n",
      "|         0|      18|        0|2020-07-01|             95|khyfqjhvdjbnwsylf...|   product_0| 22.0|\n",
      "|         0|      19|        0|2020-07-04|             89|yotcaxeexheeoyfyl...|   product_0| 22.0|\n",
      "|         0|      20|        0|2020-07-01|             86|rjpcdurxltgqjlbwz...|   product_0| 22.0|\n",
      "+----------+--------+---------+----------+---------------+--------------------+------------+-----+\n",
      "only showing top 20 rows\n",
      "\n"
     ]
    }
   ],
   "source": [
    "named_sales.show()"
   ]
  },
  {
   "cell_type": "code",
   "execution_count": 122,
   "metadata": {},
   "outputs": [
    {
     "name": "stdout",
     "output_type": "stream",
     "text": [
      "1249.0325584883024\n"
     ]
    }
   ],
   "source": [
    "revenue = named_sales.withColumn('revenue',named_sales['price']* named_sales['num_pieces_sold']) \n",
    "avarage_revenue = revenue.select(avg('revenue').alias('avg_revenue')).take(1)[0]\n",
    "print(avarage_revenue.__getitem__(\"avg_revenue\"))"
   ]
  },
  {
   "cell_type": "markdown",
   "metadata": {},
   "source": [
    "### 5.For each seller, what is the average % contribution of an order to the seller's daily quota?"
   ]
  },
  {
   "cell_type": "code",
   "execution_count": 119,
   "metadata": {},
   "outputs": [
    {
     "name": "stdout",
     "output_type": "stream",
     "text": [
      "+---------+----------+--------+----------+---------------+--------------------+------------+-----+-----------+------------+\n",
      "|seller_id|product_id|order_id|      date|num_pieces_sold|       bill_raw_text|product_name|price|seller_name|daily_target|\n",
      "+---------+----------+--------+----------+---------------+--------------------+------------+-----+-----------+------------+\n",
      "|        0|         0|       1|2020-07-10|             62|esctmitgntlqljxnC...|   product_0| 22.0|   seller_0|        2500|\n",
      "|        0|         0|       2|2020-07-07|             38|cufiduzyskiviokju...|   product_0| 22.0|   seller_0|        2500|\n",
      "|        0|         0|       3|2020-07-05|             13|hscngebsortzolelf...|   product_0| 22.0|   seller_0|        2500|\n",
      "|        0|         0|       4|2020-07-06|             94|jxhvzoobncxwzkpdl...|   product_0| 22.0|   seller_0|        2500|\n",
      "|        0|         0|       5|2020-07-02|             41|nqazvvrqffccuwzpr...|   product_0| 22.0|   seller_0|        2500|\n",
      "|        0|         0|       6|2020-07-07|             72|auesyqwlzglbecnmn...|   product_0| 22.0|   seller_0|        2500|\n",
      "|        0|         0|       7|2020-07-04|             58|wymwvtmlsrirflpne...|   product_0| 22.0|   seller_0|        2500|\n",
      "|        0|         0|       8|2020-07-08|             97|xzsadhvwyzhiboqIu...|   product_0| 22.0|   seller_0|        2500|\n",
      "|        0|         0|       9|2020-07-08|             53|gvbzspbwezmfjwmuz...|   product_0| 22.0|   seller_0|        2500|\n",
      "|        0|         0|      10|2020-07-09|             98|rxosjlrysukzmkvjv...|   product_0| 22.0|   seller_0|        2500|\n",
      "|        0|         0|      11|2020-07-01|              1|cuvkjjcdhwaofsogj...|   product_0| 22.0|   seller_0|        2500|\n",
      "|        0|         0|      12|2020-07-04|             14|wgvshpzutcqtzlbct...|   product_0| 22.0|   seller_0|        2500|\n",
      "|        0|         0|      13|2020-07-09|             22|pvdahkwfuwtbakwuh...|   product_0| 22.0|   seller_0|        2500|\n",
      "|        0|         0|      14|2020-07-08|             32|zayqtkhtjnhhvppyk...|   product_0| 22.0|   seller_0|        2500|\n",
      "|        0|         0|      15|2020-07-04|              6|qziqvljlpkegnhrsm...|   product_0| 22.0|   seller_0|        2500|\n",
      "|        0|         0|      16|2020-07-07|             79|caxetagbnacoovqoz...|   product_0| 22.0|   seller_0|        2500|\n",
      "|        0|         0|      17|2020-07-10|             79|irhvnfobpftjxttxa...|   product_0| 22.0|   seller_0|        2500|\n",
      "|        0|         0|      18|2020-07-01|             95|khyfqjhvdjbnwsylf...|   product_0| 22.0|   seller_0|        2500|\n",
      "|        0|         0|      19|2020-07-04|             89|yotcaxeexheeoyfyl...|   product_0| 22.0|   seller_0|        2500|\n",
      "|        0|         0|      20|2020-07-01|             86|rjpcdurxltgqjlbwz...|   product_0| 22.0|   seller_0|        2500|\n",
      "+---------+----------+--------+----------+---------------+--------------------+------------+-----+-----------+------------+\n",
      "only showing top 20 rows\n",
      "\n"
     ]
    }
   ],
   "source": [
    "all_data = named_sales.join(sellers,'seller_id')\n",
    "all_data.show()"
   ]
  },
  {
   "cell_type": "code",
   "execution_count": 138,
   "metadata": {},
   "outputs": [
    {
     "name": "stdout",
     "output_type": "stream",
     "text": [
      "+---------+--------------------+\n",
      "|seller_id|               ratio|\n",
      "+---------+--------------------+\n",
      "|        1|5.112717508215044E-5|\n",
      "|        6|1.024300851750479...|\n",
      "|        3|4.357331917692657E-5|\n",
      "|        5|2.819330033595437...|\n",
      "|        9|1.139425387663359...|\n",
      "|        4|2.523358930648639E-5|\n",
      "|        8|3.200356052376529E-5|\n",
      "|        7|5.631310429583830...|\n",
      "|        2|4.442207230828032E-4|\n",
      "|        0|0.020228884210526026|\n",
      "+---------+--------------------+\n",
      "\n"
     ]
    }
   ],
   "source": [
    "ratio = all_data.withColumn('ratio',all_data['num_pieces_sold']/all_data['daily_target'])\\\n",
    ".groupBy(all_data[\"seller_id\"]).agg(avg(\"ratio\").alias('ratio'))\n",
    "ratio.show()"
   ]
  },
  {
   "cell_type": "markdown",
   "metadata": {},
   "source": [
    "### 6.Who are the second most selling and the least selling persons (sellers) for each product? Who are those for product with product_id = 0"
   ]
  },
  {
   "cell_type": "code",
   "execution_count": 140,
   "metadata": {},
   "outputs": [],
   "source": [
    "from pyspark.sql.functions import *\n",
    "from pyspark.sql import Row, Window\n",
    "\n",
    "window_desc = Window.partitionBy(col(\"product_id\")).orderBy(col(\"num_pieces_sold\").desc())\n",
    "window_asc = Window.partitionBy(col(\"product_id\")).orderBy(col(\"num_pieces_sold\").asc())"
   ]
  },
  {
   "cell_type": "code",
   "execution_count": 148,
   "metadata": {},
   "outputs": [
    {
     "name": "stdout",
     "output_type": "stream",
     "text": [
      "+----------+---------+---------------+\n",
      "|product_id|seller_id|num_pieces_sold|\n",
      "+----------+---------+---------------+\n",
      "|     56527|        2|             53|\n",
      "|     16214|        9|             29|\n",
      "|     53165|        1|             45|\n",
      "|     38340|        7|             70|\n",
      "|     49880|        9|             58|\n",
      "|     34979|        5|             58|\n",
      "|     31942|        3|             83|\n",
      "|     13045|        2|             60|\n",
      "|     48426|        6|             48|\n",
      "|      6224|        9|             77|\n",
      "|     25848|        6|             47|\n",
      "|     59402|        3|             16|\n",
      "|     18711|        1|             75|\n",
      "|      3252|        7|              5|\n",
      "|     19212|        2|              8|\n",
      "|     20289|        6|             89|\n",
      "|     11073|        6|             18|\n",
      "|      1687|        8|             61|\n",
      "|     50110|        6|             85|\n",
      "|     29717|        4|             78|\n",
      "+----------+---------+---------------+\n",
      "only showing top 20 rows\n",
      "\n"
     ]
    }
   ],
   "source": [
    "# Calcuate the number of pieces sold by each seller for each product\n",
    "sales_table = all_data.groupBy(col(\"product_id\"), col(\"seller_id\")). \\\n",
    "    agg(sum(\"num_pieces_sold\").alias(\"num_pieces_sold\"))\n",
    "sales_table.show()"
   ]
  },
  {
   "cell_type": "code",
   "execution_count": 152,
   "metadata": {},
   "outputs": [
    {
     "name": "stdout",
     "output_type": "stream",
     "text": [
      "+----------+---------+---------------+--------+---------+\n",
      "|product_id|seller_id|num_pieces_sold|rank_asc|rank_desc|\n",
      "+----------+---------+---------------+--------+---------+\n",
      "|       463|        1|             66|       1|        1|\n",
      "|      2142|        8|             19|       1|        1|\n",
      "|      2366|        8|             87|       1|        1|\n",
      "|      2659|        9|             36|       1|        1|\n",
      "|      2866|        7|             11|       1|        1|\n",
      "|      5803|        7|            100|       1|        1|\n",
      "|      7340|        3|             40|       2|        1|\n",
      "|      7340|        5|             37|       1|        2|\n",
      "|      7982|        6|             83|       1|        1|\n",
      "|      9376|        7|             66|       1|        1|\n",
      "|      9427|        9|             26|       1|        1|\n",
      "|     11141|        2|             53|       1|        1|\n",
      "|     15957|        8|             99|       1|        1|\n",
      "|     17679|        9|             45|       1|        1|\n",
      "|     20382|        3|             11|       1|        1|\n",
      "|     20683|        6|             45|       1|        1|\n",
      "|     23015|        7|              1|       1|        1|\n",
      "|     23364|        7|             40|       1|        1|\n",
      "|     27974|        7|             74|       1|        1|\n",
      "|     30970|        7|             72|       1|        1|\n",
      "+----------+---------+---------------+--------+---------+\n",
      "only showing top 20 rows\n",
      "\n"
     ]
    }
   ],
   "source": [
    "# Create a Dense Rank\n",
    "sales_table = sales_table.withColumn(\"rank_asc\", dense_rank().over(window_asc)) \\\n",
    ".withColumn(\"rank_desc\", dense_rank().over(window_desc))\n",
    "sales_table.show()"
   ]
  },
  {
   "cell_type": "code",
   "execution_count": 150,
   "metadata": {},
   "outputs": [
    {
     "name": "stdout",
     "output_type": "stream",
     "text": [
      "+------------------------+-----------------------+--------------------+\n",
      "|single_seller_product_id|single_seller_seller_id|                type|\n",
      "+------------------------+-----------------------+--------------------+\n",
      "|                     463|                      1|only_or_same_results|\n",
      "|                    2142|                      8|only_or_same_results|\n",
      "|                    2366|                      8|only_or_same_results|\n",
      "|                    2659|                      9|only_or_same_results|\n",
      "|                    2866|                      7|only_or_same_results|\n",
      "|                    5803|                      7|only_or_same_results|\n",
      "|                    7982|                      6|only_or_same_results|\n",
      "|                    9376|                      7|only_or_same_results|\n",
      "|                    9427|                      9|only_or_same_results|\n",
      "|                   11141|                      2|only_or_same_results|\n",
      "|                   15957|                      8|only_or_same_results|\n",
      "|                   17679|                      9|only_or_same_results|\n",
      "|                   20382|                      3|only_or_same_results|\n",
      "|                   20683|                      6|only_or_same_results|\n",
      "|                   23015|                      7|only_or_same_results|\n",
      "|                   23364|                      7|only_or_same_results|\n",
      "|                   27974|                      7|only_or_same_results|\n",
      "|                   30970|                      7|only_or_same_results|\n",
      "|                   36525|                      4|only_or_same_results|\n",
      "|                   37251|                      2|only_or_same_results|\n",
      "+------------------------+-----------------------+--------------------+\n",
      "only showing top 20 rows\n",
      "\n"
     ]
    }
   ],
   "source": [
    "# Get products that only have one row OR the products in which multiple sellers sold the same amount\n",
    "# (i.e. all the employees that ever sold the product, sold the same exact amount)\n",
    "single_seller = sales_table.where(col(\"rank_asc\") == col(\"rank_desc\")).select(\n",
    "    col(\"product_id\").alias(\"single_seller_product_id\"), col(\"seller_id\").alias(\"single_seller_seller_id\"),\n",
    "    lit(\"only_or_same_results\").alias(\"type\")\n",
    ")\n",
    "single_seller.show()"
   ]
  },
  {
   "cell_type": "code",
   "execution_count": 151,
   "metadata": {},
   "outputs": [
    {
     "name": "stdout",
     "output_type": "stream",
     "text": [
      "+------------------------+-----------------------+-----------------+\n",
      "|second_seller_product_id|second_seller_seller_id|             type|\n",
      "+------------------------+-----------------------+-----------------+\n",
      "|                    7340|                      5|Second top seller|\n",
      "|                   13910|                      4|Second top seller|\n",
      "|                   20506|                      3|Second top seller|\n",
      "|                   16565|                      8|Second top seller|\n",
      "|                   53316|                      8|Second top seller|\n",
      "|                   55198|                      5|Second top seller|\n",
      "|                   71787|                      5|Second top seller|\n",
      "|                   51979|                      9|Second top seller|\n",
      "|                   65491|                      7|Second top seller|\n",
      "|                   10013|                      8|Second top seller|\n",
      "|                   60385|                      8|Second top seller|\n",
      "|                    8231|                      5|Second top seller|\n",
      "|                   37046|                      3|Second top seller|\n",
      "|                   68792|                      1|Second top seller|\n",
      "|                    4119|                      3|Second top seller|\n",
      "|                   25434|                      7|Second top seller|\n",
      "|                   25673|                      8|Second top seller|\n",
      "|                   65333|                      6|Second top seller|\n",
      "|                    1199|                      9|Second top seller|\n",
      "|                   16813|                      7|Second top seller|\n",
      "+------------------------+-----------------------+-----------------+\n",
      "only showing top 20 rows\n",
      "\n"
     ]
    }
   ],
   "source": [
    "# Get the second top sellers\n",
    "second_seller = sales_table.where(col(\"rank_desc\") == 2).select(\n",
    "    col(\"product_id\").alias(\"second_seller_product_id\"), col(\"seller_id\").alias(\"second_seller_seller_id\"),\n",
    "    lit(\"Second top seller\").alias(\"type\")\n",
    ")\n",
    "second_seller.show()"
   ]
  },
  {
   "cell_type": "code",
   "execution_count": 153,
   "metadata": {},
   "outputs": [],
   "source": [
    "# Get the least sellers and exclude those rows that are already included in the first piece\n",
    "# We also exclude the \"second top sellers\" that are also \"least sellers\"\n",
    "least_seller = sales_table.where(col(\"rank_asc\") == 1).select(\n",
    "    col(\"product_id\"), col(\"seller_id\"),\n",
    "    lit(\"Least Seller\").alias(\"type\")\n",
    ").join(single_seller, (sales_table[\"seller_id\"] == single_seller[\"single_seller_seller_id\"]) & (\n",
    "        sales_table[\"product_id\"] == single_seller[\"single_seller_product_id\"]), \"left_anti\"). \\\n",
    "    join(second_seller, (sales_table[\"seller_id\"] == second_seller[\"second_seller_seller_id\"]) & (\n",
    "        sales_table[\"product_id\"] == second_seller[\"second_seller_product_id\"]), \"left_anti\")"
   ]
  },
  {
   "cell_type": "code",
   "execution_count": 154,
   "metadata": {},
   "outputs": [
    {
     "name": "stdout",
     "output_type": "stream",
     "text": [
      "+----------+---------+------------+\n",
      "|product_id|seller_id|        type|\n",
      "+----------+---------+------------+\n",
      "|     17219|        3|Least Seller|\n",
      "|     73771|        1|Least Seller|\n",
      "|      4269|        5|Least Seller|\n",
      "|     58454|        5|Least Seller|\n",
      "|     45225|        2|Least Seller|\n",
      "|      1969|        5|Least Seller|\n",
      "|      4634|        2|Least Seller|\n",
      "|     37684|        4|Least Seller|\n",
      "|     24680|        5|Least Seller|\n",
      "|     56437|        6|Least Seller|\n",
      "|     58738|        1|Least Seller|\n",
      "|     45988|        9|Least Seller|\n",
      "|     26723|        9|Least Seller|\n",
      "|     40185|        8|Least Seller|\n",
      "|     14130|        2|Least Seller|\n",
      "|     47712|        3|Least Seller|\n",
      "|     48118|        2|Least Seller|\n",
      "|     43024|        3|Least Seller|\n",
      "|     33068|        7|Least Seller|\n",
      "|     55230|        1|Least Seller|\n",
      "+----------+---------+------------+\n",
      "only showing top 20 rows\n",
      "\n"
     ]
    }
   ],
   "source": [
    "# Union all the pieces\n",
    "union_table = least_seller.select(\n",
    "    col(\"product_id\"),\n",
    "    col(\"seller_id\"),\n",
    "    col(\"type\")\n",
    ").union(second_seller.select(\n",
    "    col(\"second_seller_product_id\").alias(\"product_id\"),\n",
    "    col(\"second_seller_seller_id\").alias(\"seller_id\"),\n",
    "    col(\"type\")\n",
    ")).union(single_seller.select(\n",
    "    col(\"single_seller_product_id\").alias(\"product_id\"),\n",
    "    col(\"single_seller_seller_id\").alias(\"seller_id\"),\n",
    "    col(\"type\")\n",
    "))\n",
    "union_table.show()"
   ]
  },
  {
   "cell_type": "code",
   "execution_count": 155,
   "metadata": {},
   "outputs": [
    {
     "name": "stdout",
     "output_type": "stream",
     "text": [
      "+----------+---------+--------------------+\n",
      "|product_id|seller_id|                type|\n",
      "+----------+---------+--------------------+\n",
      "|         0|        0|only_or_same_results|\n",
      "+----------+---------+--------------------+\n",
      "\n"
     ]
    }
   ],
   "source": [
    "# Which are the second top seller and least seller of product 0?\n",
    "union_table.where(col(\"product_id\") == 0).show()"
   ]
  },
  {
   "cell_type": "markdown",
   "metadata": {},
   "source": [
    "### 7.Create a new column called \"hashed_bill\" defined as follows:"
   ]
  },
  {
   "cell_type": "code",
   "execution_count": 172,
   "metadata": {},
   "outputs": [],
   "source": [
    "import hashlib\n",
    "#   Define the UDF function\n",
    "def algo(order_id, bill_text):\n",
    "    #   If number is even\n",
    "    ret = bill_text.encode(\"utf-8\")\n",
    "    if int(order_id) % 2 == 0:\n",
    "        #   Count number of 'A'\n",
    "        cnt_A = bill_text.count(\"A\")\n",
    "        for _c in range(0, cnt_A):\n",
    "            ret = hashlib.md5(ret).hexdigest().encode(\"utf-8\")\n",
    "        ret = ret.decode('utf-8')\n",
    "    else:\n",
    "        ret = hashlib.sha256(ret).hexdigest()\n",
    "    return ret"
   ]
  },
  {
   "cell_type": "code",
   "execution_count": 173,
   "metadata": {},
   "outputs": [],
   "source": [
    "#   Register the UDF function.\n",
    "hash_udf = spark.udf.register(\"custom_hash\", algo)"
   ]
  },
  {
   "cell_type": "code",
   "execution_count": 175,
   "metadata": {},
   "outputs": [
    {
     "name": "stdout",
     "output_type": "stream",
     "text": [
      "+-----------+---+\n",
      "|hashed_bill|cnt|\n",
      "+-----------+---+\n",
      "+-----------+---+\n",
      "\n"
     ]
    }
   ],
   "source": [
    "#   Use the `hash_udf` to apply the algorithm and then check if there is any duplicate hash in the table\n",
    "all_data.withColumn(\"hashed_bill\", hash_udf(col(\"order_id\"), col(\"bill_raw_text\")))\\\n",
    "    .groupBy(col(\"hashed_bill\")).agg(count(\"*\").alias(\"cnt\")).where(col(\"cnt\")> 1).show()"
   ]
  },
  {
   "cell_type": "code",
   "execution_count": null,
   "metadata": {},
   "outputs": [],
   "source": []
  }
 ],
 "metadata": {
  "kernelspec": {
   "display_name": "Python 3",
   "language": "python",
   "name": "python3"
  },
  "language_info": {
   "codemirror_mode": {
    "name": "ipython",
    "version": 3
   },
   "file_extension": ".py",
   "mimetype": "text/x-python",
   "name": "python",
   "nbconvert_exporter": "python",
   "pygments_lexer": "ipython3",
   "version": "3.8.6"
  }
 },
 "nbformat": 4,
 "nbformat_minor": 4
}
