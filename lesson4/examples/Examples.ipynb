{
 "cells": [
  {
   "cell_type": "code",
   "execution_count": 1,
   "metadata": {},
   "outputs": [],
   "source": [
    "from pyspark.sql import SparkSession"
   ]
  },
  {
   "cell_type": "code",
   "execution_count": 2,
   "metadata": {},
   "outputs": [],
   "source": [
    "spark = SparkSession.builder.master(\"local[*]\").appName(\"Etl Job\").getOrCreate()"
   ]
  },
  {
   "cell_type": "code",
   "execution_count": 14,
   "metadata": {},
   "outputs": [],
   "source": [
    "## Examples"
   ]
  },
  {
   "cell_type": "code",
   "execution_count": 18,
   "metadata": {},
   "outputs": [],
   "source": [
    "transactions = spark.read.format(\"csv\") \\\n",
    ".option('InferSchema','True') \\\n",
    ".option('Header','True') \\\n",
    ".load(\"transactions.csv\")"
   ]
  },
  {
   "cell_type": "code",
   "execution_count": 19,
   "metadata": {},
   "outputs": [
    {
     "name": "stdout",
     "output_type": "stream",
     "text": [
      "root\n",
      " |-- TRANSACTION_ID: string (nullable = true)\n",
      " |-- OUTLET_ID: string (nullable = true)\n",
      " |-- CARD_TYPE: string (nullable = true)\n",
      " |-- CURENCY: string (nullable = true)\n",
      " |-- TRANSACTION_DATE: string (nullable = true)\n",
      " |-- AMOUNT: double (nullable = true)\n",
      " |-- TRAN_TYPE: string (nullable = true)\n",
      " |-- ADDITIONAL_DATA: string (nullable = true)\n",
      " |-- CARD_TOKEN: string (nullable = true)\n",
      "\n",
      "8\n"
     ]
    }
   ],
   "source": [
    "transactions.printSchema()\n",
    "print(transactions.count())"
   ]
  },
  {
   "cell_type": "code",
   "execution_count": 20,
   "metadata": {},
   "outputs": [],
   "source": [
    "merchants = spark.read.format(\"csv\") \\\n",
    ".option('InferSchema','True') \\\n",
    ".option('Header','True') \\\n",
    ".load(\"merchants.csv\")"
   ]
  },
  {
   "cell_type": "code",
   "execution_count": 22,
   "metadata": {},
   "outputs": [
    {
     "name": "stdout",
     "output_type": "stream",
     "text": [
      "root\n",
      " |-- OUTLET_ID: integer (nullable = true)\n",
      " |-- MERCHANT_NAME: string (nullable = true)\n",
      " |-- MERCHANT_ID: integer (nullable = true)\n",
      " |-- CITY: string (nullable = true)\n",
      "\n",
      "5\n"
     ]
    }
   ],
   "source": [
    "merchants.printSchema()\n",
    "print(merchants.count())"
   ]
  },
  {
   "cell_type": "code",
   "execution_count": null,
   "metadata": {},
   "outputs": [],
   "source": [
    "#clean data and remove duplicates"
   ]
  },
  {
   "cell_type": "code",
   "execution_count": 24,
   "metadata": {},
   "outputs": [],
   "source": [
    "from pyspark.sql.functions import *\n",
    "clean = transactions\\\n",
    "        .dropDuplicates() \\\n",
    "        .filter('TRANSACTION_ID is not null and OUTLET_ID is not null and AMOUNT is not null') \\\n",
    "        .withColumn(\"PROCESS_DATE\",current_date())"
   ]
  },
  {
   "cell_type": "code",
   "execution_count": 25,
   "metadata": {},
   "outputs": [
    {
     "name": "stdout",
     "output_type": "stream",
     "text": [
      "+------------------+---------+---------+-------+----------------+------+---------+--------------------+--------------+------------+\n",
      "|    TRANSACTION_ID|OUTLET_ID|CARD_TYPE|CURENCY|TRANSACTION_DATE|AMOUNT|TRAN_TYPE|     ADDITIONAL_DATA|    CARD_TOKEN|PROCESS_DATE|\n",
      "+------------------+---------+---------+-------+----------------+------+---------+--------------------+--------------+------------+\n",
      "|804710388674334720|     2126|  Maestro|    USD|      2021-02-08| 280.7|        A|L1L2L3L41d03cakes...|440836****4355|  2021-03-01|\n",
      "|804710375248367616|     2124|     VISA|    USD|      2021-02-08|  96.2|        A|L1L2L3L41d03cakes...|650595****6341|  2021-03-01|\n",
      "|804710388552699904|     2125|     VISA|    USD|      2021-02-08| 663.4|        A|L1L2L3L41d03cakes...|140595****2355|  2021-03-01|\n",
      "|124567103886743341|     null|  Maestro|    USD|      2021-02-08| 280.7|        A|L1L2L3L41d03cakes...|440836****4355|  2021-03-01|\n",
      "|              null|     2126|  Maestro|    USD|      2021-02-08| 280.7|        A|L1L2L3L41d03cakes...|440836****4355|  2021-03-01|\n",
      "|804710388523339776|     2124|     VISA|    USD|      2021-02-08| 122.4|        D|L1L2L3L41d03cakes...|440836****4355|  2021-03-01|\n",
      "|804710388653363200|     2126|  Maestro|    USD|      2021-02-08| 168.4|        A|L1L2L3L41d03cakes...|414836****4322|  2021-03-01|\n",
      "+------------------+---------+---------+-------+----------------+------+---------+--------------------+--------------+------------+\n",
      "\n"
     ]
    }
   ],
   "source": [
    "clean.show()"
   ]
  },
  {
   "cell_type": "code",
   "execution_count": null,
   "metadata": {},
   "outputs": [],
   "source": [
    "#enhance data"
   ]
  },
  {
   "cell_type": "code",
   "execution_count": 26,
   "metadata": {},
   "outputs": [
    {
     "name": "stdout",
     "output_type": "stream",
     "text": [
      "+---------+------------------+---------+-------+----------------+------+---------+-----------------------------+--------------+------------+-------------+-----------+----------+\n",
      "|OUTLET_ID|TRANSACTION_ID    |CARD_TYPE|CURENCY|TRANSACTION_DATE|AMOUNT|TRAN_TYPE|ADDITIONAL_DATA              |CARD_TOKEN    |PROCESS_DATE|MERCHANT_NAME|MERCHANT_ID|CITY      |\n",
      "+---------+------------------+---------+-------+----------------+------+---------+-----------------------------+--------------+------------+-------------+-----------+----------+\n",
      "|2126     |804710388674334720|Maestro  |USD    |2021-02-08      |280.7 |A        |L1L2L3L41d03cakesupplies01Ref|440836****4355|2021-03-01  |ALDI         |2          |BIRMINGHAM|\n",
      "|2124     |804710375248367616|VISA     |USD    |2021-02-08      |96.2  |A        |L1L2L3L41d03cakesupplies01Ref|650595****6341|2021-03-01  |DELTA        |1          |LONDON    |\n",
      "|2125     |804710388552699904|VISA     |USD    |2021-02-08      |663.4 |A        |L1L2L3L41d03cakesupplies01Ref|140595****2355|2021-03-01  |DELTA        |1          |LONDON    |\n",
      "|2126     |null              |Maestro  |USD    |2021-02-08      |280.7 |A        |L1L2L3L41d03cakesupplies01Ref|440836****4355|2021-03-01  |ALDI         |2          |BIRMINGHAM|\n",
      "|2124     |804710388523339776|VISA     |USD    |2021-02-08      |122.4 |D        |L1L2L3L41d03cakesupplies01Ref|440836****4355|2021-03-01  |DELTA        |1          |LONDON    |\n",
      "|2126     |804710388653363200|Maestro  |USD    |2021-02-08      |168.4 |A        |L1L2L3L41d03cakesupplies01Ref|414836****4322|2021-03-01  |ALDI         |2          |BIRMINGHAM|\n",
      "+---------+------------------+---------+-------+----------------+------+---------+-----------------------------+--------------+------------+-------------+-----------+----------+\n",
      "\n"
     ]
    }
   ],
   "source": [
    "joined = clean.join(merchants,'OUTLET_ID')\n",
    "joined.show(truncate =False)"
   ]
  },
  {
   "cell_type": "code",
   "execution_count": null,
   "metadata": {},
   "outputs": [],
   "source": [
    "#render total sales amount and total transactions per merchant"
   ]
  },
  {
   "cell_type": "code",
   "execution_count": 27,
   "metadata": {},
   "outputs": [],
   "source": [
    "sales = joined.groupBy(\"MERCHANT_NAME\") \\\n",
    "            .agg(sum(\"AMOUNT\").alias(\"TOTAL_AMOUNT\"), count(\"TRANSACTION_ID\").alias(\"TOTAL_NR\"))"
   ]
  },
  {
   "cell_type": "code",
   "execution_count": 28,
   "metadata": {},
   "outputs": [
    {
     "name": "stdout",
     "output_type": "stream",
     "text": [
      "+-------------+------------+--------+\n",
      "|MERCHANT_NAME|TOTAL_AMOUNT|TOTAL_NR|\n",
      "+-------------+------------+--------+\n",
      "|         ALDI|       729.8|       3|\n",
      "|        DELTA|       882.0|       3|\n",
      "+-------------+------------+--------+\n",
      "\n"
     ]
    }
   ],
   "source": [
    "sales.show()"
   ]
  },
  {
   "cell_type": "code",
   "execution_count": 35,
   "metadata": {},
   "outputs": [],
   "source": [
    "transaction_output = \"output/transaction/\"\n",
    "sales_output = \"output/sales/\""
   ]
  },
  {
   "cell_type": "code",
   "execution_count": 34,
   "metadata": {},
   "outputs": [
    {
     "name": "stdout",
     "output_type": "stream",
     "text": [
      "\u001b[0m\u001b[01;32mexamples.ipynb\u001b[0m*  \u001b[01;32mmerchants.csv\u001b[0m*     \u001b[01;32mUntitled.ipynb\u001b[0m*\r\n",
      "\u001b[01;32mflights.csv\u001b[0m*     \u001b[01;32mtransactions.csv\u001b[0m*\r\n"
     ]
    }
   ],
   "source": [
    "ls"
   ]
  },
  {
   "cell_type": "code",
   "execution_count": 40,
   "metadata": {},
   "outputs": [],
   "source": [
    "joined \\\n",
    "        .write \\\n",
    "        .mode(\"overwrite\") \\\n",
    "        .partitionBy(\"PROCESS_DATE\") \\\n",
    "        .parquet \\\n",
    "        (transaction_output)"
   ]
  },
  {
   "cell_type": "code",
   "execution_count": 39,
   "metadata": {},
   "outputs": [],
   "source": [
    "sales \\\n",
    "        .write \\\n",
    "        .mode(\"overwrite\") \\\n",
    "        .parquet \\\n",
    "        (sales_output)"
   ]
  },
  {
   "cell_type": "code",
   "execution_count": null,
   "metadata": {},
   "outputs": [],
   "source": []
  }
 ],
 "metadata": {
  "kernelspec": {
   "display_name": "Python 3",
   "language": "python",
   "name": "python3"
  },
  "language_info": {
   "codemirror_mode": {
    "name": "ipython",
    "version": 3
   },
   "file_extension": ".py",
   "mimetype": "text/x-python",
   "name": "python",
   "nbconvert_exporter": "python",
   "pygments_lexer": "ipython3",
   "version": "3.8.6"
  }
 },
 "nbformat": 4,
 "nbformat_minor": 4
}
