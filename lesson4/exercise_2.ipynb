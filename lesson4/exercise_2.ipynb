{
 "cells": [
  {
   "cell_type": "code",
   "execution_count": 108,
   "id": "connected-farmer",
   "metadata": {},
   "outputs": [],
   "source": [
    "import pyspark\n",
    "from pyspark.sql import *\n",
    "from pyspark.sql.functions import *"
   ]
  },
  {
   "cell_type": "code",
   "execution_count": 109,
   "id": "complicated-microwave",
   "metadata": {},
   "outputs": [],
   "source": [
    "spark = SparkSession.builder.master('local[*]').appName('Exercise2').getOrCreate()"
   ]
  },
  {
   "cell_type": "code",
   "execution_count": 110,
   "id": "failing-distribution",
   "metadata": {},
   "outputs": [],
   "source": [
    "df_prod = spark.read.parquet('../data/products_parquet', header=True, inferSchema=True)"
   ]
  },
  {
   "cell_type": "code",
   "execution_count": 111,
   "id": "restricted-feedback",
   "metadata": {},
   "outputs": [
    {
     "name": "stdout",
     "output_type": "stream",
     "text": [
      "+----------+------------+-----+\n",
      "|product_id|product_name|price|\n",
      "+----------+------------+-----+\n",
      "|         0|   product_0|   22|\n",
      "|         1|   product_1|   30|\n",
      "|         2|   product_2|   91|\n",
      "|         3|   product_3|   37|\n",
      "|         4|   product_4|  145|\n",
      "|         5|   product_5|  128|\n",
      "|         6|   product_6|   66|\n",
      "|         7|   product_7|  145|\n",
      "|         8|   product_8|   51|\n",
      "|         9|   product_9|   44|\n",
      "|        10|  product_10|   53|\n",
      "|        11|  product_11|   13|\n",
      "|        12|  product_12|  104|\n",
      "|        13|  product_13|  102|\n",
      "|        14|  product_14|   24|\n",
      "|        15|  product_15|   14|\n",
      "|        16|  product_16|   38|\n",
      "|        17|  product_17|   72|\n",
      "|        18|  product_18|   16|\n",
      "|        19|  product_19|   46|\n",
      "+----------+------------+-----+\n",
      "only showing top 20 rows\n",
      "\n"
     ]
    }
   ],
   "source": [
    "df_prod.show()"
   ]
  },
  {
   "cell_type": "code",
   "execution_count": 112,
   "id": "rapid-conditions",
   "metadata": {},
   "outputs": [],
   "source": [
    "df_sales = spark.read.parquet('../data/sales_parquet', header=True, inferSchema=True)"
   ]
  },
  {
   "cell_type": "code",
   "execution_count": 113,
   "id": "photographic-hydrogen",
   "metadata": {},
   "outputs": [
    {
     "name": "stdout",
     "output_type": "stream",
     "text": [
      "+--------+----------+---------+----------+---------------+--------------------+\n",
      "|order_id|product_id|seller_id|      date|num_pieces_sold|       bill_raw_text|\n",
      "+--------+----------+---------+----------+---------------+--------------------+\n",
      "|       1|         0|        0|2020-07-10|             62|esctmitgntlqljxnC...|\n",
      "|       2|         0|        0|2020-07-07|             38|cufiduzyskiviokju...|\n",
      "|       3|         0|        0|2020-07-05|             13|hscngebsortzolelf...|\n",
      "|       4|         0|        0|2020-07-06|             94|jxhvzoobncxwzkpdl...|\n",
      "|       5|         0|        0|2020-07-02|             41|nqazvvrqffccuwzpr...|\n",
      "|       6|         0|        0|2020-07-07|             72|auesyqwlzglbecnmn...|\n",
      "|       7|         0|        0|2020-07-04|             58|wymwvtmlsrirflpne...|\n",
      "|       8|         0|        0|2020-07-08|             97|xzsadhvwyzhiboqIu...|\n",
      "|       9|         0|        0|2020-07-08|             53|gvbzspbwezmfjwmuz...|\n",
      "|      10|         0|        0|2020-07-09|             98|rxosjlrysukzmkvjv...|\n",
      "|      11|         0|        0|2020-07-01|              1|cuvkjjcdhwaofsogj...|\n",
      "|      12|         0|        0|2020-07-04|             14|wgvshpzutcqtzlbct...|\n",
      "|      13|         0|        0|2020-07-09|             22|pvdahkwfuwtbakwuh...|\n",
      "|      14|         0|        0|2020-07-08|             32|zayqtkhtjnhhvppyk...|\n",
      "|      15|         0|        0|2020-07-04|              6|qziqvljlpkegnhrsm...|\n",
      "|      16|         0|        0|2020-07-07|             79|caxetagbnacoovqoz...|\n",
      "|      17|         0|        0|2020-07-10|             79|irhvnfobpftjxttxa...|\n",
      "|      18|         0|        0|2020-07-01|             95|khyfqjhvdjbnwsylf...|\n",
      "|      19|         0|        0|2020-07-04|             89|yotcaxeexheeoyfyl...|\n",
      "|      20|         0|        0|2020-07-01|             86|rjpcdurxltgqjlbwz...|\n",
      "+--------+----------+---------+----------+---------------+--------------------+\n",
      "only showing top 20 rows\n",
      "\n"
     ]
    }
   ],
   "source": [
    "df_sales.show()"
   ]
  },
  {
   "cell_type": "code",
   "execution_count": 114,
   "id": "duplicate-mainland",
   "metadata": {},
   "outputs": [
    {
     "name": "stdout",
     "output_type": "stream",
     "text": [
      "root\n",
      " |-- order_id: string (nullable = true)\n",
      " |-- product_id: string (nullable = true)\n",
      " |-- seller_id: string (nullable = true)\n",
      " |-- date: string (nullable = true)\n",
      " |-- num_pieces_sold: string (nullable = true)\n",
      " |-- bill_raw_text: string (nullable = true)\n",
      "\n"
     ]
    }
   ],
   "source": [
    "df_sales.printSchema()"
   ]
  },
  {
   "cell_type": "code",
   "execution_count": 115,
   "id": "noted-matter",
   "metadata": {},
   "outputs": [],
   "source": [
    "df_sellers = spark.read.parquet('../data/sellers_parquet', header=True, inferSchema=True)"
   ]
  },
  {
   "cell_type": "code",
   "execution_count": 116,
   "id": "respective-nickname",
   "metadata": {},
   "outputs": [
    {
     "name": "stdout",
     "output_type": "stream",
     "text": [
      "+---------+-----------+------------+\n",
      "|seller_id|seller_name|daily_target|\n",
      "+---------+-----------+------------+\n",
      "|        0|   seller_0|        2500|\n",
      "|        1|   seller_1|      988094|\n",
      "|        2|   seller_2|      117965|\n",
      "|        3|   seller_3|     1157798|\n",
      "|        4|   seller_4|     1999213|\n",
      "|        5|   seller_5|     1793991|\n",
      "|        6|   seller_6|      499726|\n",
      "|        7|   seller_7|      888438|\n",
      "|        8|   seller_8|     1528179|\n",
      "|        9|   seller_9|      442654|\n",
      "+---------+-----------+------------+\n",
      "\n"
     ]
    }
   ],
   "source": [
    "df_sellers.show()"
   ]
  },
  {
   "cell_type": "markdown",
   "id": "infrared-worthy",
   "metadata": {},
   "source": [
    "**1.Find out how many orders, how many products and how many sellers are in the data.**"
   ]
  },
  {
   "cell_type": "code",
   "execution_count": 117,
   "id": "killing-promise",
   "metadata": {},
   "outputs": [
    {
     "data": {
      "text/plain": [
       "75000"
      ]
     },
     "execution_count": 117,
     "metadata": {},
     "output_type": "execute_result"
    }
   ],
   "source": [
    "df_prod.count()"
   ]
  },
  {
   "cell_type": "code",
   "execution_count": 118,
   "id": "bigger-jamaica",
   "metadata": {},
   "outputs": [
    {
     "data": {
      "text/plain": [
       "200040"
      ]
     },
     "execution_count": 118,
     "metadata": {},
     "output_type": "execute_result"
    }
   ],
   "source": [
    "df_sales.count()"
   ]
  },
  {
   "cell_type": "code",
   "execution_count": 119,
   "id": "gentle-costume",
   "metadata": {},
   "outputs": [
    {
     "data": {
      "text/plain": [
       "10"
      ]
     },
     "execution_count": 119,
     "metadata": {},
     "output_type": "execute_result"
    }
   ],
   "source": [
    "df_sellers.count()"
   ]
  },
  {
   "cell_type": "markdown",
   "id": "painful-latest",
   "metadata": {},
   "source": [
    "**2.How many products have been sold at least once? Which is the product contained in more orders?**"
   ]
  },
  {
   "cell_type": "code",
   "execution_count": 120,
   "id": "blessed-material",
   "metadata": {},
   "outputs": [
    {
     "data": {
      "text/plain": [
       "9413"
      ]
     },
     "execution_count": 120,
     "metadata": {},
     "output_type": "execute_result"
    }
   ],
   "source": [
    "df_sales.select('product_id').distinct().count()"
   ]
  },
  {
   "cell_type": "code",
   "execution_count": 121,
   "id": "magnetic-census",
   "metadata": {},
   "outputs": [
    {
     "name": "stdout",
     "output_type": "stream",
     "text": [
      "+----------+------+\n",
      "|product_id|   cnt|\n",
      "+----------+------+\n",
      "|         0|190000|\n",
      "+----------+------+\n",
      "\n"
     ]
    }
   ],
   "source": [
    "# df_sales.groupby('product_id').agg(count('order_id').alias('cnt')).sort(desc('cnt')).show(1)\n",
    "df_sales.createOrReplaceTempView('Sales')\n",
    "spark.sql('Select product_id, count(order_id) cnt from Sales group by product_id order by cnt desc limit 1').show()"
   ]
  },
  {
   "cell_type": "markdown",
   "id": "electoral-gathering",
   "metadata": {},
   "source": [
    "**3.How many distinct products have been sold in each day?**"
   ]
  },
  {
   "cell_type": "code",
   "execution_count": 122,
   "id": "rocky-domain",
   "metadata": {},
   "outputs": [
    {
     "name": "stdout",
     "output_type": "stream",
     "text": [
      "+----------+-----+\n",
      "|      date|  cnt|\n",
      "+----------+-----+\n",
      "|2020-07-03|20107|\n",
      "|2020-07-07|20042|\n",
      "|2020-07-01|19992|\n",
      "|2020-07-08|20042|\n",
      "|2020-07-04|20055|\n",
      "|2020-07-10|19725|\n",
      "|2020-07-09|19930|\n",
      "|2020-07-06|20122|\n",
      "|2020-07-02|20023|\n",
      "|2020-07-05|20002|\n",
      "+----------+-----+\n",
      "\n"
     ]
    }
   ],
   "source": [
    "df_sales.groupby('date').agg(count('product_id').alias('cnt')).show()"
   ]
  },
  {
   "cell_type": "markdown",
   "id": "settled-softball",
   "metadata": {},
   "source": [
    "**4.What is the average revenue of the orders?**"
   ]
  },
  {
   "cell_type": "code",
   "execution_count": 123,
   "id": "bearing-membrane",
   "metadata": {},
   "outputs": [],
   "source": [
    "df_sales_det = df_sales.join(df_prod, 'product_id', 'inner').withColumn('product_revenue', col('num_pieces_sold') * col('price'))"
   ]
  },
  {
   "cell_type": "code",
   "execution_count": 124,
   "id": "commercial-screening",
   "metadata": {},
   "outputs": [],
   "source": [
    "df_rev = df_sales_det.groupby().agg({'product_revenue': 'sum', '*': 'count'})"
   ]
  },
  {
   "cell_type": "code",
   "execution_count": 125,
   "id": "social-psychology",
   "metadata": {},
   "outputs": [
    {
     "name": "stdout",
     "output_type": "stream",
     "text": [
      "+------------------+\n",
      "|           avg_rev|\n",
      "+------------------+\n",
      "|1249.0325584883024|\n",
      "+------------------+\n",
      "\n"
     ]
    }
   ],
   "source": [
    "df_rev.withColumn('avg_rev', col('sum(product_revenue)') / col('count(1)')).select('avg_rev').show()"
   ]
  },
  {
   "cell_type": "markdown",
   "id": "formed-municipality",
   "metadata": {},
   "source": [
    "**5.For each seller, what is the average % contribution of an order to the seller's daily quota?**"
   ]
  },
  {
   "cell_type": "code",
   "execution_count": 126,
   "id": "foreign-making",
   "metadata": {},
   "outputs": [],
   "source": [
    "df_sales_det = df_sales.join(df_sellers, 'seller_id', 'inner').withColumn('prod_quota', col('num_pieces_sold') / col('daily_target'))"
   ]
  },
  {
   "cell_type": "code",
   "execution_count": 127,
   "id": "rising-manhattan",
   "metadata": {},
   "outputs": [
    {
     "name": "stdout",
     "output_type": "stream",
     "text": [
      "+--------------------+\n",
      "|         avg_contrib|\n",
      "+--------------------+\n",
      "|0.019218458886404645|\n",
      "+--------------------+\n",
      "\n"
     ]
    }
   ],
   "source": [
    "df_sales_det.groupby().agg({'prod_quota':'sum', '*':'count'}).withColumn('avg_contrib', col('sum(prod_quota)') / col('count(1)')).select('avg_contrib').show()"
   ]
  },
  {
   "cell_type": "markdown",
   "id": "scenic-string",
   "metadata": {},
   "source": [
    "**6.Who are the second most selling and the least selling persons (sellers) for each product? Who are those for product with `product_id = 0`**"
   ]
  },
  {
   "cell_type": "code",
   "execution_count": 128,
   "id": "pursuant-general",
   "metadata": {},
   "outputs": [
    {
     "name": "stdout",
     "output_type": "stream",
     "text": [
      "+---------+----------+------------------+-------+\n",
      "|seller_id|product_id|pieces_per_product|row_num|\n",
      "+---------+----------+------------------+-------+\n",
      "|        8|     10013|              51.0|      2|\n",
      "|        1|     10169|              41.0|      2|\n",
      "|        8|     10308|               7.0|      2|\n",
      "|        3|     10386|              36.0|      2|\n",
      "|        6|     10454|              64.0|      2|\n",
      "|        7|     10618|               7.0|      2|\n",
      "|        6|     10866|              50.0|      2|\n",
      "|        2|      1093|              75.0|      2|\n",
      "|        6|     11212|              31.0|      2|\n",
      "|        5|     11466|              15.0|      2|\n",
      "|        6|     11700|              43.0|      2|\n",
      "|        9|     11704|              53.0|      2|\n",
      "|        7|     11779|              17.0|      2|\n",
      "|        6|     11833|              43.0|      2|\n",
      "|        6|      1184|              59.0|      2|\n",
      "|        9|      1199|              64.0|      2|\n",
      "|        9|     12078|               9.0|      2|\n",
      "|        8|     12476|              39.0|      2|\n",
      "|        4|     12482|               7.0|      2|\n",
      "|        2|     12688|              74.0|      2|\n",
      "+---------+----------+------------------+-------+\n",
      "only showing top 20 rows\n",
      "\n"
     ]
    }
   ],
   "source": [
    "window = Window.partitionBy('product_id').orderBy(col('pieces_per_product').desc())\n",
    "df_sales.groupby('seller_id', 'product_id').agg(sum('num_pieces_sold').alias('pieces_per_product')) \\\n",
    "    .withColumn('row_num', row_number().over(window)).filter(col('row_num') == 2).orderBy('product_id', 'seller_id').show()"
   ]
  },
  {
   "cell_type": "code",
   "execution_count": 129,
   "id": "competitive-steering",
   "metadata": {},
   "outputs": [
    {
     "name": "stdout",
     "output_type": "stream",
     "text": [
      "+---------+----------+------------------+-------+\n",
      "|seller_id|product_id|pieces_per_product|row_num|\n",
      "+---------+----------+------------------+-------+\n",
      "|        0|         0|         9608720.0|      1|\n",
      "|        6|     10001|              51.0|      1|\n",
      "|        4|     10005|              53.0|      1|\n",
      "|        3|     10011|               4.0|      1|\n",
      "|        2|     10013|              81.0|      2|\n",
      "|        8|     10013|              51.0|      1|\n",
      "|        8|     10017|              97.0|      1|\n",
      "|        4|     10048|              26.0|      1|\n",
      "|        3|     10054|              79.0|      1|\n",
      "|        5|     10062|              89.0|      1|\n",
      "|        7|     10072|              39.0|      1|\n",
      "|        2|     10076|              71.0|      1|\n",
      "|        2|      1008|              68.0|      1|\n",
      "|        8|     10095|              41.0|      1|\n",
      "|        9|     10096|              64.0|      1|\n",
      "|        9|     10099|              77.0|      1|\n",
      "|        9|     10100|              97.0|      1|\n",
      "|        4|     10104|              94.0|      1|\n",
      "|        5|     10107|              94.0|      1|\n",
      "|        5|     10113|              83.0|      1|\n",
      "+---------+----------+------------------+-------+\n",
      "only showing top 20 rows\n",
      "\n"
     ]
    }
   ],
   "source": [
    "window = Window.partitionBy('product_id').orderBy(col('pieces_per_product'))\n",
    "df_ls = df_sales.groupby('seller_id', 'product_id').agg(sum('num_pieces_sold').alias('pieces_per_product')) \\\n",
    "    .withColumn('row_num', row_number().over(window))\n",
    "df_ls.filter((col('row_num') >= 1)).orderBy('product_id', 'seller_id').show()"
   ]
  },
  {
   "cell_type": "code",
   "execution_count": 130,
   "id": "immune-shelf",
   "metadata": {},
   "outputs": [
    {
     "name": "stdout",
     "output_type": "stream",
     "text": [
      "+---------+----------+------------------+-------+\n",
      "|seller_id|product_id|pieces_per_product|row_num|\n",
      "+---------+----------+------------------+-------+\n",
      "|        0|         0|         9608720.0|      1|\n",
      "+---------+----------+------------------+-------+\n",
      "\n"
     ]
    }
   ],
   "source": [
    "window = Window.partitionBy('product_id').orderBy('pieces_per_product')\n",
    "df_sales.groupby('seller_id', 'product_id').agg(sum('num_pieces_sold').alias('pieces_per_product')) \\\n",
    "    .withColumn('row_num', row_number().over(window)).filter(col('product_id') == '0').show()"
   ]
  },
  {
   "cell_type": "markdown",
   "id": "lightweight-muslim",
   "metadata": {},
   "source": [
    "**7.Create a new column called \"hashed_bill\" defined as follows:**\n",
    "- if the order_id is even: apply MD5 hashing iteratively to the bill_raw_text field, once for each 'A' (capital 'A') present in the text. E.g. if the bill text is 'nbAAnllA', you would apply hashing three times iteratively (only if the order number is even)\n",
    "- if the order_id is odd: apply SHA256 hashing to the bill text\n",
    "- check if there are any duplicate on the new column"
   ]
  },
  {
   "cell_type": "code",
   "execution_count": 131,
   "id": "analyzed-reviewer",
   "metadata": {},
   "outputs": [],
   "source": [
    "import hashlib\n",
    "\n",
    "def hashing(order_id, brt):\n",
    "    if int(order_id) % 2 == 0:\n",
    "        cnt = brt.count('A')\n",
    "        md5str = brt\n",
    "        for i in range(cnt):\n",
    "            md5str = hashlib.md5(md5str.encode('utf-8')).hexdigest()\n",
    "        return md5str\n",
    "    else:\n",
    "        return hashlib.sha256(brt.encode('utf-8')).hexdigest()\n",
    "    \n",
    "# print(hashing(5, 'AsctmitgntlqljxnCAA'))\n",
    "\n",
    "apply_hashing = udf(hashing)\n",
    "\n"
   ]
  },
  {
   "cell_type": "code",
   "execution_count": 132,
   "id": "specific-joining",
   "metadata": {},
   "outputs": [],
   "source": [
    "df_hash = df_sales.withColumn('hashed_bill', apply_hashing('order_id', 'bill_raw_text'))"
   ]
  },
  {
   "cell_type": "code",
   "execution_count": 133,
   "id": "olive-albert",
   "metadata": {},
   "outputs": [
    {
     "name": "stdout",
     "output_type": "stream",
     "text": [
      "+-----------+---+\n",
      "|hashed_bill|cnt|\n",
      "+-----------+---+\n",
      "+-----------+---+\n",
      "\n"
     ]
    }
   ],
   "source": [
    "df_hash.createOrReplaceTempView('Hashed_Sales')\n",
    "spark.sql('Select hashed_bill, count(*) cnt from Hashed_Sales group by hashed_bill having count(*) > 1').show()"
   ]
  },
  {
   "cell_type": "code",
   "execution_count": null,
   "id": "clean-belle",
   "metadata": {},
   "outputs": [],
   "source": []
  }
 ],
 "metadata": {
  "kernelspec": {
   "display_name": "Python 3",
   "language": "python",
   "name": "python3"
  },
  "language_info": {
   "codemirror_mode": {
    "name": "ipython",
    "version": 3
   },
   "file_extension": ".py",
   "mimetype": "text/x-python",
   "name": "python",
   "nbconvert_exporter": "python",
   "pygments_lexer": "ipython3",
   "version": "3.8.5"
  }
 },
 "nbformat": 4,
 "nbformat_minor": 5
}
