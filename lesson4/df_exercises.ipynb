{
 "cells": [
  {
   "cell_type": "code",
   "execution_count": 1,
   "id": "bronze-inquiry",
   "metadata": {},
   "outputs": [],
   "source": [
    "# lets start the spark session\n",
    "# the entry point for an spark app is the SparkSession\n",
    "from pyspark.sql import SparkSession\n",
    "spark = SparkSession.builder.master(\"local[2]\").appName(\"FirstApp\").getOrCreate()"
   ]
  },
  {
   "cell_type": "code",
   "execution_count": 2,
   "id": "everyday-distributor",
   "metadata": {},
   "outputs": [
    {
     "data": {
      "text/html": [
       "\n",
       "            <div>\n",
       "                <p><b>SparkSession - in-memory</b></p>\n",
       "                \n",
       "        <div>\n",
       "            <p><b>SparkContext</b></p>\n",
       "\n",
       "            <p><a href=\"http://192.168.212.197:4040\">Spark UI</a></p>\n",
       "\n",
       "            <dl>\n",
       "              <dt>Version</dt>\n",
       "                <dd><code>v3.0.1</code></dd>\n",
       "              <dt>Master</dt>\n",
       "                <dd><code>local[2]</code></dd>\n",
       "              <dt>AppName</dt>\n",
       "                <dd><code>FirstApp</code></dd>\n",
       "            </dl>\n",
       "        </div>\n",
       "        \n",
       "            </div>\n",
       "        "
      ],
      "text/plain": [
       "<pyspark.sql.session.SparkSession at 0x7f5efcf34e50>"
      ]
     },
     "execution_count": 2,
     "metadata": {},
     "output_type": "execute_result"
    }
   ],
   "source": [
    "spark"
   ]
  },
  {
   "cell_type": "markdown",
   "id": "expected-frost",
   "metadata": {},
   "source": [
    "copy the input files\n",
    "\n",
    "aws s3 cp s3://das-2021/data/ny-taxi/ ./data --no-sign-request --recursive"
   ]
  },
  {
   "cell_type": "code",
   "execution_count": 3,
   "id": "beneficial-bulgarian",
   "metadata": {},
   "outputs": [
    {
     "data": {
      "text/plain": [
       "'/home/ldobre/das_2021/lesson4'"
      ]
     },
     "execution_count": 3,
     "metadata": {},
     "output_type": "execute_result"
    }
   ],
   "source": [
    "import os\n",
    "os.getcwd()"
   ]
  },
  {
   "cell_type": "code",
   "execution_count": 4,
   "id": "ahead-malta",
   "metadata": {},
   "outputs": [],
   "source": [
    "fhv_path = '../data/ny-taxi/fhv_tripdata_2020-01.csv'\n",
    "fhvhv_path = '../data/ny-taxi/fhvhv_tripdata_2020-01.csv'\n",
    "y_path = '../data/ny-taxi/yellow_tripdata_2020-01.csv'\n",
    "g_path = '../data/ny-taxi/green_tripdata_2020-01.csv'\n",
    "zl_path = '../data/ny-taxi/taxi+_zone_lookup.csv'"
   ]
  },
  {
   "cell_type": "code",
   "execution_count": null,
   "id": "adverse-italian",
   "metadata": {},
   "outputs": [],
   "source": []
  },
  {
   "cell_type": "code",
   "execution_count": 5,
   "id": "annoying-column",
   "metadata": {},
   "outputs": [],
   "source": [
    "fhv = spark.read.csv(fhv_path, header=True, inferSchema=True)"
   ]
  },
  {
   "cell_type": "code",
   "execution_count": 6,
   "id": "offshore-density",
   "metadata": {},
   "outputs": [
    {
     "name": "stdout",
     "output_type": "stream",
     "text": [
      "+--------------------+-------------------+-------------------+------------+------------+-------+\n",
      "|dispatching_base_num|    pickup_datetime|   dropoff_datetime|PULocationID|DOLocationID|SR_Flag|\n",
      "+--------------------+-------------------+-------------------+------------+------------+-------+\n",
      "|              B00001|2020-01-01 00:30:00|2020-01-01 01:44:00|         264|         264|   null|\n",
      "|              B00001|2020-01-01 00:30:00|2020-01-01 00:47:00|         264|         264|   null|\n",
      "|              B00009|2020-01-01 00:48:00|2020-01-01 01:19:00|         264|         264|   null|\n",
      "|              B00009|2020-01-01 00:34:00|2020-01-01 00:43:00|         264|         264|   null|\n",
      "|              B00009|2020-01-01 00:23:00|2020-01-01 00:32:00|         264|         264|   null|\n",
      "|              B00009|2020-01-01 00:52:00|2020-01-01 01:01:00|         264|         264|   null|\n",
      "|              B00013|2020-01-01 00:20:30|2020-01-01 00:45:52|         264|         264|   null|\n",
      "|              B00013|2020-01-01 00:08:15|2020-01-01 00:12:03|         264|         264|   null|\n",
      "|              B00013|2020-01-01 00:40:30|2020-01-01 01:06:23|         264|         264|   null|\n",
      "|              B00014|2020-01-01 00:53:04|2020-01-01 01:19:13|         264|         264|   null|\n",
      "|              B00031|2020-01-01 00:03:00|2020-01-01 00:05:00|         264|         264|   null|\n",
      "|              B00037|2020-01-01 00:37:39|2020-01-01 00:47:36|         264|          61|   null|\n",
      "|              B00037|2020-01-01 00:58:29|2020-01-01 01:06:31|         264|          72|   null|\n",
      "|              B00037|2020-01-01 00:56:16|2020-01-01 01:06:23|         264|          91|   null|\n",
      "|              B00037|2020-01-01 00:08:33|2020-01-01 00:22:16|         264|          72|   null|\n",
      "|              B00037|2020-01-01 00:30:35|2020-01-01 00:38:41|         264|          61|   null|\n",
      "|              B00037|2020-01-01 00:46:03|2020-01-01 01:07:10|         264|          35|   null|\n",
      "|              B00037|2020-01-01 00:17:10|2020-01-01 00:25:49|         264|          72|   null|\n",
      "|              B00037|2020-01-01 00:40:56|2020-01-01 01:01:26|         264|         188|   null|\n",
      "|              B00037|2020-01-01 00:45:32|2020-01-01 00:53:38|         264|         188|   null|\n",
      "+--------------------+-------------------+-------------------+------------+------------+-------+\n",
      "only showing top 20 rows\n",
      "\n"
     ]
    }
   ],
   "source": [
    "fhv.show(20)"
   ]
  },
  {
   "cell_type": "code",
   "execution_count": 7,
   "id": "elder-oxford",
   "metadata": {},
   "outputs": [],
   "source": [
    "hv = spark.read.csv(fhvhv_path, header=True, inferSchema=True)"
   ]
  },
  {
   "cell_type": "code",
   "execution_count": 8,
   "id": "indian-speech",
   "metadata": {},
   "outputs": [
    {
     "name": "stdout",
     "output_type": "stream",
     "text": [
      "+-----------------+--------------------+-------------------+-------------------+------------+------------+-------+\n",
      "|hvfhs_license_num|dispatching_base_num|    pickup_datetime|   dropoff_datetime|PULocationID|DOLocationID|SR_Flag|\n",
      "+-----------------+--------------------+-------------------+-------------------+------------+------------+-------+\n",
      "|           HV0003|              B02864|2020-01-01 00:45:34|2020-01-01 01:02:20|         148|          90|   null|\n",
      "|           HV0003|              B02682|2020-01-01 00:47:50|2020-01-01 00:53:23|         114|          79|   null|\n",
      "|           HV0003|              B02764|2020-01-01 00:04:37|2020-01-01 00:21:49|           4|         125|   null|\n",
      "|           HV0003|              B02764|2020-01-01 00:26:36|2020-01-01 00:33:00|         231|         113|   null|\n",
      "|           HV0003|              B02764|2020-01-01 00:37:49|2020-01-01 00:46:59|         114|         144|   null|\n",
      "|           HV0003|              B02764|2020-01-01 00:49:23|2020-01-01 01:07:26|         144|         137|   null|\n",
      "|           HV0003|              B02870|2020-01-01 00:21:11|2020-01-01 00:36:58|         249|         148|   null|\n",
      "|           HV0003|              B02870|2020-01-01 00:38:28|2020-01-01 00:42:38|         148|           4|   null|\n",
      "|           HV0003|              B02870|2020-01-01 00:46:26|2020-01-01 01:09:55|          79|           7|   null|\n",
      "|           HV0003|              B02836|2020-01-01 00:15:35|2020-01-01 00:23:21|         140|         236|   null|\n",
      "|           HV0003|              B02836|2020-01-01 00:28:04|2020-01-01 01:13:35|          75|         149|   null|\n",
      "|           HV0003|              B02875|2020-01-01 00:14:22|2020-01-01 00:40:02|          33|         229|   null|\n",
      "|           HV0003|              B02875|2020-01-01 00:45:02|2020-01-01 00:59:11|         229|          74|   null|\n",
      "|           HV0003|              B02764|2020-01-01 00:16:55|2020-01-01 00:42:36|         114|         238|   null|\n",
      "|           HV0003|              B02617|2020-01-01 00:40:01|2020-01-01 00:45:22|          85|          89|   null|\n",
      "|           HV0003|              B02617|2020-01-01 00:55:45|2020-01-01 01:25:10|          61|         202|   null|\n",
      "|           HV0003|              B02883|2020-01-01 00:28:57|2020-01-01 01:18:07|         162|         265|   null|\n",
      "|           HV0003|              B02872|2020-01-01 00:20:35|2020-01-01 00:22:35|          71|          71|   null|\n",
      "|           HV0003|              B02872|2020-01-01 00:26:49|2020-01-01 00:35:32|          71|          35|   null|\n",
      "|           HV0003|              B02872|2020-01-01 00:45:19|2020-01-01 01:07:05|          61|          76|   null|\n",
      "+-----------------+--------------------+-------------------+-------------------+------------+------------+-------+\n",
      "only showing top 20 rows\n",
      "\n"
     ]
    }
   ],
   "source": [
    "hv.show(20)"
   ]
  },
  {
   "cell_type": "code",
   "execution_count": 9,
   "id": "prime-arbitration",
   "metadata": {},
   "outputs": [],
   "source": [
    "gr = spark.read.csv(g_path, header=True, inferSchema=True)"
   ]
  },
  {
   "cell_type": "code",
   "execution_count": 10,
   "id": "individual-announcement",
   "metadata": {},
   "outputs": [
    {
     "name": "stdout",
     "output_type": "stream",
     "text": [
      "+--------+--------------------+---------------------+------------------+----------+------------+------------+---------------+-------------+-----------+-----+-------+----------+------------+---------+---------------------+------------+------------+---------+--------------------+\n",
      "|VendorID|lpep_pickup_datetime|lpep_dropoff_datetime|store_and_fwd_flag|RatecodeID|PULocationID|DOLocationID|passenger_count|trip_distance|fare_amount|extra|mta_tax|tip_amount|tolls_amount|ehail_fee|improvement_surcharge|total_amount|payment_type|trip_type|congestion_surcharge|\n",
      "+--------+--------------------+---------------------+------------------+----------+------------+------------+---------------+-------------+-----------+-----+-------+----------+------------+---------+---------------------+------------+------------+---------+--------------------+\n",
      "|       2| 2019-12-18 15:52:30|  2019-12-18 15:54:39|                 N|         1|         264|         264|              5|          0.0|        3.5|  0.5|    0.5|      0.01|         0.0|     null|                  0.3|        4.81|           1|        1|                 0.0|\n",
      "|       2| 2020-01-01 00:45:58|  2020-01-01 00:56:39|                 N|         5|          66|          65|              2|         1.28|       20.0|  0.0|    0.0|      4.06|         0.0|     null|                  0.3|       24.36|           1|        2|                 0.0|\n",
      "|       2| 2020-01-01 00:41:38|  2020-01-01 00:52:49|                 N|         1|         181|         228|              1|         2.47|       10.5|  0.5|    0.5|      3.54|         0.0|     null|                  0.3|       15.34|           1|        1|                 0.0|\n",
      "|       1| 2020-01-01 00:52:46|  2020-01-01 01:14:21|                 N|         1|         129|         263|              2|          6.3|       21.0| 3.25|    0.5|       0.0|         0.0|     null|                  0.3|       25.05|           2|        1|                2.75|\n",
      "|       1| 2020-01-01 00:19:57|  2020-01-01 00:30:56|                 N|         1|         210|         150|              1|          2.3|       10.0|  0.5|    0.5|       0.0|         0.0|     null|                  0.3|        11.3|           1|        1|                 0.0|\n",
      "|       1| 2020-01-01 00:52:33|  2020-01-01 01:09:54|                 N|         1|          35|          39|              1|          3.0|       13.5|  0.5|    0.5|       0.0|         0.0|     null|                  0.3|        14.8|           1|        1|                 0.0|\n",
      "|       2| 2020-01-01 00:10:18|  2020-01-01 00:22:16|                 N|         1|          25|          61|              1|         2.77|       11.0|  0.5|    0.5|       0.0|         0.0|     null|                  0.3|        12.3|           2|        1|                 0.0|\n",
      "|       2| 2020-01-01 01:03:14|  2020-01-01 01:29:45|                 N|         1|         225|          89|              1|         4.98|       20.5|  0.5|    0.5|       0.0|         0.0|     null|                  0.3|        21.8|           2|        1|                 0.0|\n",
      "|       2| 2020-01-01 00:04:11|  2020-01-01 00:09:48|                 N|         1|         129|         129|              1|         0.71|        5.5|  0.5|    0.5|       0.0|         0.0|     null|                  0.3|         6.8|           2|        1|                 0.0|\n",
      "|       2| 2020-01-01 00:25:52|  2020-01-01 00:32:16|                 N|         1|         129|          83|              1|          0.8|        5.5|  0.5|    0.5|       0.0|         0.0|     null|                  0.3|         6.8|           2|        1|                 0.0|\n",
      "|       2| 2020-01-01 00:47:32|  2020-01-01 00:59:25|                 N|         1|          82|         173|              1|         1.52|        9.5|  0.5|    0.5|       0.0|         0.0|     null|                  0.3|        10.8|           2|        1|                 0.0|\n",
      "|       1| 2020-01-01 00:26:40|  2020-01-01 00:40:42|                 N|         1|          74|          69|              1|          3.8|       14.0|  0.5|    0.5|       0.0|         0.0|     null|                  0.3|        15.3|           2|        1|                 0.0|\n",
      "|       2| 2020-01-01 00:38:47|  2020-01-01 00:46:02|                 N|         1|          74|          41|              1|         1.12|        6.5|  0.5|    0.5|       0.0|         0.0|     null|                  0.3|         7.8|           1|        1|                 0.0|\n",
      "|       2| 2020-01-01 00:52:18|  2020-01-01 01:09:58|                 N|         1|          41|         127|              1|         5.67|       19.0|  0.5|    0.5|       0.0|         0.0|     null|                  0.3|        20.3|           2|        1|                 0.0|\n",
      "|       2| 2020-01-01 00:16:01|  2020-01-01 00:26:40|                 N|         1|           7|         260|              1|         1.86|        9.5|  0.5|    0.5|       0.0|         0.0|     null|                  0.3|        10.8|           2|        1|                 0.0|\n",
      "|       2| 2020-01-01 00:21:15|  2020-01-01 00:28:03|                 N|         1|           7|           7|              1|         1.42|        7.0|  0.5|    0.5|       0.0|         0.0|     null|                  0.3|         8.3|           2|        1|                 0.0|\n",
      "|       2| 2020-01-01 00:35:42|  2020-01-01 01:02:00|                 N|         1|           7|         133|              1|        15.48|       43.0|  0.5|    0.5|      8.86|         0.0|     null|                  0.3|       53.16|           1|        1|                 0.0|\n",
      "|       2| 2020-01-01 00:39:51|  2020-01-01 00:42:54|                 N|         1|         134|          28|              1|         1.15|        5.5|  0.5|    0.5|       1.0|         0.0|     null|                  0.3|         7.8|           1|        1|                 0.0|\n",
      "|       1| 2020-01-01 00:00:21|  2020-01-01 00:10:19|                 N|         1|          89|          39|              1|          2.3|       10.0|  0.5|    0.5|       0.0|         0.0|     null|                  0.3|        11.3|           2|        1|                 0.0|\n",
      "|       1| 2020-01-01 00:13:59|  2020-01-01 00:21:31|                 N|         1|          66|          65|              3|          1.0|        6.5|  0.5|    0.5|       0.0|         0.0|     null|                  0.3|         7.8|           2|        1|                 0.0|\n",
      "+--------+--------------------+---------------------+------------------+----------+------------+------------+---------------+-------------+-----------+-----+-------+----------+------------+---------+---------------------+------------+------------+---------+--------------------+\n",
      "only showing top 20 rows\n",
      "\n"
     ]
    }
   ],
   "source": [
    "gr.show(20)"
   ]
  },
  {
   "cell_type": "code",
   "execution_count": 11,
   "id": "pacific-canadian",
   "metadata": {},
   "outputs": [],
   "source": [
    "yl = spark.read.csv(y_path, header=True, inferSchema=True)"
   ]
  },
  {
   "cell_type": "code",
   "execution_count": 12,
   "id": "extraordinary-summer",
   "metadata": {},
   "outputs": [
    {
     "name": "stdout",
     "output_type": "stream",
     "text": [
      "+--------+--------------------+---------------------+---------------+-------------+----------+------------------+------------+------------+------------+-----------+-----+-------+----------+------------+---------------------+------------+--------------------+\n",
      "|VendorID|tpep_pickup_datetime|tpep_dropoff_datetime|passenger_count|trip_distance|RatecodeID|store_and_fwd_flag|PULocationID|DOLocationID|payment_type|fare_amount|extra|mta_tax|tip_amount|tolls_amount|improvement_surcharge|total_amount|congestion_surcharge|\n",
      "+--------+--------------------+---------------------+---------------+-------------+----------+------------------+------------+------------+------------+-----------+-----+-------+----------+------------+---------------------+------------+--------------------+\n",
      "|       1| 2020-01-01 00:28:15|  2020-01-01 00:33:03|              1|          1.2|         1|                 N|         238|         239|           1|        6.0|  3.0|    0.5|      1.47|         0.0|                  0.3|       11.27|                 2.5|\n",
      "|       1| 2020-01-01 00:35:39|  2020-01-01 00:43:04|              1|          1.2|         1|                 N|         239|         238|           1|        7.0|  3.0|    0.5|       1.5|         0.0|                  0.3|        12.3|                 2.5|\n",
      "|       1| 2020-01-01 00:47:41|  2020-01-01 00:53:52|              1|          0.6|         1|                 N|         238|         238|           1|        6.0|  3.0|    0.5|       1.0|         0.0|                  0.3|        10.8|                 2.5|\n",
      "|       1| 2020-01-01 00:55:23|  2020-01-01 01:00:14|              1|          0.8|         1|                 N|         238|         151|           1|        5.5|  0.5|    0.5|      1.36|         0.0|                  0.3|        8.16|                 0.0|\n",
      "|       2| 2020-01-01 00:01:58|  2020-01-01 00:04:16|              1|          0.0|         1|                 N|         193|         193|           2|        3.5|  0.5|    0.5|       0.0|         0.0|                  0.3|         4.8|                 0.0|\n",
      "|       2| 2020-01-01 00:09:44|  2020-01-01 00:10:37|              1|         0.03|         1|                 N|           7|         193|           2|        2.5|  0.5|    0.5|       0.0|         0.0|                  0.3|         3.8|                 0.0|\n",
      "|       2| 2020-01-01 00:39:25|  2020-01-01 00:39:29|              1|          0.0|         1|                 N|         193|         193|           1|        2.5|  0.5|    0.5|      0.01|         0.0|                  0.3|        3.81|                 0.0|\n",
      "|       2| 2019-12-18 15:27:49|  2019-12-18 15:28:59|              1|          0.0|         5|                 N|         193|         193|           1|       0.01|  0.0|    0.0|       0.0|         0.0|                  0.3|        2.81|                 2.5|\n",
      "|       2| 2019-12-18 15:30:35|  2019-12-18 15:31:35|              4|          0.0|         1|                 N|         193|         193|           1|        2.5|  0.5|    0.5|       0.0|         0.0|                  0.3|         6.3|                 2.5|\n",
      "|       1| 2020-01-01 00:29:01|  2020-01-01 00:40:28|              2|          0.7|         1|                 N|         246|          48|           1|        8.0|  3.0|    0.5|      2.35|         0.0|                  0.3|       14.15|                 2.5|\n",
      "|       1| 2020-01-01 00:55:11|  2020-01-01 01:12:03|              2|          2.4|         1|                 N|         246|          79|           1|       12.0|  3.0|    0.5|      1.75|         0.0|                  0.3|       17.55|                 2.5|\n",
      "|       1| 2020-01-01 00:37:15|  2020-01-01 00:51:41|              1|          0.8|         1|                 N|         163|         161|           2|        9.5|  3.0|    0.5|       0.0|         0.0|                  0.3|        13.3|                 2.5|\n",
      "|       1| 2020-01-01 00:56:27|  2020-01-01 01:21:44|              1|          3.3|         1|                 N|         161|         144|           1|       17.0|  3.0|    0.5|      4.15|         0.0|                  0.3|       24.95|                 2.5|\n",
      "|       2| 2020-01-01 00:21:54|  2020-01-01 00:27:31|              1|         1.07|         1|                 N|          43|         239|           1|        6.0|  0.5|    0.5|      1.96|         0.0|                  0.3|       11.76|                 2.5|\n",
      "|       2| 2020-01-01 00:38:01|  2020-01-01 01:15:21|              1|         7.76|         1|                 N|         143|          25|           1|       28.5|  0.5|    0.5|      4.84|         0.0|                  0.3|       37.14|                 2.5|\n",
      "|       1| 2020-01-01 00:15:35|  2020-01-01 00:27:06|              3|          1.6|         1|                 N|         211|         234|           2|        9.0|  3.0|    0.5|       0.0|         0.0|                  0.3|        12.8|                 2.5|\n",
      "|       1| 2020-01-01 00:41:20|  2020-01-01 00:44:22|              1|          0.5|         1|                 Y|         234|          90|           1|        4.0|  3.0|    0.5|       1.0|         0.0|                  0.3|         8.8|                 2.5|\n",
      "|       1| 2020-01-01 00:56:38|  2020-01-01 01:13:34|              1|          1.7|         1|                 N|         246|         142|           2|       11.5|  3.0|    0.5|       0.0|         0.0|                  0.3|        15.3|                 2.5|\n",
      "|       2| 2020-01-01 00:08:21|  2020-01-01 00:25:29|              1|         8.45|         1|                 N|         138|         216|           2|       24.5|  0.5|    0.5|       0.0|         0.0|                  0.3|        25.8|                 0.0|\n",
      "|       1| 2020-01-01 00:25:39|  2020-01-01 00:27:05|              1|          0.0|         1|                 N|         170|         162|           4|        3.0|  3.0|    0.5|       0.0|         0.0|                  0.3|         6.8|                 2.5|\n",
      "+--------+--------------------+---------------------+---------------+-------------+----------+------------------+------------+------------+------------+-----------+-----+-------+----------+------------+---------------------+------------+--------------------+\n",
      "only showing top 20 rows\n",
      "\n"
     ]
    }
   ],
   "source": [
    "yl.show()"
   ]
  },
  {
   "cell_type": "code",
   "execution_count": 13,
   "id": "interim-baltimore",
   "metadata": {},
   "outputs": [],
   "source": [
    "zl = spark.read.csv(zl_path, header=True, inferSchema=True)"
   ]
  },
  {
   "cell_type": "code",
   "execution_count": 14,
   "id": "spread-metabolism",
   "metadata": {},
   "outputs": [
    {
     "name": "stdout",
     "output_type": "stream",
     "text": [
      "+----------+-------------+--------------------+------------+\n",
      "|LocationID|      Borough|                Zone|service_zone|\n",
      "+----------+-------------+--------------------+------------+\n",
      "|         1|          EWR|      Newark Airport|         EWR|\n",
      "|         2|       Queens|         Jamaica Bay|   Boro Zone|\n",
      "|         3|        Bronx|Allerton/Pelham G...|   Boro Zone|\n",
      "|         4|    Manhattan|       Alphabet City| Yellow Zone|\n",
      "|         5|Staten Island|       Arden Heights|   Boro Zone|\n",
      "|         6|Staten Island|Arrochar/Fort Wad...|   Boro Zone|\n",
      "|         7|       Queens|             Astoria|   Boro Zone|\n",
      "|         8|       Queens|        Astoria Park|   Boro Zone|\n",
      "|         9|       Queens|          Auburndale|   Boro Zone|\n",
      "|        10|       Queens|        Baisley Park|   Boro Zone|\n",
      "|        11|     Brooklyn|          Bath Beach|   Boro Zone|\n",
      "|        12|    Manhattan|        Battery Park| Yellow Zone|\n",
      "|        13|    Manhattan|   Battery Park City| Yellow Zone|\n",
      "|        14|     Brooklyn|           Bay Ridge|   Boro Zone|\n",
      "|        15|       Queens|Bay Terrace/Fort ...|   Boro Zone|\n",
      "|        16|       Queens|             Bayside|   Boro Zone|\n",
      "|        17|     Brooklyn|             Bedford|   Boro Zone|\n",
      "|        18|        Bronx|        Bedford Park|   Boro Zone|\n",
      "|        19|       Queens|           Bellerose|   Boro Zone|\n",
      "|        20|        Bronx|             Belmont|   Boro Zone|\n",
      "+----------+-------------+--------------------+------------+\n",
      "only showing top 20 rows\n",
      "\n"
     ]
    }
   ],
   "source": [
    "zl.show()"
   ]
  },
  {
   "cell_type": "code",
   "execution_count": 21,
   "id": "piano-exhibit",
   "metadata": {},
   "outputs": [],
   "source": [
    "hv_lookup = [\n",
    "(\"HV0002\", \"B02914\", \"VULCAN CARS LLC\"        , \"Juno\"),\n",
    "(\"HV0002\", \"B02907\", \"SABO ONE LLC\"           , \"Juno\"),\n",
    "(\"HV0002\", \"B02908\", \"SABO TWO LLC\"           , \"Juno\"),\n",
    "(\"HV0002\", \"B03035\", \"OMAHA LLC\"              , \"Juno\"),\n",
    "(\"HV0005\", \"B02510\", \"TRI-CITY LLC\"           , \"Lyft\"),\n",
    "(\"HV0005\", \"B02844\", \"ENDOR CAR & DRIVER LLC.\", \"Lyft\"),\n",
    "(\"HV0003\", \"B02877\", \"ZWOLF-NY LLC\"           , \"Uber\"),\n",
    "(\"HV0003\", \"B02866\", \"ZWEI-NY LLC\"            , \"Uber\"),\n",
    "(\"HV0003\", \"B02882\", \"ZWANZIG-NY LLC\"         , \"Uber\"),\n",
    "(\"HV0003\", \"B02869\", \"ZEHN-NY LLC.\"           , \"Uber\"),\n",
    "(\"HV0003\", \"B02617\", \"WEITER LLC\"             , \"Uber\"),\n",
    "(\"HV0003\", \"B02876\", \"VIERZEHN-NY LLC\"        , \"Uber\"),\n",
    "(\"HV0003\", \"B02865\", \"VIER-NY LLC\"            , \"Uber\"),\n",
    "(\"HV0003\", \"B02512\", \"UNTER LLC\"              , \"Uber\"),\n",
    "(\"HV0003\", \"B02888\", \"SIEBZEHN-NY LLC\"        , \"Uber\"),\n",
    "(\"HV0003\", \"B02864\", \"SIEBEN-NY LLC\"          , \"Uber\"),\n",
    "(\"HV0003\", \"B02883\", \"SECHZEHN-NY LLC\"        , \"Uber\"),\n",
    "(\"HV0003\", \"B02875\", \"SECHS-NY LLC\"           , \"Uber\"),\n",
    "(\"HV0003\", \"B02682\", \"SCHMECKEN LLC\"          , \"Uber\"),\n",
    "(\"HV0003\", \"B02880\", \"NEUNZEHN-NY LLC\"        , \"Uber\"),\n",
    "(\"HV0003\", \"B02870\", \"NEUN-NY LLC\"            , \"Uber\"),\n",
    "(\"HV0003\", \"B02404\", \"KUCHEN LLC\"             , \"Uber\"),\n",
    "(\"HV0003\", \"B02598\", \"HINTER LLC\"             , \"Uber\"),\n",
    "(\"HV0003\", \"B02765\", \"GRUN LLC\"               , \"Uber\"),\n",
    "(\"HV0003\", \"B02879\", \"FUNFZEHN-NY, LLC\"       , \"Uber\"),\n",
    "(\"HV0003\", \"B02867\", \"FUNF-NY LLC\"            , \"Uber\"),\n",
    "(\"HV0003\", \"B02878\", \"ELF-NY LLC\"             , \"Uber\"),\n",
    "(\"HV0003\", \"B02887\", \"EINUNDZWANZIG-NY LLC\"   , \"Uber\"),\n",
    "(\"HV0003\", \"B02872\", \"EINS-NY LLC\"            , \"Uber\"),\n",
    "(\"HV0003\", \"B02836\", \"DRINNEN-NY LLC\"         , \"Uber\"),\n",
    "(\"HV0003\", \"B02884\", \"DREIZEHN-NY LLC\"        , \"Uber\"),\n",
    "(\"HV0003\", \"B02835\", \"DREIST NY LLC\"          , \"Uber\"),\n",
    "(\"HV0003\", \"B02764\", \"DANACH-NY LLC\"          , \"Uber\"),\n",
    "(\"HV0003\", \"B02889\", \"ACHTZEHN-NY LLC\"        , \"Uber\"),\n",
    "(\"HV0003\", \"B02871\", \"ACHT-NY LLC\"            , \"Uber\"),\n",
    "(\"HV0003\", \"B02395\", \"ABATAR LLC\"             , \"Uber\"),\n",
    "(\"HV0004\", \"B03136\", \"GREENPOINT TRANSIT LLC\" , \"Via\"),\n",
    "(\"HV0004\", \"B02800\", \"FLATIRON TRANSIT LLC\"   , \"Via\")\n",
    "]"
   ]
  },
  {
   "cell_type": "code",
   "execution_count": 22,
   "id": "wicked-stanford",
   "metadata": {},
   "outputs": [],
   "source": [
    "hv_lookup_columns = ['High Volume License Number', 'License Number', 'Base Name', 'App Company Affiliation']"
   ]
  },
  {
   "cell_type": "code",
   "execution_count": 23,
   "id": "contained-conditions",
   "metadata": {},
   "outputs": [],
   "source": [
    "hv_l = spark.createDataFrame(data=hv_lookup, schema=hv_lookup_columns)"
   ]
  },
  {
   "cell_type": "code",
   "execution_count": 24,
   "id": "pressing-fluid",
   "metadata": {},
   "outputs": [
    {
     "name": "stdout",
     "output_type": "stream",
     "text": [
      "root\n",
      " |-- High Volume License Number: string (nullable = true)\n",
      " |-- License Number: string (nullable = true)\n",
      " |-- Base Name: string (nullable = true)\n",
      " |-- App Company Affiliation: string (nullable = true)\n",
      "\n"
     ]
    }
   ],
   "source": [
    "hv_l.printSchema()"
   ]
  },
  {
   "cell_type": "code",
   "execution_count": 26,
   "id": "subsequent-orientation",
   "metadata": {},
   "outputs": [
    {
     "name": "stdout",
     "output_type": "stream",
     "text": [
      "+--------------------------+--------------+--------------------+-----------------------+\n",
      "|High Volume License Number|License Number|           Base Name|App Company Affiliation|\n",
      "+--------------------------+--------------+--------------------+-----------------------+\n",
      "|                    HV0002|        B02914|     VULCAN CARS LLC|                   Juno|\n",
      "|                    HV0002|        B02907|        SABO ONE LLC|                   Juno|\n",
      "|                    HV0002|        B02908|        SABO TWO LLC|                   Juno|\n",
      "|                    HV0002|        B03035|           OMAHA LLC|                   Juno|\n",
      "|                    HV0005|        B02510|        TRI-CITY LLC|                   Lyft|\n",
      "|                    HV0005|        B02844|ENDOR CAR & DRIVE...|                   Lyft|\n",
      "|                    HV0003|        B02877|        ZWOLF-NY LLC|                   Uber|\n",
      "|                    HV0003|        B02866|         ZWEI-NY LLC|                   Uber|\n",
      "|                    HV0003|        B02882|      ZWANZIG-NY LLC|                   Uber|\n",
      "|                    HV0003|        B02869|        ZEHN-NY LLC.|                   Uber|\n",
      "|                    HV0003|        B02617|          WEITER LLC|                   Uber|\n",
      "|                    HV0003|        B02876|     VIERZEHN-NY LLC|                   Uber|\n",
      "|                    HV0003|        B02865|         VIER-NY LLC|                   Uber|\n",
      "|                    HV0003|        B02512|           UNTER LLC|                   Uber|\n",
      "|                    HV0003|        B02888|     SIEBZEHN-NY LLC|                   Uber|\n",
      "|                    HV0003|        B02864|       SIEBEN-NY LLC|                   Uber|\n",
      "|                    HV0003|        B02883|     SECHZEHN-NY LLC|                   Uber|\n",
      "|                    HV0003|        B02875|        SECHS-NY LLC|                   Uber|\n",
      "|                    HV0003|        B02682|       SCHMECKEN LLC|                   Uber|\n",
      "|                    HV0003|        B02880|     NEUNZEHN-NY LLC|                   Uber|\n",
      "+--------------------------+--------------+--------------------+-----------------------+\n",
      "only showing top 20 rows\n",
      "\n"
     ]
    }
   ],
   "source": [
    "hv_l.show()"
   ]
  },
  {
   "cell_type": "markdown",
   "id": "interior-embassy",
   "metadata": {},
   "source": [
    "### 1.Calculate the number of hv trips for each big company\n",
    "Hint: you can join the hv and hv_l df on HV License Number and License Number"
   ]
  },
  {
   "cell_type": "code",
   "execution_count": null,
   "id": "missing-philadelphia",
   "metadata": {},
   "outputs": [],
   "source": []
  },
  {
   "cell_type": "code",
   "execution_count": null,
   "id": "productive-johnson",
   "metadata": {},
   "outputs": [],
   "source": []
  },
  {
   "cell_type": "markdown",
   "id": "necessary-applicant",
   "metadata": {},
   "source": [
    "### 2. Which zone has initiated the most trips?"
   ]
  },
  {
   "cell_type": "code",
   "execution_count": null,
   "id": "checked-pendant",
   "metadata": {},
   "outputs": [],
   "source": []
  },
  {
   "cell_type": "code",
   "execution_count": null,
   "id": "acute-optimization",
   "metadata": {},
   "outputs": [],
   "source": []
  },
  {
   "cell_type": "markdown",
   "id": "amazing-liechtenstein",
   "metadata": {},
   "source": [
    "### 3. Which zone was most desirable as a destination?"
   ]
  },
  {
   "cell_type": "code",
   "execution_count": null,
   "id": "urban-computer",
   "metadata": {},
   "outputs": [],
   "source": []
  },
  {
   "cell_type": "code",
   "execution_count": null,
   "id": "romance-suggestion",
   "metadata": {},
   "outputs": [],
   "source": []
  },
  {
   "cell_type": "markdown",
   "id": "dying-absorption",
   "metadata": {},
   "source": [
    "### 4. Using the yellow and green trips data, calculate the avarage trip per zone (yellow, green) and overall"
   ]
  },
  {
   "cell_type": "code",
   "execution_count": 31,
   "id": "brilliant-sympathy",
   "metadata": {},
   "outputs": [],
   "source": [
    "gr_c = gr.schema.names\n",
    "yl_c = yl.schema.names"
   ]
  },
  {
   "cell_type": "code",
   "execution_count": 30,
   "id": "spectacular-mattress",
   "metadata": {},
   "outputs": [
    {
     "data": {
      "text/plain": [
       "['VendorID',\n",
       " 'lpep_pickup_datetime',\n",
       " 'lpep_dropoff_datetime',\n",
       " 'store_and_fwd_flag',\n",
       " 'RatecodeID',\n",
       " 'PULocationID',\n",
       " 'DOLocationID',\n",
       " 'passenger_count',\n",
       " 'trip_distance',\n",
       " 'fare_amount',\n",
       " 'extra',\n",
       " 'mta_tax',\n",
       " 'tip_amount',\n",
       " 'tolls_amount',\n",
       " 'ehail_fee',\n",
       " 'improvement_surcharge',\n",
       " 'total_amount',\n",
       " 'payment_type',\n",
       " 'trip_type',\n",
       " 'congestion_surcharge']"
      ]
     },
     "execution_count": 30,
     "metadata": {},
     "output_type": "execute_result"
    }
   ],
   "source": [
    "gr_c"
   ]
  },
  {
   "cell_type": "code",
   "execution_count": 32,
   "id": "uniform-defensive",
   "metadata": {},
   "outputs": [
    {
     "data": {
      "text/plain": [
       "['VendorID',\n",
       " 'tpep_pickup_datetime',\n",
       " 'tpep_dropoff_datetime',\n",
       " 'passenger_count',\n",
       " 'trip_distance',\n",
       " 'RatecodeID',\n",
       " 'store_and_fwd_flag',\n",
       " 'PULocationID',\n",
       " 'DOLocationID',\n",
       " 'payment_type',\n",
       " 'fare_amount',\n",
       " 'extra',\n",
       " 'mta_tax',\n",
       " 'tip_amount',\n",
       " 'tolls_amount',\n",
       " 'improvement_surcharge',\n",
       " 'total_amount',\n",
       " 'congestion_surcharge']"
      ]
     },
     "execution_count": 32,
     "metadata": {},
     "output_type": "execute_result"
    }
   ],
   "source": [
    "yl_c"
   ]
  },
  {
   "cell_type": "code",
   "execution_count": 35,
   "id": "technological-terminology",
   "metadata": {},
   "outputs": [
    {
     "data": {
      "text/plain": [
       "{'DOLocationID',\n",
       " 'PULocationID',\n",
       " 'RatecodeID',\n",
       " 'VendorID',\n",
       " 'congestion_surcharge',\n",
       " 'extra',\n",
       " 'fare_amount',\n",
       " 'improvement_surcharge',\n",
       " 'mta_tax',\n",
       " 'passenger_count',\n",
       " 'payment_type',\n",
       " 'store_and_fwd_flag',\n",
       " 'tip_amount',\n",
       " 'tolls_amount',\n",
       " 'total_amount',\n",
       " 'trip_distance'}"
      ]
     },
     "execution_count": 35,
     "metadata": {},
     "output_type": "execute_result"
    }
   ],
   "source": [
    "set(gr_c) & set(yl_c)"
   ]
  },
  {
   "cell_type": "code",
   "execution_count": null,
   "id": "built-document",
   "metadata": {},
   "outputs": [],
   "source": [
    "extra_columns_yellow=[]\n",
    "extra_columns_green=[]"
   ]
  },
  {
   "cell_type": "code",
   "execution_count": null,
   "id": "involved-inspection",
   "metadata": {},
   "outputs": [],
   "source": []
  },
  {
   "cell_type": "code",
   "execution_count": null,
   "id": "acceptable-provider",
   "metadata": {},
   "outputs": [],
   "source": []
  },
  {
   "cell_type": "markdown",
   "id": "metric-insertion",
   "metadata": {},
   "source": [
    "source: \n",
    "https://towardsdatascience.com/six-spark-exercises-to-rule-them-all-242445b24565\n",
    "\n",
    "open in private window to see the article"
   ]
  },
  {
   "cell_type": "code",
   "execution_count": null,
   "id": "deadly-mixture",
   "metadata": {},
   "outputs": [],
   "source": [
    "products = '../data/sales/products_parquet'\n",
    "sales = '../data/sales/sales_parquet'\n",
    "sellers = '../data/sales/sellers_parquet'"
   ]
  },
  {
   "cell_type": "markdown",
   "id": "massive-celtic",
   "metadata": {},
   "source": [
    "### 1. \"Find out how many orders, how many products and how many sellers are in the data.\""
   ]
  },
  {
   "cell_type": "code",
   "execution_count": null,
   "id": "acoustic-julian",
   "metadata": {},
   "outputs": [],
   "source": []
  },
  {
   "cell_type": "code",
   "execution_count": null,
   "id": "accomplished-classic",
   "metadata": {},
   "outputs": [],
   "source": []
  },
  {
   "cell_type": "markdown",
   "id": "satisfied-lightning",
   "metadata": {},
   "source": [
    "### 2. \"Find out how many orders, how many products and how many sellers are in the data.\""
   ]
  },
  {
   "cell_type": "code",
   "execution_count": null,
   "id": "completed-machine",
   "metadata": {},
   "outputs": [],
   "source": []
  },
  {
   "cell_type": "code",
   "execution_count": null,
   "id": "acceptable-silence",
   "metadata": {},
   "outputs": [],
   "source": []
  },
  {
   "cell_type": "markdown",
   "id": "virtual-eight",
   "metadata": {},
   "source": [
    "### 3. \"How many distinct products have been sold in each day?\""
   ]
  },
  {
   "cell_type": "code",
   "execution_count": null,
   "id": "provincial-vulnerability",
   "metadata": {},
   "outputs": [],
   "source": []
  },
  {
   "cell_type": "code",
   "execution_count": null,
   "id": "varying-engine",
   "metadata": {},
   "outputs": [],
   "source": []
  },
  {
   "cell_type": "markdown",
   "id": "tamil-chemical",
   "metadata": {},
   "source": [
    "### 4. “What is the average revenue of the orders?”"
   ]
  },
  {
   "cell_type": "code",
   "execution_count": null,
   "id": "irish-integrity",
   "metadata": {},
   "outputs": [],
   "source": []
  },
  {
   "cell_type": "code",
   "execution_count": null,
   "id": "concerned-section",
   "metadata": {},
   "outputs": [],
   "source": []
  },
  {
   "cell_type": "markdown",
   "id": "scenic-neutral",
   "metadata": {},
   "source": [
    "### 5. “For each seller, what is the average % contribution of an order to the sellers’ daily quota?”"
   ]
  },
  {
   "cell_type": "code",
   "execution_count": null,
   "id": "exceptional-insertion",
   "metadata": {},
   "outputs": [],
   "source": []
  },
  {
   "cell_type": "code",
   "execution_count": null,
   "id": "passing-antenna",
   "metadata": {},
   "outputs": [],
   "source": []
  },
  {
   "cell_type": "markdown",
   "id": "directed-lawsuit",
   "metadata": {},
   "source": [
    "### 6. “Who are the second most selling and the least selling persons (sellers) for each product? Who are those for the product with product_id = 0”"
   ]
  },
  {
   "cell_type": "code",
   "execution_count": null,
   "id": "southwest-globe",
   "metadata": {},
   "outputs": [],
   "source": []
  },
  {
   "cell_type": "code",
   "execution_count": null,
   "id": "cooked-replication",
   "metadata": {},
   "outputs": [],
   "source": []
  },
  {
   "cell_type": "code",
   "execution_count": null,
   "id": "private-point",
   "metadata": {},
   "outputs": [],
   "source": []
  },
  {
   "cell_type": "markdown",
   "id": "broadband-southeast",
   "metadata": {},
   "source": [
    "### 7. \"Create a new column called \"hashed_bill\" defined as follows:\n",
    "    - if the order_id is even: \n",
    "        apply MD5 hashing iteratively to the bill_raw_text field, once for each 'A' (capital 'A') present in the text.\n",
    "        E.g. if the bill text is 'nbAAnllA', you would apply hashing three times iteratively (only if the order number is even)\n",
    "    - if the order_id is odd: \n",
    "        apply SHA256 hashing to the bill text\n",
    "        \n",
    "    Finally, check if there are any duplicate on the new column\""
   ]
  },
  {
   "cell_type": "code",
   "execution_count": null,
   "id": "resistant-series",
   "metadata": {},
   "outputs": [],
   "source": []
  },
  {
   "cell_type": "code",
   "execution_count": null,
   "id": "loved-isolation",
   "metadata": {},
   "outputs": [],
   "source": []
  }
 ],
 "metadata": {
  "kernelspec": {
   "display_name": "Python 3",
   "language": "python",
   "name": "python3"
  },
  "language_info": {
   "codemirror_mode": {
    "name": "ipython",
    "version": 3
   },
   "file_extension": ".py",
   "mimetype": "text/x-python",
   "name": "python",
   "nbconvert_exporter": "python",
   "pygments_lexer": "ipython3",
   "version": "3.8.5"
  }
 },
 "nbformat": 4,
 "nbformat_minor": 5
}
